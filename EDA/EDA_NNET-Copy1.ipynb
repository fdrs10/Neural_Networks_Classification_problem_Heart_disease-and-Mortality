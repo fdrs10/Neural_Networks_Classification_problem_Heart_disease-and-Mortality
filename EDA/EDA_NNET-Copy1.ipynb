{
 "cells": [
  {
   "cell_type": "markdown",
   "id": "405b0468",
   "metadata": {},
   "source": [
    "# EDA Y REDES NEURONALES"
   ]
  },
  {
   "cell_type": "markdown",
   "id": "3cd713d7",
   "metadata": {
    "ExecuteTime": {
     "start_time": "2021-10-11T19:39:31.985Z"
    }
   },
   "source": [
    "Se ha escogido el dataset Monica de https://vincentarelbundock.github.io/Rdatasets/doc/DAAG/monica.html.\n",
    "Se ha escogido este dataset por varias razones:\n",
    "- Por ser uno de los ya estudiados por el profesor, con lo que se espera que los resultados sean interesantes.\n",
    "- por tener variables categóricas y numéricas.\n",
    "- por tener un número de variables mayor de 10, criterio éste que ha sido adoptado para que sea represenativo el estudio.\n",
    "- por tener un número de observaciones alta, superior a 5000.\n",
    "\n",
    "Este dataset tiene la siguiente estructura:\n",
    "\n",
    "- Package:DAAG\n",
    "- Item:monica\n",
    "- Title:WHO Monica Data\n",
    "- Rows:6367\t\n",
    "- Cols:12\t\n",
    "- n_binary:3\t\n",
    "- n_character:0\n",
    "- n_factor:10\t\n",
    "- n_logical:0\t\n",
    "- n_numeric:2\n",
    "\t\t\t \t\n",
    "\n",
    "Las variables son:\n",
    "- outcome: mortality outcome, a factor with levels live, dead\n",
    "\n",
    "- age:age at onset\n",
    "\n",
    "- sex:m = male, f = female\n",
    "\n",
    "- hosp:y = hospitalized, n = not hospitalized\n",
    "\n",
    "- yronset:year of onset\n",
    "\n",
    "- premi:previous myocardial infarction event, a factor with levels y, n, nk not known\n",
    "\n",
    "- smstat:smoking status, a factor with levels c current, x ex-smoker, n non-smoker, nk not known\n",
    "\n",
    "- diabetes:a factor with levels y, n, nk not known\n",
    "\n",
    "- highbp:high blood pressure, a factor with levels y, n, nk not known\n",
    "\n",
    "- hichol:high cholesterol, a factor with levels y, n nk not known\n",
    "\n",
    "- angina:a factor with levels y, n, nk not known\n",
    "\n",
    "- stroke:a factor with levels y, n, nk not known\n",
    "\n",
    "\n",
    "El nº observaciones por cada clase son:\n",
    "\n",
    "- dead: 2842 \n",
    "- live :3525\n",
    "\n",
    "La clase minoritaria, que es la clase dead, esta suficentemente bien representada como para que no ofrezca limitaciones a su estudio, modelización y clasificación.\n",
    "\n",
    "- Accuracy base: 55,36%\n",
    "\n",
    "- Tasa fallos base referencia: 44,64%\n",
    "\n"
   ]
  },
  {
   "cell_type": "markdown",
   "id": "6d86c9f7-aeb6-4009-9677-b2764420bf8e",
   "metadata": {
    "tags": []
   },
   "source": [
    "## Library loading"
   ]
  },
  {
   "cell_type": "code",
   "execution_count": null,
   "id": "0810b91a",
   "metadata": {},
   "outputs": [],
   "source": [
    "install.packages(\"ggplot2\")\n",
    "install.packages(\"naniar\")\n",
    "install.packages(\"dummies\")\n",
    "install.packages(\"summarytools\")\n",
    "install.packages(\"data.table\")\n",
    "install.packages(\"fastDummies\")\n",
    "install.packages(\"MASS\")\n",
    "install.packages(\"dplyr\")\n",
    "install.packages(\"lattice\")\n",
    "install.packages(\"caret\")\n",
    "install.packages(\"rlang\")\n",
    "install.packages(\"devtools\")\n",
    "install.packages(\"usethis\")\n",
    "install.packages(\"doParallel\")\n",
    "install.packages(\"foreach\")\n",
    "install.packages(\"iterators\")\n",
    "install.packages(\"inspectdf\")\n",
    "install.packages(\"plyr\")\n",
    "options(warn=-1)"
   ]
  },
  {
   "cell_type": "code",
   "execution_count": null,
   "id": "8f225859",
   "metadata": {},
   "outputs": [],
   "source": [
    "library(ggplot2)\n",
    "library(naniar)\n",
    "library(plyr)\n",
    "library(dummies)\n",
    "library(fastDummies)\n",
    "library(MASS)\n",
    "library(dplyr)\n",
    "library(lattice)\n",
    "library(caret)\n",
    "library(reshape)\n",
    "library(pROC)\n",
    "library(parallel)\n",
    "library(doParallel)\n",
    "library(rlang)\n",
    "library(devtools)\n",
    "library(pkgbuild)\n",
    "\n",
    "\n",
    "options(warn=-1)"
   ]
  },
  {
   "cell_type": "markdown",
   "id": "06c9d374-9230-4c20-83c5-fb764f5bfcff",
   "metadata": {
    "tags": []
   },
   "source": [
    "### Read data"
   ]
  },
  {
   "cell_type": "code",
   "execution_count": 17,
   "id": "3aff0294",
   "metadata": {},
   "outputs": [],
   "source": [
    "df<-read.csv(\"monica.csv\")\n"
   ]
  },
  {
   "cell_type": "code",
   "execution_count": 119,
   "id": "58a65e2f-f837-44c5-a847-149cf6f86a32",
   "metadata": {
    "ExecuteTime": {
     "end_time": "2021-10-17T14:34:40.158786Z",
     "start_time": "2021-10-17T14:34:38.398Z"
    },
    "tags": []
   },
   "outputs": [
    {
     "data": {
      "text/html": [
       "<table class=\"dataframe\">\n",
       "<caption>A data.frame: 6 × 13</caption>\n",
       "<thead>\n",
       "\t<tr><th></th><th scope=col>X</th><th scope=col>outcome</th><th scope=col>sex</th><th scope=col>age</th><th scope=col>yronset</th><th scope=col>premi</th><th scope=col>smstat</th><th scope=col>diabetes</th><th scope=col>highbp</th><th scope=col>hichol</th><th scope=col>angina</th><th scope=col>stroke</th><th scope=col>hosp</th></tr>\n",
       "\t<tr><th></th><th scope=col>&lt;int&gt;</th><th scope=col>&lt;fct&gt;</th><th scope=col>&lt;fct&gt;</th><th scope=col>&lt;int&gt;</th><th scope=col>&lt;int&gt;</th><th scope=col>&lt;fct&gt;</th><th scope=col>&lt;fct&gt;</th><th scope=col>&lt;fct&gt;</th><th scope=col>&lt;fct&gt;</th><th scope=col>&lt;fct&gt;</th><th scope=col>&lt;fct&gt;</th><th scope=col>&lt;fct&gt;</th><th scope=col>&lt;fct&gt;</th></tr>\n",
       "</thead>\n",
       "<tbody>\n",
       "\t<tr><th scope=row>1</th><td>1</td><td>live</td><td>f</td><td>63</td><td>85</td><td>n</td><td>x</td><td>n</td><td>y</td><td>y</td><td>n</td><td>n</td><td>y</td></tr>\n",
       "\t<tr><th scope=row>2</th><td>2</td><td>live</td><td>m</td><td>59</td><td>85</td><td>y</td><td>x</td><td>n</td><td>y</td><td>n</td><td>n</td><td>n</td><td>y</td></tr>\n",
       "\t<tr><th scope=row>3</th><td>3</td><td>live</td><td>m</td><td>68</td><td>85</td><td>n</td><td>n</td><td>n</td><td>y</td><td>n</td><td>n</td><td>n</td><td>y</td></tr>\n",
       "\t<tr><th scope=row>4</th><td>4</td><td>live</td><td>m</td><td>46</td><td>85</td><td>n</td><td>c</td><td>n</td><td>n</td><td>n</td><td>n</td><td>n</td><td>y</td></tr>\n",
       "\t<tr><th scope=row>5</th><td>5</td><td>dead</td><td>m</td><td>48</td><td>85</td><td>n</td><td>n</td><td>y</td><td>n</td><td>n</td><td>y</td><td>n</td><td>y</td></tr>\n",
       "\t<tr><th scope=row>6</th><td>6</td><td>live</td><td>f</td><td>55</td><td>85</td><td>n</td><td>c</td><td>n</td><td>y</td><td>y</td><td>n</td><td>n</td><td>y</td></tr>\n",
       "</tbody>\n",
       "</table>\n"
      ],
      "text/latex": [
       "A data.frame: 6 × 13\n",
       "\\begin{tabular}{r|lllllllllllll}\n",
       "  & X & outcome & sex & age & yronset & premi & smstat & diabetes & highbp & hichol & angina & stroke & hosp\\\\\n",
       "  & <int> & <fct> & <fct> & <int> & <int> & <fct> & <fct> & <fct> & <fct> & <fct> & <fct> & <fct> & <fct>\\\\\n",
       "\\hline\n",
       "\t1 & 1 & live & f & 63 & 85 & n & x & n & y & y & n & n & y\\\\\n",
       "\t2 & 2 & live & m & 59 & 85 & y & x & n & y & n & n & n & y\\\\\n",
       "\t3 & 3 & live & m & 68 & 85 & n & n & n & y & n & n & n & y\\\\\n",
       "\t4 & 4 & live & m & 46 & 85 & n & c & n & n & n & n & n & y\\\\\n",
       "\t5 & 5 & dead & m & 48 & 85 & n & n & y & n & n & y & n & y\\\\\n",
       "\t6 & 6 & live & f & 55 & 85 & n & c & n & y & y & n & n & y\\\\\n",
       "\\end{tabular}\n"
      ],
      "text/markdown": [
       "\n",
       "A data.frame: 6 × 13\n",
       "\n",
       "| <!--/--> | X &lt;int&gt; | outcome &lt;fct&gt; | sex &lt;fct&gt; | age &lt;int&gt; | yronset &lt;int&gt; | premi &lt;fct&gt; | smstat &lt;fct&gt; | diabetes &lt;fct&gt; | highbp &lt;fct&gt; | hichol &lt;fct&gt; | angina &lt;fct&gt; | stroke &lt;fct&gt; | hosp &lt;fct&gt; |\n",
       "|---|---|---|---|---|---|---|---|---|---|---|---|---|---|\n",
       "| 1 | 1 | live | f | 63 | 85 | n | x | n | y | y | n | n | y |\n",
       "| 2 | 2 | live | m | 59 | 85 | y | x | n | y | n | n | n | y |\n",
       "| 3 | 3 | live | m | 68 | 85 | n | n | n | y | n | n | n | y |\n",
       "| 4 | 4 | live | m | 46 | 85 | n | c | n | n | n | n | n | y |\n",
       "| 5 | 5 | dead | m | 48 | 85 | n | n | y | n | n | y | n | y |\n",
       "| 6 | 6 | live | f | 55 | 85 | n | c | n | y | y | n | n | y |\n",
       "\n"
      ],
      "text/plain": [
       "  X outcome sex age yronset premi smstat diabetes highbp hichol angina stroke\n",
       "1 1 live    f   63  85      n     x      n        y      y      n      n     \n",
       "2 2 live    m   59  85      y     x      n        y      n      n      n     \n",
       "3 3 live    m   68  85      n     n      n        y      n      n      n     \n",
       "4 4 live    m   46  85      n     c      n        n      n      n      n     \n",
       "5 5 dead    m   48  85      n     n      y        n      n      y      n     \n",
       "6 6 live    f   55  85      n     c      n        y      y      n      n     \n",
       "  hosp\n",
       "1 y   \n",
       "2 y   \n",
       "3 y   \n",
       "4 y   \n",
       "5 y   \n",
       "6 y   "
      ]
     },
     "metadata": {},
     "output_type": "display_data"
    }
   ],
   "source": [
    "head(df)"
   ]
  },
  {
   "cell_type": "code",
   "execution_count": 120,
   "id": "a739673e-c8c8-4ac1-a3ee-e578fbac9984",
   "metadata": {
    "ExecuteTime": {
     "end_time": "2021-10-17T14:34:48.579986Z",
     "start_time": "2021-10-17T14:34:48.553Z"
    }
   },
   "outputs": [
    {
     "data": {
      "text/html": [
       "<style>\n",
       ".list-inline {list-style: none; margin:0; padding: 0}\n",
       ".list-inline>li {display: inline-block}\n",
       ".list-inline>li:not(:last-child)::after {content: \"\\00b7\"; padding: 0 .5ex}\n",
       "</style>\n",
       "<ol class=list-inline><li>6367</li><li>13</li></ol>\n"
      ],
      "text/latex": [
       "\\begin{enumerate*}\n",
       "\\item 6367\n",
       "\\item 13\n",
       "\\end{enumerate*}\n"
      ],
      "text/markdown": [
       "1. 6367\n",
       "2. 13\n",
       "\n",
       "\n"
      ],
      "text/plain": [
       "[1] 6367   13"
      ]
     },
     "metadata": {},
     "output_type": "display_data"
    }
   ],
   "source": [
    "dim(df)"
   ]
  },
  {
   "cell_type": "markdown",
   "id": "dbb3b22e-a0f4-4055-8c38-eb567c47e036",
   "metadata": {
    "tags": [],
    "toc-hr-collapsed": true
   },
   "source": [
    "## Exploratory data analysis"
   ]
  },
  {
   "cell_type": "markdown",
   "id": "48d1b661-f31c-49b3-a55b-be376e8e780b",
   "metadata": {},
   "source": [
    "Todas las variables factor están bien representadas, tal vez la variable stroke, puede tener una de las categorías que habrá que analizar."
   ]
  },
  {
   "cell_type": "markdown",
   "id": "0d4be41e-61b4-448f-9390-7bea8bfc0e42",
   "metadata": {},
   "source": [
    "Hay pocas variables numéricas y entre ellas no están muy correlacionadas pues el coeficiente de Pearson entre yronset y age es cero. No aporta nada la variable X pues es el identificador."
   ]
  },
  {
   "cell_type": "markdown",
   "id": "915d8ca1",
   "metadata": {
    "ExecuteTime": {
     "end_time": "2021-10-17T14:34:54.751837Z",
     "start_time": "2021-10-17T14:34:51.144Z"
    }
   },
   "source": [
    "Todas las variables tienen un uso de memoria prácticamente similar"
   ]
  },
  {
   "cell_type": "markdown",
   "id": "78bc3374-8244-4d1c-b368-5d172b167aa0",
   "metadata": {
    "tags": []
   },
   "source": [
    "#### Data visualization and Summarization"
   ]
  },
  {
   "cell_type": "code",
   "execution_count": 122,
   "id": "67639494-b96f-41ef-bb6d-833c68dcf283",
   "metadata": {
    "ExecuteTime": {
     "end_time": "2021-10-17T14:35:00.545490Z",
     "start_time": "2021-10-17T14:34:58.268Z"
    },
    "tags": []
   },
   "outputs": [
    {
     "data": {
      "text/plain": [
       "       X        outcome     sex           age           yronset      premi    \n",
       " Min.   :   1   dead:2842   f:1762   Min.   :35.00   Min.   :85.00   n :4122  \n",
       " 1st Qu.:1592   live:3525   m:4605   1st Qu.:55.00   1st Qu.:87.00   nk: 734  \n",
       " Median :3184                        Median :61.00   Median :89.00   y :1511  \n",
       " Mean   :3184                        Mean   :59.42   Mean   :88.75            \n",
       " 3rd Qu.:4776                        3rd Qu.:66.00   3rd Qu.:91.00            \n",
       " Max.   :6367                        Max.   :69.00   Max.   :93.00            \n",
       " smstat    diabetes  highbp    hichol    angina    stroke    hosp    \n",
       " c :2051   n :4664   n :2542   n :3294   n :3473   n :4881   n:1925  \n",
       " n :1460   nk: 885   nk: 948   nk:1233   nk: 975   nk: 926   y:4442  \n",
       " nk: 918   y : 818   y :2877   y :1840   y :1919   y : 560           \n",
       " x :1938                                                             \n",
       "                                                                     \n",
       "                                                                     "
      ]
     },
     "metadata": {},
     "output_type": "display_data"
    }
   ],
   "source": [
    "#Exploration statistial of variables\n",
    "summary(df)"
   ]
  },
  {
   "cell_type": "code",
   "execution_count": 18,
   "id": "69475eb4",
   "metadata": {},
   "outputs": [
    {
     "name": "stdout",
     "output_type": "stream",
     "text": [
      "'data.frame':\t6367 obs. of  13 variables:\n",
      " $ X       : int  1 2 3 4 5 6 7 8 9 10 ...\n",
      " $ outcome : chr  \"live\" \"live\" \"live\" \"live\" ...\n",
      " $ sex     : chr  \"f\" \"m\" \"m\" \"m\" ...\n",
      " $ age     : int  63 59 68 46 48 55 56 68 69 64 ...\n",
      " $ yronset : int  85 85 85 85 85 85 85 85 85 85 ...\n",
      " $ premi   : chr  \"n\" \"y\" \"n\" \"n\" ...\n",
      " $ smstat  : chr  \"x\" \"x\" \"n\" \"c\" ...\n",
      " $ diabetes: chr  \"n\" \"n\" \"n\" \"n\" ...\n",
      " $ highbp  : chr  \"y\" \"y\" \"y\" \"n\" ...\n",
      " $ hichol  : chr  \"y\" \"n\" \"n\" \"n\" ...\n",
      " $ angina  : chr  \"n\" \"n\" \"n\" \"n\" ...\n",
      " $ stroke  : chr  \"n\" \"n\" \"n\" \"n\" ...\n",
      " $ hosp    : chr  \"y\" \"y\" \"y\" \"y\" ...\n"
     ]
    }
   ],
   "source": [
    "str(df)"
   ]
  },
  {
   "cell_type": "code",
   "execution_count": 19,
   "id": "26233afe",
   "metadata": {},
   "outputs": [
    {
     "data": {
      "image/png": "[encoded data removed]",
      "text/plain": [
       "plot without title"
      ]
     },
     "metadata": {
      "image/png": {
       "height": 420,
       "width": 420
      }
     },
     "output_type": "display_data"
    }
   ],
   "source": [
    "\n",
    "# categorical plot\n",
    "x <- inspect_cat(df) \n",
    "show_plot(x)"
   ]
  },
  {
   "cell_type": "markdown",
   "id": "661b3ac2",
   "metadata": {},
   "source": [
    "Las variables factor están bien representadas"
   ]
  },
  {
   "cell_type": "code",
   "execution_count": 20,
   "id": "2a4fa32a",
   "metadata": {},
   "outputs": [
    {
     "data": {
      "image/png": "[encoded data removed]",
      "text/plain": [
       "plot without title"
      ]
     },
     "metadata": {
      "image/png": {
       "height": 420,
       "width": 420
      }
     },
     "output_type": "display_data"
    }
   ],
   "source": [
    "# correlations in numeric columns\n",
    "x <- inspect_cor(df)\n",
    "show_plot(x)"
   ]
  },
  {
   "cell_type": "markdown",
   "id": "f4436c0f",
   "metadata": {},
   "source": [
    "No se aprecian correlaciones"
   ]
  },
  {
   "cell_type": "code",
   "execution_count": 21,
   "id": "91f72ee4",
   "metadata": {},
   "outputs": [
    {
     "data": {
      "image/png": "[encoded data removed]",
      "text/plain": [
       "plot without title"
      ]
     },
     "metadata": {
      "image/png": {
       "height": 420,
       "width": 420
      }
     },
     "output_type": "display_data"
    }
   ],
   "source": [
    "# feature imbalance bar plot\n",
    "x <- inspect_imb(df)\n",
    "show_plot(x)"
   ]
  },
  {
   "cell_type": "markdown",
   "id": "57a8b193",
   "metadata": {},
   "source": [
    "Los clases mayoritarias no superan el 80%, ni están por debajo del 30."
   ]
  },
  {
   "cell_type": "code",
   "execution_count": 22,
   "id": "bdecdbc8",
   "metadata": {},
   "outputs": [
    {
     "data": {
      "image/png": "[encoded data removed]",
      "text/plain": [
       "plot without title"
      ]
     },
     "metadata": {
      "image/png": {
       "height": 420,
       "width": 420
      }
     },
     "output_type": "display_data"
    }
   ],
   "source": [
    "# histograms for numeric columns\n",
    "x <- inspect_num(df)\n",
    "show_plot(x)\n"
   ]
  },
  {
   "cell_type": "markdown",
   "id": "05604e14",
   "metadata": {},
   "source": [
    "Excepto la varoable x que es el código de la observación, las otras numéricas no ofrecen histogramas herráticos y amorfos que no puedan asemejarse a alguna distribución conocida, tampoco presentan signos de que tengan que transformarse en factores."
   ]
  },
  {
   "cell_type": "code",
   "execution_count": 23,
   "id": "db0d48ee",
   "metadata": {},
   "outputs": [
    {
     "data": {
      "image/png": "[encoded data removed]",
      "text/plain": [
       "plot without title"
      ]
     },
     "metadata": {
      "image/png": {
       "height": 420,
       "width": 420
      }
     },
     "output_type": "display_data"
    }
   ],
   "source": [
    "\n",
    "# barplot of column types\n",
    "x <- inspect_types(df)\n",
    "show_plot(x)\n"
   ]
  },
  {
   "cell_type": "markdown",
   "id": "35d825d2-8dcb-4945-a64d-cc3e07c47964",
   "metadata": {
    "tags": []
   },
   "source": [
    "### Pre-selection of interesting variables "
   ]
  },
  {
   "cell_type": "code",
   "execution_count": 123,
   "id": "754e5731-b080-4322-9e05-d2886db4c2d3",
   "metadata": {
    "ExecuteTime": {
     "end_time": "2021-10-17T14:35:12.446902Z",
     "start_time": "2021-10-17T14:35:12.421Z"
    }
   },
   "outputs": [
    {
     "name": "stdout",
     "output_type": "stream",
     "text": [
      "c(\"X\", \"outcome\", \"sex\", \"age\", \"yronset\", \"premi\", \"smstat\", \n",
      "\"diabetes\", \"highbp\", \"hichol\", \"angina\", \"stroke\", \"hosp\")\n"
     ]
    }
   ],
   "source": [
    "#names of variables\n",
    "dput(names(df))"
   ]
  },
  {
   "cell_type": "markdown",
   "id": "faab222d-1a38-4247-bb1b-2d0f27818fa5",
   "metadata": {
    "tags": []
   },
   "source": [
    "### Creación de listas de variables "
   ]
  },
  {
   "cell_type": "markdown",
   "id": "ed64d057-ff44-4474-82dd-0d191fbc999c",
   "metadata": {},
   "source": [
    "Se ha eliminado la variable ID que no tiene poder predictivo"
   ]
  },
  {
   "cell_type": "code",
   "execution_count": 124,
   "id": "380b92ff-003a-4f43-bf52-066cdc12a1ab",
   "metadata": {
    "ExecuteTime": {
     "end_time": "2021-10-17T14:35:23.679917Z",
     "start_time": "2021-10-17T14:35:23.649Z"
    },
    "tags": []
   },
   "outputs": [
    {
     "data": {
      "text/html": [
       "<style>\n",
       ".list-inline {list-style: none; margin:0; padding: 0}\n",
       ".list-inline>li {display: inline-block}\n",
       ".list-inline>li:not(:last-child)::after {content: \"\\00b7\"; padding: 0 .5ex}\n",
       "</style>\n",
       "<ol class=list-inline><li>'age'</li><li>'yronset'</li></ol>\n"
      ],
      "text/latex": [
       "\\begin{enumerate*}\n",
       "\\item 'age'\n",
       "\\item 'yronset'\n",
       "\\end{enumerate*}\n"
      ],
      "text/markdown": [
       "1. 'age'\n",
       "2. 'yronset'\n",
       "\n",
       "\n"
      ],
      "text/plain": [
       "[1] \"age\"     \"yronset\""
      ]
     },
     "metadata": {},
     "output_type": "display_data"
    }
   ],
   "source": [
    "#Lista de variables continuas\n",
    "var_cont<-c(\"age\", \"yronset\")\n",
    "var_cont"
   ]
  },
  {
   "cell_type": "code",
   "execution_count": 125,
   "id": "3267dfec-5f57-46a5-93c9-89addfde93f6",
   "metadata": {
    "ExecuteTime": {
     "end_time": "2021-10-17T14:35:29.345747Z",
     "start_time": "2021-10-17T14:35:29.086Z"
    },
    "partialCollapse": true,
    "tags": []
   },
   "outputs": [
    {
     "data": {
      "text/html": [
       "<style>\n",
       ".list-inline {list-style: none; margin:0; padding: 0}\n",
       ".list-inline>li {display: inline-block}\n",
       ".list-inline>li:not(:last-child)::after {content: \"\\00b7\"; padding: 0 .5ex}\n",
       "</style>\n",
       "<ol class=list-inline><li>'sex'</li><li>'premi'</li><li>'smstat'</li><li>'diabetes'</li><li>'highbp'</li><li>'hichol'</li><li>'angina'</li><li>'stroke'</li><li>'hosp'</li></ol>\n"
      ],
      "text/latex": [
       "\\begin{enumerate*}\n",
       "\\item 'sex'\n",
       "\\item 'premi'\n",
       "\\item 'smstat'\n",
       "\\item 'diabetes'\n",
       "\\item 'highbp'\n",
       "\\item 'hichol'\n",
       "\\item 'angina'\n",
       "\\item 'stroke'\n",
       "\\item 'hosp'\n",
       "\\end{enumerate*}\n"
      ],
      "text/markdown": [
       "1. 'sex'\n",
       "2. 'premi'\n",
       "3. 'smstat'\n",
       "4. 'diabetes'\n",
       "5. 'highbp'\n",
       "6. 'hichol'\n",
       "7. 'angina'\n",
       "8. 'stroke'\n",
       "9. 'hosp'\n",
       "\n",
       "\n"
      ],
      "text/plain": [
       "[1] \"sex\"      \"premi\"    \"smstat\"   \"diabetes\" \"highbp\"   \"hichol\"   \"angina\"  \n",
       "[8] \"stroke\"   \"hosp\"    "
      ]
     },
     "metadata": {},
     "output_type": "display_data"
    }
   ],
   "source": [
    "#lista de variables categóricas\n",
    "var_cat<-c(\"sex\", \"premi\", \"smstat\", \n",
    "\"diabetes\", \"highbp\", \"hichol\", \"angina\", \"stroke\", \"hosp\")\n",
    "var_cat"
   ]
  },
  {
   "cell_type": "code",
   "execution_count": 126,
   "id": "c6964b30",
   "metadata": {
    "ExecuteTime": {
     "end_time": "2021-10-17T14:35:34.896552Z",
     "start_time": "2021-10-17T14:35:33.628Z"
    }
   },
   "outputs": [],
   "source": [
    "#target\n",
    "df$outcome<-ifelse(df$outcome =='dead','Yes','No')\n",
    "\n",
    "\n",
    "vardep<-c(\"outcome\")"
   ]
  },
  {
   "cell_type": "code",
   "execution_count": 127,
   "id": "c42a40e1",
   "metadata": {
    "ExecuteTime": {
     "end_time": "2021-10-17T14:35:40.537405Z",
     "start_time": "2021-10-17T14:35:37.899Z"
    }
   },
   "outputs": [],
   "source": [
    "outcome<-df[,vardep]\n",
    "outcome<-as.data.frame(outcome)"
   ]
  },
  {
   "cell_type": "code",
   "execution_count": 128,
   "id": "125e9157",
   "metadata": {
    "ExecuteTime": {
     "end_time": "2021-10-17T14:35:46.172163Z",
     "start_time": "2021-10-17T14:35:43.394Z"
    }
   },
   "outputs": [
    {
     "data": {
      "text/html": [
       "<table class=\"dataframe\">\n",
       "<caption>A data.frame: 6 × 1</caption>\n",
       "<thead>\n",
       "\t<tr><th></th><th scope=col>outcome</th></tr>\n",
       "\t<tr><th></th><th scope=col>&lt;chr&gt;</th></tr>\n",
       "</thead>\n",
       "<tbody>\n",
       "\t<tr><th scope=row>1</th><td>No </td></tr>\n",
       "\t<tr><th scope=row>2</th><td>No </td></tr>\n",
       "\t<tr><th scope=row>3</th><td>No </td></tr>\n",
       "\t<tr><th scope=row>4</th><td>No </td></tr>\n",
       "\t<tr><th scope=row>5</th><td>Yes</td></tr>\n",
       "\t<tr><th scope=row>6</th><td>No </td></tr>\n",
       "</tbody>\n",
       "</table>\n"
      ],
      "text/latex": [
       "A data.frame: 6 × 1\n",
       "\\begin{tabular}{r|l}\n",
       "  & outcome\\\\\n",
       "  & <chr>\\\\\n",
       "\\hline\n",
       "\t1 & No \\\\\n",
       "\t2 & No \\\\\n",
       "\t3 & No \\\\\n",
       "\t4 & No \\\\\n",
       "\t5 & Yes\\\\\n",
       "\t6 & No \\\\\n",
       "\\end{tabular}\n"
      ],
      "text/markdown": [
       "\n",
       "A data.frame: 6 × 1\n",
       "\n",
       "| <!--/--> | outcome &lt;chr&gt; |\n",
       "|---|---|\n",
       "| 1 | No  |\n",
       "| 2 | No  |\n",
       "| 3 | No  |\n",
       "| 4 | No  |\n",
       "| 5 | Yes |\n",
       "| 6 | No  |\n",
       "\n"
      ],
      "text/plain": [
       "  outcome\n",
       "1 No     \n",
       "2 No     \n",
       "3 No     \n",
       "4 No     \n",
       "5 Yes    \n",
       "6 No     "
      ]
     },
     "metadata": {},
     "output_type": "display_data"
    }
   ],
   "source": [
    "head(outcome)"
   ]
  },
  {
   "cell_type": "code",
   "execution_count": 129,
   "id": "20253f07-1b1c-4c1f-8635-d4db7705760a",
   "metadata": {
    "ExecuteTime": {
     "end_time": "2021-10-17T14:35:51.806834Z",
     "start_time": "2021-10-17T14:35:49.959Z"
    }
   },
   "outputs": [
    {
     "data": {
      "text/html": [
       "<table class=\"dataframe\">\n",
       "<caption>A data.frame: 6 × 12</caption>\n",
       "<thead>\n",
       "\t<tr><th></th><th scope=col>age</th><th scope=col>yronset</th><th scope=col>sex</th><th scope=col>premi</th><th scope=col>smstat</th><th scope=col>diabetes</th><th scope=col>highbp</th><th scope=col>hichol</th><th scope=col>angina</th><th scope=col>stroke</th><th scope=col>hosp</th><th scope=col>outcome</th></tr>\n",
       "\t<tr><th></th><th scope=col>&lt;int&gt;</th><th scope=col>&lt;int&gt;</th><th scope=col>&lt;fct&gt;</th><th scope=col>&lt;fct&gt;</th><th scope=col>&lt;fct&gt;</th><th scope=col>&lt;fct&gt;</th><th scope=col>&lt;fct&gt;</th><th scope=col>&lt;fct&gt;</th><th scope=col>&lt;fct&gt;</th><th scope=col>&lt;fct&gt;</th><th scope=col>&lt;fct&gt;</th><th scope=col>&lt;chr&gt;</th></tr>\n",
       "</thead>\n",
       "<tbody>\n",
       "\t<tr><th scope=row>1</th><td>63</td><td>85</td><td>f</td><td>n</td><td>x</td><td>n</td><td>y</td><td>y</td><td>n</td><td>n</td><td>y</td><td>No </td></tr>\n",
       "\t<tr><th scope=row>2</th><td>59</td><td>85</td><td>m</td><td>y</td><td>x</td><td>n</td><td>y</td><td>n</td><td>n</td><td>n</td><td>y</td><td>No </td></tr>\n",
       "\t<tr><th scope=row>3</th><td>68</td><td>85</td><td>m</td><td>n</td><td>n</td><td>n</td><td>y</td><td>n</td><td>n</td><td>n</td><td>y</td><td>No </td></tr>\n",
       "\t<tr><th scope=row>4</th><td>46</td><td>85</td><td>m</td><td>n</td><td>c</td><td>n</td><td>n</td><td>n</td><td>n</td><td>n</td><td>y</td><td>No </td></tr>\n",
       "\t<tr><th scope=row>5</th><td>48</td><td>85</td><td>m</td><td>n</td><td>n</td><td>y</td><td>n</td><td>n</td><td>y</td><td>n</td><td>y</td><td>Yes</td></tr>\n",
       "\t<tr><th scope=row>6</th><td>55</td><td>85</td><td>f</td><td>n</td><td>c</td><td>n</td><td>y</td><td>y</td><td>n</td><td>n</td><td>y</td><td>No </td></tr>\n",
       "</tbody>\n",
       "</table>\n"
      ],
      "text/latex": [
       "A data.frame: 6 × 12\n",
       "\\begin{tabular}{r|llllllllllll}\n",
       "  & age & yronset & sex & premi & smstat & diabetes & highbp & hichol & angina & stroke & hosp & outcome\\\\\n",
       "  & <int> & <int> & <fct> & <fct> & <fct> & <fct> & <fct> & <fct> & <fct> & <fct> & <fct> & <chr>\\\\\n",
       "\\hline\n",
       "\t1 & 63 & 85 & f & n & x & n & y & y & n & n & y & No \\\\\n",
       "\t2 & 59 & 85 & m & y & x & n & y & n & n & n & y & No \\\\\n",
       "\t3 & 68 & 85 & m & n & n & n & y & n & n & n & y & No \\\\\n",
       "\t4 & 46 & 85 & m & n & c & n & n & n & n & n & y & No \\\\\n",
       "\t5 & 48 & 85 & m & n & n & y & n & n & y & n & y & Yes\\\\\n",
       "\t6 & 55 & 85 & f & n & c & n & y & y & n & n & y & No \\\\\n",
       "\\end{tabular}\n"
      ],
      "text/markdown": [
       "\n",
       "A data.frame: 6 × 12\n",
       "\n",
       "| <!--/--> | age &lt;int&gt; | yronset &lt;int&gt; | sex &lt;fct&gt; | premi &lt;fct&gt; | smstat &lt;fct&gt; | diabetes &lt;fct&gt; | highbp &lt;fct&gt; | hichol &lt;fct&gt; | angina &lt;fct&gt; | stroke &lt;fct&gt; | hosp &lt;fct&gt; | outcome &lt;chr&gt; |\n",
       "|---|---|---|---|---|---|---|---|---|---|---|---|---|\n",
       "| 1 | 63 | 85 | f | n | x | n | y | y | n | n | y | No  |\n",
       "| 2 | 59 | 85 | m | y | x | n | y | n | n | n | y | No  |\n",
       "| 3 | 68 | 85 | m | n | n | n | y | n | n | n | y | No  |\n",
       "| 4 | 46 | 85 | m | n | c | n | n | n | n | n | y | No  |\n",
       "| 5 | 48 | 85 | m | n | n | y | n | n | y | n | y | Yes |\n",
       "| 6 | 55 | 85 | f | n | c | n | y | y | n | n | y | No  |\n",
       "\n"
      ],
      "text/plain": [
       "  age yronset sex premi smstat diabetes highbp hichol angina stroke hosp\n",
       "1 63  85      f   n     x      n        y      y      n      n      y   \n",
       "2 59  85      m   y     x      n        y      n      n      n      y   \n",
       "3 68  85      m   n     n      n        y      n      n      n      y   \n",
       "4 46  85      m   n     c      n        n      n      n      n      y   \n",
       "5 48  85      m   n     n      y        n      n      y      n      y   \n",
       "6 55  85      f   n     c      n        y      y      n      n      y   \n",
       "  outcome\n",
       "1 No     \n",
       "2 No     \n",
       "3 No     \n",
       "4 No     \n",
       "5 Yes    \n",
       "6 No     "
      ]
     },
     "metadata": {},
     "output_type": "display_data"
    }
   ],
   "source": [
    "df<-df[,c(var_cont,var_cat,vardep)]\n",
    "head(df)\n"
   ]
  },
  {
   "cell_type": "markdown",
   "id": "35c953d4-9650-4336-b4af-e34f056351fd",
   "metadata": {
    "tags": [],
    "toc-hr-collapsed": true
   },
   "source": [
    "### Analysis dependent variable: target"
   ]
  },
  {
   "cell_type": "markdown",
   "id": "fc824411-c513-4e50-a35d-ff5a90755017",
   "metadata": {
    "tags": []
   },
   "source": [
    "### Missings"
   ]
  },
  {
   "cell_type": "code",
   "execution_count": 130,
   "id": "28f12203-e631-4126-9a09-eb323231ff19",
   "metadata": {
    "ExecuteTime": {
     "end_time": "2021-10-17T14:35:58.267117Z",
     "start_time": "2021-10-17T14:35:58.045Z"
    }
   },
   "outputs": [
    {
     "data": {
      "image/png": "[encoded data removed]",
      "text/plain": [
       "plot without title"
      ]
     },
     "metadata": {
      "image/png": {
       "height": 420,
       "width": 420
      }
     },
     "output_type": "display_data"
    }
   ],
   "source": [
    "require(\"naniar\")\n",
    "# función para detectar los missing por variable\n",
    "gg_miss_var(df,show_pct = TRUE)"
   ]
  },
  {
   "cell_type": "code",
   "execution_count": 131,
   "id": "32308ca6-2cee-4b91-ba84-94e2e8952849",
   "metadata": {
    "ExecuteTime": {
     "end_time": "2021-10-17T14:36:04.210558Z",
     "start_time": "2021-10-17T14:36:02.632Z"
    },
    "partialCollapse": true
   },
   "outputs": [
    {
     "data": {
      "text/html": [
       "6367"
      ],
      "text/latex": [
       "6367"
      ],
      "text/markdown": [
       "6367"
      ],
      "text/plain": [
       "[1] 6367"
      ]
     },
     "metadata": {},
     "output_type": "display_data"
    }
   ],
   "source": [
    "# number of rows before instruction\n",
    "nrow(df)\n",
    "\n",
    "# Delete \n",
    "# (son pocas, también se puede imputar)\n",
    "\n",
    "df<-na.omit(df)\n"
   ]
  },
  {
   "cell_type": "code",
   "execution_count": 132,
   "id": "632ee052-b3dc-4f9e-9d4d-4266f715b6fc",
   "metadata": {
    "ExecuteTime": {
     "end_time": "2021-10-17T14:36:09.782352Z",
     "start_time": "2021-10-17T14:36:04.320Z"
    },
    "partialCollapse": true,
    "tags": []
   },
   "outputs": [
    {
     "data": {
      "text/html": [
       "6367"
      ],
      "text/latex": [
       "6367"
      ],
      "text/markdown": [
       "6367"
      ],
      "text/plain": [
       "[1] 6367"
      ]
     },
     "metadata": {},
     "output_type": "display_data"
    }
   ],
   "source": [
    "# number of rows after instruction\n",
    "nrow(df)"
   ]
  },
  {
   "cell_type": "markdown",
   "id": "0aed0f35-52d4-4285-baf0-cec23d1d2a6c",
   "metadata": {},
   "source": [
    "It has not been removed any row, there are not any missing values"
   ]
  },
  {
   "cell_type": "markdown",
   "id": "b486b909-c17f-48bf-bb92-58969ef04895",
   "metadata": {
    "tags": []
   },
   "source": [
    "### Standardize continous variables"
   ]
  },
  {
   "cell_type": "code",
   "execution_count": 133,
   "id": "7085d18f-886e-467a-bb4b-bce1a753dce1",
   "metadata": {
    "ExecuteTime": {
     "end_time": "2021-10-17T14:36:15.607021Z",
     "start_time": "2021-10-17T14:36:14.318Z"
    },
    "partialCollapse": true,
    "tags": []
   },
   "outputs": [
    {
     "name": "stdout",
     "output_type": "stream",
     "text": [
      "     age  yronset \n",
      "59.41998 88.74902 \n"
     ]
    }
   ],
   "source": [
    "# calculate mean \n",
    "means<-apply(df[,var_cont],2,mean,na.rm=TRUE)\n",
    "print(means)"
   ]
  },
  {
   "cell_type": "code",
   "execution_count": 134,
   "id": "cb64b045-ef3a-47b5-907a-c0a717d8cce3",
   "metadata": {
    "ExecuteTime": {
     "end_time": "2021-10-17T14:36:21.168801Z",
     "start_time": "2021-10-17T14:36:15.435Z"
    },
    "partialCollapse": true,
    "tags": []
   },
   "outputs": [
    {
     "name": "stdout",
     "output_type": "stream",
     "text": [
      "     age  yronset \n",
      "7.853923 2.558180 \n"
     ]
    }
   ],
   "source": [
    "#calculate standard deviation\n",
    "sds<-sapply(df[,var_cont],sd,na.rm=TRUE)\n",
    "print(sds)"
   ]
  },
  {
   "cell_type": "code",
   "execution_count": 135,
   "id": "a3844482-edb7-41e6-8d2f-9f8df7dae1f7",
   "metadata": {
    "ExecuteTime": {
     "end_time": "2021-10-17T14:36:26.849546Z",
     "start_time": "2021-10-17T14:36:23.863Z"
    },
    "partialCollapse": true,
    "tags": []
   },
   "outputs": [],
   "source": [
    "#Scale every variable, standardize variables\n",
    "df2<-scale(df[,var_cont], center = means, scale = sds)\n",
    "#Create dataframe with standardize variables\n",
    "df1<-data.frame(cbind(df2,df[,c(var_cat)]))\n",
    "#Save dataframe in file\n",
    "save(df1,file=\"df1.Rda\")\n"
   ]
  },
  {
   "cell_type": "code",
   "execution_count": 136,
   "id": "ee158f97-b567-40c6-ab27-6163e96a1d6b",
   "metadata": {
    "ExecuteTime": {
     "end_time": "2021-10-17T14:36:32.406351Z",
     "start_time": "2021-10-17T14:36:24.562Z"
    }
   },
   "outputs": [
    {
     "data": {
      "text/html": [
       "<style>\n",
       ".list-inline {list-style: none; margin:0; padding: 0}\n",
       ".list-inline>li {display: inline-block}\n",
       ".list-inline>li:not(:last-child)::after {content: \"\\00b7\"; padding: 0 .5ex}\n",
       "</style>\n",
       "<ol class=list-inline><li>6367</li><li>11</li></ol>\n"
      ],
      "text/latex": [
       "\\begin{enumerate*}\n",
       "\\item 6367\n",
       "\\item 11\n",
       "\\end{enumerate*}\n"
      ],
      "text/markdown": [
       "1. 6367\n",
       "2. 11\n",
       "\n",
       "\n"
      ],
      "text/plain": [
       "[1] 6367   11"
      ]
     },
     "metadata": {},
     "output_type": "display_data"
    }
   ],
   "source": [
    "dim(df1)"
   ]
  },
  {
   "cell_type": "code",
   "execution_count": 137,
   "id": "28ed8c00-e4cb-49e3-8c8e-3d273cbfba99",
   "metadata": {
    "ExecuteTime": {
     "end_time": "2021-10-17T14:36:38.088583Z",
     "start_time": "2021-10-17T14:36:25.320Z"
    }
   },
   "outputs": [
    {
     "data": {
      "text/html": [
       "<table class=\"dataframe\">\n",
       "<caption>A data.frame: 6 × 11</caption>\n",
       "<thead>\n",
       "\t<tr><th></th><th scope=col>age</th><th scope=col>yronset</th><th scope=col>sex</th><th scope=col>premi</th><th scope=col>smstat</th><th scope=col>diabetes</th><th scope=col>highbp</th><th scope=col>hichol</th><th scope=col>angina</th><th scope=col>stroke</th><th scope=col>hosp</th></tr>\n",
       "\t<tr><th></th><th scope=col>&lt;dbl&gt;</th><th scope=col>&lt;dbl&gt;</th><th scope=col>&lt;fct&gt;</th><th scope=col>&lt;fct&gt;</th><th scope=col>&lt;fct&gt;</th><th scope=col>&lt;fct&gt;</th><th scope=col>&lt;fct&gt;</th><th scope=col>&lt;fct&gt;</th><th scope=col>&lt;fct&gt;</th><th scope=col>&lt;fct&gt;</th><th scope=col>&lt;fct&gt;</th></tr>\n",
       "</thead>\n",
       "<tbody>\n",
       "\t<tr><th scope=row>1</th><td> 0.45582598</td><td>-1.465502</td><td>f</td><td>n</td><td>x</td><td>n</td><td>y</td><td>y</td><td>n</td><td>n</td><td>y</td></tr>\n",
       "\t<tr><th scope=row>2</th><td>-0.05347366</td><td>-1.465502</td><td>m</td><td>y</td><td>x</td><td>n</td><td>y</td><td>n</td><td>n</td><td>n</td><td>y</td></tr>\n",
       "\t<tr><th scope=row>3</th><td> 1.09245054</td><td>-1.465502</td><td>m</td><td>n</td><td>n</td><td>n</td><td>y</td><td>n</td><td>n</td><td>n</td><td>y</td></tr>\n",
       "\t<tr><th scope=row>4</th><td>-1.70869752</td><td>-1.465502</td><td>m</td><td>n</td><td>c</td><td>n</td><td>n</td><td>n</td><td>n</td><td>n</td><td>y</td></tr>\n",
       "\t<tr><th scope=row>5</th><td>-1.45404770</td><td>-1.465502</td><td>m</td><td>n</td><td>n</td><td>y</td><td>n</td><td>n</td><td>y</td><td>n</td><td>y</td></tr>\n",
       "\t<tr><th scope=row>6</th><td>-0.56277331</td><td>-1.465502</td><td>f</td><td>n</td><td>c</td><td>n</td><td>y</td><td>y</td><td>n</td><td>n</td><td>y</td></tr>\n",
       "</tbody>\n",
       "</table>\n"
      ],
      "text/latex": [
       "A data.frame: 6 × 11\n",
       "\\begin{tabular}{r|lllllllllll}\n",
       "  & age & yronset & sex & premi & smstat & diabetes & highbp & hichol & angina & stroke & hosp\\\\\n",
       "  & <dbl> & <dbl> & <fct> & <fct> & <fct> & <fct> & <fct> & <fct> & <fct> & <fct> & <fct>\\\\\n",
       "\\hline\n",
       "\t1 &  0.45582598 & -1.465502 & f & n & x & n & y & y & n & n & y\\\\\n",
       "\t2 & -0.05347366 & -1.465502 & m & y & x & n & y & n & n & n & y\\\\\n",
       "\t3 &  1.09245054 & -1.465502 & m & n & n & n & y & n & n & n & y\\\\\n",
       "\t4 & -1.70869752 & -1.465502 & m & n & c & n & n & n & n & n & y\\\\\n",
       "\t5 & -1.45404770 & -1.465502 & m & n & n & y & n & n & y & n & y\\\\\n",
       "\t6 & -0.56277331 & -1.465502 & f & n & c & n & y & y & n & n & y\\\\\n",
       "\\end{tabular}\n"
      ],
      "text/markdown": [
       "\n",
       "A data.frame: 6 × 11\n",
       "\n",
       "| <!--/--> | age &lt;dbl&gt; | yronset &lt;dbl&gt; | sex &lt;fct&gt; | premi &lt;fct&gt; | smstat &lt;fct&gt; | diabetes &lt;fct&gt; | highbp &lt;fct&gt; | hichol &lt;fct&gt; | angina &lt;fct&gt; | stroke &lt;fct&gt; | hosp &lt;fct&gt; |\n",
       "|---|---|---|---|---|---|---|---|---|---|---|---|\n",
       "| 1 |  0.45582598 | -1.465502 | f | n | x | n | y | y | n | n | y |\n",
       "| 2 | -0.05347366 | -1.465502 | m | y | x | n | y | n | n | n | y |\n",
       "| 3 |  1.09245054 | -1.465502 | m | n | n | n | y | n | n | n | y |\n",
       "| 4 | -1.70869752 | -1.465502 | m | n | c | n | n | n | n | n | y |\n",
       "| 5 | -1.45404770 | -1.465502 | m | n | n | y | n | n | y | n | y |\n",
       "| 6 | -0.56277331 | -1.465502 | f | n | c | n | y | y | n | n | y |\n",
       "\n"
      ],
      "text/plain": [
       "  age         yronset   sex premi smstat diabetes highbp hichol angina stroke\n",
       "1  0.45582598 -1.465502 f   n     x      n        y      y      n      n     \n",
       "2 -0.05347366 -1.465502 m   y     x      n        y      n      n      n     \n",
       "3  1.09245054 -1.465502 m   n     n      n        y      n      n      n     \n",
       "4 -1.70869752 -1.465502 m   n     c      n        n      n      n      n     \n",
       "5 -1.45404770 -1.465502 m   n     n      y        n      n      y      n     \n",
       "6 -0.56277331 -1.465502 f   n     c      n        y      y      n      n     \n",
       "  hosp\n",
       "1 y   \n",
       "2 y   \n",
       "3 y   \n",
       "4 y   \n",
       "5 y   \n",
       "6 y   "
      ]
     },
     "metadata": {},
     "output_type": "display_data"
    }
   ],
   "source": [
    "head(df1)"
   ]
  },
  {
   "cell_type": "code",
   "execution_count": 138,
   "id": "3c7ed8e3",
   "metadata": {
    "ExecuteTime": {
     "end_time": "2021-10-17T14:36:54.340595Z",
     "start_time": "2021-10-17T14:36:54.315Z"
    }
   },
   "outputs": [
    {
     "name": "stdout",
     "output_type": "stream",
     "text": [
      "c(\"age\", \"yronset\", \"sex\", \"premi\", \"smstat\", \"diabetes\", \"highbp\", \n",
      "\"hichol\", \"angina\", \"stroke\", \"hosp\")\n"
     ]
    }
   ],
   "source": [
    "dput(names(df1))"
   ]
  },
  {
   "cell_type": "code",
   "execution_count": 139,
   "id": "dac8c572-95ba-4fe2-8ad4-12a62f6bef8c",
   "metadata": {
    "ExecuteTime": {
     "end_time": "2021-10-17T14:37:00.059286Z",
     "start_time": "2021-10-17T14:36:55.600Z"
    }
   },
   "outputs": [
    {
     "data": {
      "text/html": [
       "<table class=\"dataframe\">\n",
       "<caption>A data.frame: 6 × 12</caption>\n",
       "<thead>\n",
       "\t<tr><th></th><th scope=col>age</th><th scope=col>yronset</th><th scope=col>sex</th><th scope=col>premi</th><th scope=col>smstat</th><th scope=col>diabetes</th><th scope=col>highbp</th><th scope=col>hichol</th><th scope=col>angina</th><th scope=col>stroke</th><th scope=col>hosp</th><th scope=col>outcome</th></tr>\n",
       "\t<tr><th></th><th scope=col>&lt;int&gt;</th><th scope=col>&lt;int&gt;</th><th scope=col>&lt;fct&gt;</th><th scope=col>&lt;fct&gt;</th><th scope=col>&lt;fct&gt;</th><th scope=col>&lt;fct&gt;</th><th scope=col>&lt;fct&gt;</th><th scope=col>&lt;fct&gt;</th><th scope=col>&lt;fct&gt;</th><th scope=col>&lt;fct&gt;</th><th scope=col>&lt;fct&gt;</th><th scope=col>&lt;chr&gt;</th></tr>\n",
       "</thead>\n",
       "<tbody>\n",
       "\t<tr><th scope=row>1</th><td>63</td><td>85</td><td>f</td><td>n</td><td>x</td><td>n</td><td>y</td><td>y</td><td>n</td><td>n</td><td>y</td><td>No </td></tr>\n",
       "\t<tr><th scope=row>2</th><td>59</td><td>85</td><td>m</td><td>y</td><td>x</td><td>n</td><td>y</td><td>n</td><td>n</td><td>n</td><td>y</td><td>No </td></tr>\n",
       "\t<tr><th scope=row>3</th><td>68</td><td>85</td><td>m</td><td>n</td><td>n</td><td>n</td><td>y</td><td>n</td><td>n</td><td>n</td><td>y</td><td>No </td></tr>\n",
       "\t<tr><th scope=row>4</th><td>46</td><td>85</td><td>m</td><td>n</td><td>c</td><td>n</td><td>n</td><td>n</td><td>n</td><td>n</td><td>y</td><td>No </td></tr>\n",
       "\t<tr><th scope=row>5</th><td>48</td><td>85</td><td>m</td><td>n</td><td>n</td><td>y</td><td>n</td><td>n</td><td>y</td><td>n</td><td>y</td><td>Yes</td></tr>\n",
       "\t<tr><th scope=row>6</th><td>55</td><td>85</td><td>f</td><td>n</td><td>c</td><td>n</td><td>y</td><td>y</td><td>n</td><td>n</td><td>y</td><td>No </td></tr>\n",
       "</tbody>\n",
       "</table>\n"
      ],
      "text/latex": [
       "A data.frame: 6 × 12\n",
       "\\begin{tabular}{r|llllllllllll}\n",
       "  & age & yronset & sex & premi & smstat & diabetes & highbp & hichol & angina & stroke & hosp & outcome\\\\\n",
       "  & <int> & <int> & <fct> & <fct> & <fct> & <fct> & <fct> & <fct> & <fct> & <fct> & <fct> & <chr>\\\\\n",
       "\\hline\n",
       "\t1 & 63 & 85 & f & n & x & n & y & y & n & n & y & No \\\\\n",
       "\t2 & 59 & 85 & m & y & x & n & y & n & n & n & y & No \\\\\n",
       "\t3 & 68 & 85 & m & n & n & n & y & n & n & n & y & No \\\\\n",
       "\t4 & 46 & 85 & m & n & c & n & n & n & n & n & y & No \\\\\n",
       "\t5 & 48 & 85 & m & n & n & y & n & n & y & n & y & Yes\\\\\n",
       "\t6 & 55 & 85 & f & n & c & n & y & y & n & n & y & No \\\\\n",
       "\\end{tabular}\n"
      ],
      "text/markdown": [
       "\n",
       "A data.frame: 6 × 12\n",
       "\n",
       "| <!--/--> | age &lt;int&gt; | yronset &lt;int&gt; | sex &lt;fct&gt; | premi &lt;fct&gt; | smstat &lt;fct&gt; | diabetes &lt;fct&gt; | highbp &lt;fct&gt; | hichol &lt;fct&gt; | angina &lt;fct&gt; | stroke &lt;fct&gt; | hosp &lt;fct&gt; | outcome &lt;chr&gt; |\n",
       "|---|---|---|---|---|---|---|---|---|---|---|---|---|\n",
       "| 1 | 63 | 85 | f | n | x | n | y | y | n | n | y | No  |\n",
       "| 2 | 59 | 85 | m | y | x | n | y | n | n | n | y | No  |\n",
       "| 3 | 68 | 85 | m | n | n | n | y | n | n | n | y | No  |\n",
       "| 4 | 46 | 85 | m | n | c | n | n | n | n | n | y | No  |\n",
       "| 5 | 48 | 85 | m | n | n | y | n | n | y | n | y | Yes |\n",
       "| 6 | 55 | 85 | f | n | c | n | y | y | n | n | y | No  |\n",
       "\n"
      ],
      "text/plain": [
       "  age yronset sex premi smstat diabetes highbp hichol angina stroke hosp\n",
       "1 63  85      f   n     x      n        y      y      n      n      y   \n",
       "2 59  85      m   y     x      n        y      n      n      n      y   \n",
       "3 68  85      m   n     n      n        y      n      n      n      y   \n",
       "4 46  85      m   n     c      n        n      n      n      n      y   \n",
       "5 48  85      m   n     n      y        n      n      y      n      y   \n",
       "6 55  85      f   n     c      n        y      y      n      n      y   \n",
       "  outcome\n",
       "1 No     \n",
       "2 No     \n",
       "3 No     \n",
       "4 No     \n",
       "5 Yes    \n",
       "6 No     "
      ]
     },
     "metadata": {},
     "output_type": "display_data"
    }
   ],
   "source": [
    "head(df)"
   ]
  },
  {
   "cell_type": "markdown",
   "id": "62905089-debf-404f-8378-ed71f2adac81",
   "metadata": {
    "tags": []
   },
   "source": [
    "### Create frecuency table for variables"
   ]
  },
  {
   "cell_type": "code",
   "execution_count": 140,
   "id": "bd83ef91-5f4b-47b7-ba7b-721d124e0e63",
   "metadata": {
    "ExecuteTime": {
     "end_time": "2021-10-17T14:37:23.445189Z",
     "start_time": "2021-10-17T14:37:23.394Z"
    }
   },
   "outputs": [
    {
     "data": {
      "text/html": [
       "<table class=\"dataframe\">\n",
       "<caption>A data.frame: 26 × 3</caption>\n",
       "<thead>\n",
       "\t<tr><th scope=col>variable</th><th scope=col>level</th><th scope=col>frecuency</th></tr>\n",
       "\t<tr><th scope=col>&lt;chr&gt;</th><th scope=col>&lt;chr&gt;</th><th scope=col>&lt;dbl&gt;</th></tr>\n",
       "</thead>\n",
       "<tbody>\n",
       "\t<tr><td>sex     </td><td>f </td><td>1762</td></tr>\n",
       "\t<tr><td>sex     </td><td>m </td><td>4605</td></tr>\n",
       "\t<tr><td>premi   </td><td>n </td><td>4122</td></tr>\n",
       "\t<tr><td>premi   </td><td>nk</td><td> 734</td></tr>\n",
       "\t<tr><td>premi   </td><td>y </td><td>1511</td></tr>\n",
       "\t<tr><td>smstat  </td><td>c </td><td>2051</td></tr>\n",
       "\t<tr><td>smstat  </td><td>n </td><td>1460</td></tr>\n",
       "\t<tr><td>smstat  </td><td>nk</td><td> 918</td></tr>\n",
       "\t<tr><td>smstat  </td><td>x </td><td>1938</td></tr>\n",
       "\t<tr><td>diabetes</td><td>n </td><td>4664</td></tr>\n",
       "\t<tr><td>diabetes</td><td>nk</td><td> 885</td></tr>\n",
       "\t<tr><td>diabetes</td><td>y </td><td> 818</td></tr>\n",
       "\t<tr><td>highbp  </td><td>n </td><td>2542</td></tr>\n",
       "\t<tr><td>highbp  </td><td>nk</td><td> 948</td></tr>\n",
       "\t<tr><td>highbp  </td><td>y </td><td>2877</td></tr>\n",
       "\t<tr><td>hichol  </td><td>n </td><td>3294</td></tr>\n",
       "\t<tr><td>hichol  </td><td>nk</td><td>1233</td></tr>\n",
       "\t<tr><td>hichol  </td><td>y </td><td>1840</td></tr>\n",
       "\t<tr><td>angina  </td><td>n </td><td>3473</td></tr>\n",
       "\t<tr><td>angina  </td><td>nk</td><td> 975</td></tr>\n",
       "\t<tr><td>angina  </td><td>y </td><td>1919</td></tr>\n",
       "\t<tr><td>stroke  </td><td>n </td><td>4881</td></tr>\n",
       "\t<tr><td>stroke  </td><td>nk</td><td> 926</td></tr>\n",
       "\t<tr><td>stroke  </td><td>y </td><td> 560</td></tr>\n",
       "\t<tr><td>hosp    </td><td>n </td><td>1925</td></tr>\n",
       "\t<tr><td>hosp    </td><td>y </td><td>4442</td></tr>\n",
       "</tbody>\n",
       "</table>\n"
      ],
      "text/latex": [
       "A data.frame: 26 × 3\n",
       "\\begin{tabular}{lll}\n",
       " variable & level & frecuency\\\\\n",
       " <chr> & <chr> & <dbl>\\\\\n",
       "\\hline\n",
       "\t sex      & f  & 1762\\\\\n",
       "\t sex      & m  & 4605\\\\\n",
       "\t premi    & n  & 4122\\\\\n",
       "\t premi    & nk &  734\\\\\n",
       "\t premi    & y  & 1511\\\\\n",
       "\t smstat   & c  & 2051\\\\\n",
       "\t smstat   & n  & 1460\\\\\n",
       "\t smstat   & nk &  918\\\\\n",
       "\t smstat   & x  & 1938\\\\\n",
       "\t diabetes & n  & 4664\\\\\n",
       "\t diabetes & nk &  885\\\\\n",
       "\t diabetes & y  &  818\\\\\n",
       "\t highbp   & n  & 2542\\\\\n",
       "\t highbp   & nk &  948\\\\\n",
       "\t highbp   & y  & 2877\\\\\n",
       "\t hichol   & n  & 3294\\\\\n",
       "\t hichol   & nk & 1233\\\\\n",
       "\t hichol   & y  & 1840\\\\\n",
       "\t angina   & n  & 3473\\\\\n",
       "\t angina   & nk &  975\\\\\n",
       "\t angina   & y  & 1919\\\\\n",
       "\t stroke   & n  & 4881\\\\\n",
       "\t stroke   & nk &  926\\\\\n",
       "\t stroke   & y  &  560\\\\\n",
       "\t hosp     & n  & 1925\\\\\n",
       "\t hosp     & y  & 4442\\\\\n",
       "\\end{tabular}\n"
      ],
      "text/markdown": [
       "\n",
       "A data.frame: 26 × 3\n",
       "\n",
       "| variable &lt;chr&gt; | level &lt;chr&gt; | frecuency &lt;dbl&gt; |\n",
       "|---|---|---|\n",
       "| sex      | f  | 1762 |\n",
       "| sex      | m  | 4605 |\n",
       "| premi    | n  | 4122 |\n",
       "| premi    | nk |  734 |\n",
       "| premi    | y  | 1511 |\n",
       "| smstat   | c  | 2051 |\n",
       "| smstat   | n  | 1460 |\n",
       "| smstat   | nk |  918 |\n",
       "| smstat   | x  | 1938 |\n",
       "| diabetes | n  | 4664 |\n",
       "| diabetes | nk |  885 |\n",
       "| diabetes | y  |  818 |\n",
       "| highbp   | n  | 2542 |\n",
       "| highbp   | nk |  948 |\n",
       "| highbp   | y  | 2877 |\n",
       "| hichol   | n  | 3294 |\n",
       "| hichol   | nk | 1233 |\n",
       "| hichol   | y  | 1840 |\n",
       "| angina   | n  | 3473 |\n",
       "| angina   | nk |  975 |\n",
       "| angina   | y  | 1919 |\n",
       "| stroke   | n  | 4881 |\n",
       "| stroke   | nk |  926 |\n",
       "| stroke   | y  |  560 |\n",
       "| hosp     | n  | 1925 |\n",
       "| hosp     | y  | 4442 |\n",
       "\n"
      ],
      "text/plain": [
       "   variable level frecuency\n",
       "1  sex      f     1762     \n",
       "2  sex      m     4605     \n",
       "3  premi    n     4122     \n",
       "4  premi    nk     734     \n",
       "5  premi    y     1511     \n",
       "6  smstat   c     2051     \n",
       "7  smstat   n     1460     \n",
       "8  smstat   nk     918     \n",
       "9  smstat   x     1938     \n",
       "10 diabetes n     4664     \n",
       "11 diabetes nk     885     \n",
       "12 diabetes y      818     \n",
       "13 highbp   n     2542     \n",
       "14 highbp   nk     948     \n",
       "15 highbp   y     2877     \n",
       "16 hichol   n     3294     \n",
       "17 hichol   nk    1233     \n",
       "18 hichol   y     1840     \n",
       "19 angina   n     3473     \n",
       "20 angina   nk     975     \n",
       "21 angina   y     1919     \n",
       "22 stroke   n     4881     \n",
       "23 stroke   nk     926     \n",
       "24 stroke   y      560     \n",
       "25 hosp     n     1925     \n",
       "26 hosp     y     4442     "
      ]
     },
     "metadata": {},
     "output_type": "display_data"
    }
   ],
   "source": [
    "# Create frecuency table for xxxxxxx variables\n",
    "require(plyr)\n",
    "frecu<-ldply(df1[,var_cat],function(x) t(rbind(names(table(x)),table(x))))\n",
    "names(frecu)<-c(\"variable\",\"level\",\"frecuency\")\n",
    "frecu$frecuency<-as.numeric(frecu$frecuency)\n",
    "frecu"
   ]
  },
  {
   "cell_type": "markdown",
   "id": "6daed350-6889-4639-b2ae-43d46fd79faa",
   "metadata": {},
   "source": [
    "As we just ckeck before in gross analisys, every category is represented with enough number of registers. Anyway we are not going to trasnform in factor this varaibles.\n"
   ]
  },
  {
   "cell_type": "markdown",
   "id": "7f960e47-ed17-4b60-baeb-37f7b4318fa3",
   "metadata": {
    "tags": []
   },
   "source": [
    "### Creating variables dummies from categorical variables"
   ]
  },
  {
   "cell_type": "code",
   "execution_count": 141,
   "id": "2677f6a1-7e06-4ee2-8255-424c47dbb8d1",
   "metadata": {
    "ExecuteTime": {
     "end_time": "2021-10-17T14:37:29.451462Z",
     "start_time": "2021-10-17T14:37:29.431Z"
    },
    "scrolled": true
   },
   "outputs": [],
   "source": [
    "\n",
    "#creamos un dataframe nuevo con las dummies\n",
    "#comprobamos que no hay variables categórícas en la lista de variables numéricas\n",
    "#df3<-dummy.data.frame(df1, var_cat, sep = \".\")\n",
    "#head(df3)\n",
    "require(fastDummies)\n"
   ]
  },
  {
   "cell_type": "code",
   "execution_count": 142,
   "id": "2e156a42",
   "metadata": {
    "ExecuteTime": {
     "end_time": "2021-10-17T14:37:35.159178Z",
     "start_time": "2021-10-17T14:37:31.417Z"
    }
   },
   "outputs": [],
   "source": [
    "df3<-dummy_cols(df1,\n",
    "  select_columns = var_cat,\n",
    "  remove_first_dummy = TRUE,\n",
    "  remove_most_frequent_dummy = FALSE,\n",
    "  ignore_na = TRUE,\n",
    "  remove_selected_columns = TRUE)"
   ]
  },
  {
   "cell_type": "code",
   "execution_count": 143,
   "id": "ae3bc0f2-5a27-41e8-b2cf-b8daa888a4da",
   "metadata": {
    "ExecuteTime": {
     "end_time": "2021-10-17T14:37:40.718980Z",
     "start_time": "2021-10-17T14:37:36.448Z"
    }
   },
   "outputs": [
    {
     "data": {
      "text/html": [
       "<table class=\"dataframe\">\n",
       "<caption>A data.frame: 6 × 19</caption>\n",
       "<thead>\n",
       "\t<tr><th></th><th scope=col>age</th><th scope=col>yronset</th><th scope=col>sex_m</th><th scope=col>premi_nk</th><th scope=col>premi_y</th><th scope=col>smstat_n</th><th scope=col>smstat_nk</th><th scope=col>smstat_x</th><th scope=col>diabetes_nk</th><th scope=col>diabetes_y</th><th scope=col>highbp_nk</th><th scope=col>highbp_y</th><th scope=col>hichol_nk</th><th scope=col>hichol_y</th><th scope=col>angina_nk</th><th scope=col>angina_y</th><th scope=col>stroke_nk</th><th scope=col>stroke_y</th><th scope=col>hosp_y</th></tr>\n",
       "\t<tr><th></th><th scope=col>&lt;dbl&gt;</th><th scope=col>&lt;dbl&gt;</th><th scope=col>&lt;int&gt;</th><th scope=col>&lt;int&gt;</th><th scope=col>&lt;int&gt;</th><th scope=col>&lt;int&gt;</th><th scope=col>&lt;int&gt;</th><th scope=col>&lt;int&gt;</th><th scope=col>&lt;int&gt;</th><th scope=col>&lt;int&gt;</th><th scope=col>&lt;int&gt;</th><th scope=col>&lt;int&gt;</th><th scope=col>&lt;int&gt;</th><th scope=col>&lt;int&gt;</th><th scope=col>&lt;int&gt;</th><th scope=col>&lt;int&gt;</th><th scope=col>&lt;int&gt;</th><th scope=col>&lt;int&gt;</th><th scope=col>&lt;int&gt;</th></tr>\n",
       "</thead>\n",
       "<tbody>\n",
       "\t<tr><th scope=row>1</th><td> 0.45582598</td><td>-1.465502</td><td>0</td><td>0</td><td>0</td><td>0</td><td>0</td><td>1</td><td>0</td><td>0</td><td>0</td><td>1</td><td>0</td><td>1</td><td>0</td><td>0</td><td>0</td><td>0</td><td>1</td></tr>\n",
       "\t<tr><th scope=row>2</th><td>-0.05347366</td><td>-1.465502</td><td>1</td><td>0</td><td>1</td><td>0</td><td>0</td><td>1</td><td>0</td><td>0</td><td>0</td><td>1</td><td>0</td><td>0</td><td>0</td><td>0</td><td>0</td><td>0</td><td>1</td></tr>\n",
       "\t<tr><th scope=row>3</th><td> 1.09245054</td><td>-1.465502</td><td>1</td><td>0</td><td>0</td><td>1</td><td>0</td><td>0</td><td>0</td><td>0</td><td>0</td><td>1</td><td>0</td><td>0</td><td>0</td><td>0</td><td>0</td><td>0</td><td>1</td></tr>\n",
       "\t<tr><th scope=row>4</th><td>-1.70869752</td><td>-1.465502</td><td>1</td><td>0</td><td>0</td><td>0</td><td>0</td><td>0</td><td>0</td><td>0</td><td>0</td><td>0</td><td>0</td><td>0</td><td>0</td><td>0</td><td>0</td><td>0</td><td>1</td></tr>\n",
       "\t<tr><th scope=row>5</th><td>-1.45404770</td><td>-1.465502</td><td>1</td><td>0</td><td>0</td><td>1</td><td>0</td><td>0</td><td>0</td><td>1</td><td>0</td><td>0</td><td>0</td><td>0</td><td>0</td><td>1</td><td>0</td><td>0</td><td>1</td></tr>\n",
       "\t<tr><th scope=row>6</th><td>-0.56277331</td><td>-1.465502</td><td>0</td><td>0</td><td>0</td><td>0</td><td>0</td><td>0</td><td>0</td><td>0</td><td>0</td><td>1</td><td>0</td><td>1</td><td>0</td><td>0</td><td>0</td><td>0</td><td>1</td></tr>\n",
       "</tbody>\n",
       "</table>\n"
      ],
      "text/latex": [
       "A data.frame: 6 × 19\n",
       "\\begin{tabular}{r|lllllllllllllllllll}\n",
       "  & age & yronset & sex\\_m & premi\\_nk & premi\\_y & smstat\\_n & smstat\\_nk & smstat\\_x & diabetes\\_nk & diabetes\\_y & highbp\\_nk & highbp\\_y & hichol\\_nk & hichol\\_y & angina\\_nk & angina\\_y & stroke\\_nk & stroke\\_y & hosp\\_y\\\\\n",
       "  & <dbl> & <dbl> & <int> & <int> & <int> & <int> & <int> & <int> & <int> & <int> & <int> & <int> & <int> & <int> & <int> & <int> & <int> & <int> & <int>\\\\\n",
       "\\hline\n",
       "\t1 &  0.45582598 & -1.465502 & 0 & 0 & 0 & 0 & 0 & 1 & 0 & 0 & 0 & 1 & 0 & 1 & 0 & 0 & 0 & 0 & 1\\\\\n",
       "\t2 & -0.05347366 & -1.465502 & 1 & 0 & 1 & 0 & 0 & 1 & 0 & 0 & 0 & 1 & 0 & 0 & 0 & 0 & 0 & 0 & 1\\\\\n",
       "\t3 &  1.09245054 & -1.465502 & 1 & 0 & 0 & 1 & 0 & 0 & 0 & 0 & 0 & 1 & 0 & 0 & 0 & 0 & 0 & 0 & 1\\\\\n",
       "\t4 & -1.70869752 & -1.465502 & 1 & 0 & 0 & 0 & 0 & 0 & 0 & 0 & 0 & 0 & 0 & 0 & 0 & 0 & 0 & 0 & 1\\\\\n",
       "\t5 & -1.45404770 & -1.465502 & 1 & 0 & 0 & 1 & 0 & 0 & 0 & 1 & 0 & 0 & 0 & 0 & 0 & 1 & 0 & 0 & 1\\\\\n",
       "\t6 & -0.56277331 & -1.465502 & 0 & 0 & 0 & 0 & 0 & 0 & 0 & 0 & 0 & 1 & 0 & 1 & 0 & 0 & 0 & 0 & 1\\\\\n",
       "\\end{tabular}\n"
      ],
      "text/markdown": [
       "\n",
       "A data.frame: 6 × 19\n",
       "\n",
       "| <!--/--> | age &lt;dbl&gt; | yronset &lt;dbl&gt; | sex_m &lt;int&gt; | premi_nk &lt;int&gt; | premi_y &lt;int&gt; | smstat_n &lt;int&gt; | smstat_nk &lt;int&gt; | smstat_x &lt;int&gt; | diabetes_nk &lt;int&gt; | diabetes_y &lt;int&gt; | highbp_nk &lt;int&gt; | highbp_y &lt;int&gt; | hichol_nk &lt;int&gt; | hichol_y &lt;int&gt; | angina_nk &lt;int&gt; | angina_y &lt;int&gt; | stroke_nk &lt;int&gt; | stroke_y &lt;int&gt; | hosp_y &lt;int&gt; |\n",
       "|---|---|---|---|---|---|---|---|---|---|---|---|---|---|---|---|---|---|---|---|\n",
       "| 1 |  0.45582598 | -1.465502 | 0 | 0 | 0 | 0 | 0 | 1 | 0 | 0 | 0 | 1 | 0 | 1 | 0 | 0 | 0 | 0 | 1 |\n",
       "| 2 | -0.05347366 | -1.465502 | 1 | 0 | 1 | 0 | 0 | 1 | 0 | 0 | 0 | 1 | 0 | 0 | 0 | 0 | 0 | 0 | 1 |\n",
       "| 3 |  1.09245054 | -1.465502 | 1 | 0 | 0 | 1 | 0 | 0 | 0 | 0 | 0 | 1 | 0 | 0 | 0 | 0 | 0 | 0 | 1 |\n",
       "| 4 | -1.70869752 | -1.465502 | 1 | 0 | 0 | 0 | 0 | 0 | 0 | 0 | 0 | 0 | 0 | 0 | 0 | 0 | 0 | 0 | 1 |\n",
       "| 5 | -1.45404770 | -1.465502 | 1 | 0 | 0 | 1 | 0 | 0 | 0 | 1 | 0 | 0 | 0 | 0 | 0 | 1 | 0 | 0 | 1 |\n",
       "| 6 | -0.56277331 | -1.465502 | 0 | 0 | 0 | 0 | 0 | 0 | 0 | 0 | 0 | 1 | 0 | 1 | 0 | 0 | 0 | 0 | 1 |\n",
       "\n"
      ],
      "text/plain": [
       "  age         yronset   sex_m premi_nk premi_y smstat_n smstat_nk smstat_x\n",
       "1  0.45582598 -1.465502 0     0        0       0        0         1       \n",
       "2 -0.05347366 -1.465502 1     0        1       0        0         1       \n",
       "3  1.09245054 -1.465502 1     0        0       1        0         0       \n",
       "4 -1.70869752 -1.465502 1     0        0       0        0         0       \n",
       "5 -1.45404770 -1.465502 1     0        0       1        0         0       \n",
       "6 -0.56277331 -1.465502 0     0        0       0        0         0       \n",
       "  diabetes_nk diabetes_y highbp_nk highbp_y hichol_nk hichol_y angina_nk\n",
       "1 0           0          0         1        0         1        0        \n",
       "2 0           0          0         1        0         0        0        \n",
       "3 0           0          0         1        0         0        0        \n",
       "4 0           0          0         0        0         0        0        \n",
       "5 0           1          0         0        0         0        0        \n",
       "6 0           0          0         1        0         1        0        \n",
       "  angina_y stroke_nk stroke_y hosp_y\n",
       "1 0        0         0        1     \n",
       "2 0        0         0        1     \n",
       "3 0        0         0        1     \n",
       "4 0        0         0        1     \n",
       "5 1        0         0        1     \n",
       "6 0        0         0        1     "
      ]
     },
     "metadata": {},
     "output_type": "display_data"
    }
   ],
   "source": [
    "head(df3)"
   ]
  },
  {
   "cell_type": "code",
   "execution_count": 144,
   "id": "5d2b0e34-4308-4fb4-95d6-9bb563938856",
   "metadata": {
    "ExecuteTime": {
     "end_time": "2021-10-17T14:37:47.102463Z",
     "start_time": "2021-10-17T14:37:47.070Z"
    }
   },
   "outputs": [
    {
     "data": {
      "text/html": [
       "<table class=\"dataframe\">\n",
       "<caption>A data.frame: 0 × 3</caption>\n",
       "<thead>\n",
       "\t<tr><th scope=col>variable</th><th scope=col>level</th><th scope=col>frecuency</th></tr>\n",
       "\t<tr><th scope=col>&lt;chr&gt;</th><th scope=col>&lt;chr&gt;</th><th scope=col>&lt;dbl&gt;</th></tr>\n",
       "</thead>\n",
       "<tbody>\n",
       "</tbody>\n",
       "</table>\n"
      ],
      "text/latex": [
       "A data.frame: 0 × 3\n",
       "\\begin{tabular}{lll}\n",
       " variable & level & frecuency\\\\\n",
       " <chr> & <chr> & <dbl>\\\\\n",
       "\\hline\n",
       "\\end{tabular}\n"
      ],
      "text/markdown": [
       "\n",
       "A data.frame: 0 × 3\n",
       "\n",
       "| variable &lt;chr&gt; | level &lt;chr&gt; | frecuency &lt;dbl&gt; |\n",
       "|---|---|---|\n",
       "\n"
      ],
      "text/plain": [
       "     variable level frecuency"
      ]
     },
     "metadata": {},
     "output_type": "display_data"
    }
   ],
   "source": [
    "frecu20<-frecu[frecu$frecuency<244,]#5% of hight number of registers of categorical variable\n",
    "frecu20"
   ]
  },
  {
   "cell_type": "markdown",
   "id": "7f78b10f-362b-4a75-9cd5-72d93368b19a",
   "metadata": {},
   "source": [
    "No hay ninguna categoría mal representada"
   ]
  },
  {
   "cell_type": "markdown",
   "id": "b66d7bdb-859e-4090-b754-61e0818bf4e7",
   "metadata": {
    "tags": []
   },
   "source": [
    "### Data as a result of EDA analysis"
   ]
  },
  {
   "cell_type": "code",
   "execution_count": 145,
   "id": "65aeec4e-dc9e-4933-993f-a58c0ab1d03a",
   "metadata": {
    "ExecuteTime": {
     "end_time": "2021-10-17T14:37:59.602020Z",
     "start_time": "2021-10-17T14:37:59.581Z"
    }
   },
   "outputs": [
    {
     "data": {
      "text/html": [
       "<style>\n",
       ".list-inline {list-style: none; margin:0; padding: 0}\n",
       ".list-inline>li {display: inline-block}\n",
       ".list-inline>li:not(:last-child)::after {content: \"\\00b7\"; padding: 0 .5ex}\n",
       "</style>\n",
       "<ol class=list-inline><li>6367</li><li>19</li></ol>\n"
      ],
      "text/latex": [
       "\\begin{enumerate*}\n",
       "\\item 6367\n",
       "\\item 19\n",
       "\\end{enumerate*}\n"
      ],
      "text/markdown": [
       "1. 6367\n",
       "2. 19\n",
       "\n",
       "\n"
      ],
      "text/plain": [
       "[1] 6367   19"
      ]
     },
     "metadata": {},
     "output_type": "display_data"
    }
   ],
   "source": [
    "dim(df3)"
   ]
  },
  {
   "cell_type": "code",
   "execution_count": 146,
   "id": "f2ed45ad-5574-4688-81df-d2dbb732bffd",
   "metadata": {
    "ExecuteTime": {
     "end_time": "2021-10-17T14:38:20.250478Z",
     "start_time": "2021-10-17T14:38:20.226Z"
    }
   },
   "outputs": [],
   "source": [
    "data<-cbind(df3,outcome)"
   ]
  },
  {
   "cell_type": "code",
   "execution_count": 147,
   "id": "91e1c3fd-84d3-4017-938b-a216260c1f6e",
   "metadata": {
    "ExecuteTime": {
     "end_time": "2021-10-17T14:38:30.967318Z",
     "start_time": "2021-10-17T14:38:30.924Z"
    }
   },
   "outputs": [
    {
     "data": {
      "text/html": [
       "<table class=\"dataframe\">\n",
       "<caption>A data.frame: 6 × 20</caption>\n",
       "<thead>\n",
       "\t<tr><th></th><th scope=col>age</th><th scope=col>yronset</th><th scope=col>sex_m</th><th scope=col>premi_nk</th><th scope=col>premi_y</th><th scope=col>smstat_n</th><th scope=col>smstat_nk</th><th scope=col>smstat_x</th><th scope=col>diabetes_nk</th><th scope=col>diabetes_y</th><th scope=col>highbp_nk</th><th scope=col>highbp_y</th><th scope=col>hichol_nk</th><th scope=col>hichol_y</th><th scope=col>angina_nk</th><th scope=col>angina_y</th><th scope=col>stroke_nk</th><th scope=col>stroke_y</th><th scope=col>hosp_y</th><th scope=col>outcome</th></tr>\n",
       "\t<tr><th></th><th scope=col>&lt;dbl&gt;</th><th scope=col>&lt;dbl&gt;</th><th scope=col>&lt;int&gt;</th><th scope=col>&lt;int&gt;</th><th scope=col>&lt;int&gt;</th><th scope=col>&lt;int&gt;</th><th scope=col>&lt;int&gt;</th><th scope=col>&lt;int&gt;</th><th scope=col>&lt;int&gt;</th><th scope=col>&lt;int&gt;</th><th scope=col>&lt;int&gt;</th><th scope=col>&lt;int&gt;</th><th scope=col>&lt;int&gt;</th><th scope=col>&lt;int&gt;</th><th scope=col>&lt;int&gt;</th><th scope=col>&lt;int&gt;</th><th scope=col>&lt;int&gt;</th><th scope=col>&lt;int&gt;</th><th scope=col>&lt;int&gt;</th><th scope=col>&lt;chr&gt;</th></tr>\n",
       "</thead>\n",
       "<tbody>\n",
       "\t<tr><th scope=row>1</th><td> 0.45582598</td><td>-1.465502</td><td>0</td><td>0</td><td>0</td><td>0</td><td>0</td><td>1</td><td>0</td><td>0</td><td>0</td><td>1</td><td>0</td><td>1</td><td>0</td><td>0</td><td>0</td><td>0</td><td>1</td><td>No </td></tr>\n",
       "\t<tr><th scope=row>2</th><td>-0.05347366</td><td>-1.465502</td><td>1</td><td>0</td><td>1</td><td>0</td><td>0</td><td>1</td><td>0</td><td>0</td><td>0</td><td>1</td><td>0</td><td>0</td><td>0</td><td>0</td><td>0</td><td>0</td><td>1</td><td>No </td></tr>\n",
       "\t<tr><th scope=row>3</th><td> 1.09245054</td><td>-1.465502</td><td>1</td><td>0</td><td>0</td><td>1</td><td>0</td><td>0</td><td>0</td><td>0</td><td>0</td><td>1</td><td>0</td><td>0</td><td>0</td><td>0</td><td>0</td><td>0</td><td>1</td><td>No </td></tr>\n",
       "\t<tr><th scope=row>4</th><td>-1.70869752</td><td>-1.465502</td><td>1</td><td>0</td><td>0</td><td>0</td><td>0</td><td>0</td><td>0</td><td>0</td><td>0</td><td>0</td><td>0</td><td>0</td><td>0</td><td>0</td><td>0</td><td>0</td><td>1</td><td>No </td></tr>\n",
       "\t<tr><th scope=row>5</th><td>-1.45404770</td><td>-1.465502</td><td>1</td><td>0</td><td>0</td><td>1</td><td>0</td><td>0</td><td>0</td><td>1</td><td>0</td><td>0</td><td>0</td><td>0</td><td>0</td><td>1</td><td>0</td><td>0</td><td>1</td><td>Yes</td></tr>\n",
       "\t<tr><th scope=row>6</th><td>-0.56277331</td><td>-1.465502</td><td>0</td><td>0</td><td>0</td><td>0</td><td>0</td><td>0</td><td>0</td><td>0</td><td>0</td><td>1</td><td>0</td><td>1</td><td>0</td><td>0</td><td>0</td><td>0</td><td>1</td><td>No </td></tr>\n",
       "</tbody>\n",
       "</table>\n"
      ],
      "text/latex": [
       "A data.frame: 6 × 20\n",
       "\\begin{tabular}{r|llllllllllllllllllll}\n",
       "  & age & yronset & sex\\_m & premi\\_nk & premi\\_y & smstat\\_n & smstat\\_nk & smstat\\_x & diabetes\\_nk & diabetes\\_y & highbp\\_nk & highbp\\_y & hichol\\_nk & hichol\\_y & angina\\_nk & angina\\_y & stroke\\_nk & stroke\\_y & hosp\\_y & outcome\\\\\n",
       "  & <dbl> & <dbl> & <int> & <int> & <int> & <int> & <int> & <int> & <int> & <int> & <int> & <int> & <int> & <int> & <int> & <int> & <int> & <int> & <int> & <chr>\\\\\n",
       "\\hline\n",
       "\t1 &  0.45582598 & -1.465502 & 0 & 0 & 0 & 0 & 0 & 1 & 0 & 0 & 0 & 1 & 0 & 1 & 0 & 0 & 0 & 0 & 1 & No \\\\\n",
       "\t2 & -0.05347366 & -1.465502 & 1 & 0 & 1 & 0 & 0 & 1 & 0 & 0 & 0 & 1 & 0 & 0 & 0 & 0 & 0 & 0 & 1 & No \\\\\n",
       "\t3 &  1.09245054 & -1.465502 & 1 & 0 & 0 & 1 & 0 & 0 & 0 & 0 & 0 & 1 & 0 & 0 & 0 & 0 & 0 & 0 & 1 & No \\\\\n",
       "\t4 & -1.70869752 & -1.465502 & 1 & 0 & 0 & 0 & 0 & 0 & 0 & 0 & 0 & 0 & 0 & 0 & 0 & 0 & 0 & 0 & 1 & No \\\\\n",
       "\t5 & -1.45404770 & -1.465502 & 1 & 0 & 0 & 1 & 0 & 0 & 0 & 1 & 0 & 0 & 0 & 0 & 0 & 1 & 0 & 0 & 1 & Yes\\\\\n",
       "\t6 & -0.56277331 & -1.465502 & 0 & 0 & 0 & 0 & 0 & 0 & 0 & 0 & 0 & 1 & 0 & 1 & 0 & 0 & 0 & 0 & 1 & No \\\\\n",
       "\\end{tabular}\n"
      ],
      "text/markdown": [
       "\n",
       "A data.frame: 6 × 20\n",
       "\n",
       "| <!--/--> | age &lt;dbl&gt; | yronset &lt;dbl&gt; | sex_m &lt;int&gt; | premi_nk &lt;int&gt; | premi_y &lt;int&gt; | smstat_n &lt;int&gt; | smstat_nk &lt;int&gt; | smstat_x &lt;int&gt; | diabetes_nk &lt;int&gt; | diabetes_y &lt;int&gt; | highbp_nk &lt;int&gt; | highbp_y &lt;int&gt; | hichol_nk &lt;int&gt; | hichol_y &lt;int&gt; | angina_nk &lt;int&gt; | angina_y &lt;int&gt; | stroke_nk &lt;int&gt; | stroke_y &lt;int&gt; | hosp_y &lt;int&gt; | outcome &lt;chr&gt; |\n",
       "|---|---|---|---|---|---|---|---|---|---|---|---|---|---|---|---|---|---|---|---|---|\n",
       "| 1 |  0.45582598 | -1.465502 | 0 | 0 | 0 | 0 | 0 | 1 | 0 | 0 | 0 | 1 | 0 | 1 | 0 | 0 | 0 | 0 | 1 | No  |\n",
       "| 2 | -0.05347366 | -1.465502 | 1 | 0 | 1 | 0 | 0 | 1 | 0 | 0 | 0 | 1 | 0 | 0 | 0 | 0 | 0 | 0 | 1 | No  |\n",
       "| 3 |  1.09245054 | -1.465502 | 1 | 0 | 0 | 1 | 0 | 0 | 0 | 0 | 0 | 1 | 0 | 0 | 0 | 0 | 0 | 0 | 1 | No  |\n",
       "| 4 | -1.70869752 | -1.465502 | 1 | 0 | 0 | 0 | 0 | 0 | 0 | 0 | 0 | 0 | 0 | 0 | 0 | 0 | 0 | 0 | 1 | No  |\n",
       "| 5 | -1.45404770 | -1.465502 | 1 | 0 | 0 | 1 | 0 | 0 | 0 | 1 | 0 | 0 | 0 | 0 | 0 | 1 | 0 | 0 | 1 | Yes |\n",
       "| 6 | -0.56277331 | -1.465502 | 0 | 0 | 0 | 0 | 0 | 0 | 0 | 0 | 0 | 1 | 0 | 1 | 0 | 0 | 0 | 0 | 1 | No  |\n",
       "\n"
      ],
      "text/plain": [
       "  age         yronset   sex_m premi_nk premi_y smstat_n smstat_nk smstat_x\n",
       "1  0.45582598 -1.465502 0     0        0       0        0         1       \n",
       "2 -0.05347366 -1.465502 1     0        1       0        0         1       \n",
       "3  1.09245054 -1.465502 1     0        0       1        0         0       \n",
       "4 -1.70869752 -1.465502 1     0        0       0        0         0       \n",
       "5 -1.45404770 -1.465502 1     0        0       1        0         0       \n",
       "6 -0.56277331 -1.465502 0     0        0       0        0         0       \n",
       "  diabetes_nk diabetes_y highbp_nk highbp_y hichol_nk hichol_y angina_nk\n",
       "1 0           0          0         1        0         1        0        \n",
       "2 0           0          0         1        0         0        0        \n",
       "3 0           0          0         1        0         0        0        \n",
       "4 0           0          0         0        0         0        0        \n",
       "5 0           1          0         0        0         0        0        \n",
       "6 0           0          0         1        0         1        0        \n",
       "  angina_y stroke_nk stroke_y hosp_y outcome\n",
       "1 0        0         0        1      No     \n",
       "2 0        0         0        1      No     \n",
       "3 0        0         0        1      No     \n",
       "4 0        0         0        1      No     \n",
       "5 1        0         0        1      Yes    \n",
       "6 0        0         0        1      No     "
      ]
     },
     "metadata": {},
     "output_type": "display_data"
    }
   ],
   "source": [
    "head(data)\n",
    "# El archivo data ya está preparado:no hay missing, las continuas salvo la dependiente \n",
    "# están estandarizadas y las categoricas pasadas a dummy"
   ]
  },
  {
   "cell_type": "markdown",
   "id": "b0468e17-072c-4ad5-a2c8-d3ffc4e0ec21",
   "metadata": {},
   "source": [
    "We have:\n",
    "- 2 continous variavels and standarized\n",
    "- 17 categorical variables \n",
    "- 1 dependet variavel dummie"
   ]
  },
  {
   "cell_type": "code",
   "execution_count": 148,
   "id": "04a320f7-9b7b-4d22-8e98-ad6582a391cb",
   "metadata": {
    "ExecuteTime": {
     "end_time": "2021-10-17T14:38:40.250072Z",
     "start_time": "2021-10-17T14:38:40.228Z"
    }
   },
   "outputs": [
    {
     "name": "stdout",
     "output_type": "stream",
     "text": [
      "c(\"age\", \"yronset\", \"sex_m\", \"premi_nk\", \"premi_y\", \"smstat_n\", \n",
      "\"smstat_nk\", \"smstat_x\", \"diabetes_nk\", \"diabetes_y\", \"highbp_nk\", \n",
      "\"highbp_y\", \"hichol_nk\", \"hichol_y\", \"angina_nk\", \"angina_y\", \n",
      "\"stroke_nk\", \"stroke_y\", \"hosp_y\", \"outcome\")\n"
     ]
    }
   ],
   "source": [
    "dput(names(data))"
   ]
  },
  {
   "cell_type": "code",
   "execution_count": 149,
   "id": "ec605312",
   "metadata": {
    "ExecuteTime": {
     "end_time": "2021-10-17T14:38:46.157675Z",
     "start_time": "2021-10-17T14:38:43.764Z"
    }
   },
   "outputs": [],
   "source": [
    "save(data,file=\"data.Rda\")"
   ]
  },
  {
   "cell_type": "markdown",
   "id": "e7520d43-2979-48b1-aaf9-80308aa35a5c",
   "metadata": {
    "tags": []
   },
   "source": [
    "## Feature Selection"
   ]
  },
  {
   "cell_type": "code",
   "execution_count": 150,
   "id": "d0abc141",
   "metadata": {
    "ExecuteTime": {
     "end_time": "2021-10-17T14:39:02.531902Z",
     "start_time": "2021-10-17T14:39:02.503Z"
    }
   },
   "outputs": [],
   "source": [
    "load(\"data.Rda\")"
   ]
  },
  {
   "cell_type": "markdown",
   "id": "4c41f2b9-988e-4eba-9ed8-57cc58bcb76f",
   "metadata": {
    "tags": []
   },
   "source": [
    "### Wrappers: Step AIC"
   ]
  },
  {
   "cell_type": "code",
   "execution_count": 151,
   "id": "4fab5529-c802-4a3e-b1a4-469cf84790d7",
   "metadata": {
    "ExecuteTime": {
     "end_time": "2021-10-17T14:39:31.093874Z",
     "start_time": "2021-10-17T14:39:20.495Z"
    }
   },
   "outputs": [],
   "source": [
    "\n",
    "full<-glm(factor(outcome)~.,data=data,family = binomial(link=\"logit\"))\n",
    "null<-glm(factor(outcome)~1,data=data,family = binomial(link=\"logit\"))\n",
    "\n",
    "selec1<-step(null,\n",
    "                scope=list(upper=full),\n",
    "                direction=\"both\",\n",
    "                trace=FALSE)"
   ]
  },
  {
   "cell_type": "code",
   "execution_count": 152,
   "id": "75dca801-f145-48d0-8a27-59114648c786",
   "metadata": {
    "ExecuteTime": {
     "end_time": "2021-10-17T14:39:36.658657Z",
     "start_time": "2021-10-17T14:39:21.797Z"
    },
    "scrolled": false
   },
   "outputs": [
    {
     "data": {
      "text/plain": [
       "\n",
       "Call:\n",
       "glm(formula = factor(outcome) ~ hosp_y + highbp_nk + age + angina_nk + \n",
       "    angina_y + smstat_nk + yronset + stroke_y + stroke_nk + premi_nk + \n",
       "    premi_y + diabetes_y + hichol_y + sex_m, family = binomial(link = \"logit\"), \n",
       "    data = data)\n",
       "\n",
       "Deviance Residuals: \n",
       "    Min       1Q   Median       3Q      Max  \n",
       "-3.7151  -0.5718  -0.3380   0.0600   2.6925  \n",
       "\n",
       "Coefficients:\n",
       "            Estimate Std. Error z value Pr(>|z|)    \n",
       "(Intercept)  5.95963    0.58421  10.201  < 2e-16 ***\n",
       "hosp_y      -7.86728    0.58144 -13.531  < 2e-16 ***\n",
       "highbp_nk    1.06028    0.25155   4.215 2.50e-05 ***\n",
       "age          0.42133    0.05024   8.386  < 2e-16 ***\n",
       "angina_nk    1.14001    0.23325   4.887 1.02e-06 ***\n",
       "angina_y     0.38607    0.09714   3.974 7.06e-05 ***\n",
       "smstat_nk    0.91942    0.19606   4.689 2.74e-06 ***\n",
       "yronset     -0.21260    0.04266  -4.984 6.23e-07 ***\n",
       "stroke_y     0.60620    0.12026   5.041 4.64e-07 ***\n",
       "stroke_nk    0.91343    0.27901   3.274  0.00106 ** \n",
       "premi_nk     0.90913    0.26972   3.371  0.00075 ***\n",
       "premi_y      0.29000    0.09831   2.950  0.00318 ** \n",
       "diabetes_y   0.27112    0.10921   2.482  0.01305 *  \n",
       "hichol_y    -0.19245    0.09285  -2.073  0.03819 *  \n",
       "sex_m       -0.15614    0.08979  -1.739  0.08205 .  \n",
       "---\n",
       "Signif. codes:  0 '***' 0.001 '**' 0.01 '*' 0.05 '.' 0.1 ' ' 1\n",
       "\n",
       "(Dispersion parameter for binomial family taken to be 1)\n",
       "\n",
       "    Null deviance: 8753.1  on 6366  degrees of freedom\n",
       "Residual deviance: 3758.7  on 6352  degrees of freedom\n",
       "AIC: 3788.7\n",
       "\n",
       "Number of Fisher Scoring iterations: 9\n"
      ]
     },
     "metadata": {},
     "output_type": "display_data"
    }
   ],
   "source": [
    "summary(selec1)"
   ]
  },
  {
   "cell_type": "code",
   "execution_count": 153,
   "id": "48867a45-3bd7-49ab-a4eb-1332981ad636",
   "metadata": {
    "ExecuteTime": {
     "end_time": "2021-10-17T14:39:42.204463Z",
     "start_time": "2021-10-17T14:39:37.664Z"
    }
   },
   "outputs": [
    {
     "name": "stdout",
     "output_type": "stream",
     "text": [
      "c(\"(Intercept)\", \"hosp_y\", \"highbp_nk\", \"age\", \"angina_nk\", \"angina_y\", \n",
      "\"smstat_nk\", \"yronset\", \"stroke_y\", \"stroke_nk\", \"premi_nk\", \n",
      "\"premi_y\", \"diabetes_y\", \"hichol_y\", \"sex_m\")\n"
     ]
    }
   ],
   "source": [
    "#Variavels that are part of model\n",
    "dput(names(selec1$coefficients))"
   ]
  },
  {
   "cell_type": "code",
   "execution_count": 154,
   "id": "15c389ff-4c28-423f-a634-02b77c807ee1",
   "metadata": {
    "ExecuteTime": {
     "end_time": "2021-10-17T14:39:47.905184Z",
     "start_time": "2021-10-17T14:39:38.549Z"
    }
   },
   "outputs": [
    {
     "data": {
      "text/plain": [
       "factor(outcome) ~ hosp_y + highbp_nk + age + angina_nk + angina_y + \n",
       "    smstat_nk + yronset + stroke_y + stroke_nk + premi_nk + premi_y + \n",
       "    diabetes_y + hichol_y + sex_m"
      ]
     },
     "metadata": {},
     "output_type": "display_data"
    }
   ],
   "source": [
    "# Esto si se quiere en versión formula\n",
    "formula(selec1)\n"
   ]
  },
  {
   "cell_type": "code",
   "execution_count": 155,
   "id": "e2204bea",
   "metadata": {
    "ExecuteTime": {
     "end_time": "2021-10-17T14:39:53.448992Z",
     "start_time": "2021-10-17T14:39:43.223Z"
    }
   },
   "outputs": [],
   "source": [
    "model_AIC<-c(\"hosp_y\", \"highbp_nk\", \"age\", \"angina_nk\", \"angina_y\", \n",
    "\"smstat_nk\", \"yronset\", \"stroke_y\", \"stroke_nk\", \"premi_nk\", \n",
    "\"premi_y\", \"diabetes_y\", \"hichol_y\", \"sex_m\")"
   ]
  },
  {
   "cell_type": "markdown",
   "id": "f81c3ed1",
   "metadata": {},
   "source": [
    "### Wrappers: Step BIC"
   ]
  },
  {
   "cell_type": "code",
   "execution_count": 156,
   "id": "545b5088-dc20-4e3a-bce5-92b7bca6b8dd",
   "metadata": {
    "ExecuteTime": {
     "end_time": "2021-10-17T14:40:05.048233Z",
     "start_time": "2021-10-17T14:39:48.705Z"
    }
   },
   "outputs": [],
   "source": [
    "full<-glm(factor(outcome)~.,data=data,family = binomial(link=\"logit\"))\n",
    "null<-glm(factor(outcome)~1,data=data,family = binomial(link=\"logit\"))\n",
    "\n",
    "selec2<-step(null,\n",
    "                scope=list(upper=full),\n",
    "                direction=\"both\",\n",
    "                trace=FALSE,\n",
    "                k=log(nrow(data)))\n"
   ]
  },
  {
   "cell_type": "code",
   "execution_count": 157,
   "id": "da8bc485-d29e-4920-acb2-3f2bbbae2658",
   "metadata": {
    "ExecuteTime": {
     "end_time": "2021-10-17T14:40:10.726950Z",
     "start_time": "2021-10-17T14:39:49.614Z"
    },
    "scrolled": false
   },
   "outputs": [
    {
     "data": {
      "text/plain": [
       "\n",
       "Call:\n",
       "glm(formula = factor(outcome) ~ hosp_y + highbp_nk + age + angina_nk + \n",
       "    angina_y + smstat_nk + yronset + stroke_y + stroke_nk, family = binomial(link = \"logit\"), \n",
       "    data = data)\n",
       "\n",
       "Deviance Residuals: \n",
       "    Min       1Q   Median       3Q      Max  \n",
       "-3.6920  -0.5789  -0.3445   0.0605   2.6563  \n",
       "\n",
       "Coefficients:\n",
       "            Estimate Std. Error z value Pr(>|z|)    \n",
       "(Intercept)  5.86781    0.57916  10.132  < 2e-16 ***\n",
       "hosp_y      -7.86585    0.58132 -13.531  < 2e-16 ***\n",
       "highbp_nk    1.10888    0.25015   4.433 9.30e-06 ***\n",
       "age          0.44437    0.04951   8.976  < 2e-16 ***\n",
       "angina_nk    1.30681    0.22958   5.692 1.25e-08 ***\n",
       "angina_y     0.50003    0.08687   5.756 8.61e-09 ***\n",
       "smstat_nk    1.05189    0.19161   5.490 4.03e-08 ***\n",
       "yronset     -0.22685    0.04198  -5.404 6.52e-08 ***\n",
       "stroke_y     0.65658    0.11882   5.526 3.28e-08 ***\n",
       "stroke_nk    0.99123    0.27662   3.583 0.000339 ***\n",
       "---\n",
       "Signif. codes:  0 '***' 0.001 '**' 0.01 '*' 0.05 '.' 0.1 ' ' 1\n",
       "\n",
       "(Dispersion parameter for binomial family taken to be 1)\n",
       "\n",
       "    Null deviance: 8753.1  on 6366  degrees of freedom\n",
       "Residual deviance: 3789.1  on 6357  degrees of freedom\n",
       "AIC: 3809.1\n",
       "\n",
       "Number of Fisher Scoring iterations: 9\n"
      ]
     },
     "metadata": {},
     "output_type": "display_data"
    }
   ],
   "source": [
    "summary(selec2)"
   ]
  },
  {
   "cell_type": "code",
   "execution_count": 158,
   "id": "6044703f-2e56-4f6e-8c5a-22ce242f73fe",
   "metadata": {
    "ExecuteTime": {
     "end_time": "2021-10-17T14:40:16.321712Z",
     "start_time": "2021-10-17T14:39:56.784Z"
    }
   },
   "outputs": [
    {
     "name": "stdout",
     "output_type": "stream",
     "text": [
      "c(\"(Intercept)\", \"hosp_y\", \"highbp_nk\", \"age\", \"angina_nk\", \"angina_y\", \n",
      "\"smstat_nk\", \"yronset\", \"stroke_y\", \"stroke_nk\")\n"
     ]
    }
   ],
   "source": [
    "dput(names(selec2$coefficients))"
   ]
  },
  {
   "cell_type": "code",
   "execution_count": 159,
   "id": "bba78138",
   "metadata": {
    "ExecuteTime": {
     "end_time": "2021-10-17T14:40:22.008459Z",
     "start_time": "2021-10-17T14:39:57.586Z"
    }
   },
   "outputs": [],
   "source": [
    "model_BIC<-c(\"hosp_y\", \"highbp_nk\", \"age\", \"angina_nk\", \"angina_y\", \n",
    "\"smstat_nk\", \"yronset\", \"stroke_y\", \"stroke_nk\")"
   ]
  },
  {
   "cell_type": "markdown",
   "id": "e623929f-e78d-4ea0-a758-15aa8da745a8",
   "metadata": {
    "tags": []
   },
   "source": [
    "### STEP WISE repetido"
   ]
  },
  {
   "cell_type": "code",
   "execution_count": 160,
   "id": "e273fbfa-1ebd-494b-b931-4d1799918086",
   "metadata": {
    "ExecuteTime": {
     "end_time": "2021-10-17T14:40:27.544274Z",
     "start_time": "2021-10-17T14:40:08.388Z"
    }
   },
   "outputs": [],
   "source": [
    "source(\"funcion steprepetido binaria.R\")"
   ]
  },
  {
   "cell_type": "code",
   "execution_count": 161,
   "id": "df77f60c-1868-4f42-bcc8-e55e542b3da6",
   "metadata": {
    "ExecuteTime": {
     "end_time": "2021-10-17T14:40:33.083066Z",
     "start_time": "2021-10-17T14:40:09.133Z"
    }
   },
   "outputs": [
    {
     "name": "stdout",
     "output_type": "stream",
     "text": [
      "c(\"age\", \"yronset\", \"sex_m\", \"premi_nk\", \"premi_y\", \"smstat_n\", \n",
      "\"smstat_nk\", \"smstat_x\", \"diabetes_nk\", \"diabetes_y\", \"highbp_nk\", \n",
      "\"highbp_y\", \"hichol_nk\", \"hichol_y\", \"angina_nk\", \"angina_y\", \n",
      "\"stroke_nk\", \"stroke_y\", \"hosp_y\", \"outcome\")\n"
     ]
    }
   ],
   "source": [
    "#data<-cbind(df3,outcome)\n",
    "listconti<-dput(names(data))"
   ]
  },
  {
   "cell_type": "code",
   "execution_count": 162,
   "id": "ec335ab8-c94b-40e5-bac3-1d9cecd08f8f",
   "metadata": {
    "ExecuteTime": {
     "end_time": "2021-10-17T14:40:38.701853Z",
     "start_time": "2021-10-17T14:40:13.918Z"
    },
    "run_control": {
     "marked": false
    }
   },
   "outputs": [],
   "source": [
    "vardep<-c(\"outcome\")"
   ]
  },
  {
   "cell_type": "code",
   "execution_count": 163,
   "id": "6a703a7d-1a7a-4194-bc9a-22eb7c6defc7",
   "metadata": {
    "ExecuteTime": {
     "end_time": "2021-10-17T14:40:44.308609Z",
     "start_time": "2021-10-17T14:40:14.718Z"
    }
   },
   "outputs": [],
   "source": [
    "#data<-as.data.frame(data)\n",
    "#class(data)"
   ]
  },
  {
   "cell_type": "code",
   "execution_count": 164,
   "id": "c298ebd2-209e-4ac5-8ca9-b8dd99faebd1",
   "metadata": {
    "ExecuteTime": {
     "end_time": "2021-10-17T14:40:49.920382Z",
     "start_time": "2021-10-17T14:40:15.403Z"
    }
   },
   "outputs": [],
   "source": [
    "listconti<-c(\"age\", \"yronset\",\"sex_m\", \"premi_nk\", \"premi_y\", \"smstat_n\", \n",
    "\"smstat_nk\", \"smstat_x\", \"diabetes_nk\", \"diabetes_y\", \"highbp_nk\", \n",
    "\"highbp_y\", \"hichol_nk\", \"hichol_y\", \"angina_nk\", \"angina_y\", \n",
    "\"stroke_nk\", \"stroke_y\", \"hosp_y\")\n",
    "\n",
    "\n",
    "\n"
   ]
  },
  {
   "cell_type": "code",
   "execution_count": 165,
   "id": "d0dbb018",
   "metadata": {
    "ExecuteTime": {
     "end_time": "2021-10-17T14:44:41.160327Z",
     "start_time": "2021-10-17T14:40:17.296Z"
    }
   },
   "outputs": [],
   "source": [
    "lista<-steprepetidobinaria(data=data,\n",
    "                    vardep=vardep,\n",
    "                    listconti=c(\"age\", \"yronset\",\"sex_m\", \"premi_nk\", \"premi_y\", \"smstat_n\", \n",
    "                    \"smstat_nk\", \"smstat_x\", \"diabetes_nk\", \"diabetes_y\", \"highbp_nk\", \n",
    "                    \"highbp_y\", \"hichol_nk\", \"hichol_y\", \"angina_nk\", \"angina_y\", \n",
    "                    \"stroke_nk\", \"stroke_y\", \"hosp_y\"),\n",
    "                    sinicio=12345,\n",
    "                    sfinal=12385,\n",
    "                    porcen=0.8,\n",
    "                    criterio=\"BIC\")\n",
    "options(warn=-1)"
   ]
  },
  {
   "cell_type": "code",
   "execution_count": 166,
   "id": "c821a194-5b39-4608-838b-f4fc7139b0fc",
   "metadata": {
    "ExecuteTime": {
     "end_time": "2021-10-17T14:44:47.053937Z",
     "start_time": "2021-10-17T14:40:33.184Z"
    }
   },
   "outputs": [
    {
     "data": {
      "text/html": [
       "<table class=\"dataframe\">\n",
       "<caption>A data.frame: 13 × 3</caption>\n",
       "<thead>\n",
       "\t<tr><th></th><th scope=col>modelo</th><th scope=col>Freq</th><th scope=col>contador</th></tr>\n",
       "\t<tr><th></th><th scope=col>&lt;chr&gt;</th><th scope=col>&lt;int&gt;</th><th scope=col>&lt;dbl&gt;</th></tr>\n",
       "</thead>\n",
       "<tbody>\n",
       "\t<tr><th scope=row>1</th><td>hosp_y+highbp_nk+age+smstat_nk+angina_nk+yronset+stroke_y+angina_y+stroke_nk                    </td><td>13</td><td> 9</td></tr>\n",
       "\t<tr><th scope=row>14</th><td>hosp_y+highbp_nk+age+smstat_nk+angina_nk+yronset+stroke_y+angina_y+premi_nk                     </td><td> 8</td><td> 9</td></tr>\n",
       "\t<tr><th scope=row>22</th><td>hosp_y+highbp_nk+age+smstat_nk+angina_nk+yronset+stroke_y+angina_y+premi_nk+premi_y             </td><td> 5</td><td>10</td></tr>\n",
       "\t<tr><th scope=row>27</th><td>hosp_y+highbp_nk+age+smstat_nk+angina_nk+yronset+stroke_y+angina_y                              </td><td> 4</td><td> 8</td></tr>\n",
       "\t<tr><th scope=row>31</th><td>hosp_y+highbp_nk+age+smstat_nk+angina_nk+yronset+stroke_y+angina_y+premi_nk+stroke_nk           </td><td> 2</td><td>10</td></tr>\n",
       "\t<tr><th scope=row>33</th><td>hosp_y+highbp_nk+age+smstat_nk+angina_nk+yronset+stroke_y+angina_y+stroke_nk+premi_y            </td><td> 2</td><td>10</td></tr>\n",
       "\t<tr><th scope=row>35</th><td>hosp_y+age+smstat_nk+angina_nk+yronset+stroke_y+angina_y+premi_nk+stroke_nk                     </td><td> 1</td><td> 9</td></tr>\n",
       "\t<tr><th scope=row>36</th><td>hosp_y+highbp_nk+age+smstat_nk+angina_nk+yronset+stroke_y+angina_y+diabetes_y                   </td><td> 1</td><td> 9</td></tr>\n",
       "\t<tr><th scope=row>37</th><td>hosp_y+highbp_nk+age+smstat_nk+angina_nk+yronset+stroke_y+angina_y+premi_nk+hichol_y            </td><td> 1</td><td>10</td></tr>\n",
       "\t<tr><th scope=row>38</th><td>hosp_y+highbp_nk+age+smstat_nk+angina_nk+yronset+stroke_y+angina_y+premi_nk+stroke_nk+diabetes_y</td><td> 1</td><td>11</td></tr>\n",
       "\t<tr><th scope=row>39</th><td>hosp_y+highbp_nk+age+smstat_nk+angina_nk+yronset+stroke_y+angina_y+stroke_nk+diabetes_y         </td><td> 1</td><td>10</td></tr>\n",
       "\t<tr><th scope=row>40</th><td>hosp_y+highbp_nk+age+smstat_nk+angina_nk+yronset+stroke_y+angina_y+stroke_nk+premi_y+sex_m      </td><td> 1</td><td>11</td></tr>\n",
       "\t<tr><th scope=row>41</th><td>hosp_y+highbp_nk+age+smstat_nk+yronset+stroke_y+premi_nk+stroke_nk+premi_y                      </td><td> 1</td><td> 9</td></tr>\n",
       "</tbody>\n",
       "</table>\n"
      ],
      "text/latex": [
       "A data.frame: 13 × 3\n",
       "\\begin{tabular}{r|lll}\n",
       "  & modelo & Freq & contador\\\\\n",
       "  & <chr> & <int> & <dbl>\\\\\n",
       "\\hline\n",
       "\t1 & hosp\\_y+highbp\\_nk+age+smstat\\_nk+angina\\_nk+yronset+stroke\\_y+angina\\_y+stroke\\_nk                     & 13 &  9\\\\\n",
       "\t14 & hosp\\_y+highbp\\_nk+age+smstat\\_nk+angina\\_nk+yronset+stroke\\_y+angina\\_y+premi\\_nk                      &  8 &  9\\\\\n",
       "\t22 & hosp\\_y+highbp\\_nk+age+smstat\\_nk+angina\\_nk+yronset+stroke\\_y+angina\\_y+premi\\_nk+premi\\_y              &  5 & 10\\\\\n",
       "\t27 & hosp\\_y+highbp\\_nk+age+smstat\\_nk+angina\\_nk+yronset+stroke\\_y+angina\\_y                               &  4 &  8\\\\\n",
       "\t31 & hosp\\_y+highbp\\_nk+age+smstat\\_nk+angina\\_nk+yronset+stroke\\_y+angina\\_y+premi\\_nk+stroke\\_nk            &  2 & 10\\\\\n",
       "\t33 & hosp\\_y+highbp\\_nk+age+smstat\\_nk+angina\\_nk+yronset+stroke\\_y+angina\\_y+stroke\\_nk+premi\\_y             &  2 & 10\\\\\n",
       "\t35 & hosp\\_y+age+smstat\\_nk+angina\\_nk+yronset+stroke\\_y+angina\\_y+premi\\_nk+stroke\\_nk                      &  1 &  9\\\\\n",
       "\t36 & hosp\\_y+highbp\\_nk+age+smstat\\_nk+angina\\_nk+yronset+stroke\\_y+angina\\_y+diabetes\\_y                    &  1 &  9\\\\\n",
       "\t37 & hosp\\_y+highbp\\_nk+age+smstat\\_nk+angina\\_nk+yronset+stroke\\_y+angina\\_y+premi\\_nk+hichol\\_y             &  1 & 10\\\\\n",
       "\t38 & hosp\\_y+highbp\\_nk+age+smstat\\_nk+angina\\_nk+yronset+stroke\\_y+angina\\_y+premi\\_nk+stroke\\_nk+diabetes\\_y &  1 & 11\\\\\n",
       "\t39 & hosp\\_y+highbp\\_nk+age+smstat\\_nk+angina\\_nk+yronset+stroke\\_y+angina\\_y+stroke\\_nk+diabetes\\_y          &  1 & 10\\\\\n",
       "\t40 & hosp\\_y+highbp\\_nk+age+smstat\\_nk+angina\\_nk+yronset+stroke\\_y+angina\\_y+stroke\\_nk+premi\\_y+sex\\_m       &  1 & 11\\\\\n",
       "\t41 & hosp\\_y+highbp\\_nk+age+smstat\\_nk+yronset+stroke\\_y+premi\\_nk+stroke\\_nk+premi\\_y                       &  1 &  9\\\\\n",
       "\\end{tabular}\n"
      ],
      "text/markdown": [
       "\n",
       "A data.frame: 13 × 3\n",
       "\n",
       "| <!--/--> | modelo &lt;chr&gt; | Freq &lt;int&gt; | contador &lt;dbl&gt; |\n",
       "|---|---|---|---|\n",
       "| 1 | hosp_y+highbp_nk+age+smstat_nk+angina_nk+yronset+stroke_y+angina_y+stroke_nk                     | 13 |  9 |\n",
       "| 14 | hosp_y+highbp_nk+age+smstat_nk+angina_nk+yronset+stroke_y+angina_y+premi_nk                      |  8 |  9 |\n",
       "| 22 | hosp_y+highbp_nk+age+smstat_nk+angina_nk+yronset+stroke_y+angina_y+premi_nk+premi_y              |  5 | 10 |\n",
       "| 27 | hosp_y+highbp_nk+age+smstat_nk+angina_nk+yronset+stroke_y+angina_y                               |  4 |  8 |\n",
       "| 31 | hosp_y+highbp_nk+age+smstat_nk+angina_nk+yronset+stroke_y+angina_y+premi_nk+stroke_nk            |  2 | 10 |\n",
       "| 33 | hosp_y+highbp_nk+age+smstat_nk+angina_nk+yronset+stroke_y+angina_y+stroke_nk+premi_y             |  2 | 10 |\n",
       "| 35 | hosp_y+age+smstat_nk+angina_nk+yronset+stroke_y+angina_y+premi_nk+stroke_nk                      |  1 |  9 |\n",
       "| 36 | hosp_y+highbp_nk+age+smstat_nk+angina_nk+yronset+stroke_y+angina_y+diabetes_y                    |  1 |  9 |\n",
       "| 37 | hosp_y+highbp_nk+age+smstat_nk+angina_nk+yronset+stroke_y+angina_y+premi_nk+hichol_y             |  1 | 10 |\n",
       "| 38 | hosp_y+highbp_nk+age+smstat_nk+angina_nk+yronset+stroke_y+angina_y+premi_nk+stroke_nk+diabetes_y |  1 | 11 |\n",
       "| 39 | hosp_y+highbp_nk+age+smstat_nk+angina_nk+yronset+stroke_y+angina_y+stroke_nk+diabetes_y          |  1 | 10 |\n",
       "| 40 | hosp_y+highbp_nk+age+smstat_nk+angina_nk+yronset+stroke_y+angina_y+stroke_nk+premi_y+sex_m       |  1 | 11 |\n",
       "| 41 | hosp_y+highbp_nk+age+smstat_nk+yronset+stroke_y+premi_nk+stroke_nk+premi_y                       |  1 |  9 |\n",
       "\n"
      ],
      "text/plain": [
       "   modelo                                                                                          \n",
       "1  hosp_y+highbp_nk+age+smstat_nk+angina_nk+yronset+stroke_y+angina_y+stroke_nk                    \n",
       "14 hosp_y+highbp_nk+age+smstat_nk+angina_nk+yronset+stroke_y+angina_y+premi_nk                     \n",
       "22 hosp_y+highbp_nk+age+smstat_nk+angina_nk+yronset+stroke_y+angina_y+premi_nk+premi_y             \n",
       "27 hosp_y+highbp_nk+age+smstat_nk+angina_nk+yronset+stroke_y+angina_y                              \n",
       "31 hosp_y+highbp_nk+age+smstat_nk+angina_nk+yronset+stroke_y+angina_y+premi_nk+stroke_nk           \n",
       "33 hosp_y+highbp_nk+age+smstat_nk+angina_nk+yronset+stroke_y+angina_y+stroke_nk+premi_y            \n",
       "35 hosp_y+age+smstat_nk+angina_nk+yronset+stroke_y+angina_y+premi_nk+stroke_nk                     \n",
       "36 hosp_y+highbp_nk+age+smstat_nk+angina_nk+yronset+stroke_y+angina_y+diabetes_y                   \n",
       "37 hosp_y+highbp_nk+age+smstat_nk+angina_nk+yronset+stroke_y+angina_y+premi_nk+hichol_y            \n",
       "38 hosp_y+highbp_nk+age+smstat_nk+angina_nk+yronset+stroke_y+angina_y+premi_nk+stroke_nk+diabetes_y\n",
       "39 hosp_y+highbp_nk+age+smstat_nk+angina_nk+yronset+stroke_y+angina_y+stroke_nk+diabetes_y         \n",
       "40 hosp_y+highbp_nk+age+smstat_nk+angina_nk+yronset+stroke_y+angina_y+stroke_nk+premi_y+sex_m      \n",
       "41 hosp_y+highbp_nk+age+smstat_nk+yronset+stroke_y+premi_nk+stroke_nk+premi_y                      \n",
       "   Freq contador\n",
       "1  13    9      \n",
       "14  8    9      \n",
       "22  5   10      \n",
       "27  4    8      \n",
       "31  2   10      \n",
       "33  2   10      \n",
       "35  1    9      \n",
       "36  1    9      \n",
       "37  1   10      \n",
       "38  1   11      \n",
       "39  1   10      \n",
       "40  1   11      \n",
       "41  1    9      "
      ]
     },
     "metadata": {},
     "output_type": "display_data"
    }
   ],
   "source": [
    "#tabla de frecuencias de los modelos muestreados\n",
    "tabla<-lista[[1]]\n",
    "tabla"
   ]
  },
  {
   "cell_type": "code",
   "execution_count": 167,
   "id": "70886276-7be2-4d52-a4d6-8065c293151f",
   "metadata": {
    "ExecuteTime": {
     "end_time": "2021-10-17T14:45:30.672502Z",
     "start_time": "2021-10-17T14:45:30.647Z"
    }
   },
   "outputs": [
    {
     "name": "stdout",
     "output_type": "stream",
     "text": [
      "c(\"hosp_y\", \"stroke_nk\", \"age\", \"smstat_nk\", \"stroke_y\", \"yronset\", \n",
      "\"highbp_nk\", \"angina_y\", \"angina_nk\")\n"
     ]
    }
   ],
   "source": [
    "#list of names of variavels of first model\n",
    "model_SW_1<-dput(lista[[2]][[1]])"
   ]
  },
  {
   "cell_type": "markdown",
   "id": "3a84ef97-a26a-4d9e-8065-a93006842ee6",
   "metadata": {},
   "source": [
    "El modelo primero aparece 13 veces en un rango de 40 iteraciones, y tiene 9 vairables, con lo que parece muy interesante. "
   ]
  },
  {
   "cell_type": "code",
   "execution_count": 168,
   "id": "b80e7fe7-f63a-4e19-91fd-d70dcf467815",
   "metadata": {
    "ExecuteTime": {
     "end_time": "2021-10-17T14:45:36.703293Z",
     "start_time": "2021-10-17T14:45:33.225Z"
    }
   },
   "outputs": [
    {
     "name": "stdout",
     "output_type": "stream",
     "text": [
      "c(\"hosp_y\", \"highbp_nk\", \"age\", \"smstat_nk\", \"angina_nk\", \"yronset\", \n",
      "\"stroke_y\", \"angina_y\", \"premi_nk\")\n"
     ]
    }
   ],
   "source": [
    "#list of names of variavels of second model\n",
    "model_SW_2<-dput(lista[[2]][[2]])"
   ]
  },
  {
   "cell_type": "markdown",
   "id": "d2e34ab7-9c57-436e-86b8-807d3b27bd42",
   "metadata": {},
   "source": [
    "## Validation models"
   ]
  },
  {
   "cell_type": "markdown",
   "id": "9aacb433",
   "metadata": {},
   "source": [
    "Modelos que se tienen hasta ahora y que van a ser valiados y comparados."
   ]
  },
  {
   "cell_type": "code",
   "execution_count": 169,
   "id": "3a8f7426",
   "metadata": {
    "ExecuteTime": {
     "end_time": "2021-10-17T14:45:42.527929Z",
     "start_time": "2021-10-17T14:45:41.816Z"
    }
   },
   "outputs": [],
   "source": [
    "#Model all in, with all variables together.\n",
    "model_Allin<-c(\"age\", \"yronset\", \"sex_m\", \"premi_nk\", \"premi_y\", \"smstat_n\", \n",
    "\"smstat_nk\", \"smstat_x\", \"diabetes_nk\", \"diabetes_y\", \"highbp_nk\", \n",
    "\"highbp_y\", \"hichol_nk\", \"hichol_y\", \"angina_nk\", \"angina_y\", \n",
    "\"stroke_nk\", \"stroke_y\", \"hosp_y\")"
   ]
  },
  {
   "cell_type": "code",
   "execution_count": 170,
   "id": "fc4bd0b9",
   "metadata": {
    "ExecuteTime": {
     "end_time": "2021-10-17T14:45:48.371663Z",
     "start_time": "2021-10-17T14:45:42.339Z"
    }
   },
   "outputs": [],
   "source": [
    "model_AIC<-c(\"hosp_y\", \"highbp_nk\", \"age\", \"angina_nk\", \"angina_y\", \n",
    "\"smstat_nk\", \"yronset\", \"stroke_y\", \"stroke_nk\", \"premi_nk\", \n",
    "\"premi_y\", \"diabetes_y\", \"hichol_y\", \"sex_m\")"
   ]
  },
  {
   "cell_type": "code",
   "execution_count": 171,
   "id": "107944ad",
   "metadata": {
    "ExecuteTime": {
     "end_time": "2021-10-17T14:45:54.139343Z",
     "start_time": "2021-10-17T14:45:42.833Z"
    }
   },
   "outputs": [],
   "source": [
    "model_BIC<-c(\"hosp_y\", \"highbp_nk\", \"age\", \"angina_nk\", \"angina_y\", \n",
    "\"smstat_nk\", \"yronset\", \"stroke_y\", \"stroke_nk\")"
   ]
  },
  {
   "cell_type": "code",
   "execution_count": 172,
   "id": "e11fc39c",
   "metadata": {
    "ExecuteTime": {
     "end_time": "2021-10-17T14:45:59.763104Z",
     "start_time": "2021-10-17T14:45:43.355Z"
    }
   },
   "outputs": [],
   "source": [
    "model_SW_2<-c(\"hosp_y\", \"highbp_nk\", \"age\", \"smstat_nk\", \"angina_nk\", \"yronset\", \n",
    "\"stroke_y\", \"angina_y\", \"premi_nk\")"
   ]
  },
  {
   "cell_type": "code",
   "execution_count": 173,
   "id": "3f769834",
   "metadata": {
    "ExecuteTime": {
     "end_time": "2021-10-17T14:46:05.515671Z",
     "start_time": "2021-10-17T14:45:43.900Z"
    }
   },
   "outputs": [],
   "source": [
    "#model_DF1_before_dummies (con data=df1)\n",
    "model_DF1_before_dummies<-c(\"age\", \"yronset\", \"sex\", \"premi\", \"smstat\", \"diabetes\", \"highbp\", \n",
    "\"hichol\", \"angina\", \"stroke\", \"hosp\")"
   ]
  },
  {
   "cell_type": "markdown",
   "id": "cacfcc0e",
   "metadata": {},
   "source": [
    "Tenemos 5 modelos tentativos:\n"
   ]
  },
  {
   "cell_type": "code",
   "execution_count": 174,
   "id": "f9cdfd25",
   "metadata": {
    "ExecuteTime": {
     "end_time": "2021-10-17T14:46:11.205399Z",
     "start_time": "2021-10-17T14:45:50.844Z"
    },
    "run_control": {
     "marked": false
    }
   },
   "outputs": [
    {
     "name": "stdout",
     "output_type": "stream",
     "text": [
      "model_Allin with 19 variables \n",
      "model_AIC with 14 variables \n",
      "model_BIC with 9 variables \n",
      "model_SW_2 with 9 variables \n",
      "model_DF1_before_dummies with 11 variables \n"
     ]
    }
   ],
   "source": [
    "cat(\"model_Allin with\", length(model_Allin) ,\"variables\",\"\\n\")\n",
    "cat(\"model_AIC with\", length(model_AIC) ,\"variables\",\"\\n\")\n",
    "cat(\"model_BIC with\", length(model_BIC) ,\"variables\",\"\\n\")\n",
    "cat(\"model_SW_2 with\", length(model_SW_2) ,\"variables\",\"\\n\")\n",
    "cat(\"model_DF1_before_dummies with\", length(model_DF1_before_dummies) ,\"variables\",\"\\n\")\n",
    "#model_BIC and model_SW_1 are the same"
   ]
  },
  {
   "cell_type": "markdown",
   "id": "50320cb0-8358-4c90-8adf-eeb1515557ae",
   "metadata": {
    "tags": []
   },
   "source": [
    "### Cross validation and compare throw box-plots"
   ]
  },
  {
   "cell_type": "markdown",
   "id": "18b85857-18e3-4eaf-b4fe-a2fd5f81cffb",
   "metadata": {},
   "source": [
    "We check with Cross validation :\n",
    "- model_Allin with 19 variables \n",
    "- model_AIC with 14 variables \n",
    "- model_BIC with 9 variables \n",
    "- model_SW_2 with 9 variables\n",
    "- model_DF1_before_dummies \n",
    "\n",
    "\n"
   ]
  },
  {
   "cell_type": "code",
   "execution_count": 175,
   "id": "3ab3f1ff",
   "metadata": {
    "ExecuteTime": {
     "end_time": "2021-10-17T14:46:16.794168Z",
     "start_time": "2021-10-17T14:46:05.967Z"
    }
   },
   "outputs": [],
   "source": [
    "source(\"cruzadas avnnet y log binaria.R\")"
   ]
  },
  {
   "cell_type": "markdown",
   "id": "da42bb73-7aa7-47e6-8b5b-bb7eb95d2c0e",
   "metadata": {
    "tags": []
   },
   "source": [
    "#### model 1-(model_Allin with 19 variables,all variavels; 10 groups ; 100 iterations)"
   ]
  },
  {
   "cell_type": "code",
   "execution_count": 176,
   "id": "ab6fb813",
   "metadata": {
    "ExecuteTime": {
     "end_time": "2021-10-17T14:47:59.453387Z",
     "start_time": "2021-10-17T14:47:59.418Z"
    },
    "scrolled": true
   },
   "outputs": [
    {
     "data": {
      "text/html": [
       "<table class=\"dataframe\">\n",
       "<caption>A data.frame: 6 × 20</caption>\n",
       "<thead>\n",
       "\t<tr><th></th><th scope=col>age</th><th scope=col>yronset</th><th scope=col>sex_m</th><th scope=col>premi_nk</th><th scope=col>premi_y</th><th scope=col>smstat_n</th><th scope=col>smstat_nk</th><th scope=col>smstat_x</th><th scope=col>diabetes_nk</th><th scope=col>diabetes_y</th><th scope=col>highbp_nk</th><th scope=col>highbp_y</th><th scope=col>hichol_nk</th><th scope=col>hichol_y</th><th scope=col>angina_nk</th><th scope=col>angina_y</th><th scope=col>stroke_nk</th><th scope=col>stroke_y</th><th scope=col>hosp_y</th><th scope=col>outcome</th></tr>\n",
       "\t<tr><th></th><th scope=col>&lt;dbl&gt;</th><th scope=col>&lt;dbl&gt;</th><th scope=col>&lt;int&gt;</th><th scope=col>&lt;int&gt;</th><th scope=col>&lt;int&gt;</th><th scope=col>&lt;int&gt;</th><th scope=col>&lt;int&gt;</th><th scope=col>&lt;int&gt;</th><th scope=col>&lt;int&gt;</th><th scope=col>&lt;int&gt;</th><th scope=col>&lt;int&gt;</th><th scope=col>&lt;int&gt;</th><th scope=col>&lt;int&gt;</th><th scope=col>&lt;int&gt;</th><th scope=col>&lt;int&gt;</th><th scope=col>&lt;int&gt;</th><th scope=col>&lt;int&gt;</th><th scope=col>&lt;int&gt;</th><th scope=col>&lt;int&gt;</th><th scope=col>&lt;chr&gt;</th></tr>\n",
       "</thead>\n",
       "<tbody>\n",
       "\t<tr><th scope=row>1</th><td> 0.45582598</td><td>-1.465502</td><td>0</td><td>0</td><td>0</td><td>0</td><td>0</td><td>1</td><td>0</td><td>0</td><td>0</td><td>1</td><td>0</td><td>1</td><td>0</td><td>0</td><td>0</td><td>0</td><td>1</td><td>No </td></tr>\n",
       "\t<tr><th scope=row>2</th><td>-0.05347366</td><td>-1.465502</td><td>1</td><td>0</td><td>1</td><td>0</td><td>0</td><td>1</td><td>0</td><td>0</td><td>0</td><td>1</td><td>0</td><td>0</td><td>0</td><td>0</td><td>0</td><td>0</td><td>1</td><td>No </td></tr>\n",
       "\t<tr><th scope=row>3</th><td> 1.09245054</td><td>-1.465502</td><td>1</td><td>0</td><td>0</td><td>1</td><td>0</td><td>0</td><td>0</td><td>0</td><td>0</td><td>1</td><td>0</td><td>0</td><td>0</td><td>0</td><td>0</td><td>0</td><td>1</td><td>No </td></tr>\n",
       "\t<tr><th scope=row>4</th><td>-1.70869752</td><td>-1.465502</td><td>1</td><td>0</td><td>0</td><td>0</td><td>0</td><td>0</td><td>0</td><td>0</td><td>0</td><td>0</td><td>0</td><td>0</td><td>0</td><td>0</td><td>0</td><td>0</td><td>1</td><td>No </td></tr>\n",
       "\t<tr><th scope=row>5</th><td>-1.45404770</td><td>-1.465502</td><td>1</td><td>0</td><td>0</td><td>1</td><td>0</td><td>0</td><td>0</td><td>1</td><td>0</td><td>0</td><td>0</td><td>0</td><td>0</td><td>1</td><td>0</td><td>0</td><td>1</td><td>Yes</td></tr>\n",
       "\t<tr><th scope=row>6</th><td>-0.56277331</td><td>-1.465502</td><td>0</td><td>0</td><td>0</td><td>0</td><td>0</td><td>0</td><td>0</td><td>0</td><td>0</td><td>1</td><td>0</td><td>1</td><td>0</td><td>0</td><td>0</td><td>0</td><td>1</td><td>No </td></tr>\n",
       "</tbody>\n",
       "</table>\n"
      ],
      "text/latex": [
       "A data.frame: 6 × 20\n",
       "\\begin{tabular}{r|llllllllllllllllllll}\n",
       "  & age & yronset & sex\\_m & premi\\_nk & premi\\_y & smstat\\_n & smstat\\_nk & smstat\\_x & diabetes\\_nk & diabetes\\_y & highbp\\_nk & highbp\\_y & hichol\\_nk & hichol\\_y & angina\\_nk & angina\\_y & stroke\\_nk & stroke\\_y & hosp\\_y & outcome\\\\\n",
       "  & <dbl> & <dbl> & <int> & <int> & <int> & <int> & <int> & <int> & <int> & <int> & <int> & <int> & <int> & <int> & <int> & <int> & <int> & <int> & <int> & <chr>\\\\\n",
       "\\hline\n",
       "\t1 &  0.45582598 & -1.465502 & 0 & 0 & 0 & 0 & 0 & 1 & 0 & 0 & 0 & 1 & 0 & 1 & 0 & 0 & 0 & 0 & 1 & No \\\\\n",
       "\t2 & -0.05347366 & -1.465502 & 1 & 0 & 1 & 0 & 0 & 1 & 0 & 0 & 0 & 1 & 0 & 0 & 0 & 0 & 0 & 0 & 1 & No \\\\\n",
       "\t3 &  1.09245054 & -1.465502 & 1 & 0 & 0 & 1 & 0 & 0 & 0 & 0 & 0 & 1 & 0 & 0 & 0 & 0 & 0 & 0 & 1 & No \\\\\n",
       "\t4 & -1.70869752 & -1.465502 & 1 & 0 & 0 & 0 & 0 & 0 & 0 & 0 & 0 & 0 & 0 & 0 & 0 & 0 & 0 & 0 & 1 & No \\\\\n",
       "\t5 & -1.45404770 & -1.465502 & 1 & 0 & 0 & 1 & 0 & 0 & 0 & 1 & 0 & 0 & 0 & 0 & 0 & 1 & 0 & 0 & 1 & Yes\\\\\n",
       "\t6 & -0.56277331 & -1.465502 & 0 & 0 & 0 & 0 & 0 & 0 & 0 & 0 & 0 & 1 & 0 & 1 & 0 & 0 & 0 & 0 & 1 & No \\\\\n",
       "\\end{tabular}\n"
      ],
      "text/markdown": [
       "\n",
       "A data.frame: 6 × 20\n",
       "\n",
       "| <!--/--> | age &lt;dbl&gt; | yronset &lt;dbl&gt; | sex_m &lt;int&gt; | premi_nk &lt;int&gt; | premi_y &lt;int&gt; | smstat_n &lt;int&gt; | smstat_nk &lt;int&gt; | smstat_x &lt;int&gt; | diabetes_nk &lt;int&gt; | diabetes_y &lt;int&gt; | highbp_nk &lt;int&gt; | highbp_y &lt;int&gt; | hichol_nk &lt;int&gt; | hichol_y &lt;int&gt; | angina_nk &lt;int&gt; | angina_y &lt;int&gt; | stroke_nk &lt;int&gt; | stroke_y &lt;int&gt; | hosp_y &lt;int&gt; | outcome &lt;chr&gt; |\n",
       "|---|---|---|---|---|---|---|---|---|---|---|---|---|---|---|---|---|---|---|---|---|\n",
       "| 1 |  0.45582598 | -1.465502 | 0 | 0 | 0 | 0 | 0 | 1 | 0 | 0 | 0 | 1 | 0 | 1 | 0 | 0 | 0 | 0 | 1 | No  |\n",
       "| 2 | -0.05347366 | -1.465502 | 1 | 0 | 1 | 0 | 0 | 1 | 0 | 0 | 0 | 1 | 0 | 0 | 0 | 0 | 0 | 0 | 1 | No  |\n",
       "| 3 |  1.09245054 | -1.465502 | 1 | 0 | 0 | 1 | 0 | 0 | 0 | 0 | 0 | 1 | 0 | 0 | 0 | 0 | 0 | 0 | 1 | No  |\n",
       "| 4 | -1.70869752 | -1.465502 | 1 | 0 | 0 | 0 | 0 | 0 | 0 | 0 | 0 | 0 | 0 | 0 | 0 | 0 | 0 | 0 | 1 | No  |\n",
       "| 5 | -1.45404770 | -1.465502 | 1 | 0 | 0 | 1 | 0 | 0 | 0 | 1 | 0 | 0 | 0 | 0 | 0 | 1 | 0 | 0 | 1 | Yes |\n",
       "| 6 | -0.56277331 | -1.465502 | 0 | 0 | 0 | 0 | 0 | 0 | 0 | 0 | 0 | 1 | 0 | 1 | 0 | 0 | 0 | 0 | 1 | No  |\n",
       "\n"
      ],
      "text/plain": [
       "  age         yronset   sex_m premi_nk premi_y smstat_n smstat_nk smstat_x\n",
       "1  0.45582598 -1.465502 0     0        0       0        0         1       \n",
       "2 -0.05347366 -1.465502 1     0        1       0        0         1       \n",
       "3  1.09245054 -1.465502 1     0        0       1        0         0       \n",
       "4 -1.70869752 -1.465502 1     0        0       0        0         0       \n",
       "5 -1.45404770 -1.465502 1     0        0       1        0         0       \n",
       "6 -0.56277331 -1.465502 0     0        0       0        0         0       \n",
       "  diabetes_nk diabetes_y highbp_nk highbp_y hichol_nk hichol_y angina_nk\n",
       "1 0           0          0         1        0         1        0        \n",
       "2 0           0          0         1        0         0        0        \n",
       "3 0           0          0         1        0         0        0        \n",
       "4 0           0          0         0        0         0        0        \n",
       "5 0           1          0         0        0         0        0        \n",
       "6 0           0          0         1        0         1        0        \n",
       "  angina_y stroke_nk stroke_y hosp_y outcome\n",
       "1 0        0         0        1      No     \n",
       "2 0        0         0        1      No     \n",
       "3 0        0         0        1      No     \n",
       "4 0        0         0        1      No     \n",
       "5 1        0         0        1      Yes    \n",
       "6 0        0         0        1      No     "
      ]
     },
     "metadata": {},
     "output_type": "display_data"
    }
   ],
   "source": [
    "head(data)"
   ]
  },
  {
   "cell_type": "code",
   "execution_count": 177,
   "id": "e1b04052-b515-44c8-a11d-71ab3a17f2d1",
   "metadata": {
    "ExecuteTime": {
     "end_time": "2021-10-17T14:49:44.874434Z",
     "start_time": "2021-10-17T14:48:11.847Z"
    }
   },
   "outputs": [],
   "source": [
    "medias1<-cruzadalogistica(data=data,\n",
    "                    vardep=vardep,\n",
    "                    listconti=\n",
    "c(\"age\", \"yronset\", \"sex_m\", \"premi_nk\", \"premi_y\", \"smstat_n\", \n",
    "\"smstat_nk\", \"smstat_x\", \"diabetes_nk\", \"diabetes_y\", \"highbp_nk\", \n",
    "\"highbp_y\", \"hichol_nk\", \"hichol_y\", \"angina_nk\", \"angina_y\", \n",
    "\"stroke_nk\", \"stroke_y\", \"hosp_y\"),\n",
    "                    listclass=c(\"\"),\n",
    "                    grupos=10,\n",
    "                    sinicio=1234,\n",
    "                    repe=100)\n"
   ]
  },
  {
   "cell_type": "code",
   "execution_count": 178,
   "id": "c685ef39-8072-4017-800c-76dce5a82cd5",
   "metadata": {
    "ExecuteTime": {
     "end_time": "2021-10-17T14:49:50.402255Z",
     "start_time": "2021-10-17T14:48:12.495Z"
    }
   },
   "outputs": [],
   "source": [
    "# we add a column with number 1 to put a name of this vector\n",
    "medias1$modelo=1"
   ]
  },
  {
   "cell_type": "code",
   "execution_count": 179,
   "id": "92566c47-e30e-47fa-a1d9-c8553d6c2f62",
   "metadata": {
    "ExecuteTime": {
     "end_time": "2021-10-17T14:49:55.968034Z",
     "start_time": "2021-10-17T14:48:13.300Z"
    }
   },
   "outputs": [
    {
     "data": {
      "text/html": [
       "<table class=\"dataframe\">\n",
       "<caption>A data.frame: 6 × 3</caption>\n",
       "<thead>\n",
       "\t<tr><th></th><th scope=col>tasa</th><th scope=col>auc</th><th scope=col>modelo</th></tr>\n",
       "\t<tr><th></th><th scope=col>&lt;dbl&gt;</th><th scope=col>&lt;dbl&gt;</th><th scope=col>&lt;dbl&gt;</th></tr>\n",
       "</thead>\n",
       "<tbody>\n",
       "\t<tr><th scope=row>1</th><td>0.1221926</td><td>0.9198632</td><td>1</td></tr>\n",
       "\t<tr><th scope=row>2</th><td>0.1218784</td><td>0.9206475</td><td>1</td></tr>\n",
       "\t<tr><th scope=row>3</th><td>0.1220355</td><td>0.9206748</td><td>1</td></tr>\n",
       "\t<tr><th scope=row>4</th><td>0.1226637</td><td>0.9204064</td><td>1</td></tr>\n",
       "\t<tr><th scope=row>5</th><td>0.1225067</td><td>0.9208510</td><td>1</td></tr>\n",
       "\t<tr><th scope=row>6</th><td>0.1220355</td><td>0.9209048</td><td>1</td></tr>\n",
       "</tbody>\n",
       "</table>\n"
      ],
      "text/latex": [
       "A data.frame: 6 × 3\n",
       "\\begin{tabular}{r|lll}\n",
       "  & tasa & auc & modelo\\\\\n",
       "  & <dbl> & <dbl> & <dbl>\\\\\n",
       "\\hline\n",
       "\t1 & 0.1221926 & 0.9198632 & 1\\\\\n",
       "\t2 & 0.1218784 & 0.9206475 & 1\\\\\n",
       "\t3 & 0.1220355 & 0.9206748 & 1\\\\\n",
       "\t4 & 0.1226637 & 0.9204064 & 1\\\\\n",
       "\t5 & 0.1225067 & 0.9208510 & 1\\\\\n",
       "\t6 & 0.1220355 & 0.9209048 & 1\\\\\n",
       "\\end{tabular}\n"
      ],
      "text/markdown": [
       "\n",
       "A data.frame: 6 × 3\n",
       "\n",
       "| <!--/--> | tasa &lt;dbl&gt; | auc &lt;dbl&gt; | modelo &lt;dbl&gt; |\n",
       "|---|---|---|---|\n",
       "| 1 | 0.1221926 | 0.9198632 | 1 |\n",
       "| 2 | 0.1218784 | 0.9206475 | 1 |\n",
       "| 3 | 0.1220355 | 0.9206748 | 1 |\n",
       "| 4 | 0.1226637 | 0.9204064 | 1 |\n",
       "| 5 | 0.1225067 | 0.9208510 | 1 |\n",
       "| 6 | 0.1220355 | 0.9209048 | 1 |\n",
       "\n"
      ],
      "text/plain": [
       "  tasa      auc       modelo\n",
       "1 0.1221926 0.9198632 1     \n",
       "2 0.1218784 0.9206475 1     \n",
       "3 0.1220355 0.9206748 1     \n",
       "4 0.1226637 0.9204064 1     \n",
       "5 0.1225067 0.9208510 1     \n",
       "6 0.1220355 0.9209048 1     "
      ]
     },
     "metadata": {},
     "output_type": "display_data"
    }
   ],
   "source": [
    "head(medias1)"
   ]
  },
  {
   "cell_type": "markdown",
   "id": "5a3b650e-e1b2-4c14-8df0-2a3bea5c9388",
   "metadata": {},
   "source": [
    "#### model 2-(model_AIC with 14 variables; 10 groups ; 100 iterations)"
   ]
  },
  {
   "cell_type": "code",
   "execution_count": 74,
   "id": "02ed5864-c553-4345-94bd-f9b4959d525e",
   "metadata": {
    "ExecuteTime": {
     "end_time": "2021-10-17T14:22:48.713567Z",
     "start_time": "2021-10-17T14:21:37.511Z"
    }
   },
   "outputs": [],
   "source": [
    "medias2<-cruzadalogistica(data=data,\n",
    "                    vardep=vardep,\n",
    "                    listconti=\n",
    "c(\"hosp_y\", \"highbp_nk\", \"age\", \"angina_nk\", \"angina_y\", \n",
    "\"smstat_nk\", \"yronset\", \"stroke_y\", \"stroke_nk\", \"premi_nk\", \n",
    "\"premi_y\", \"diabetes_y\", \"hichol_y\", \"sex_m\"),\n",
    "                    listclass=c(\"\"),\n",
    "                    grupos=10,\n",
    "                    sinicio=1234,\n",
    "                    repe=100)\n"
   ]
  },
  {
   "cell_type": "code",
   "execution_count": 75,
   "id": "2b557724-752a-4a6b-8cc4-566cd87c057b",
   "metadata": {
    "ExecuteTime": {
     "end_time": "2021-10-17T14:22:54.019520Z",
     "start_time": "2021-10-17T14:21:39.419Z"
    }
   },
   "outputs": [],
   "source": [
    "# we add a column with number 1 to put a name of this vector\n",
    "medias2$modelo=2"
   ]
  },
  {
   "cell_type": "code",
   "execution_count": 76,
   "id": "351dc6c0",
   "metadata": {
    "ExecuteTime": {
     "end_time": "2021-10-17T14:22:59.408489Z",
     "start_time": "2021-10-17T14:21:40.676Z"
    },
    "scrolled": true
   },
   "outputs": [
    {
     "data": {
      "text/html": [
       "<table class=\"dataframe\">\n",
       "<caption>A data.frame: 6 × 3</caption>\n",
       "<thead>\n",
       "\t<tr><th></th><th scope=col>tasa</th><th scope=col>auc</th><th scope=col>modelo</th></tr>\n",
       "\t<tr><th></th><th scope=col>&lt;dbl&gt;</th><th scope=col>&lt;dbl&gt;</th><th scope=col>&lt;dbl&gt;</th></tr>\n",
       "</thead>\n",
       "<tbody>\n",
       "\t<tr><th scope=row>1</th><td>0.1214073</td><td>0.9204076</td><td>2</td></tr>\n",
       "\t<tr><th scope=row>2</th><td>0.1212502</td><td>0.9211092</td><td>2</td></tr>\n",
       "\t<tr><th scope=row>3</th><td>0.1212502</td><td>0.9212915</td><td>2</td></tr>\n",
       "\t<tr><th scope=row>4</th><td>0.1221926</td><td>0.9210207</td><td>2</td></tr>\n",
       "\t<tr><th scope=row>5</th><td>0.1217214</td><td>0.9214835</td><td>2</td></tr>\n",
       "\t<tr><th scope=row>6</th><td>0.1215643</td><td>0.9215161</td><td>2</td></tr>\n",
       "</tbody>\n",
       "</table>\n"
      ],
      "text/latex": [
       "A data.frame: 6 × 3\n",
       "\\begin{tabular}{r|lll}\n",
       "  & tasa & auc & modelo\\\\\n",
       "  & <dbl> & <dbl> & <dbl>\\\\\n",
       "\\hline\n",
       "\t1 & 0.1214073 & 0.9204076 & 2\\\\\n",
       "\t2 & 0.1212502 & 0.9211092 & 2\\\\\n",
       "\t3 & 0.1212502 & 0.9212915 & 2\\\\\n",
       "\t4 & 0.1221926 & 0.9210207 & 2\\\\\n",
       "\t5 & 0.1217214 & 0.9214835 & 2\\\\\n",
       "\t6 & 0.1215643 & 0.9215161 & 2\\\\\n",
       "\\end{tabular}\n"
      ],
      "text/markdown": [
       "\n",
       "A data.frame: 6 × 3\n",
       "\n",
       "| <!--/--> | tasa &lt;dbl&gt; | auc &lt;dbl&gt; | modelo &lt;dbl&gt; |\n",
       "|---|---|---|---|\n",
       "| 1 | 0.1214073 | 0.9204076 | 2 |\n",
       "| 2 | 0.1212502 | 0.9211092 | 2 |\n",
       "| 3 | 0.1212502 | 0.9212915 | 2 |\n",
       "| 4 | 0.1221926 | 0.9210207 | 2 |\n",
       "| 5 | 0.1217214 | 0.9214835 | 2 |\n",
       "| 6 | 0.1215643 | 0.9215161 | 2 |\n",
       "\n"
      ],
      "text/plain": [
       "  tasa      auc       modelo\n",
       "1 0.1214073 0.9204076 2     \n",
       "2 0.1212502 0.9211092 2     \n",
       "3 0.1212502 0.9212915 2     \n",
       "4 0.1221926 0.9210207 2     \n",
       "5 0.1217214 0.9214835 2     \n",
       "6 0.1215643 0.9215161 2     "
      ]
     },
     "metadata": {},
     "output_type": "display_data"
    }
   ],
   "source": [
    "head(medias2)"
   ]
  },
  {
   "cell_type": "markdown",
   "id": "8dd0d4fa-82da-4af7-b11e-4fe81079f59e",
   "metadata": {},
   "source": [
    "#### model 3-(model_BIC with 9 variables; 10 groups ; 100 iterations)"
   ]
  },
  {
   "cell_type": "code",
   "execution_count": 77,
   "id": "cd4e2430-b37b-4ed6-8f39-1b7274b076ec",
   "metadata": {
    "ExecuteTime": {
     "end_time": "2021-10-17T14:24:01.698638Z",
     "start_time": "2021-10-17T14:23:04.995Z"
    }
   },
   "outputs": [],
   "source": [
    "medias3<-cruzadalogistica(data=data,\n",
    "                    vardep=vardep,\n",
    "                    listconti=\n",
    "c(\"hosp_y\", \"highbp_nk\", \"age\", \"angina_nk\", \"angina_y\", \n",
    "\"smstat_nk\", \"yronset\", \"stroke_y\", \"stroke_nk\"),\n",
    "                    listclass=c(\"\"),\n",
    "                    grupos=10,\n",
    "                    sinicio=1234,\n",
    "                    repe=100)\n"
   ]
  },
  {
   "cell_type": "code",
   "execution_count": 78,
   "id": "2ffd8c7a-1ec0-4812-b518-91fb6674cd11",
   "metadata": {
    "ExecuteTime": {
     "end_time": "2021-10-17T14:24:06.956598Z",
     "start_time": "2021-10-17T14:23:06.403Z"
    }
   },
   "outputs": [],
   "source": [
    "# we add a column with number 1 to put a name of this vector\n",
    "medias3$modelo=3"
   ]
  },
  {
   "cell_type": "code",
   "execution_count": 79,
   "id": "194aeffa",
   "metadata": {
    "ExecuteTime": {
     "end_time": "2021-10-17T14:24:12.302521Z",
     "start_time": "2021-10-17T14:23:07.111Z"
    }
   },
   "outputs": [
    {
     "data": {
      "text/html": [
       "<table class=\"dataframe\">\n",
       "<caption>A data.frame: 6 × 3</caption>\n",
       "<thead>\n",
       "\t<tr><th></th><th scope=col>tasa</th><th scope=col>auc</th><th scope=col>modelo</th></tr>\n",
       "\t<tr><th></th><th scope=col>&lt;dbl&gt;</th><th scope=col>&lt;dbl&gt;</th><th scope=col>&lt;dbl&gt;</th></tr>\n",
       "</thead>\n",
       "<tbody>\n",
       "\t<tr><th scope=row>1</th><td>0.1210931</td><td>0.9194502</td><td>3</td></tr>\n",
       "\t<tr><th scope=row>2</th><td>0.1209361</td><td>0.9195634</td><td>3</td></tr>\n",
       "\t<tr><th scope=row>3</th><td>0.1204649</td><td>0.9198817</td><td>3</td></tr>\n",
       "\t<tr><th scope=row>4</th><td>0.1212502</td><td>0.9196306</td><td>3</td></tr>\n",
       "\t<tr><th scope=row>5</th><td>0.1201508</td><td>0.9197959</td><td>3</td></tr>\n",
       "\t<tr><th scope=row>6</th><td>0.1199937</td><td>0.9198078</td><td>3</td></tr>\n",
       "</tbody>\n",
       "</table>\n"
      ],
      "text/latex": [
       "A data.frame: 6 × 3\n",
       "\\begin{tabular}{r|lll}\n",
       "  & tasa & auc & modelo\\\\\n",
       "  & <dbl> & <dbl> & <dbl>\\\\\n",
       "\\hline\n",
       "\t1 & 0.1210931 & 0.9194502 & 3\\\\\n",
       "\t2 & 0.1209361 & 0.9195634 & 3\\\\\n",
       "\t3 & 0.1204649 & 0.9198817 & 3\\\\\n",
       "\t4 & 0.1212502 & 0.9196306 & 3\\\\\n",
       "\t5 & 0.1201508 & 0.9197959 & 3\\\\\n",
       "\t6 & 0.1199937 & 0.9198078 & 3\\\\\n",
       "\\end{tabular}\n"
      ],
      "text/markdown": [
       "\n",
       "A data.frame: 6 × 3\n",
       "\n",
       "| <!--/--> | tasa &lt;dbl&gt; | auc &lt;dbl&gt; | modelo &lt;dbl&gt; |\n",
       "|---|---|---|---|\n",
       "| 1 | 0.1210931 | 0.9194502 | 3 |\n",
       "| 2 | 0.1209361 | 0.9195634 | 3 |\n",
       "| 3 | 0.1204649 | 0.9198817 | 3 |\n",
       "| 4 | 0.1212502 | 0.9196306 | 3 |\n",
       "| 5 | 0.1201508 | 0.9197959 | 3 |\n",
       "| 6 | 0.1199937 | 0.9198078 | 3 |\n",
       "\n"
      ],
      "text/plain": [
       "  tasa      auc       modelo\n",
       "1 0.1210931 0.9194502 3     \n",
       "2 0.1209361 0.9195634 3     \n",
       "3 0.1204649 0.9198817 3     \n",
       "4 0.1212502 0.9196306 3     \n",
       "5 0.1201508 0.9197959 3     \n",
       "6 0.1199937 0.9198078 3     "
      ]
     },
     "metadata": {},
     "output_type": "display_data"
    }
   ],
   "source": [
    "head(medias3)"
   ]
  },
  {
   "cell_type": "markdown",
   "id": "600d656d",
   "metadata": {},
   "source": [
    "#### model 4-(model_SW_2 with 9 variables; 10 groups ; 100 iterations)"
   ]
  },
  {
   "cell_type": "code",
   "execution_count": 80,
   "id": "1b33fab5",
   "metadata": {
    "ExecuteTime": {
     "end_time": "2021-10-17T14:26:24.983731Z",
     "start_time": "2021-10-17T14:25:28.086Z"
    }
   },
   "outputs": [],
   "source": [
    "medias4<-cruzadalogistica(data=data,\n",
    "                    vardep=vardep,\n",
    "                    listconti=\n",
    "c(\"hosp_y\", \"highbp_nk\", \"age\", \"smstat_nk\", \"angina_nk\", \"yronset\", \n",
    "\"stroke_y\", \"angina_y\", \"premi_nk\"),\n",
    "                    listclass=c(\"\"),\n",
    "                    grupos=10,\n",
    "                    sinicio=1234,\n",
    "                    repe=100)\n"
   ]
  },
  {
   "cell_type": "code",
   "execution_count": 81,
   "id": "27948edb",
   "metadata": {
    "ExecuteTime": {
     "end_time": "2021-10-17T14:26:30.275669Z",
     "start_time": "2021-10-17T14:25:28.808Z"
    }
   },
   "outputs": [],
   "source": [
    "# we add a column with number 1 to put a name of this vector\n",
    "medias4$modelo=4"
   ]
  },
  {
   "cell_type": "code",
   "execution_count": 82,
   "id": "9c50b20c",
   "metadata": {
    "ExecuteTime": {
     "end_time": "2021-10-17T14:26:35.715540Z",
     "start_time": "2021-10-17T14:25:29.772Z"
    },
    "scrolled": true
   },
   "outputs": [
    {
     "data": {
      "text/html": [
       "<table class=\"dataframe\">\n",
       "<caption>A data.frame: 6 × 3</caption>\n",
       "<thead>\n",
       "\t<tr><th></th><th scope=col>tasa</th><th scope=col>auc</th><th scope=col>modelo</th></tr>\n",
       "\t<tr><th></th><th scope=col>&lt;dbl&gt;</th><th scope=col>&lt;dbl&gt;</th><th scope=col>&lt;dbl&gt;</th></tr>\n",
       "</thead>\n",
       "<tbody>\n",
       "\t<tr><th scope=row>1</th><td>0.1220355</td><td>0.9194437</td><td>4</td></tr>\n",
       "\t<tr><th scope=row>2</th><td>0.1223496</td><td>0.9196020</td><td>4</td></tr>\n",
       "\t<tr><th scope=row>3</th><td>0.1218784</td><td>0.9197792</td><td>4</td></tr>\n",
       "\t<tr><th scope=row>4</th><td>0.1217214</td><td>0.9196538</td><td>4</td></tr>\n",
       "\t<tr><th scope=row>5</th><td>0.1218784</td><td>0.9197675</td><td>4</td></tr>\n",
       "\t<tr><th scope=row>6</th><td>0.1212502</td><td>0.9198245</td><td>4</td></tr>\n",
       "</tbody>\n",
       "</table>\n"
      ],
      "text/latex": [
       "A data.frame: 6 × 3\n",
       "\\begin{tabular}{r|lll}\n",
       "  & tasa & auc & modelo\\\\\n",
       "  & <dbl> & <dbl> & <dbl>\\\\\n",
       "\\hline\n",
       "\t1 & 0.1220355 & 0.9194437 & 4\\\\\n",
       "\t2 & 0.1223496 & 0.9196020 & 4\\\\\n",
       "\t3 & 0.1218784 & 0.9197792 & 4\\\\\n",
       "\t4 & 0.1217214 & 0.9196538 & 4\\\\\n",
       "\t5 & 0.1218784 & 0.9197675 & 4\\\\\n",
       "\t6 & 0.1212502 & 0.9198245 & 4\\\\\n",
       "\\end{tabular}\n"
      ],
      "text/markdown": [
       "\n",
       "A data.frame: 6 × 3\n",
       "\n",
       "| <!--/--> | tasa &lt;dbl&gt; | auc &lt;dbl&gt; | modelo &lt;dbl&gt; |\n",
       "|---|---|---|---|\n",
       "| 1 | 0.1220355 | 0.9194437 | 4 |\n",
       "| 2 | 0.1223496 | 0.9196020 | 4 |\n",
       "| 3 | 0.1218784 | 0.9197792 | 4 |\n",
       "| 4 | 0.1217214 | 0.9196538 | 4 |\n",
       "| 5 | 0.1218784 | 0.9197675 | 4 |\n",
       "| 6 | 0.1212502 | 0.9198245 | 4 |\n",
       "\n"
      ],
      "text/plain": [
       "  tasa      auc       modelo\n",
       "1 0.1220355 0.9194437 4     \n",
       "2 0.1223496 0.9196020 4     \n",
       "3 0.1218784 0.9197792 4     \n",
       "4 0.1217214 0.9196538 4     \n",
       "5 0.1218784 0.9197675 4     \n",
       "6 0.1212502 0.9198245 4     "
      ]
     },
     "metadata": {},
     "output_type": "display_data"
    }
   ],
   "source": [
    "head(medias4)"
   ]
  },
  {
   "cell_type": "markdown",
   "id": "f677a3c7",
   "metadata": {},
   "source": [
    "#### model 5-(model_DF1_before_dummies; 10 groups ; 100 iterations)"
   ]
  },
  {
   "cell_type": "code",
   "execution_count": 180,
   "id": "1da3456e",
   "metadata": {
    "ExecuteTime": {
     "end_time": "2021-10-17T14:51:24.270795Z",
     "start_time": "2021-10-17T14:51:24.248Z"
    }
   },
   "outputs": [],
   "source": [
    "data_df1<-cbind(df1,outcome)\n",
    "#data_df1$outcome<-ifelse(data_df1$outcome =='dead','Yes','No')"
   ]
  },
  {
   "cell_type": "code",
   "execution_count": 181,
   "id": "08727d10",
   "metadata": {
    "ExecuteTime": {
     "end_time": "2021-10-17T14:52:47.615444Z",
     "start_time": "2021-10-17T14:51:26.965Z"
    }
   },
   "outputs": [],
   "source": [
    "medias5<-cruzadalogistica(data=data_df1,\n",
    "                    vardep=vardep,\n",
    "                    listconti=\n",
    "c(\"age\", \"yronset\", \"sex\", \"premi\", \"smstat\", \"diabetes\", \"highbp\", \n",
    "\"hichol\", \"angina\", \"stroke\", \"hosp\"),\n",
    "                    listclass=c(\"\"),\n",
    "                    grupos=10,\n",
    "                    sinicio=1234,\n",
    "                    repe=100)\n"
   ]
  },
  {
   "cell_type": "code",
   "execution_count": 182,
   "id": "e45f607a",
   "metadata": {
    "ExecuteTime": {
     "end_time": "2021-10-17T14:52:53.471056Z",
     "start_time": "2021-10-17T14:52:52.098Z"
    }
   },
   "outputs": [],
   "source": [
    "# we add a column with number 1 to put a name of this vector\n",
    "medias5$modelo=5"
   ]
  },
  {
   "cell_type": "code",
   "execution_count": 183,
   "id": "e83a152f",
   "metadata": {
    "ExecuteTime": {
     "end_time": "2021-10-17T14:52:59.284081Z",
     "start_time": "2021-10-17T14:52:55.250Z"
    },
    "scrolled": true
   },
   "outputs": [
    {
     "data": {
      "text/html": [
       "<table class=\"dataframe\">\n",
       "<caption>A data.frame: 6 × 3</caption>\n",
       "<thead>\n",
       "\t<tr><th></th><th scope=col>tasa</th><th scope=col>auc</th><th scope=col>modelo</th></tr>\n",
       "\t<tr><th></th><th scope=col>&lt;dbl&gt;</th><th scope=col>&lt;dbl&gt;</th><th scope=col>&lt;dbl&gt;</th></tr>\n",
       "</thead>\n",
       "<tbody>\n",
       "\t<tr><th scope=row>1</th><td>0.1221926</td><td>0.9198632</td><td>5</td></tr>\n",
       "\t<tr><th scope=row>2</th><td>0.1218784</td><td>0.9206475</td><td>5</td></tr>\n",
       "\t<tr><th scope=row>3</th><td>0.1220355</td><td>0.9206748</td><td>5</td></tr>\n",
       "\t<tr><th scope=row>4</th><td>0.1226637</td><td>0.9204064</td><td>5</td></tr>\n",
       "\t<tr><th scope=row>5</th><td>0.1225067</td><td>0.9208510</td><td>5</td></tr>\n",
       "\t<tr><th scope=row>6</th><td>0.1220355</td><td>0.9209048</td><td>5</td></tr>\n",
       "</tbody>\n",
       "</table>\n"
      ],
      "text/latex": [
       "A data.frame: 6 × 3\n",
       "\\begin{tabular}{r|lll}\n",
       "  & tasa & auc & modelo\\\\\n",
       "  & <dbl> & <dbl> & <dbl>\\\\\n",
       "\\hline\n",
       "\t1 & 0.1221926 & 0.9198632 & 5\\\\\n",
       "\t2 & 0.1218784 & 0.9206475 & 5\\\\\n",
       "\t3 & 0.1220355 & 0.9206748 & 5\\\\\n",
       "\t4 & 0.1226637 & 0.9204064 & 5\\\\\n",
       "\t5 & 0.1225067 & 0.9208510 & 5\\\\\n",
       "\t6 & 0.1220355 & 0.9209048 & 5\\\\\n",
       "\\end{tabular}\n"
      ],
      "text/markdown": [
       "\n",
       "A data.frame: 6 × 3\n",
       "\n",
       "| <!--/--> | tasa &lt;dbl&gt; | auc &lt;dbl&gt; | modelo &lt;dbl&gt; |\n",
       "|---|---|---|---|\n",
       "| 1 | 0.1221926 | 0.9198632 | 5 |\n",
       "| 2 | 0.1218784 | 0.9206475 | 5 |\n",
       "| 3 | 0.1220355 | 0.9206748 | 5 |\n",
       "| 4 | 0.1226637 | 0.9204064 | 5 |\n",
       "| 5 | 0.1225067 | 0.9208510 | 5 |\n",
       "| 6 | 0.1220355 | 0.9209048 | 5 |\n",
       "\n"
      ],
      "text/plain": [
       "  tasa      auc       modelo\n",
       "1 0.1221926 0.9198632 5     \n",
       "2 0.1218784 0.9206475 5     \n",
       "3 0.1220355 0.9206748 5     \n",
       "4 0.1226637 0.9204064 5     \n",
       "5 0.1225067 0.9208510 5     \n",
       "6 0.1220355 0.9209048 5     "
      ]
     },
     "metadata": {},
     "output_type": "display_data"
    }
   ],
   "source": [
    "head(medias5)"
   ]
  },
  {
   "cell_type": "markdown",
   "id": "5bd21199-e5a9-4de3-ae91-6d9e85fd46b2",
   "metadata": {
    "heading_collapsed": "true",
    "tags": []
   },
   "source": [
    "### Boxplot medias vectors"
   ]
  },
  {
   "cell_type": "code",
   "execution_count": 185,
   "id": "781d1b0a-8e45-4d4e-91a1-e9ef54560059",
   "metadata": {
    "ExecuteTime": {
     "end_time": "2021-10-17T14:54:40.962112Z",
     "start_time": "2021-10-17T14:54:39.943Z"
    }
   },
   "outputs": [],
   "source": [
    "union1<-rbind(medias1,medias2,medias3,medias4,medias5)"
   ]
  },
  {
   "cell_type": "code",
   "execution_count": 186,
   "id": "da7c382c-c694-4a4a-a36b-6ae313609c13",
   "metadata": {
    "ExecuteTime": {
     "end_time": "2021-10-17T14:54:46.900461Z",
     "start_time": "2021-10-17T14:54:41.666Z"
    },
    "scrolled": false
   },
   "outputs": [
    {
     "data": {
      "image/png": "[encoded data removed]",
      "text/plain": [
       "Plot with title \"TASA FALLOS\""
      ]
     },
     "metadata": {
      "image/png": {
       "height": 420,
       "width": 420
      }
     },
     "output_type": "display_data"
    },
    {
     "data": {
      "image/png": "[encoded data removed]",
      "text/plain": [
       "Plot with title \"AUC\""
      ]
     },
     "metadata": {
      "image/png": {
       "height": 420,
       "width": 420
      }
     },
     "output_type": "display_data"
    }
   ],
   "source": [
    "par(cex.axis=1.5)\n",
    "boxplot(data=union1,tasa~modelo,main=\"TASA FALLOS\",col=\"blue\")\n",
    "boxplot(data=union1,auc~modelo,main=\"AUC\",col=\"blue\")"
   ]
  },
  {
   "cell_type": "markdown",
   "id": "34e98413",
   "metadata": {},
   "source": [
    "El modelo 1 y el modelo 5 medan los mismos valores. El modelo 3 es un modelo más sencillo, con sólo 9 variables, y que presenta uan tasa de fallos menor que el resto de modelos. Aunque tiene un área bajo la curva un poco menor, la diferencia respecto al mejor es de 0,0015 uds que no se considera suficient como para tener un modelo ás complicado, con lo que a priori escogemos el modelo 3 como mejor modelo. Junto a este no se descarta talmente el modelo 2 que tiene una tasa de fallos un poco mayor, pero un área bajo curva un poco mayor, por lo que se va a realizar el tunning de los dos con 100 y 500 iteraciones para evaluar los mejores resultados."
   ]
  },
  {
   "cell_type": "code",
   "execution_count": 188,
   "id": "22100d9f",
   "metadata": {
    "ExecuteTime": {
     "end_time": "2021-10-17T15:05:11.587197Z",
     "start_time": "2021-10-17T15:05:11.565Z"
    }
   },
   "outputs": [
    {
     "data": {
      "text/html": [
       "44.64"
      ],
      "text/latex": [
       "44.64"
      ],
      "text/markdown": [
       "44.64"
      ],
      "text/plain": [
       "[1] 44.64"
      ]
     },
     "metadata": {},
     "output_type": "display_data"
    }
   ],
   "source": [
    "#el porcentage de yes frente a no es del 44,64%\n",
    "round(100*2842/(2842+3525),2)"
   ]
  },
  {
   "cell_type": "markdown",
   "id": "504e4374-cc0a-40b9-9290-008fc40feeca",
   "metadata": {},
   "source": [
    "## Tunning net with caret "
   ]
  },
  {
   "cell_type": "markdown",
   "id": "d28ad89a",
   "metadata": {},
   "source": [
    "Con el mejor o mejores modelos, estudiamos los mejores parámetros (nodos, decay) en redes\n",
    "neuronales tuneando con caret.\n",
    "\n",
    "Se estudiarán los modelosos 2 y 3."
   ]
  },
  {
   "cell_type": "markdown",
   "id": "184ffc8a-cd42-490f-8493-0a613c8bef5c",
   "metadata": {
    "heading_collapsed": "true",
    "tags": []
   },
   "source": [
    "#### Cross validation modelo 3"
   ]
  },
  {
   "cell_type": "code",
   "execution_count": 254,
   "id": "8bbaae8c-e909-4b08-93e9-ace20fb90159",
   "metadata": {
    "ExecuteTime": {
     "end_time": "2021-10-04T21:10:24.918030Z",
     "start_time": "2021-10-04T21:04:00.700Z"
    }
   },
   "outputs": [
    {
     "data": {
      "text/html": [
       "'hosp_y+highbp_nk+age+angina_nk+angina_y+smstat_nk+yronset+stroke_y+stroke_nk'"
      ],
      "text/latex": [
       "'hosp\\_y+highbp\\_nk+age+angina\\_nk+angina\\_y+smstat\\_nk+yronset+stroke\\_y+stroke\\_nk'"
      ],
      "text/markdown": [
       "'hosp_y+highbp_nk+age+angina_nk+angina_y+smstat_nk+yronset+stroke_y+stroke_nk'"
      ],
      "text/plain": [
       "[1] \"hosp_y+highbp_nk+age+angina_nk+angina_y+smstat_nk+yronset+stroke_y+stroke_nk\""
      ]
     },
     "metadata": {},
     "output_type": "display_data"
    }
   ],
   "source": [
    "vardep<-c(\"outcome\")\n",
    "listconti<-c(\"hosp_y\", \"highbp_nk\", \"age\", \"angina_nk\", \"angina_y\", \n",
    "\"smstat_nk\", \"yronset\", \"stroke_y\", \"stroke_nk\")\n",
    "paste(listconti,collapse = \"+\")\n"
   ]
  },
  {
   "cell_type": "code",
   "execution_count": 255,
   "id": "ec2e2e4b-9a05-49a8-8673-31b71cae2d6d",
   "metadata": {
    "ExecuteTime": {
     "end_time": "2021-10-04T21:10:24.949297Z",
     "start_time": "2021-10-04T21:04:00.703Z"
    }
   },
   "outputs": [],
   "source": [
    "#'hosp_y+highbp_nk+age+angina_nk+angina_y+smstat_nk+yronset+stroke_y+stroke_nk'"
   ]
  },
  {
   "cell_type": "markdown",
   "id": "9d9f69f4-17bc-40c0-a017-12bca1aa99c6",
   "metadata": {},
   "source": [
    "1.-First stage of Caret: Control\n",
    "- objet with train control\n",
    "- Resamplig with Cross validation\n",
    "- ten groups"
   ]
  },
  {
   "cell_type": "code",
   "execution_count": 256,
   "id": "c74b6949-8522-4452-b4a1-b3c75f8f11ba",
   "metadata": {
    "ExecuteTime": {
     "end_time": "2021-10-04T21:10:24.974015Z",
     "start_time": "2021-10-04T21:04:00.705Z"
    }
   },
   "outputs": [],
   "source": [
    "control<-trainControl(method = \"cv\",number=10,savePredictions = \"all\") "
   ]
  },
  {
   "cell_type": "markdown",
   "id": "6f719169-c67b-4efc-bc18-b08c265f89bd",
   "metadata": {},
   "source": [
    "2.-Second Stage: defining grid of hyperparametters(12 differente configurtions)\n",
    "- number of nuts\n",
    "- weight decay, for learning rate."
   ]
  },
  {
   "cell_type": "code",
   "execution_count": 257,
   "id": "bc26e1c7-827c-4844-bc42-988769151c81",
   "metadata": {
    "ExecuteTime": {
     "end_time": "2021-10-04T21:10:24.985099Z",
     "start_time": "2021-10-04T21:04:00.707Z"
    }
   },
   "outputs": [],
   "source": [
    "avnnetgrid <-expand.grid(size=c(5,10,15,20),\n",
    "                         decay=c(0.01,0.1,0.001),bag=FALSE)"
   ]
  },
  {
   "cell_type": "markdown",
   "id": "a984a03b-7c4a-45aa-a3bb-67d080e969bb",
   "metadata": {},
   "source": [
    "3.-Third Stage: train model "
   ]
  },
  {
   "cell_type": "code",
   "execution_count": 258,
   "id": "03601286-5837-4d2a-b9e5-fb48f98df0e2",
   "metadata": {
    "ExecuteTime": {
     "end_time": "2021-10-04T21:13:30.646553Z",
     "start_time": "2021-10-04T21:04:00.710Z"
    },
    "tags": []
   },
   "outputs": [],
   "source": [
    "medias6<- train(outcome~ \n",
    "                hosp_y+highbp_nk+age+angina_nk+angina_y+smstat_nk+yronset+stroke_y+stroke_nk,\n",
    "                data=data,\n",
    "                method=\"avNNet\",\n",
    "                linout = FALSE,\n",
    "                maxit=100,\n",
    "                trControl=control,\n",
    "                tuneGrid=avnnetgrid,\n",
    "                repeats=5)"
   ]
  },
  {
   "cell_type": "code",
   "execution_count": 259,
   "id": "64bac8b0-f9c1-41a6-a4ff-bdd7de267764",
   "metadata": {
    "ExecuteTime": {
     "end_time": "2021-10-04T21:13:30.670523Z",
     "start_time": "2021-10-04T21:04:00.714Z"
    }
   },
   "outputs": [],
   "source": [
    "medias6$modelo=6"
   ]
  },
  {
   "cell_type": "code",
   "execution_count": 260,
   "id": "5e69d169",
   "metadata": {
    "ExecuteTime": {
     "end_time": "2021-10-04T21:13:30.704520Z",
     "start_time": "2021-10-04T21:04:00.716Z"
    },
    "scrolled": false
   },
   "outputs": [
    {
     "data": {
      "text/plain": [
       "Model Averaged Neural Network \n",
       "\n",
       "6367 samples\n",
       "   9 predictor\n",
       "   2 classes: 'No', 'Yes' \n",
       "\n",
       "No pre-processing\n",
       "Resampling: Cross-Validated (10 fold) \n",
       "Summary of sample sizes: 5730, 5731, 5730, 5730, 5730, 5729, ... \n",
       "Resampling results across tuning parameters:\n",
       "\n",
       "  size  decay  Accuracy   Kappa    \n",
       "   5    0.001  0.8795370  0.7505381\n",
       "   5    0.010  0.8789056  0.7493281\n",
       "   5    0.100  0.8771800  0.7458211\n",
       "  10    0.001  0.8767083  0.7449646\n",
       "  10    0.010  0.8746660  0.7409870\n",
       "  10    0.100  0.8774930  0.7465498\n",
       "  15    0.001  0.8754524  0.7424188\n",
       "  15    0.010  0.8738810  0.7393641\n",
       "  15    0.100  0.8768650  0.7453434\n",
       "  20    0.001  0.8746650  0.7409667\n",
       "  20    0.010  0.8727807  0.7371564\n",
       "  20    0.100  0.8767083  0.7449839\n",
       "\n",
       "Tuning parameter 'bag' was held constant at a value of FALSE\n",
       "Accuracy was used to select the optimal model using the largest value.\n",
       "The final values used for the model were size = 5, decay = 0.001 and bag\n",
       " = FALSE."
      ]
     },
     "metadata": {},
     "output_type": "display_data"
    }
   ],
   "source": [
    "medias6"
   ]
  },
  {
   "cell_type": "markdown",
   "id": "3b2b79b3",
   "metadata": {},
   "source": [
    "El modelo escogido será el de 5 nodos, con decay de 0,001, pues nodosos da el mayor valor de Accuracy. Con esos parámetros haremos la cross validation repetiva."
   ]
  },
  {
   "cell_type": "markdown",
   "id": "2e90be45",
   "metadata": {},
   "source": [
    "#### Cross validation modelo 2"
   ]
  },
  {
   "cell_type": "code",
   "execution_count": 261,
   "id": "97d827c4",
   "metadata": {
    "ExecuteTime": {
     "end_time": "2021-10-04T21:13:30.731506Z",
     "start_time": "2021-10-04T21:04:00.719Z"
    }
   },
   "outputs": [
    {
     "data": {
      "text/html": [
       "'hosp_y+highbp_nk+age+angina_nk+angina_y+smstat_nk+yronset+stroke_y+stroke_nk+premi_nk+premi_y+diabetes_y+hichol_y+sex_m'"
      ],
      "text/latex": [
       "'hosp\\_y+highbp\\_nk+age+angina\\_nk+angina\\_y+smstat\\_nk+yronset+stroke\\_y+stroke\\_nk+premi\\_nk+premi\\_y+diabetes\\_y+hichol\\_y+sex\\_m'"
      ],
      "text/markdown": [
       "'hosp_y+highbp_nk+age+angina_nk+angina_y+smstat_nk+yronset+stroke_y+stroke_nk+premi_nk+premi_y+diabetes_y+hichol_y+sex_m'"
      ],
      "text/plain": [
       "[1] \"hosp_y+highbp_nk+age+angina_nk+angina_y+smstat_nk+yronset+stroke_y+stroke_nk+premi_nk+premi_y+diabetes_y+hichol_y+sex_m\""
      ]
     },
     "metadata": {},
     "output_type": "display_data"
    }
   ],
   "source": [
    "vardep<-c(\"outcome\")\n",
    "listconti<-c(\"hosp_y\", \"highbp_nk\", \"age\", \"angina_nk\", \"angina_y\", \n",
    "\"smstat_nk\", \"yronset\", \"stroke_y\", \"stroke_nk\", \"premi_nk\", \n",
    "\"premi_y\", \"diabetes_y\", \"hichol_y\", \"sex_m\")\n",
    "paste(listconti,collapse = \"+\")\n"
   ]
  },
  {
   "cell_type": "markdown",
   "id": "ae073641",
   "metadata": {},
   "source": [
    "1.-First stage of Caret: Control\n",
    "\n",
    "objet with train control\n",
    "Resamplig with Cross validation\n",
    "ten groups"
   ]
  },
  {
   "cell_type": "code",
   "execution_count": 262,
   "id": "54b7dddb",
   "metadata": {
    "ExecuteTime": {
     "end_time": "2021-10-04T21:13:30.754487Z",
     "start_time": "2021-10-04T21:04:00.721Z"
    }
   },
   "outputs": [],
   "source": [
    "control<-trainControl(method = \"cv\",number=10,savePredictions = \"all\") "
   ]
  },
  {
   "cell_type": "markdown",
   "id": "d7054dec",
   "metadata": {},
   "source": [
    "2.-Second Stage: defining grid of hyperparametters(12 differente configurtions)\n",
    "\n",
    "number of nuts\n",
    "weight decay, for learning rate."
   ]
  },
  {
   "cell_type": "code",
   "execution_count": 263,
   "id": "6b90f691",
   "metadata": {
    "ExecuteTime": {
     "end_time": "2021-10-04T21:13:30.777473Z",
     "start_time": "2021-10-04T21:04:00.723Z"
    }
   },
   "outputs": [],
   "source": [
    "avnnetgrid <-expand.grid(size=c(5,10,15,20),\n",
    "                         decay=c(0.01,0.1,0.001),bag=FALSE)"
   ]
  },
  {
   "cell_type": "markdown",
   "id": "fe2d165d",
   "metadata": {},
   "source": [
    "3.-Third Stage: train model"
   ]
  },
  {
   "cell_type": "code",
   "execution_count": 264,
   "id": "d0327b04",
   "metadata": {
    "ExecuteTime": {
     "end_time": "2021-10-04T21:17:08.352843Z",
     "start_time": "2021-10-04T21:04:00.725Z"
    }
   },
   "outputs": [],
   "source": [
    "medias7<- train(outcome~ \n",
    "                   hosp_y+highbp_nk+age+angina_nk+angina_y+smstat_nk+yronset+stroke_y+stroke_nk+premi_nk+premi_y+diabetes_y+hichol_y+sex_m,\n",
    "                  data=data,method=\"avNNet\",linout = FALSE,maxit=100,\n",
    "                  trControl=control,tuneGrid=avnnetgrid, repeats=5)"
   ]
  },
  {
   "cell_type": "code",
   "execution_count": 265,
   "id": "3f13c6f9",
   "metadata": {
    "ExecuteTime": {
     "end_time": "2021-10-04T21:17:08.381130Z",
     "start_time": "2021-10-04T21:04:00.727Z"
    }
   },
   "outputs": [],
   "source": [
    "medias7$modelo=7"
   ]
  },
  {
   "cell_type": "code",
   "execution_count": 266,
   "id": "ddf04ca7",
   "metadata": {
    "ExecuteTime": {
     "end_time": "2021-10-04T21:17:08.408489Z",
     "start_time": "2021-10-04T21:04:00.730Z"
    },
    "scrolled": false
   },
   "outputs": [
    {
     "data": {
      "text/plain": [
       "Model Averaged Neural Network \n",
       "\n",
       "6367 samples\n",
       "  14 predictor\n",
       "   2 classes: 'No', 'Yes' \n",
       "\n",
       "No pre-processing\n",
       "Resampling: Cross-Validated (10 fold) \n",
       "Summary of sample sizes: 5731, 5729, 5730, 5730, 5731, 5730, ... \n",
       "Resampling results across tuning parameters:\n",
       "\n",
       "  size  decay  Accuracy   Kappa    \n",
       "   5    0.001  0.8763975  0.7441713\n",
       "   5    0.010  0.8757683  0.7430983\n",
       "   5    0.100  0.8790675  0.7498847\n",
       "  10    0.001  0.8765550  0.7449031\n",
       "  10    0.010  0.8745117  0.7408795\n",
       "  10    0.100  0.8763965  0.7446236\n",
       "  15    0.001  0.8748247  0.7419583\n",
       "  15    0.010  0.8727841  0.7378217\n",
       "  15    0.100  0.8729411  0.7376492\n",
       "  20    0.001  0.8762368  0.7448076\n",
       "  20    0.010  0.8735688  0.7395434\n",
       "  20    0.100  0.8727856  0.7375238\n",
       "\n",
       "Tuning parameter 'bag' was held constant at a value of FALSE\n",
       "Accuracy was used to select the optimal model using the largest value.\n",
       "The final values used for the model were size = 5, decay = 0.1 and bag = FALSE."
      ]
     },
     "metadata": {},
     "output_type": "display_data"
    }
   ],
   "source": [
    "medias7"
   ]
  },
  {
   "cell_type": "markdown",
   "id": "9fee6d5b",
   "metadata": {},
   "source": [
    "### Cross validation repetitive"
   ]
  },
  {
   "cell_type": "markdown",
   "id": "025837ae-6063-4926-adc4-24d9d2da1db6",
   "metadata": {},
   "source": [
    "####  Cross validation repetitive: 100 iteractions modelo 3 [size = 5, decay = 0.1]"
   ]
  },
  {
   "cell_type": "code",
   "execution_count": 268,
   "id": "b2a0a850-d2a3-45e2-9aec-85fcd0d312e4",
   "metadata": {
    "ExecuteTime": {
     "end_time": "2021-10-05T16:17:28.647346Z",
     "start_time": "2021-10-05T16:15:33.177Z"
    },
    "tags": []
   },
   "outputs": [
    {
     "name": "stdout",
     "output_type": "stream",
     "text": [
      "  size decay   bag  Accuracy     Kappa AccuracySD    KappaSD\n",
      "1    5 0.001 FALSE 0.8778643 0.7472501 0.01112539 0.02350109\n"
     ]
    }
   ],
   "source": [
    "\n",
    "medias8<-cruzadaavnnetbin(data=data,\n",
    "                       vardep=\"outcome\",\n",
    "                       listconti=c(\"hosp_y\", \"highbp_nk\", \"age\", \"angina_nk\", \"angina_y\", \n",
    "\"smstat_nk\", \"yronset\", \"stroke_y\", \"stroke_nk\"),\n",
    "                       listclass=c(\"\"),\n",
    "                       grupos=10,\n",
    "                       sinicio=1234,\n",
    "                       repe=25,\n",
    "                       repeticiones=5,\n",
    "                       itera=100,\n",
    "                       size=c(5),\n",
    "                       decay=c(0.001))\n",
    "\n",
    "\n"
   ]
  },
  {
   "cell_type": "code",
   "execution_count": 269,
   "id": "36024944",
   "metadata": {
    "ExecuteTime": {
     "end_time": "2021-10-05T16:18:23.736094Z",
     "start_time": "2021-10-05T16:17:42.208Z"
    }
   },
   "outputs": [],
   "source": [
    "medias8$modelo=8"
   ]
  },
  {
   "cell_type": "code",
   "execution_count": 270,
   "id": "20103636",
   "metadata": {
    "ExecuteTime": {
     "end_time": "2021-10-05T16:19:17.636948Z",
     "start_time": "2021-10-05T16:17:48.996Z"
    }
   },
   "outputs": [
    {
     "data": {
      "text/html": [
       "<table class=\"dataframe\">\n",
       "<caption>A data.frame: 6 × 3</caption>\n",
       "<thead>\n",
       "\t<tr><th></th><th scope=col>tasa</th><th scope=col>auc</th><th scope=col>modelo</th></tr>\n",
       "\t<tr><th></th><th scope=col>&lt;dbl&gt;</th><th scope=col>&lt;dbl&gt;</th><th scope=col>&lt;dbl&gt;</th></tr>\n",
       "</thead>\n",
       "<tbody>\n",
       "\t<tr><th scope=row>1</th><td>0.1221926</td><td>0.9118762</td><td>8</td></tr>\n",
       "\t<tr><th scope=row>2</th><td>0.1226637</td><td>0.9084950</td><td>8</td></tr>\n",
       "\t<tr><th scope=row>3</th><td>0.1215643</td><td>0.9125467</td><td>8</td></tr>\n",
       "\t<tr><th scope=row>4</th><td>0.1214073</td><td>0.9136701</td><td>8</td></tr>\n",
       "\t<tr><th scope=row>5</th><td>0.1236061</td><td>0.9070676</td><td>8</td></tr>\n",
       "\t<tr><th scope=row>6</th><td>0.1218784</td><td>0.9104554</td><td>8</td></tr>\n",
       "</tbody>\n",
       "</table>\n"
      ],
      "text/latex": [
       "A data.frame: 6 × 3\n",
       "\\begin{tabular}{r|lll}\n",
       "  & tasa & auc & modelo\\\\\n",
       "  & <dbl> & <dbl> & <dbl>\\\\\n",
       "\\hline\n",
       "\t1 & 0.1221926 & 0.9118762 & 8\\\\\n",
       "\t2 & 0.1226637 & 0.9084950 & 8\\\\\n",
       "\t3 & 0.1215643 & 0.9125467 & 8\\\\\n",
       "\t4 & 0.1214073 & 0.9136701 & 8\\\\\n",
       "\t5 & 0.1236061 & 0.9070676 & 8\\\\\n",
       "\t6 & 0.1218784 & 0.9104554 & 8\\\\\n",
       "\\end{tabular}\n"
      ],
      "text/markdown": [
       "\n",
       "A data.frame: 6 × 3\n",
       "\n",
       "| <!--/--> | tasa &lt;dbl&gt; | auc &lt;dbl&gt; | modelo &lt;dbl&gt; |\n",
       "|---|---|---|---|\n",
       "| 1 | 0.1221926 | 0.9118762 | 8 |\n",
       "| 2 | 0.1226637 | 0.9084950 | 8 |\n",
       "| 3 | 0.1215643 | 0.9125467 | 8 |\n",
       "| 4 | 0.1214073 | 0.9136701 | 8 |\n",
       "| 5 | 0.1236061 | 0.9070676 | 8 |\n",
       "| 6 | 0.1218784 | 0.9104554 | 8 |\n",
       "\n"
      ],
      "text/plain": [
       "  tasa      auc       modelo\n",
       "1 0.1221926 0.9118762 8     \n",
       "2 0.1226637 0.9084950 8     \n",
       "3 0.1215643 0.9125467 8     \n",
       "4 0.1214073 0.9136701 8     \n",
       "5 0.1236061 0.9070676 8     \n",
       "6 0.1218784 0.9104554 8     "
      ]
     },
     "metadata": {},
     "output_type": "display_data"
    }
   ],
   "source": [
    "head(medias8)"
   ]
  },
  {
   "cell_type": "markdown",
   "id": "744312a8-7b08-47d4-9cc9-414695d965ec",
   "metadata": {},
   "source": [
    "####  Cross validation repetitive: 500 iterations modelo 3 [size = 5, decay = 0.1]"
   ]
  },
  {
   "cell_type": "code",
   "execution_count": 271,
   "id": "4dff4a4e-1ae9-48ac-b4b5-0125655198be",
   "metadata": {
    "ExecuteTime": {
     "end_time": "2021-10-05T16:27:58.996997Z",
     "start_time": "2021-10-05T16:19:31.088Z"
    },
    "tags": []
   },
   "outputs": [
    {
     "name": "stdout",
     "output_type": "stream",
     "text": [
      "  size decay   bag  Accuracy     Kappa AccuracySD    KappaSD\n",
      "1    5 0.001 FALSE 0.8767774 0.7450545 0.01110455 0.02346587\n"
     ]
    }
   ],
   "source": [
    "\n",
    "medias9<-cruzadaavnnetbin(data=data,\n",
    "                       vardep=\"outcome\",\n",
    "                       listconti=c(\"hosp_y\", \"highbp_nk\", \"age\", \"angina_nk\", \"angina_y\", \n",
    "\"smstat_nk\", \"yronset\", \"stroke_y\", \"stroke_nk\"),\n",
    "                       listclass=c(\"\"),\n",
    "                       grupos=10,\n",
    "                       sinicio=1234,\n",
    "                       repe=25,\n",
    "                       repeticiones=5,\n",
    "                       itera=500,\n",
    "                       size=c(5),\n",
    "                       decay=c(0.001))\n",
    "\n",
    "medias9$modelo=9\n"
   ]
  },
  {
   "cell_type": "code",
   "execution_count": 272,
   "id": "5c1c826f",
   "metadata": {
    "ExecuteTime": {
     "end_time": "2021-10-05T16:30:13.785020Z",
     "start_time": "2021-10-05T16:30:13.751Z"
    }
   },
   "outputs": [
    {
     "data": {
      "text/html": [
       "<table class=\"dataframe\">\n",
       "<caption>A data.frame: 6 × 3</caption>\n",
       "<thead>\n",
       "\t<tr><th></th><th scope=col>tasa</th><th scope=col>auc</th><th scope=col>modelo</th></tr>\n",
       "\t<tr><th></th><th scope=col>&lt;dbl&gt;</th><th scope=col>&lt;dbl&gt;</th><th scope=col>&lt;dbl&gt;</th></tr>\n",
       "</thead>\n",
       "<tbody>\n",
       "\t<tr><th scope=row>1</th><td>0.1231349</td><td>0.9179865</td><td>9</td></tr>\n",
       "\t<tr><th scope=row>2</th><td>0.1218784</td><td>0.9178961</td><td>9</td></tr>\n",
       "\t<tr><th scope=row>3</th><td>0.1226637</td><td>0.9176224</td><td>9</td></tr>\n",
       "\t<tr><th scope=row>4</th><td>0.1229779</td><td>0.9163167</td><td>9</td></tr>\n",
       "\t<tr><th scope=row>5</th><td>0.1256479</td><td>0.9169407</td><td>9</td></tr>\n",
       "\t<tr><th scope=row>6</th><td>0.1231349</td><td>0.9179389</td><td>9</td></tr>\n",
       "</tbody>\n",
       "</table>\n"
      ],
      "text/latex": [
       "A data.frame: 6 × 3\n",
       "\\begin{tabular}{r|lll}\n",
       "  & tasa & auc & modelo\\\\\n",
       "  & <dbl> & <dbl> & <dbl>\\\\\n",
       "\\hline\n",
       "\t1 & 0.1231349 & 0.9179865 & 9\\\\\n",
       "\t2 & 0.1218784 & 0.9178961 & 9\\\\\n",
       "\t3 & 0.1226637 & 0.9176224 & 9\\\\\n",
       "\t4 & 0.1229779 & 0.9163167 & 9\\\\\n",
       "\t5 & 0.1256479 & 0.9169407 & 9\\\\\n",
       "\t6 & 0.1231349 & 0.9179389 & 9\\\\\n",
       "\\end{tabular}\n"
      ],
      "text/markdown": [
       "\n",
       "A data.frame: 6 × 3\n",
       "\n",
       "| <!--/--> | tasa &lt;dbl&gt; | auc &lt;dbl&gt; | modelo &lt;dbl&gt; |\n",
       "|---|---|---|---|\n",
       "| 1 | 0.1231349 | 0.9179865 | 9 |\n",
       "| 2 | 0.1218784 | 0.9178961 | 9 |\n",
       "| 3 | 0.1226637 | 0.9176224 | 9 |\n",
       "| 4 | 0.1229779 | 0.9163167 | 9 |\n",
       "| 5 | 0.1256479 | 0.9169407 | 9 |\n",
       "| 6 | 0.1231349 | 0.9179389 | 9 |\n",
       "\n"
      ],
      "text/plain": [
       "  tasa      auc       modelo\n",
       "1 0.1231349 0.9179865 9     \n",
       "2 0.1218784 0.9178961 9     \n",
       "3 0.1226637 0.9176224 9     \n",
       "4 0.1229779 0.9163167 9     \n",
       "5 0.1256479 0.9169407 9     \n",
       "6 0.1231349 0.9179389 9     "
      ]
     },
     "metadata": {},
     "output_type": "display_data"
    }
   ],
   "source": [
    "head(medias9)"
   ]
  },
  {
   "cell_type": "markdown",
   "id": "c10150bb",
   "metadata": {},
   "source": [
    "#### Cross validation repetitive: 100 iteractions modelo 2"
   ]
  },
  {
   "cell_type": "code",
   "execution_count": 273,
   "id": "6c41d3b8",
   "metadata": {
    "ExecuteTime": {
     "end_time": "2021-10-05T16:34:49.560065Z",
     "start_time": "2021-10-05T16:30:20.148Z"
    }
   },
   "outputs": [
    {
     "name": "stdout",
     "output_type": "stream",
     "text": [
      "  size decay   bag  Accuracy     Kappa AccuracySD    KappaSD\n",
      "1    5   0.1 FALSE 0.8769537 0.7456077  0.0109435 0.02306073\n"
     ]
    }
   ],
   "source": [
    "medias10<-cruzadaavnnetbin(data=data,\n",
    "                       vardep=\"outcome\",listconti=c(\"hosp_y\", \"highbp_nk\", \"age\", \"angina_nk\", \"angina_y\", \n",
    "\"smstat_nk\", \"yronset\", \"stroke_y\", \"stroke_nk\", \"premi_nk\", \n",
    "\"premi_y\", \"diabetes_y\", \"hichol_y\", \"sex_m\"),\n",
    "                       listclass=c(\"\"),grupos=10,sinicio=1234,repe=25,repeticiones=5,itera=100,\n",
    "                       size=c(5),decay=c(0.1))\n"
   ]
  },
  {
   "cell_type": "code",
   "execution_count": 274,
   "id": "699e8177",
   "metadata": {
    "ExecuteTime": {
     "end_time": "2021-10-05T16:35:44.263145Z",
     "start_time": "2021-10-05T16:30:22.221Z"
    }
   },
   "outputs": [],
   "source": [
    "medias10$modelo=10\n"
   ]
  },
  {
   "cell_type": "code",
   "execution_count": 275,
   "id": "383df789",
   "metadata": {
    "ExecuteTime": {
     "end_time": "2021-10-05T16:36:39.083625Z",
     "start_time": "2021-10-05T16:30:24.094Z"
    }
   },
   "outputs": [
    {
     "data": {
      "text/html": [
       "<table class=\"dataframe\">\n",
       "<caption>A data.frame: 6 × 3</caption>\n",
       "<thead>\n",
       "\t<tr><th></th><th scope=col>tasa</th><th scope=col>auc</th><th scope=col>modelo</th></tr>\n",
       "\t<tr><th></th><th scope=col>&lt;dbl&gt;</th><th scope=col>&lt;dbl&gt;</th><th scope=col>&lt;dbl&gt;</th></tr>\n",
       "</thead>\n",
       "<tbody>\n",
       "\t<tr><th scope=row>1</th><td>0.1239202</td><td>0.9190394</td><td>10</td></tr>\n",
       "\t<tr><th scope=row>2</th><td>0.1231349</td><td>0.9197286</td><td>10</td></tr>\n",
       "\t<tr><th scope=row>3</th><td>0.1218784</td><td>0.9205322</td><td>10</td></tr>\n",
       "\t<tr><th scope=row>4</th><td>0.1243914</td><td>0.9198499</td><td>10</td></tr>\n",
       "\t<tr><th scope=row>5</th><td>0.1239202</td><td>0.9210522</td><td>10</td></tr>\n",
       "\t<tr><th scope=row>6</th><td>0.1232920</td><td>0.9192156</td><td>10</td></tr>\n",
       "</tbody>\n",
       "</table>\n"
      ],
      "text/latex": [
       "A data.frame: 6 × 3\n",
       "\\begin{tabular}{r|lll}\n",
       "  & tasa & auc & modelo\\\\\n",
       "  & <dbl> & <dbl> & <dbl>\\\\\n",
       "\\hline\n",
       "\t1 & 0.1239202 & 0.9190394 & 10\\\\\n",
       "\t2 & 0.1231349 & 0.9197286 & 10\\\\\n",
       "\t3 & 0.1218784 & 0.9205322 & 10\\\\\n",
       "\t4 & 0.1243914 & 0.9198499 & 10\\\\\n",
       "\t5 & 0.1239202 & 0.9210522 & 10\\\\\n",
       "\t6 & 0.1232920 & 0.9192156 & 10\\\\\n",
       "\\end{tabular}\n"
      ],
      "text/markdown": [
       "\n",
       "A data.frame: 6 × 3\n",
       "\n",
       "| <!--/--> | tasa &lt;dbl&gt; | auc &lt;dbl&gt; | modelo &lt;dbl&gt; |\n",
       "|---|---|---|---|\n",
       "| 1 | 0.1239202 | 0.9190394 | 10 |\n",
       "| 2 | 0.1231349 | 0.9197286 | 10 |\n",
       "| 3 | 0.1218784 | 0.9205322 | 10 |\n",
       "| 4 | 0.1243914 | 0.9198499 | 10 |\n",
       "| 5 | 0.1239202 | 0.9210522 | 10 |\n",
       "| 6 | 0.1232920 | 0.9192156 | 10 |\n",
       "\n"
      ],
      "text/plain": [
       "  tasa      auc       modelo\n",
       "1 0.1239202 0.9190394 10    \n",
       "2 0.1231349 0.9197286 10    \n",
       "3 0.1218784 0.9205322 10    \n",
       "4 0.1243914 0.9198499 10    \n",
       "5 0.1239202 0.9210522 10    \n",
       "6 0.1232920 0.9192156 10    "
      ]
     },
     "metadata": {},
     "output_type": "display_data"
    }
   ],
   "source": [
    "head(medias10)"
   ]
  },
  {
   "cell_type": "markdown",
   "id": "b3fec2eb",
   "metadata": {},
   "source": [
    "#### Cross validation repetitive:  500 iteractions modelo 2"
   ]
  },
  {
   "cell_type": "code",
   "execution_count": 277,
   "id": "11c6b36d",
   "metadata": {
    "ExecuteTime": {
     "end_time": "2021-10-05T16:49:43.398174Z",
     "start_time": "2021-10-05T16:42:43.938Z"
    }
   },
   "outputs": [
    {
     "name": "stdout",
     "output_type": "stream",
     "text": [
      "  size decay   bag  Accuracy     Kappa AccuracySD    KappaSD\n",
      "1    5   0.1 FALSE 0.8766019 0.7449503 0.01124439 0.02368537\n"
     ]
    }
   ],
   "source": [
    "medias11<-cruzadaavnnetbin(data=data,\n",
    "                       vardep=\"outcome\",listconti=c(\"hosp_y\", \"highbp_nk\", \"age\", \"angina_nk\", \"angina_y\", \n",
    "\"smstat_nk\", \"yronset\", \"stroke_y\", \"stroke_nk\", \"premi_nk\", \n",
    "\"premi_y\", \"diabetes_y\", \"hichol_y\", \"sex_m\"),\n",
    "                       listclass=c(\"\"),grupos=10,sinicio=1234,repe=25,repeticiones=5,itera=500,\n",
    "                       size=c(5),decay=c(0.1))\n",
    "\n",
    "\n",
    "\n",
    "\n",
    "\n"
   ]
  },
  {
   "cell_type": "code",
   "execution_count": 278,
   "id": "7bbae725",
   "metadata": {
    "ExecuteTime": {
     "end_time": "2021-10-05T16:50:38.141658Z",
     "start_time": "2021-10-05T16:42:48.781Z"
    }
   },
   "outputs": [],
   "source": [
    "medias11$modelo=11\n"
   ]
  },
  {
   "cell_type": "code",
   "execution_count": 280,
   "id": "582938f1",
   "metadata": {
    "ExecuteTime": {
     "end_time": "2021-10-05T16:52:26.184103Z",
     "start_time": "2021-10-05T16:44:24.796Z"
    }
   },
   "outputs": [
    {
     "data": {
      "text/html": [
       "<table class=\"dataframe\">\n",
       "<caption>A data.frame: 6 × 3</caption>\n",
       "<thead>\n",
       "\t<tr><th></th><th scope=col>tasa</th><th scope=col>auc</th><th scope=col>modelo</th></tr>\n",
       "\t<tr><th></th><th scope=col>&lt;dbl&gt;</th><th scope=col>&lt;dbl&gt;</th><th scope=col>&lt;dbl&gt;</th></tr>\n",
       "</thead>\n",
       "<tbody>\n",
       "\t<tr><th scope=row>1</th><td>0.1231349</td><td>0.9186272</td><td>11</td></tr>\n",
       "\t<tr><th scope=row>2</th><td>0.1236061</td><td>0.9194230</td><td>11</td></tr>\n",
       "\t<tr><th scope=row>3</th><td>0.1229779</td><td>0.9197108</td><td>11</td></tr>\n",
       "\t<tr><th scope=row>4</th><td>0.1232920</td><td>0.9196460</td><td>11</td></tr>\n",
       "\t<tr><th scope=row>5</th><td>0.1242343</td><td>0.9205602</td><td>11</td></tr>\n",
       "\t<tr><th scope=row>6</th><td>0.1232920</td><td>0.9188729</td><td>11</td></tr>\n",
       "</tbody>\n",
       "</table>\n"
      ],
      "text/latex": [
       "A data.frame: 6 × 3\n",
       "\\begin{tabular}{r|lll}\n",
       "  & tasa & auc & modelo\\\\\n",
       "  & <dbl> & <dbl> & <dbl>\\\\\n",
       "\\hline\n",
       "\t1 & 0.1231349 & 0.9186272 & 11\\\\\n",
       "\t2 & 0.1236061 & 0.9194230 & 11\\\\\n",
       "\t3 & 0.1229779 & 0.9197108 & 11\\\\\n",
       "\t4 & 0.1232920 & 0.9196460 & 11\\\\\n",
       "\t5 & 0.1242343 & 0.9205602 & 11\\\\\n",
       "\t6 & 0.1232920 & 0.9188729 & 11\\\\\n",
       "\\end{tabular}\n"
      ],
      "text/markdown": [
       "\n",
       "A data.frame: 6 × 3\n",
       "\n",
       "| <!--/--> | tasa &lt;dbl&gt; | auc &lt;dbl&gt; | modelo &lt;dbl&gt; |\n",
       "|---|---|---|---|\n",
       "| 1 | 0.1231349 | 0.9186272 | 11 |\n",
       "| 2 | 0.1236061 | 0.9194230 | 11 |\n",
       "| 3 | 0.1229779 | 0.9197108 | 11 |\n",
       "| 4 | 0.1232920 | 0.9196460 | 11 |\n",
       "| 5 | 0.1242343 | 0.9205602 | 11 |\n",
       "| 6 | 0.1232920 | 0.9188729 | 11 |\n",
       "\n"
      ],
      "text/plain": [
       "  tasa      auc       modelo\n",
       "1 0.1231349 0.9186272 11    \n",
       "2 0.1236061 0.9194230 11    \n",
       "3 0.1229779 0.9197108 11    \n",
       "4 0.1232920 0.9196460 11    \n",
       "5 0.1242343 0.9205602 11    \n",
       "6 0.1232920 0.9188729 11    "
      ]
     },
     "metadata": {},
     "output_type": "display_data"
    }
   ],
   "source": [
    "head(medias11)"
   ]
  },
  {
   "cell_type": "code",
   "execution_count": 281,
   "id": "8361647f",
   "metadata": {
    "ExecuteTime": {
     "end_time": "2021-10-05T16:53:21.141372Z",
     "start_time": "2021-10-05T16:52:31.626Z"
    }
   },
   "outputs": [
    {
     "data": {
      "image/png": "[encoded data removed]",
      "text/plain": [
       "Plot with title \"TASA FALLOS\""
      ]
     },
     "metadata": {
      "image/png": {
       "height": 420,
       "width": 420
      }
     },
     "output_type": "display_data"
    },
    {
     "data": {
      "image/png": "[encoded data removed]",
      "text/plain": [
       "Plot with title \"AUC\""
      ]
     },
     "metadata": {
      "image/png": {
       "height": 420,
       "width": 420
      }
     },
     "output_type": "display_data"
    }
   ],
   "source": [
    "union2<-rbind(medias2,medias3,medias8,medias9,medias10,medias11)\n",
    "par(cex.axis=1.5)\n",
    "boxplot(data=union2,tasa~modelo,main=\"TASA FALLOS\")\n",
    "boxplot(data=union2,auc~modelo,main=\"AUC\")"
   ]
  },
  {
   "cell_type": "markdown",
   "id": "4b7b1108",
   "metadata": {},
   "source": [
    "El modelo de red que se escge es el medias 9, que se consigue con 500 iteraciones sobre las 9 variables[size = 5, decay = 0.1] Se hace esta selección atendiendo a que la diferencia en el área debajo de la curva entre el modelo 9, 10 y 11 no es muy grande y tampoco la diferencia entre tasa de fallos, por el contrario sí presenta el modelo 9 una lista de variables menor que lo hace más sencillo. Es por ello que se escoge el modelo 9. "
   ]
  },
  {
   "cell_type": "markdown",
   "id": "b3070bff",
   "metadata": {},
   "source": [
    "### Comparación de modelos"
   ]
  },
  {
   "cell_type": "code",
   "execution_count": 190,
   "id": "1657695d",
   "metadata": {
    "ExecuteTime": {
     "end_time": "2021-10-17T15:18:06.700417Z",
     "start_time": "2021-10-17T15:17:09.758Z"
    }
   },
   "outputs": [],
   "source": [
    "#Mejor modelo de regresión logística (medias3 de EDA_NNET)\n",
    "medias_1<-cruzadalogistica(data=data,\n",
    "                    vardep=c(\"outcome\"),\n",
    "                    listconti=\n",
    "c(\"hosp_y\", \"highbp_nk\", \"age\", \"angina_nk\", \"angina_y\", \n",
    "\"smstat_nk\", \"yronset\", \"stroke_y\", \"stroke_nk\"),\n",
    "                    listclass=c(\"\"),\n",
    "                    grupos=10,\n",
    "                    sinicio=1234,\n",
    "                    repe=100)\n",
    "\n",
    "\n",
    " medias_1$modelo=\"Logística\"\n"
   ]
  },
  {
   "cell_type": "code",
   "execution_count": null,
   "id": "061790ad",
   "metadata": {},
   "outputs": [],
   "source": [
    "#mejor modelo de red neuronal(medias9 de EDA_NNET)\n",
    "medias_2<-cruzadaavnnetbin(data=data,\n",
    "                       vardep=\"outcome\",\n",
    "                       listconti=c(\"hosp_y\", \"highbp_nk\", \"age\", \"angina_nk\", \"angina_y\", \n",
    "\"smstat_nk\", \"yronset\", \"stroke_y\", \"stroke_nk\"),\n",
    "                       listclass=c(\"\"),\n",
    "                       grupos=10,\n",
    "                       sinicio=1234,\n",
    "                       repe=25,\n",
    "                       repeticiones=5,\n",
    "                       itera=500,\n",
    "                       size=c(5),\n",
    "                       decay=c(0.001))\n",
    "\n",
    "  medias_2$modelo=\"avnnet\""
   ]
  },
  {
   "cell_type": "code",
   "execution_count": 193,
   "id": "8f3f05db",
   "metadata": {
    "ExecuteTime": {
     "end_time": "2021-10-17T15:54:29.054625Z",
     "start_time": "2021-10-17T15:54:28.936Z"
    }
   },
   "outputs": [
    {
     "data": {
      "image/png": "[encoded data removed]",
      "text/plain": [
       "Plot with title \"TASA FALLOS\""
      ]
     },
     "metadata": {
      "image/png": {
       "height": 420,
       "width": 420
      }
     },
     "output_type": "display_data"
    },
    {
     "data": {
      "image/png": "[encoded data removed]",
      "text/plain": [
       "Plot with title \"AUC\""
      ]
     },
     "metadata": {
      "image/png": {
       "height": 420,
       "width": 420
      }
     },
     "output_type": "display_data"
    }
   ],
   "source": [
    "union3<-rbind(medias_1,medias_2)\n",
    "par(cex.axis=1.5)\n",
    "boxplot(data=union3,tasa~modelo,main=\"TASA FALLOS\",col=\"yellow\")\n",
    "boxplot(data=union3,auc~modelo,main=\"AUC\",col=\"orange\")"
   ]
  },
  {
   "cell_type": "markdown",
   "id": "9c1ea914",
   "metadata": {
    "ExecuteTime": {
     "end_time": "2021-10-17T15:16:59.147475Z",
     "start_time": "2021-10-17T15:16:59.123Z"
    }
   },
   "source": [
    "### Modelo ganador"
   ]
  },
  {
   "cell_type": "markdown",
   "id": "f88eb672",
   "metadata": {
    "ExecuteTime": {
     "end_time": "2021-10-17T15:56:10.851645Z",
     "start_time": "2021-10-17T15:56:10.836Z"
    }
   },
   "source": [
    "Se aprecia que aunque las diferencias no son muy acusadas, la regresión logística ofrece mejores resultados que la red neuronal.Tiene un AUC mayor y una tasa de fallos menor."
   ]
  }
 ],
 "metadata": {
  "kernelspec": {
   "display_name": "R",
   "language": "R",
   "name": "ir"
  },
  "language_info": {
   "codemirror_mode": "r",
   "file_extension": ".r",
   "mimetype": "text/x-r-source",
   "name": "R",
   "pygments_lexer": "r",
   "version": "4.1.1"
  },
  "latex_envs": {
   "LaTeX_envs_menu_present": true,
   "autoclose": false,
   "autocomplete": true,
   "bibliofile": "biblio.bib",
   "cite_by": "apalike",
   "current_citInitial": 1,
   "eqLabelWithNumbers": true,
   "eqNumInitial": 1,
   "hotkeys": {
    "equation": "Ctrl-E",
    "itemize": "Ctrl-I"
   },
   "labels_anchors": false,
   "latex_user_defs": false,
   "report_style_numbering": false,
   "user_envs_cfg": false
  },
  "toc": {
   "base_numbering": 1,
   "nav_menu": {},
   "number_sections": true,
   "sideBar": true,
   "skip_h1_title": false,
   "title_cell": "Table of Contents",
   "title_sidebar": "Contents",
   "toc_cell": false,
   "toc_position": {
    "height": "calc(100% - 180px)",
    "left": "10px",
    "top": "150px",
    "width": "411.389px"
   },
   "toc_section_display": true,
   "toc_window_display": false
  },
  "toc-autonumbering": true,
  "toc-showcode": false,
  "toc-showtags": false,
  "varInspector": {
   "cols": {
    "lenName": 16,
    "lenType": 16,
    "lenVar": 40
   },
   "kernels_config": {
    "python": {
     "delete_cmd_postfix": "",
     "delete_cmd_prefix": "del ",
     "library": "var_list.py",
     "varRefreshCmd": "print(var_dic_list())"
    },
    "r": {
     "delete_cmd_postfix": ") ",
     "delete_cmd_prefix": "rm(",
     "library": "var_list.r",
     "varRefreshCmd": "cat(var_dic_list()) "
    }
   },
   "position": {
    "height": "844.948px",
    "left": "1573.53px",
    "right": "20px",
    "top": "161.892px",
    "width": "432.83px"
   },
   "types_to_exclude": [
    "module",
    "function",
    "builtin_function_or_method",
    "instance",
    "_Feature"
   ],
   "window_display": false
  }
 },
 "nbformat": 4,
 "nbformat_minor": 5
}
