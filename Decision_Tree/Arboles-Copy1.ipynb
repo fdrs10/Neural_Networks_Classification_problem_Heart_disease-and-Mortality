{
 "cells": [
  {
   "cell_type": "markdown",
   "id": "a0e749c9",
   "metadata": {},
   "source": [
    "## Árboles de decisión "
   ]
  },
  {
   "cell_type": "code",
   "execution_count": null,
   "id": "37727bef",
   "metadata": {},
   "outputs": [],
   "source": [
    "install.packages(\"rpart.plot\")\n",
    "install.packages(\"rattle\")"
   ]
  },
  {
   "cell_type": "code",
   "execution_count": null,
   "id": "1c388484",
   "metadata": {},
   "outputs": [],
   "source": [
    "\n",
    "library(rpart)\n",
    "library(rpart.plot)\n",
    "library(rattle)\n",
    "library(pROC)\n",
    "library(caret)"
   ]
  },
  {
   "cell_type": "code",
   "execution_count": null,
   "id": "28ff9ba3",
   "metadata": {},
   "outputs": [],
   "source": [
    "source (\"cruzadas avnnet y log binaria.R\")\n",
    "source (\"cruzada arbolbin.R\")"
   ]
  },
  {
   "cell_type": "code",
   "execution_count": 3,
   "id": "9910be96",
   "metadata": {
    "ExecuteTime": {
     "end_time": "2021-10-18T14:54:25.532741Z",
     "start_time": "2021-10-18T14:54:25.502Z"
    }
   },
   "outputs": [
    {
     "name": "stdout",
     "output_type": "stream",
     "text": [
      "c(\"age\", \"yronset\", \"sex_m\", \"premi_nk\", \"premi_y\", \"smstat_n\", \n",
      "\"smstat_nk\", \"smstat_x\", \"diabetes_nk\", \"diabetes_y\", \"highbp_nk\", \n",
      "\"highbp_y\", \"hichol_nk\", \"hichol_y\", \"angina_nk\", \"angina_y\", \n",
      "\"stroke_nk\", \"stroke_y\", \"hosp_y\", \"outcome\")\n"
     ]
    }
   ],
   "source": [
    "load(\"data.Rda\")\n",
    "dput(names(data))\n",
    "\n",
    "\n",
    "\n"
   ]
  },
  {
   "cell_type": "markdown",
   "id": "5673053b",
   "metadata": {},
   "source": [
    "### Árbol de decicisón, modelo inicial con todas las variables"
   ]
  },
  {
   "cell_type": "code",
   "execution_count": 4,
   "id": "bbdbe7df",
   "metadata": {
    "ExecuteTime": {
     "end_time": "2021-10-18T14:57:22.914664Z",
     "start_time": "2021-10-18T14:57:22.744Z"
    }
   },
   "outputs": [
    {
     "name": "stdout",
     "output_type": "stream",
     "text": [
      "Call:\n",
      "rpart(formula = factor(outcome) ~ ., data = data, method = \"class\", \n",
      "    parms = list(split = \"gini\"), minbucket = 30)\n",
      "  n= 6367 \n",
      "\n",
      "          CP nsplit rel error    xerror        xstd\n",
      "1 0.67522871      0 1.0000000 1.0000000 0.013957258\n",
      "2 0.05242787      1 0.3247713 0.3247713 0.009884812\n",
      "3 0.01000000      2 0.2723434 0.2741027 0.009200373\n",
      "\n",
      "Variable importance\n",
      "     hosp_y   highbp_nk diabetes_nk   stroke_nk   angina_nk    premi_nk \n",
      "         40          14          13          12          11           9 \n",
      "  smstat_nk \n",
      "          1 \n",
      "\n",
      "Node number 1: 6367 observations,    complexity param=0.6752287\n",
      "  predicted class=No   expected loss=0.4463641  P(node) =1\n",
      "    class counts:  3525  2842\n",
      "   probabilities: 0.554 0.446 \n",
      "  left son=2 (4442 obs) right son=3 (1925 obs)\n",
      "  Primary splits:\n",
      "      hosp_y      < 0.5 to the right, improve=1681.9660, (0 missing)\n",
      "      highbp_nk   < 0.5 to the left,  improve= 565.9979, (0 missing)\n",
      "      stroke_nk   < 0.5 to the left,  improve= 562.2713, (0 missing)\n",
      "      diabetes_nk < 0.5 to the left,  improve= 557.7296, (0 missing)\n",
      "      angina_nk   < 0.5 to the left,  improve= 536.8761, (0 missing)\n",
      "  Surrogate splits:\n",
      "      diabetes_nk < 0.5 to the left,  agree=0.775, adj=0.255, (0 split)\n",
      "      stroke_nk   < 0.5 to the left,  agree=0.771, adj=0.242, (0 split)\n",
      "      highbp_nk   < 0.5 to the left,  agree=0.770, adj=0.240, (0 split)\n",
      "      angina_nk   < 0.5 to the left,  agree=0.765, adj=0.223, (0 split)\n",
      "      premi_nk    < 0.5 to the left,  agree=0.761, adj=0.209, (0 split)\n",
      "\n",
      "Node number 2: 4442 observations,    complexity param=0.05242787\n",
      "  predicted class=No   expected loss=0.2071139  P(node) =0.6976598\n",
      "    class counts:  3522   920\n",
      "   probabilities: 0.793 0.207 \n",
      "  left son=4 (4199 obs) right son=5 (243 obs)\n",
      "  Primary splits:\n",
      "      highbp_nk   < 0.5 to the left,  improve=184.7585, (0 missing)\n",
      "      stroke_nk   < 0.5 to the left,  improve=183.2605, (0 missing)\n",
      "      diabetes_nk < 0.5 to the left,  improve=171.8815, (0 missing)\n",
      "      angina_nk   < 0.5 to the left,  improve=169.7267, (0 missing)\n",
      "      smstat_nk   < 0.5 to the left,  improve=152.1050, (0 missing)\n",
      "  Surrogate splits:\n",
      "      diabetes_nk < 0.5 to the left,  agree=0.980, adj=0.630, (0 split)\n",
      "      stroke_nk   < 0.5 to the left,  agree=0.978, adj=0.601, (0 split)\n",
      "      angina_nk   < 0.5 to the left,  agree=0.969, adj=0.432, (0 split)\n",
      "      premi_nk    < 0.5 to the left,  agree=0.960, adj=0.272, (0 split)\n",
      "      smstat_nk   < 0.5 to the left,  agree=0.957, adj=0.214, (0 split)\n",
      "\n",
      "Node number 3: 1925 observations\n",
      "  predicted class=Yes  expected loss=0.001558442  P(node) =0.3023402\n",
      "    class counts:     3  1922\n",
      "   probabilities: 0.002 0.998 \n",
      "\n",
      "Node number 4: 4199 observations\n",
      "  predicted class=No   expected loss=0.172422  P(node) =0.6594943\n",
      "    class counts:  3475   724\n",
      "   probabilities: 0.828 0.172 \n",
      "\n",
      "Node number 5: 243 observations\n",
      "  predicted class=Yes  expected loss=0.1934156  P(node) =0.03816554\n",
      "    class counts:    47   196\n",
      "   probabilities: 0.193 0.807 \n",
      "\n"
     ]
    }
   ],
   "source": [
    "arbol1 <- rpart(factor(outcome) ~ .,\n",
    "                data = data,\n",
    "                minbucket =30,\n",
    "                method = \"class\",\n",
    "                parms=list(split=\"gini\"))\n",
    "\n",
    "summary(arbol1)"
   ]
  },
  {
   "cell_type": "markdown",
   "id": "70116045",
   "metadata": {},
   "source": [
    "#### Gráficos explicativos del árbol de decisión"
   ]
  },
  {
   "cell_type": "markdown",
   "id": "3b522ce4",
   "metadata": {},
   "source": [
    "##### extra=101"
   ]
  },
  {
   "cell_type": "markdown",
   "id": "f3f0809c",
   "metadata": {},
   "source": [
    "extra=101: En cada nodo, Número de observaciones de cada clase y % de observaciones sobre el total"
   ]
  },
  {
   "cell_type": "code",
   "execution_count": 5,
   "id": "94142590",
   "metadata": {
    "ExecuteTime": {
     "end_time": "2021-10-18T14:57:29.209043Z",
     "start_time": "2021-10-18T14:57:29.023Z"
    }
   },
   "outputs": [
    {
     "data": {
      "image/png": "[encoded data removed]",
      "text/plain": [
       "plot without title"
      ]
     },
     "metadata": {
      "image/png": {
       "height": 420,
       "width": 420
      }
     },
     "output_type": "display_data"
    }
   ],
   "source": [
    "rpart.plot(arbol1,extra=101)"
   ]
  },
  {
   "cell_type": "markdown",
   "id": "f2fe4469",
   "metadata": {},
   "source": [
    "##### extra=105"
   ]
  },
  {
   "cell_type": "markdown",
   "id": "a0b21068",
   "metadata": {},
   "source": [
    "extra=105 en cada nodo, % de observaciones de cada clase y % de observaciones sobre el total"
   ]
  },
  {
   "cell_type": "code",
   "execution_count": 6,
   "id": "f6a8f213",
   "metadata": {
    "ExecuteTime": {
     "end_time": "2021-10-18T14:57:35.809243Z",
     "start_time": "2021-10-18T14:57:35.634Z"
    }
   },
   "outputs": [
    {
     "data": {
      "image/png": "[encoded data removed]",
      "text/plain": [
       "plot without title"
      ]
     },
     "metadata": {
      "image/png": {
       "height": 420,
       "width": 420
      }
     },
     "output_type": "display_data"
    }
   ],
   "source": [
    "rpart.plot(arbol1,extra=105)"
   ]
  },
  {
   "cell_type": "markdown",
   "id": "d18389e7",
   "metadata": {},
   "source": [
    "##### extra=5"
   ]
  },
  {
   "cell_type": "markdown",
   "id": "e553fa0c",
   "metadata": {},
   "source": [
    "extra=5:En cada nodo, solo % de observaciones de cada clase \n"
   ]
  },
  {
   "cell_type": "code",
   "execution_count": 7,
   "id": "e0b0aff6",
   "metadata": {
    "ExecuteTime": {
     "end_time": "2021-10-18T15:01:29.081023Z",
     "start_time": "2021-10-18T15:01:28.891Z"
    }
   },
   "outputs": [
    {
     "data": {
      "image/png": "[encoded data removed]",
      "text/plain": [
       "plot without title"
      ]
     },
     "metadata": {
      "image/png": {
       "height": 420,
       "width": 420
      }
     },
     "output_type": "display_data"
    }
   ],
   "source": [
    "rpart.plot(arbol1,extra=5)"
   ]
  },
  {
   "cell_type": "markdown",
   "id": "b7d8d734",
   "metadata": {},
   "source": [
    "##### extra=1: \n"
   ]
  },
  {
   "cell_type": "markdown",
   "id": "0ed8b63f",
   "metadata": {},
   "source": [
    "extra=1, en cada nodo, solo Número de observaciones de cada clase \n"
   ]
  },
  {
   "cell_type": "code",
   "execution_count": 8,
   "id": "3e1e1fa6",
   "metadata": {
    "ExecuteTime": {
     "end_time": "2021-10-18T15:02:46.557445Z",
     "start_time": "2021-10-18T15:02:46.395Z"
    }
   },
   "outputs": [
    {
     "data": {
      "image/png": "[encoded data removed]",
      "text/plain": [
       "plot without title"
      ]
     },
     "metadata": {
      "image/png": {
       "height": 420,
       "width": 420
      }
     },
     "output_type": "display_data"
    }
   ],
   "source": [
    "\n",
    "rpart.plot(arbol1,extra=1)"
   ]
  },
  {
   "cell_type": "markdown",
   "id": "5f31dc64",
   "metadata": {},
   "source": [
    "##### Nº de nodo. Pedir el número de nodo"
   ]
  },
  {
   "cell_type": "code",
   "execution_count": 9,
   "id": "c15aa341",
   "metadata": {
    "ExecuteTime": {
     "end_time": "2021-10-18T15:16:02.749334Z",
     "start_time": "2021-10-18T15:16:02.586Z"
    }
   },
   "outputs": [
    {
     "data": {
      "image/png": "[encoded data removed]",
      "text/plain": [
       "plot without title"
      ]
     },
     "metadata": {
      "image/png": {
       "height": 420,
       "width": 420
      }
     },
     "output_type": "display_data"
    }
   ],
   "source": [
    "rpart.plot(arbol1,extra=1,nn=TRUE) "
   ]
  },
  {
   "cell_type": "markdown",
   "id": "33d954ed",
   "metadata": {},
   "source": [
    "##### Gráfico más completo"
   ]
  },
  {
   "cell_type": "code",
   "execution_count": 10,
   "id": "1667da5a",
   "metadata": {
    "ExecuteTime": {
     "end_time": "2021-10-18T15:16:49.990149Z",
     "start_time": "2021-10-18T15:16:49.828Z"
    }
   },
   "outputs": [
    {
     "data": {
      "image/png": "[encoded data removed]",
      "text/plain": [
       "plot without title"
      ]
     },
     "metadata": {
      "image/png": {
       "height": 420,
       "width": 420
      }
     },
     "output_type": "display_data"
    }
   ],
   "source": [
    "\n",
    "rpart.plot(arbol1,extra=105,nn=TRUE) "
   ]
  },
  {
   "cell_type": "markdown",
   "id": "80e810f4",
   "metadata": {},
   "source": [
    "#### Reglas decisión del arbol"
   ]
  },
  {
   "cell_type": "code",
   "execution_count": 11,
   "id": "9ff57ce5",
   "metadata": {
    "ExecuteTime": {
     "end_time": "2021-10-18T15:17:25.631644Z",
     "start_time": "2021-10-18T15:17:25.588Z"
    }
   },
   "outputs": [
    {
     "name": "stdout",
     "output_type": "stream",
     "text": [
      "\n",
      " Rule number: 3 [factor(outcome)=Yes cover=1925 (30%) prob=1.00]\n",
      "   hosp_y< 0.5\n",
      "\n",
      " Rule number: 5 [factor(outcome)=Yes cover=243 (4%) prob=0.81]\n",
      "   hosp_y>=0.5\n",
      "   highbp_nk>=0.5\n",
      "\n",
      " Rule number: 4 [factor(outcome)=No cover=4199 (66%) prob=0.17]\n",
      "   hosp_y>=0.5\n",
      "   highbp_nk< 0.5\n",
      "\n"
     ]
    }
   ],
   "source": [
    "asRules(arbol1)"
   ]
  },
  {
   "cell_type": "markdown",
   "id": "f49af271",
   "metadata": {},
   "source": [
    "#### Importancia de las variables del árbol"
   ]
  },
  {
   "cell_type": "code",
   "execution_count": 23,
   "id": "25efd466",
   "metadata": {
    "ExecuteTime": {
     "end_time": "2021-10-18T15:50:23.476628Z",
     "start_time": "2021-10-18T15:50:23.411Z"
    }
   },
   "outputs": [
    {
     "data": {
      "text/html": [
       "<style>\n",
       ".dl-inline {width: auto; margin:0; padding: 0}\n",
       ".dl-inline>dt, .dl-inline>dd {float: none; width: auto; display: inline-block}\n",
       ".dl-inline>dt::after {content: \":\\0020\"; padding-right: .5ex}\n",
       ".dl-inline>dt:not(:first-of-type) {padding-left: .5ex}\n",
       "</style><dl class=dl-inline><dt>hosp_y</dt><dd>1681.96560612497</dd><dt>highbp_nk</dt><dd>588.430279735803</dd><dt>diabetes_nk</dt><dd>545.339895608415</dd><dt>stroke_nk</dt><dd>518.173924134007</dd><dt>angina_nk</dt><dd>454.671983924294</dd><dt>premi_nk</dt><dd>401.42817375532</dd><dt>smstat_nk</dt><dd>39.5368056865113</dd></dl>\n"
      ],
      "text/latex": [
       "\\begin{description*}\n",
       "\\item[hosp\\textbackslash{}\\_y] 1681.96560612497\n",
       "\\item[highbp\\textbackslash{}\\_nk] 588.430279735803\n",
       "\\item[diabetes\\textbackslash{}\\_nk] 545.339895608415\n",
       "\\item[stroke\\textbackslash{}\\_nk] 518.173924134007\n",
       "\\item[angina\\textbackslash{}\\_nk] 454.671983924294\n",
       "\\item[premi\\textbackslash{}\\_nk] 401.42817375532\n",
       "\\item[smstat\\textbackslash{}\\_nk] 39.5368056865113\n",
       "\\end{description*}\n"
      ],
      "text/markdown": [
       "hosp_y\n",
       ":   1681.96560612497highbp_nk\n",
       ":   588.430279735803diabetes_nk\n",
       ":   545.339895608415stroke_nk\n",
       ":   518.173924134007angina_nk\n",
       ":   454.671983924294premi_nk\n",
       ":   401.42817375532smstat_nk\n",
       ":   39.5368056865113\n",
       "\n"
      ],
      "text/plain": [
       "     hosp_y   highbp_nk diabetes_nk   stroke_nk   angina_nk    premi_nk \n",
       " 1681.96561   588.43028   545.33990   518.17392   454.67198   401.42817 \n",
       "  smstat_nk \n",
       "   39.53681 "
      ]
     },
     "metadata": {},
     "output_type": "display_data"
    },
    {
     "data": {
      "image/png": "[encoded data removed]",
      "text/plain": [
       "plot without title"
      ]
     },
     "metadata": {
      "image/png": {
       "height": 420,
       "width": 420
      }
     },
     "output_type": "display_data"
    }
   ],
   "source": [
    "par(cex=0.8)\n",
    "arbol1$variable.importance\n",
    "barplot(arbol1$variable.importance)"
   ]
  },
  {
   "cell_type": "markdown",
   "id": "2b361144",
   "metadata": {},
   "source": [
    "Como se aprecia, la variable hosp_y es dominante, es a partir de ella que se va formando el árbol.No obstante no aparece exageradamente acusada la diferencia en importancia de esta con las 5 siguientes. "
   ]
  },
  {
   "cell_type": "code",
   "execution_count": 12,
   "id": "7c1d46e8",
   "metadata": {
    "ExecuteTime": {
     "end_time": "2021-10-18T15:32:27.417773Z",
     "start_time": "2021-10-18T15:32:27.297Z"
    }
   },
   "outputs": [
    {
     "data": {
      "text/html": [
       "<strong>png:</strong> 2"
      ],
      "text/latex": [
       "\\textbf{png:} 2"
      ],
      "text/markdown": [
       "**png:** 2"
      ],
      "text/plain": [
       "png \n",
       "  2 "
      ]
     },
     "metadata": {},
     "output_type": "display_data"
    }
   ],
   "source": [
    "#Lo grabamos en archivo gráfico\n",
    "\n",
    "tiff(file=\"arbol1.tiff\")\n",
    "rpart.plot(arbol1,extra=1,tweak=1.2)\n",
    "dev.off()\n"
   ]
  },
  {
   "cell_type": "markdown",
   "id": "7f63a955",
   "metadata": {},
   "source": [
    "## Árbol de decicisón, modelo inicial con set de variables clásico"
   ]
  },
  {
   "cell_type": "code",
   "execution_count": 16,
   "id": "f152543f",
   "metadata": {
    "ExecuteTime": {
     "end_time": "2021-10-18T15:48:52.837780Z",
     "start_time": "2021-10-18T15:48:52.741Z"
    }
   },
   "outputs": [],
   "source": [
    "arbol2 <- rpart(factor(outcome) ~ hosp_y+highbp_nk+age+smstat_nk+angina_nk+yronset+stroke_y+angina_y+stroke_nk, \n",
    "                data = data,\n",
    "                minbucket =30,\n",
    "                method = \"class\")"
   ]
  },
  {
   "cell_type": "code",
   "execution_count": 17,
   "id": "8345763b",
   "metadata": {
    "ExecuteTime": {
     "end_time": "2021-10-18T15:48:58.772365Z",
     "start_time": "2021-10-18T15:48:58.737Z"
    }
   },
   "outputs": [
    {
     "name": "stdout",
     "output_type": "stream",
     "text": [
      "Call:\n",
      "rpart(formula = factor(outcome) ~ hosp_y + highbp_nk + age + \n",
      "    smstat_nk + angina_nk + yronset + stroke_y + angina_y + stroke_nk, \n",
      "    data = data, method = \"class\", minbucket = 30)\n",
      "  n= 6367 \n",
      "\n",
      "          CP nsplit rel error    xerror        xstd\n",
      "1 0.67522871      0 1.0000000 1.0000000 0.013957258\n",
      "2 0.05242787      1 0.3247713 0.3247713 0.009884812\n",
      "3 0.01000000      2 0.2723434 0.2762139 0.009230777\n",
      "\n",
      "Variable importance\n",
      "   hosp_y highbp_nk stroke_nk angina_nk smstat_nk \n",
      "       46        16        14        13        10 \n",
      "\n",
      "Node number 1: 6367 observations,    complexity param=0.6752287\n",
      "  predicted class=No   expected loss=0.4463641  P(node) =1\n",
      "    class counts:  3525  2842\n",
      "   probabilities: 0.554 0.446 \n",
      "  left son=2 (4442 obs) right son=3 (1925 obs)\n",
      "  Primary splits:\n",
      "      hosp_y    < 0.5        to the right, improve=1681.9660, (0 missing)\n",
      "      highbp_nk < 0.5        to the left,  improve= 565.9979, (0 missing)\n",
      "      stroke_nk < 0.5        to the left,  improve= 562.2713, (0 missing)\n",
      "      angina_nk < 0.5        to the left,  improve= 536.8761, (0 missing)\n",
      "      smstat_nk < 0.5        to the left,  improve= 482.2348, (0 missing)\n",
      "  Surrogate splits:\n",
      "      stroke_nk < 0.5        to the left,  agree=0.771, adj=0.242, (0 split)\n",
      "      highbp_nk < 0.5        to the left,  agree=0.770, adj=0.240, (0 split)\n",
      "      angina_nk < 0.5        to the left,  agree=0.765, adj=0.223, (0 split)\n",
      "      smstat_nk < 0.5        to the left,  agree=0.758, adj=0.201, (0 split)\n",
      "\n",
      "Node number 2: 4442 observations,    complexity param=0.05242787\n",
      "  predicted class=No   expected loss=0.2071139  P(node) =0.6976598\n",
      "    class counts:  3522   920\n",
      "   probabilities: 0.793 0.207 \n",
      "  left son=4 (4199 obs) right son=5 (243 obs)\n",
      "  Primary splits:\n",
      "      highbp_nk < 0.5        to the left,  improve=184.75850, (0 missing)\n",
      "      stroke_nk < 0.5        to the left,  improve=183.26050, (0 missing)\n",
      "      angina_nk < 0.5        to the left,  improve=169.72670, (0 missing)\n",
      "      smstat_nk < 0.5        to the left,  improve=152.10500, (0 missing)\n",
      "      age       < -0.1171361 to the left,  improve= 40.60282, (0 missing)\n",
      "  Surrogate splits:\n",
      "      stroke_nk < 0.5        to the left,  agree=0.978, adj=0.601, (0 split)\n",
      "      angina_nk < 0.5        to the left,  agree=0.969, adj=0.432, (0 split)\n",
      "      smstat_nk < 0.5        to the left,  agree=0.957, adj=0.214, (0 split)\n",
      "\n",
      "Node number 3: 1925 observations\n",
      "  predicted class=Yes  expected loss=0.001558442  P(node) =0.3023402\n",
      "    class counts:     3  1922\n",
      "   probabilities: 0.002 0.998 \n",
      "\n",
      "Node number 4: 4199 observations\n",
      "  predicted class=No   expected loss=0.172422  P(node) =0.6594943\n",
      "    class counts:  3475   724\n",
      "   probabilities: 0.828 0.172 \n",
      "\n",
      "Node number 5: 243 observations\n",
      "  predicted class=Yes  expected loss=0.1934156  P(node) =0.03816554\n",
      "    class counts:    47   196\n",
      "   probabilities: 0.193 0.807 \n",
      "\n"
     ]
    }
   ],
   "source": [
    "summary(arbol2)"
   ]
  },
  {
   "cell_type": "code",
   "execution_count": 21,
   "id": "32d58bb8",
   "metadata": {
    "ExecuteTime": {
     "end_time": "2021-10-18T15:49:58.620929Z",
     "start_time": "2021-10-18T15:49:58.536Z"
    }
   },
   "outputs": [
    {
     "data": {
      "text/html": [
       "<style>\n",
       ".dl-inline {width: auto; margin:0; padding: 0}\n",
       ".dl-inline>dt, .dl-inline>dd {float: none; width: auto; display: inline-block}\n",
       ".dl-inline>dt::after {content: \":\\0020\"; padding-right: .5ex}\n",
       ".dl-inline>dt:not(:first-of-type) {padding-left: .5ex}\n",
       "</style><dl class=dl-inline><dt>hosp_y</dt><dd>1681.96560612497</dd><dt>highbp_nk</dt><dd>588.430279735803</dd><dt>stroke_nk</dt><dd>518.173924134007</dd><dt>angina_nk</dt><dd>454.671983924294</dd><dt>smstat_nk</dt><dd>376.803675278322</dd></dl>\n"
      ],
      "text/latex": [
       "\\begin{description*}\n",
       "\\item[hosp\\textbackslash{}\\_y] 1681.96560612497\n",
       "\\item[highbp\\textbackslash{}\\_nk] 588.430279735803\n",
       "\\item[stroke\\textbackslash{}\\_nk] 518.173924134007\n",
       "\\item[angina\\textbackslash{}\\_nk] 454.671983924294\n",
       "\\item[smstat\\textbackslash{}\\_nk] 376.803675278322\n",
       "\\end{description*}\n"
      ],
      "text/markdown": [
       "hosp_y\n",
       ":   1681.96560612497highbp_nk\n",
       ":   588.430279735803stroke_nk\n",
       ":   518.173924134007angina_nk\n",
       ":   454.671983924294smstat_nk\n",
       ":   376.803675278322\n",
       "\n"
      ],
      "text/plain": [
       "   hosp_y highbp_nk stroke_nk angina_nk smstat_nk \n",
       "1681.9656  588.4303  518.1739  454.6720  376.8037 "
      ]
     },
     "metadata": {},
     "output_type": "display_data"
    },
    {
     "data": {
      "image/png": "[encoded data removed]",
      "text/plain": [
       "plot without title"
      ]
     },
     "metadata": {
      "image/png": {
       "height": 420,
       "width": 420
      }
     },
     "output_type": "display_data"
    }
   ],
   "source": [
    "par(cex=0.8)\n",
    "arbol2$variable.importance\n",
    "barplot(arbol2$variable.importance)"
   ]
  },
  {
   "cell_type": "markdown",
   "id": "2f1d3b0e",
   "metadata": {},
   "source": [
    "La relación entre hosp_y es de 3 respecto a las otras 3 siguientes variables."
   ]
  },
  {
   "cell_type": "markdown",
   "id": "77f3300e",
   "metadata": {
    "ExecuteTime": {
     "end_time": "2021-10-18T15:52:56.752435Z",
     "start_time": "2021-10-18T15:52:56.730Z"
    }
   },
   "source": [
    "### Tuneado de la complejidad del árbol"
   ]
  },
  {
   "cell_type": "code",
   "execution_count": null,
   "id": "d06cf97d",
   "metadata": {},
   "outputs": [],
   "source": [
    "Cambiando el número de observaciones en el nodo final, el parámetro minibucket, de entre los valores 5,15,25,45,90,135"
   ]
  },
  {
   "cell_type": "code",
   "execution_count": 27,
   "id": "c7ee663f",
   "metadata": {
    "ExecuteTime": {
     "end_time": "2021-10-18T16:03:44.389796Z",
     "start_time": "2021-10-18T16:03:43.726Z"
    }
   },
   "outputs": [
    {
     "name": "stderr",
     "output_type": "stream",
     "text": [
      "Warning message:\n",
      "\"labs do not fit even at cex 0.15, there may be some overplotting\"\n"
     ]
    },
    {
     "data": {
      "image/png": "[encoded data removed]",
      "text/plain": [
       "plot without title"
      ]
     },
     "metadata": {
      "image/png": {
       "height": 420,
       "width": 420
      }
     },
     "output_type": "display_data"
    }
   ],
   "source": [
    "arbol21 <- rpart(factor(outcome) ~ hosp_y+highbp_nk+age+smstat_nk+angina_nk+yronset+stroke_y+angina_y+stroke_nk,\n",
    "                 data = data,\n",
    "                 minbucket =5,\n",
    "                 cp=0)\n",
    "\n",
    "par(cex=0.8)\n",
    "rpart.plot(arbol21,extra=1)\n",
    "\n"
   ]
  },
  {
   "cell_type": "code",
   "execution_count": 28,
   "id": "ce79e3b1",
   "metadata": {
    "ExecuteTime": {
     "end_time": "2021-10-18T16:04:00.192703Z",
     "start_time": "2021-10-18T16:03:59.909Z"
    }
   },
   "outputs": [
    {
     "data": {
      "image/png": "[encoded data removed]",
      "text/plain": [
       "plot without title"
      ]
     },
     "metadata": {
      "image/png": {
       "height": 420,
       "width": 420
      }
     },
     "output_type": "display_data"
    }
   ],
   "source": [
    "arbol22 <- rpart(factor(outcome) ~ hosp_y+highbp_nk+age+smstat_nk+angina_nk+yronset+stroke_y+angina_y+stroke_nk,\n",
    "                 data = data,\n",
    "                 minbucket =15,\n",
    "                 cp=0) \n",
    "\n",
    "rpart.plot(arbol22,extra=1)\n"
   ]
  },
  {
   "cell_type": "code",
   "execution_count": 29,
   "id": "5c3270f4",
   "metadata": {
    "ExecuteTime": {
     "end_time": "2021-10-18T16:04:03.809623Z",
     "start_time": "2021-10-18T16:04:03.563Z"
    }
   },
   "outputs": [
    {
     "data": {
      "image/png": "[encoded data removed]",
      "text/plain": [
       "plot without title"
      ]
     },
     "metadata": {
      "image/png": {
       "height": 420,
       "width": 420
      }
     },
     "output_type": "display_data"
    }
   ],
   "source": [
    "arbol23 <- rpart(factor(outcome) ~ hosp_y+highbp_nk+age+smstat_nk+angina_nk+yronset+stroke_y+angina_y+stroke_nk,\n",
    "                 data = data,\n",
    "                 minbucket =25,\n",
    "                 cp=0)\n",
    "\n",
    "rpart.plot(arbol23,extra=1)"
   ]
  },
  {
   "cell_type": "code",
   "execution_count": 30,
   "id": "96bb5013",
   "metadata": {
    "ExecuteTime": {
     "end_time": "2021-10-18T16:04:06.533056Z",
     "start_time": "2021-10-18T16:04:05.188Z"
    }
   },
   "outputs": [
    {
     "data": {
      "image/png": "[encoded data removed]",
      "text/plain": [
       "plot without title"
      ]
     },
     "metadata": {
      "image/png": {
       "height": 420,
       "width": 420
      }
     },
     "output_type": "display_data"
    }
   ],
   "source": [
    "arbol24 <- rpart(factor(outcome) ~ hosp_y+highbp_nk+age+smstat_nk+angina_nk+yronset+stroke_y+angina_y+stroke_nk,\n",
    "                 data = data,\n",
    "                 minbucket =45,\n",
    "                 cp=0)\n",
    "\n",
    "rpart.plot(arbol24,extra=1)\n"
   ]
  },
  {
   "cell_type": "code",
   "execution_count": 31,
   "id": "f155c268",
   "metadata": {
    "ExecuteTime": {
     "end_time": "2021-10-18T16:04:17.270878Z",
     "start_time": "2021-10-18T16:04:17.010Z"
    }
   },
   "outputs": [
    {
     "data": {
      "image/png": "[encoded data removed]",
      "text/plain": [
       "plot without title"
      ]
     },
     "metadata": {
      "image/png": {
       "height": 420,
       "width": 420
      }
     },
     "output_type": "display_data"
    }
   ],
   "source": [
    "arbol25 <- rpart(factor(outcome) ~ hosp_y+highbp_nk+age+smstat_nk+angina_nk+yronset+stroke_y+angina_y+stroke_nk,\n",
    "                 data = data,\n",
    "                 minbucket =90,\n",
    "                 cp=0) \n",
    "\n",
    "rpart.plot(arbol25,extra=1)"
   ]
  },
  {
   "cell_type": "code",
   "execution_count": 32,
   "id": "a793bece",
   "metadata": {
    "ExecuteTime": {
     "end_time": "2021-10-18T16:04:20.293138Z",
     "start_time": "2021-10-18T16:04:20.048Z"
    }
   },
   "outputs": [
    {
     "data": {
      "image/png": "[encoded data removed]",
      "text/plain": [
       "plot without title"
      ]
     },
     "metadata": {
      "image/png": {
       "height": 420,
       "width": 420
      }
     },
     "output_type": "display_data"
    }
   ],
   "source": [
    "arbol26 <- rpart(factor(outcome) ~ hosp_y+highbp_nk+age+smstat_nk+angina_nk+yronset+stroke_y+angina_y+stroke_nk,\n",
    "                 data = data,\n",
    "                 minbucket =135,\n",
    "                 cp=0)\n",
    "\n",
    "rpart.plot(arbol26,extra=1)"
   ]
  },
  {
   "cell_type": "markdown",
   "id": "7b72ca23",
   "metadata": {},
   "source": [
    "Como se aprecia , con valores de minibucket igual o superior a 90 se obtiene el mismo árbol.Igulamente con valores de 25 y 45."
   ]
  },
  {
   "cell_type": "markdown",
   "id": "f2d58436",
   "metadata": {},
   "source": [
    "## Tuneado y evaluación capacidad predictiva con Caret."
   ]
  },
  {
   "cell_type": "markdown",
   "id": "28cfcb99",
   "metadata": {},
   "source": [
    "### Arbol "
   ]
  },
  {
   "cell_type": "code",
   "execution_count": 33,
   "id": "1d333aa3",
   "metadata": {
    "ExecuteTime": {
     "end_time": "2021-10-18T16:11:18.282636Z",
     "start_time": "2021-10-18T16:11:17.372Z"
    }
   },
   "outputs": [
    {
     "data": {
      "text/plain": [
       "CART \n",
       "\n",
       "6367 samples\n",
       "   9 predictor\n",
       "   2 classes: 'No', 'Yes' \n",
       "\n",
       "No pre-processing\n",
       "Resampling: Cross-Validated (10 fold) \n",
       "Summary of sample sizes: 5729, 5731, 5731, 5730, 5730, 5730, ... \n",
       "Resampling results:\n",
       "\n",
       "  Accuracy   Kappa    \n",
       "  0.8683774  0.7287602\n",
       "\n",
       "Tuning parameter 'cp' was held constant at a value of 0"
      ]
     },
     "metadata": {},
     "output_type": "display_data"
    }
   ],
   "source": [
    "arbolgrid <-  expand.grid(cp=c(0))\n",
    "\n",
    "control<-trainControl(method = \"cv\",number=10,classProbs=TRUE,savePredictions = \"all\") \n",
    "\n",
    "\n",
    "arbolcaret1<- train(factor(outcome) ~ hosp_y+highbp_nk+age+smstat_nk+angina_nk+yronset+stroke_y+angina_y+stroke_nk,\n",
    "                   data=data,\n",
    "                   method=\"rpart\",\n",
    "                   minbucket=30,\n",
    "                   trControl=control,\n",
    "                   tuneGrid=arbolgrid)\n",
    "\n",
    "arbolcaret1\n",
    "\n"
   ]
  },
  {
   "cell_type": "code",
   "execution_count": 35,
   "id": "39c1bc96",
   "metadata": {
    "ExecuteTime": {
     "end_time": "2021-10-18T16:12:16.935902Z",
     "start_time": "2021-10-18T16:12:16.906Z"
    }
   },
   "outputs": [],
   "source": [
    "sal<-arbolcaret1$pred\n",
    "\n"
   ]
  },
  {
   "cell_type": "code",
   "execution_count": 36,
   "id": "d76724a7",
   "metadata": {
    "ExecuteTime": {
     "end_time": "2021-10-18T16:12:25.493963Z",
     "start_time": "2021-10-18T16:12:25.451Z"
    }
   },
   "outputs": [
    {
     "data": {
      "text/plain": [
       "Confusion Matrix and Statistics\n",
       "\n",
       "          Reference\n",
       "Prediction   No  Yes\n",
       "       No  3368  681\n",
       "       Yes  157 2161\n",
       "                                          \n",
       "               Accuracy : 0.8684          \n",
       "                 95% CI : (0.8598, 0.8766)\n",
       "    No Information Rate : 0.5536          \n",
       "    P-Value [Acc > NIR] : < 2.2e-16       \n",
       "                                          \n",
       "                  Kappa : 0.7289          \n",
       "                                          \n",
       " Mcnemar's Test P-Value : < 2.2e-16       \n",
       "                                          \n",
       "            Sensitivity : 0.9555          \n",
       "            Specificity : 0.7604          \n",
       "         Pos Pred Value : 0.8318          \n",
       "         Neg Pred Value : 0.9323          \n",
       "             Prevalence : 0.5536          \n",
       "         Detection Rate : 0.5290          \n",
       "   Detection Prevalence : 0.6359          \n",
       "      Balanced Accuracy : 0.8579          \n",
       "                                          \n",
       "       'Positive' Class : No              \n",
       "                                          "
      ]
     },
     "metadata": {},
     "output_type": "display_data"
    }
   ],
   "source": [
    "salconfu<-confusionMatrix(sal$pred,sal$obs)\n",
    "salconfu\n",
    "\n"
   ]
  },
  {
   "cell_type": "code",
   "execution_count": 37,
   "id": "1858314b",
   "metadata": {
    "ExecuteTime": {
     "end_time": "2021-10-18T16:12:42.960913Z",
     "start_time": "2021-10-18T16:12:42.868Z"
    }
   },
   "outputs": [
    {
     "name": "stderr",
     "output_type": "stream",
     "text": [
      "Setting levels: control = No, case = Yes\n",
      "\n",
      "Setting direction: controls < cases\n",
      "\n"
     ]
    },
    {
     "data": {
      "text/html": [
       "0.907544931398825"
      ],
      "text/latex": [
       "0.907544931398825"
      ],
      "text/markdown": [
       "0.907544931398825"
      ],
      "text/plain": [
       "Area under the curve: 0.9075"
      ]
     },
     "metadata": {},
     "output_type": "display_data"
    },
    {
     "name": "stderr",
     "output_type": "stream",
     "text": [
      "Setting levels: control = No, case = Yes\n",
      "\n",
      "Setting direction: controls < cases\n",
      "\n"
     ]
    },
    {
     "data": {
      "image/png": "[encoded data removed]",
      "text/plain": [
       "plot without title"
      ]
     },
     "metadata": {
      "image/png": {
       "height": 420,
       "width": 420
      }
     },
     "output_type": "display_data"
    }
   ],
   "source": [
    "curvaroc<-roc(response=sal$obs,predictor=sal$Yes)\n",
    "auc<-curvaroc$auc\n",
    "auc\n",
    "plot(roc(response=sal$obs,predictor=sal$Yes))\n"
   ]
  },
  {
   "cell_type": "markdown",
   "id": "282f6a60",
   "metadata": {},
   "source": [
    "### tuneado del minibucket en bucle"
   ]
  },
  {
   "cell_type": "code",
   "execution_count": 39,
   "id": "438a6ff6",
   "metadata": {
    "ExecuteTime": {
     "end_time": "2021-10-18T16:18:20.908463Z",
     "start_time": "2021-10-18T16:18:12.373Z"
    },
    "scrolled": false
   },
   "outputs": [
    {
     "name": "stdout",
     "output_type": "stream",
     "text": [
      "[1] 5\n",
      "/nConfusion Matrix and Statistics\n",
      "\n",
      "          Reference\n",
      "Prediction   No  Yes\n",
      "       No  3378  691\n",
      "       Yes  147 2151\n",
      "                                          \n",
      "               Accuracy : 0.8684          \n",
      "                 95% CI : (0.8598, 0.8766)\n",
      "    No Information Rate : 0.5536          \n",
      "    P-Value [Acc > NIR] : < 2.2e-16       \n",
      "                                          \n",
      "                  Kappa : 0.7287          \n",
      "                                          \n",
      " Mcnemar's Test P-Value : < 2.2e-16       \n",
      "                                          \n",
      "            Sensitivity : 0.9583          \n",
      "            Specificity : 0.7569          \n",
      "         Pos Pred Value : 0.8302          \n",
      "         Neg Pred Value : 0.9360          \n",
      "             Prevalence : 0.5536          \n",
      "         Detection Rate : 0.5305          \n",
      "   Detection Prevalence : 0.6391          \n",
      "      Balanced Accuracy : 0.8576          \n",
      "                                          \n",
      "       'Positive' Class : No              \n",
      "                                          \n"
     ]
    },
    {
     "name": "stderr",
     "output_type": "stream",
     "text": [
      "Setting levels: control = No, case = Yes\n",
      "\n",
      "Setting direction: controls < cases\n",
      "\n"
     ]
    },
    {
     "name": "stdout",
     "output_type": "stream",
     "text": [
      "Area under the curve: 0.9073\n",
      "[1] 10\n",
      "/nConfusion Matrix and Statistics\n",
      "\n",
      "          Reference\n",
      "Prediction   No  Yes\n",
      "       No  3405  695\n",
      "       Yes  120 2147\n",
      "                                          \n",
      "               Accuracy : 0.872           \n",
      "                 95% CI : (0.8635, 0.8801)\n",
      "    No Information Rate : 0.5536          \n",
      "    P-Value [Acc > NIR] : < 2.2e-16       \n",
      "                                          \n",
      "                  Kappa : 0.7358          \n",
      "                                          \n",
      " Mcnemar's Test P-Value : < 2.2e-16       \n",
      "                                          \n",
      "            Sensitivity : 0.9660          \n",
      "            Specificity : 0.7555          \n",
      "         Pos Pred Value : 0.8305          \n",
      "         Neg Pred Value : 0.9471          \n",
      "             Prevalence : 0.5536          \n",
      "         Detection Rate : 0.5348          \n",
      "   Detection Prevalence : 0.6439          \n",
      "      Balanced Accuracy : 0.8607          \n",
      "                                          \n",
      "       'Positive' Class : No              \n",
      "                                          \n"
     ]
    },
    {
     "name": "stderr",
     "output_type": "stream",
     "text": [
      "Setting levels: control = No, case = Yes\n",
      "\n",
      "Setting direction: controls < cases\n",
      "\n"
     ]
    },
    {
     "name": "stdout",
     "output_type": "stream",
     "text": [
      "Area under the curve: 0.9054\n",
      "[1] 15\n",
      "/nConfusion Matrix and Statistics\n",
      "\n",
      "          Reference\n",
      "Prediction   No  Yes\n",
      "       No  3380  677\n",
      "       Yes  145 2165\n",
      "                                         \n",
      "               Accuracy : 0.8709         \n",
      "                 95% CI : (0.8624, 0.879)\n",
      "    No Information Rate : 0.5536         \n",
      "    P-Value [Acc > NIR] : < 2.2e-16      \n",
      "                                         \n",
      "                  Kappa : 0.734          \n",
      "                                         \n",
      " Mcnemar's Test P-Value : < 2.2e-16      \n",
      "                                         \n",
      "            Sensitivity : 0.9589         \n",
      "            Specificity : 0.7618         \n",
      "         Pos Pred Value : 0.8331         \n",
      "         Neg Pred Value : 0.9372         \n",
      "             Prevalence : 0.5536         \n",
      "         Detection Rate : 0.5309         \n",
      "   Detection Prevalence : 0.6372         \n",
      "      Balanced Accuracy : 0.8603         \n",
      "                                         \n",
      "       'Positive' Class : No             \n",
      "                                         \n"
     ]
    },
    {
     "name": "stderr",
     "output_type": "stream",
     "text": [
      "Setting levels: control = No, case = Yes\n",
      "\n",
      "Setting direction: controls < cases\n",
      "\n"
     ]
    },
    {
     "name": "stdout",
     "output_type": "stream",
     "text": [
      "Area under the curve: 0.9082\n",
      "[1] 20\n",
      "/nConfusion Matrix and Statistics\n",
      "\n",
      "          Reference\n",
      "Prediction   No  Yes\n",
      "       No  3393  684\n",
      "       Yes  132 2158\n",
      "                                        \n",
      "               Accuracy : 0.8718        \n",
      "                 95% CI : (0.8634, 0.88)\n",
      "    No Information Rate : 0.5536        \n",
      "    P-Value [Acc > NIR] : < 2.2e-16     \n",
      "                                        \n",
      "                  Kappa : 0.7357        \n",
      "                                        \n",
      " Mcnemar's Test P-Value : < 2.2e-16     \n",
      "                                        \n",
      "            Sensitivity : 0.9626        \n",
      "            Specificity : 0.7593        \n",
      "         Pos Pred Value : 0.8322        \n",
      "         Neg Pred Value : 0.9424        \n",
      "             Prevalence : 0.5536        \n",
      "         Detection Rate : 0.5329        \n",
      "   Detection Prevalence : 0.6403        \n",
      "      Balanced Accuracy : 0.8609        \n",
      "                                        \n",
      "       'Positive' Class : No            \n",
      "                                        \n"
     ]
    },
    {
     "name": "stderr",
     "output_type": "stream",
     "text": [
      "Setting levels: control = No, case = Yes\n",
      "\n",
      "Setting direction: controls < cases\n",
      "\n"
     ]
    },
    {
     "name": "stdout",
     "output_type": "stream",
     "text": [
      "Area under the curve: 0.9082\n",
      "[1] 25\n",
      "/nConfusion Matrix and Statistics\n",
      "\n",
      "          Reference\n",
      "Prediction   No  Yes\n",
      "       No  3385  694\n",
      "       Yes  140 2148\n",
      "                                          \n",
      "               Accuracy : 0.869           \n",
      "                 95% CI : (0.8605, 0.8772)\n",
      "    No Information Rate : 0.5536          \n",
      "    P-Value [Acc > NIR] : < 2.2e-16       \n",
      "                                          \n",
      "                  Kappa : 0.7299          \n",
      "                                          \n",
      " Mcnemar's Test P-Value : < 2.2e-16       \n",
      "                                          \n",
      "            Sensitivity : 0.9603          \n",
      "            Specificity : 0.7558          \n",
      "         Pos Pred Value : 0.8299          \n",
      "         Neg Pred Value : 0.9388          \n",
      "             Prevalence : 0.5536          \n",
      "         Detection Rate : 0.5316          \n",
      "   Detection Prevalence : 0.6406          \n",
      "      Balanced Accuracy : 0.8580          \n",
      "                                          \n",
      "       'Positive' Class : No              \n",
      "                                          \n"
     ]
    },
    {
     "name": "stderr",
     "output_type": "stream",
     "text": [
      "Setting levels: control = No, case = Yes\n",
      "\n",
      "Setting direction: controls < cases\n",
      "\n"
     ]
    },
    {
     "name": "stdout",
     "output_type": "stream",
     "text": [
      "Area under the curve: 0.9069\n",
      "[1] 30\n",
      "/nConfusion Matrix and Statistics\n",
      "\n",
      "          Reference\n",
      "Prediction   No  Yes\n",
      "       No  3386  683\n",
      "       Yes  139 2159\n",
      "                                         \n",
      "               Accuracy : 0.8709         \n",
      "                 95% CI : (0.8624, 0.879)\n",
      "    No Information Rate : 0.5536         \n",
      "    P-Value [Acc > NIR] : < 2.2e-16      \n",
      "                                         \n",
      "                  Kappa : 0.7339         \n",
      "                                         \n",
      " Mcnemar's Test P-Value : < 2.2e-16      \n",
      "                                         \n",
      "            Sensitivity : 0.9606         \n",
      "            Specificity : 0.7597         \n",
      "         Pos Pred Value : 0.8321         \n",
      "         Neg Pred Value : 0.9395         \n",
      "             Prevalence : 0.5536         \n",
      "         Detection Rate : 0.5318         \n",
      "   Detection Prevalence : 0.6391         \n",
      "      Balanced Accuracy : 0.8601         \n",
      "                                         \n",
      "       'Positive' Class : No             \n",
      "                                         \n"
     ]
    },
    {
     "name": "stderr",
     "output_type": "stream",
     "text": [
      "Setting levels: control = No, case = Yes\n",
      "\n",
      "Setting direction: controls < cases\n",
      "\n"
     ]
    },
    {
     "name": "stdout",
     "output_type": "stream",
     "text": [
      "Area under the curve: 0.9074\n",
      "[1] 35\n",
      "/nConfusion Matrix and Statistics\n",
      "\n",
      "          Reference\n",
      "Prediction   No  Yes\n",
      "       No  3409  684\n",
      "       Yes  116 2158\n",
      "                                         \n",
      "               Accuracy : 0.8744         \n",
      "                 95% CI : (0.866, 0.8824)\n",
      "    No Information Rate : 0.5536         \n",
      "    P-Value [Acc > NIR] : < 2.2e-16      \n",
      "                                         \n",
      "                  Kappa : 0.7408         \n",
      "                                         \n",
      " Mcnemar's Test P-Value : < 2.2e-16      \n",
      "                                         \n",
      "            Sensitivity : 0.9671         \n",
      "            Specificity : 0.7593         \n",
      "         Pos Pred Value : 0.8329         \n",
      "         Neg Pred Value : 0.9490         \n",
      "             Prevalence : 0.5536         \n",
      "         Detection Rate : 0.5354         \n",
      "   Detection Prevalence : 0.6428         \n",
      "      Balanced Accuracy : 0.8632         \n",
      "                                         \n",
      "       'Positive' Class : No             \n",
      "                                         \n"
     ]
    },
    {
     "name": "stderr",
     "output_type": "stream",
     "text": [
      "Setting levels: control = No, case = Yes\n",
      "\n",
      "Setting direction: controls < cases\n",
      "\n"
     ]
    },
    {
     "name": "stdout",
     "output_type": "stream",
     "text": [
      "Area under the curve: 0.9082\n",
      "[1] 40\n",
      "/nConfusion Matrix and Statistics\n",
      "\n",
      "          Reference\n",
      "Prediction   No  Yes\n",
      "       No  3391  700\n",
      "       Yes  134 2142\n",
      "                                          \n",
      "               Accuracy : 0.869           \n",
      "                 95% CI : (0.8605, 0.8772)\n",
      "    No Information Rate : 0.5536          \n",
      "    P-Value [Acc > NIR] : < 2.2e-16       \n",
      "                                          \n",
      "                  Kappa : 0.7298          \n",
      "                                          \n",
      " Mcnemar's Test P-Value : < 2.2e-16       \n",
      "                                          \n",
      "            Sensitivity : 0.9620          \n",
      "            Specificity : 0.7537          \n",
      "         Pos Pred Value : 0.8289          \n",
      "         Neg Pred Value : 0.9411          \n",
      "             Prevalence : 0.5536          \n",
      "         Detection Rate : 0.5326          \n",
      "   Detection Prevalence : 0.6425          \n",
      "      Balanced Accuracy : 0.8578          \n",
      "                                          \n",
      "       'Positive' Class : No              \n",
      "                                          \n"
     ]
    },
    {
     "name": "stderr",
     "output_type": "stream",
     "text": [
      "Setting levels: control = No, case = Yes\n",
      "\n",
      "Setting direction: controls < cases\n",
      "\n"
     ]
    },
    {
     "name": "stdout",
     "output_type": "stream",
     "text": [
      "Area under the curve: 0.9092\n",
      "[1] 45\n",
      "/nConfusion Matrix and Statistics\n",
      "\n",
      "          Reference\n",
      "Prediction   No  Yes\n",
      "       No  3410  703\n",
      "       Yes  115 2139\n",
      "                                          \n",
      "               Accuracy : 0.8715          \n",
      "                 95% CI : (0.8631, 0.8797)\n",
      "    No Information Rate : 0.5536          \n",
      "    P-Value [Acc > NIR] : < 2.2e-16       \n",
      "                                          \n",
      "                  Kappa : 0.7347          \n",
      "                                          \n",
      " Mcnemar's Test P-Value : < 2.2e-16       \n",
      "                                          \n",
      "            Sensitivity : 0.9674          \n",
      "            Specificity : 0.7526          \n",
      "         Pos Pred Value : 0.8291          \n",
      "         Neg Pred Value : 0.9490          \n",
      "             Prevalence : 0.5536          \n",
      "         Detection Rate : 0.5356          \n",
      "   Detection Prevalence : 0.6460          \n",
      "      Balanced Accuracy : 0.8600          \n",
      "                                          \n",
      "       'Positive' Class : No              \n",
      "                                          \n"
     ]
    },
    {
     "name": "stderr",
     "output_type": "stream",
     "text": [
      "Setting levels: control = No, case = Yes\n",
      "\n",
      "Setting direction: controls < cases\n",
      "\n"
     ]
    },
    {
     "name": "stdout",
     "output_type": "stream",
     "text": [
      "Area under the curve: 0.9037\n",
      "[1] 50\n",
      "/nConfusion Matrix and Statistics\n",
      "\n",
      "          Reference\n",
      "Prediction   No  Yes\n",
      "       No  3386  680\n",
      "       Yes  139 2162\n",
      "                                          \n",
      "               Accuracy : 0.8714          \n",
      "                 95% CI : (0.8629, 0.8795)\n",
      "    No Information Rate : 0.5536          \n",
      "    P-Value [Acc > NIR] : < 2.2e-16       \n",
      "                                          \n",
      "                  Kappa : 0.7349          \n",
      "                                          \n",
      " Mcnemar's Test P-Value : < 2.2e-16       \n",
      "                                          \n",
      "            Sensitivity : 0.9606          \n",
      "            Specificity : 0.7607          \n",
      "         Pos Pred Value : 0.8328          \n",
      "         Neg Pred Value : 0.9396          \n",
      "             Prevalence : 0.5536          \n",
      "         Detection Rate : 0.5318          \n",
      "   Detection Prevalence : 0.6386          \n",
      "      Balanced Accuracy : 0.8606          \n",
      "                                          \n",
      "       'Positive' Class : No              \n",
      "                                          \n"
     ]
    },
    {
     "name": "stderr",
     "output_type": "stream",
     "text": [
      "Setting levels: control = No, case = Yes\n",
      "\n",
      "Setting direction: controls < cases\n",
      "\n"
     ]
    },
    {
     "name": "stdout",
     "output_type": "stream",
     "text": [
      "Area under the curve: 0.909\n",
      "[1] 55\n",
      "/nConfusion Matrix and Statistics\n",
      "\n",
      "          Reference\n",
      "Prediction   No  Yes\n",
      "       No  3401  695\n",
      "       Yes  124 2147\n",
      "                                          \n",
      "               Accuracy : 0.8714          \n",
      "                 95% CI : (0.8629, 0.8795)\n",
      "    No Information Rate : 0.5536          \n",
      "    P-Value [Acc > NIR] : < 2.2e-16       \n",
      "                                          \n",
      "                  Kappa : 0.7346          \n",
      "                                          \n",
      " Mcnemar's Test P-Value : < 2.2e-16       \n",
      "                                          \n",
      "            Sensitivity : 0.9648          \n",
      "            Specificity : 0.7555          \n",
      "         Pos Pred Value : 0.8303          \n",
      "         Neg Pred Value : 0.9454          \n",
      "             Prevalence : 0.5536          \n",
      "         Detection Rate : 0.5342          \n",
      "   Detection Prevalence : 0.6433          \n",
      "      Balanced Accuracy : 0.8601          \n",
      "                                          \n",
      "       'Positive' Class : No              \n",
      "                                          \n"
     ]
    },
    {
     "name": "stderr",
     "output_type": "stream",
     "text": [
      "Setting levels: control = No, case = Yes\n",
      "\n",
      "Setting direction: controls < cases\n",
      "\n"
     ]
    },
    {
     "name": "stdout",
     "output_type": "stream",
     "text": [
      "Area under the curve: 0.9062\n",
      "[1] 60\n",
      "/nConfusion Matrix and Statistics\n",
      "\n",
      "          Reference\n",
      "Prediction   No  Yes\n",
      "       No  3404  687\n",
      "       Yes  121 2155\n",
      "                                          \n",
      "               Accuracy : 0.8731          \n",
      "                 95% CI : (0.8647, 0.8812)\n",
      "    No Information Rate : 0.5536          \n",
      "    P-Value [Acc > NIR] : < 2.2e-16       \n",
      "                                          \n",
      "                  Kappa : 0.7382          \n",
      "                                          \n",
      " Mcnemar's Test P-Value : < 2.2e-16       \n",
      "                                          \n",
      "            Sensitivity : 0.9657          \n",
      "            Specificity : 0.7583          \n",
      "         Pos Pred Value : 0.8321          \n",
      "         Neg Pred Value : 0.9468          \n",
      "             Prevalence : 0.5536          \n",
      "         Detection Rate : 0.5346          \n",
      "   Detection Prevalence : 0.6425          \n",
      "      Balanced Accuracy : 0.8620          \n",
      "                                          \n",
      "       'Positive' Class : No              \n",
      "                                          \n"
     ]
    },
    {
     "name": "stderr",
     "output_type": "stream",
     "text": [
      "Setting levels: control = No, case = Yes\n",
      "\n",
      "Setting direction: controls < cases\n",
      "\n"
     ]
    },
    {
     "name": "stdout",
     "output_type": "stream",
     "text": [
      "Area under the curve: 0.906\n"
     ]
    }
   ],
   "source": [
    "for (minbu in seq(from=5, to=60, by=5))\n",
    "{\n",
    "print(minbu)\n",
    "cat(\"/n\")\n",
    "\n",
    "arbolgrid <-  expand.grid(cp=c(0))\n",
    "    \n",
    "control<-trainControl(method = \"cv\",number=10,classProbs=TRUE,savePredictions = \"all\") \n",
    "    \n",
    "arbolcaret2<- train(factor(outcome) ~ hosp_y+highbp_nk+age+smstat_nk+angina_nk+yronset+stroke_y+angina_y+stroke_nk,\n",
    "                   data=data,\n",
    "                   method=\"rpart\",\n",
    "                   minbucket=minbu,\n",
    "                   trControl=control,\n",
    "                   tuneGrid=arbolgrid)\n",
    "\n",
    "# arbolcaret\n",
    "\n",
    "sal<-arbolcaret2$pred\n",
    "\n",
    "salconfu<-confusionMatrix(sal$pred,sal$obs)\n",
    "print(salconfu)\n",
    "\n",
    "curvaroc<-roc(response=sal$obs,predictor=sal$Yes)\n",
    "auc<-curvaroc$auc\n",
    "print(auc)\n",
    "# plot(roc(response=sal$obs,predictor=sal$Yes))\n",
    "}"
   ]
  },
  {
   "cell_type": "markdown",
   "id": "1d4f30d7",
   "metadata": {},
   "source": [
    "El valor de minibucket=40 es el que ofrece un mayor valor de AUC, con un área bajo la curva de 0,9092, por lo que se determina ese valor para la comparación mediante valororación cruzada y boxplot junto con el resto de modelos basados en algoritmos de red y de regresión logística ya estudiados. "
   ]
  },
  {
   "cell_type": "markdown",
   "id": "517aec4b",
   "metadata": {},
   "source": [
    "### Comparación de modelos"
   ]
  },
  {
   "cell_type": "code",
   "execution_count": 43,
   "id": "7357d129",
   "metadata": {
    "ExecuteTime": {
     "end_time": "2021-10-18T16:28:57.910962Z",
     "start_time": "2021-10-18T16:27:52.922Z"
    }
   },
   "outputs": [],
   "source": [
    "#Mejor modelo de regresión logística (medias3 de EDA_NNET)\n",
    "medias_1<-cruzadalogistica(data=data,\n",
    "                    vardep=c(\"outcome\"),\n",
    "                    listconti=\n",
    "c(\"hosp_y\", \"highbp_nk\", \"age\", \"angina_nk\", \"angina_y\", \n",
    "\"smstat_nk\", \"yronset\", \"stroke_y\", \"stroke_nk\"),\n",
    "                    listclass=c(\"\"),\n",
    "                    grupos=10,\n",
    "                    sinicio=1234,\n",
    "                    repe=100)\n",
    "\n",
    "\n",
    " medias_1$modelo=\"Logística\"\n"
   ]
  },
  {
   "cell_type": "code",
   "execution_count": null,
   "id": "8049ec0a",
   "metadata": {},
   "outputs": [],
   "source": [
    "#mejor modelo de red neuronal(medias9 de EDA_NNET)\n",
    "medias_2<-cruzadaavnnetbin(data=data,\n",
    "                       vardep=\"outcome\",\n",
    "                       listconti=c(\"hosp_y\", \"highbp_nk\", \"age\", \"angina_nk\", \"angina_y\", \n",
    "\"smstat_nk\", \"yronset\", \"stroke_y\", \"stroke_nk\"),\n",
    "                       listclass=c(\"\"),\n",
    "                       grupos=10,\n",
    "                       sinicio=1234,\n",
    "                       repe=25,\n",
    "                       repeticiones=5,\n",
    "                       itera=500,\n",
    "                       size=c(5),\n",
    "                       decay=c(0.001))\n",
    "\n",
    "  medias_2$modelo=\"avnnet\""
   ]
  },
  {
   "cell_type": "code",
   "execution_count": null,
   "id": "7ab284f9",
   "metadata": {},
   "outputs": [],
   "source": [
    "#Resultados de medias2\n",
    "stopped after 500 iterations\n",
    "  size decay   bag  Accuracy     Kappa AccuracySD    KappaSD\n",
    "1    5 0.001 FALSE 0.8767774 0.7450545 0.01110455 0.02346587"
   ]
  },
  {
   "cell_type": "code",
   "execution_count": 42,
   "id": "248dc27e",
   "metadata": {
    "ExecuteTime": {
     "end_time": "2021-10-18T16:26:39.368678Z",
     "start_time": "2021-10-18T16:26:36.947Z"
    }
   },
   "outputs": [
    {
     "name": "stdout",
     "output_type": "stream",
     "text": [
      "  cp  Accuracy     Kappa AccuracySD    KappaSD\n",
      "1  0 0.8720909 0.7362186 0.01168732 0.02436023\n"
     ]
    }
   ],
   "source": [
    "#mejor modelo de árbol\n",
    "medias_3<-cruzadaarbolbin(data=data,\n",
    "                     vardep=\"outcome\",\n",
    "                     listconti=c(\"hosp_y\", \"highbp_nk\", \"age\", \"angina_nk\", \"angina_y\", \n",
    "\"smstat_nk\", \"yronset\", \"stroke_y\", \"stroke_nk\"),\n",
    "                     listclass=c(\"\"),\n",
    "                     grupos=10,\n",
    "                     sinicio=1234,\n",
    "                     repe=5,\n",
    "                     cp=c(0),\n",
    "                     minbucket =40)\n",
    "\n",
    "medias_3$modelo=\"arbol\""
   ]
  },
  {
   "cell_type": "code",
   "execution_count": 45,
   "id": "d2a57a2f",
   "metadata": {
    "ExecuteTime": {
     "end_time": "2021-10-18T17:07:34.363118Z",
     "start_time": "2021-10-18T16:28:00.673Z"
    },
    "scrolled": false
   },
   "outputs": [
    {
     "data": {
      "image/png": "[encoded data removed]",
      "text/plain": [
       "Plot with title \"TASA FALLOS\""
      ]
     },
     "metadata": {
      "image/png": {
       "height": 420,
       "width": 420
      }
     },
     "output_type": "display_data"
    },
    {
     "data": {
      "image/png": "[encoded data removed]",
      "text/plain": [
       "Plot with title \"AUC\""
      ]
     },
     "metadata": {
      "image/png": {
       "height": 420,
       "width": 420
      }
     },
     "output_type": "display_data"
    }
   ],
   "source": [
    "union3<-rbind(medias_1,medias_2,medias_3)\n",
    "par(cex.axis=1.5)\n",
    "boxplot(data=union3,tasa~modelo,main=\"TASA FALLOS\",col=\"yellow\")\n",
    "boxplot(data=union3,auc~modelo,main=\"AUC\",col=\"orange\")"
   ]
  },
  {
   "cell_type": "markdown",
   "id": "fec5a2f3",
   "metadata": {},
   "source": [
    "### Modelo ganador"
   ]
  },
  {
   "cell_type": "markdown",
   "id": "aa15f79f",
   "metadata": {},
   "source": [
    "Decididamente es la Logística de nuevo el modelo ganador, de forma que queda atrás el desempeño del árbol que ha sido tuneado concienzudamente. "
   ]
  }
 ],
 "metadata": {
  "kernelspec": {
   "display_name": "R",
   "language": "R",
   "name": "ir"
  },
  "language_info": {
   "codemirror_mode": "r",
   "file_extension": ".r",
   "mimetype": "text/x-r-source",
   "name": "R",
   "pygments_lexer": "r",
   "version": "4.1.1"
  },
  "latex_envs": {
   "LaTeX_envs_menu_present": true,
   "autoclose": false,
   "autocomplete": true,
   "bibliofile": "biblio.bib",
   "cite_by": "apalike",
   "current_citInitial": 1,
   "eqLabelWithNumbers": true,
   "eqNumInitial": 1,
   "hotkeys": {
    "equation": "Ctrl-E",
    "itemize": "Ctrl-I"
   },
   "labels_anchors": false,
   "latex_user_defs": false,
   "report_style_numbering": false,
   "user_envs_cfg": false
  },
  "toc": {
   "base_numbering": 1,
   "nav_menu": {},
   "number_sections": true,
   "sideBar": true,
   "skip_h1_title": false,
   "title_cell": "Table of Contents",
   "title_sidebar": "Contents",
   "toc_cell": false,
   "toc_position": {},
   "toc_section_display": true,
   "toc_window_display": true
  },
  "varInspector": {
   "cols": {
    "lenName": 16,
    "lenType": 16,
    "lenVar": 40
   },
   "kernels_config": {
    "python": {
     "delete_cmd_postfix": "",
     "delete_cmd_prefix": "del ",
     "library": "var_list.py",
     "varRefreshCmd": "print(var_dic_list())"
    },
    "r": {
     "delete_cmd_postfix": ") ",
     "delete_cmd_prefix": "rm(",
     "library": "var_list.r",
     "varRefreshCmd": "cat(var_dic_list()) "
    }
   },
   "position": {
    "height": "625.208px",
    "left": "1616.67px",
    "right": "20px",
    "top": "169px",
    "width": "350px"
   },
   "types_to_exclude": [
    "module",
    "function",
    "builtin_function_or_method",
    "instance",
    "_Feature"
   ],
   "window_display": true
  }
 },
 "nbformat": 4,
 "nbformat_minor": 5
}
