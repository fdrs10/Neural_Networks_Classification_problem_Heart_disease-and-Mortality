{
 "cells": [
  {
   "cell_type": "markdown",
   "id": "6f78cec3",
   "metadata": {},
   "source": [
    "## Random Forest"
   ]
  },
  {
   "cell_type": "markdown",
   "id": "9f61fb20",
   "metadata": {},
   "source": [
    "#### Load data and libraries"
   ]
  },
  {
   "cell_type": "code",
   "execution_count": null,
   "id": "5e0d7d8f",
   "metadata": {},
   "outputs": [],
   "source": [
    "# TUNEADO DE MTRY CON CARET\n",
    "\n",
    "library(caret)\n",
    "install.packages(\"e1071\")\n",
    "install.packages(\"randomForest\")\n",
    "library(randomForest)\n",
    "\n",
    "options(warn=-1)"
   ]
  },
  {
   "cell_type": "code",
   "execution_count": null,
   "id": "58a0db9c",
   "metadata": {},
   "outputs": [],
   "source": [
    "source (\"cruzadas avnnet y log binaria.R\")\n",
    "source (\"cruzada arbolbin.R\")\n",
    "source (\"cruzada rf binaria.R\")"
   ]
  },
  {
   "cell_type": "code",
   "execution_count": 6,
   "id": "ded0cf5a",
   "metadata": {
    "ExecuteTime": {
     "end_time": "2021-10-19T07:49:44.581881Z",
     "start_time": "2021-10-19T07:49:38.889Z"
    }
   },
   "outputs": [
    {
     "data": {
      "text/html": [
       "<table class=\"dataframe\">\n",
       "<caption>A data.frame: 6 × 20</caption>\n",
       "<thead>\n",
       "\t<tr><th></th><th scope=col>age</th><th scope=col>yronset</th><th scope=col>sex_m</th><th scope=col>premi_nk</th><th scope=col>premi_y</th><th scope=col>smstat_n</th><th scope=col>smstat_nk</th><th scope=col>smstat_x</th><th scope=col>diabetes_nk</th><th scope=col>diabetes_y</th><th scope=col>highbp_nk</th><th scope=col>highbp_y</th><th scope=col>hichol_nk</th><th scope=col>hichol_y</th><th scope=col>angina_nk</th><th scope=col>angina_y</th><th scope=col>stroke_nk</th><th scope=col>stroke_y</th><th scope=col>hosp_y</th><th scope=col>outcome</th></tr>\n",
       "\t<tr><th></th><th scope=col>&lt;dbl&gt;</th><th scope=col>&lt;dbl&gt;</th><th scope=col>&lt;int&gt;</th><th scope=col>&lt;int&gt;</th><th scope=col>&lt;int&gt;</th><th scope=col>&lt;int&gt;</th><th scope=col>&lt;int&gt;</th><th scope=col>&lt;int&gt;</th><th scope=col>&lt;int&gt;</th><th scope=col>&lt;int&gt;</th><th scope=col>&lt;int&gt;</th><th scope=col>&lt;int&gt;</th><th scope=col>&lt;int&gt;</th><th scope=col>&lt;int&gt;</th><th scope=col>&lt;int&gt;</th><th scope=col>&lt;int&gt;</th><th scope=col>&lt;int&gt;</th><th scope=col>&lt;int&gt;</th><th scope=col>&lt;int&gt;</th><th scope=col>&lt;chr&gt;</th></tr>\n",
       "</thead>\n",
       "<tbody>\n",
       "\t<tr><th scope=row>1</th><td> 0.45582598</td><td>-1.465502</td><td>0</td><td>0</td><td>0</td><td>0</td><td>0</td><td>1</td><td>0</td><td>0</td><td>0</td><td>1</td><td>0</td><td>1</td><td>0</td><td>0</td><td>0</td><td>0</td><td>1</td><td>No </td></tr>\n",
       "\t<tr><th scope=row>2</th><td>-0.05347366</td><td>-1.465502</td><td>1</td><td>0</td><td>1</td><td>0</td><td>0</td><td>1</td><td>0</td><td>0</td><td>0</td><td>1</td><td>0</td><td>0</td><td>0</td><td>0</td><td>0</td><td>0</td><td>1</td><td>No </td></tr>\n",
       "\t<tr><th scope=row>3</th><td> 1.09245054</td><td>-1.465502</td><td>1</td><td>0</td><td>0</td><td>1</td><td>0</td><td>0</td><td>0</td><td>0</td><td>0</td><td>1</td><td>0</td><td>0</td><td>0</td><td>0</td><td>0</td><td>0</td><td>1</td><td>No </td></tr>\n",
       "\t<tr><th scope=row>4</th><td>-1.70869752</td><td>-1.465502</td><td>1</td><td>0</td><td>0</td><td>0</td><td>0</td><td>0</td><td>0</td><td>0</td><td>0</td><td>0</td><td>0</td><td>0</td><td>0</td><td>0</td><td>0</td><td>0</td><td>1</td><td>No </td></tr>\n",
       "\t<tr><th scope=row>5</th><td>-1.45404770</td><td>-1.465502</td><td>1</td><td>0</td><td>0</td><td>1</td><td>0</td><td>0</td><td>0</td><td>1</td><td>0</td><td>0</td><td>0</td><td>0</td><td>0</td><td>1</td><td>0</td><td>0</td><td>1</td><td>Yes</td></tr>\n",
       "\t<tr><th scope=row>6</th><td>-0.56277331</td><td>-1.465502</td><td>0</td><td>0</td><td>0</td><td>0</td><td>0</td><td>0</td><td>0</td><td>0</td><td>0</td><td>1</td><td>0</td><td>1</td><td>0</td><td>0</td><td>0</td><td>0</td><td>1</td><td>No </td></tr>\n",
       "</tbody>\n",
       "</table>\n"
      ],
      "text/latex": [
       "A data.frame: 6 × 20\n",
       "\\begin{tabular}{r|llllllllllllllllllll}\n",
       "  & age & yronset & sex\\_m & premi\\_nk & premi\\_y & smstat\\_n & smstat\\_nk & smstat\\_x & diabetes\\_nk & diabetes\\_y & highbp\\_nk & highbp\\_y & hichol\\_nk & hichol\\_y & angina\\_nk & angina\\_y & stroke\\_nk & stroke\\_y & hosp\\_y & outcome\\\\\n",
       "  & <dbl> & <dbl> & <int> & <int> & <int> & <int> & <int> & <int> & <int> & <int> & <int> & <int> & <int> & <int> & <int> & <int> & <int> & <int> & <int> & <chr>\\\\\n",
       "\\hline\n",
       "\t1 &  0.45582598 & -1.465502 & 0 & 0 & 0 & 0 & 0 & 1 & 0 & 0 & 0 & 1 & 0 & 1 & 0 & 0 & 0 & 0 & 1 & No \\\\\n",
       "\t2 & -0.05347366 & -1.465502 & 1 & 0 & 1 & 0 & 0 & 1 & 0 & 0 & 0 & 1 & 0 & 0 & 0 & 0 & 0 & 0 & 1 & No \\\\\n",
       "\t3 &  1.09245054 & -1.465502 & 1 & 0 & 0 & 1 & 0 & 0 & 0 & 0 & 0 & 1 & 0 & 0 & 0 & 0 & 0 & 0 & 1 & No \\\\\n",
       "\t4 & -1.70869752 & -1.465502 & 1 & 0 & 0 & 0 & 0 & 0 & 0 & 0 & 0 & 0 & 0 & 0 & 0 & 0 & 0 & 0 & 1 & No \\\\\n",
       "\t5 & -1.45404770 & -1.465502 & 1 & 0 & 0 & 1 & 0 & 0 & 0 & 1 & 0 & 0 & 0 & 0 & 0 & 1 & 0 & 0 & 1 & Yes\\\\\n",
       "\t6 & -0.56277331 & -1.465502 & 0 & 0 & 0 & 0 & 0 & 0 & 0 & 0 & 0 & 1 & 0 & 1 & 0 & 0 & 0 & 0 & 1 & No \\\\\n",
       "\\end{tabular}\n"
      ],
      "text/markdown": [
       "\n",
       "A data.frame: 6 × 20\n",
       "\n",
       "| <!--/--> | age &lt;dbl&gt; | yronset &lt;dbl&gt; | sex_m &lt;int&gt; | premi_nk &lt;int&gt; | premi_y &lt;int&gt; | smstat_n &lt;int&gt; | smstat_nk &lt;int&gt; | smstat_x &lt;int&gt; | diabetes_nk &lt;int&gt; | diabetes_y &lt;int&gt; | highbp_nk &lt;int&gt; | highbp_y &lt;int&gt; | hichol_nk &lt;int&gt; | hichol_y &lt;int&gt; | angina_nk &lt;int&gt; | angina_y &lt;int&gt; | stroke_nk &lt;int&gt; | stroke_y &lt;int&gt; | hosp_y &lt;int&gt; | outcome &lt;chr&gt; |\n",
       "|---|---|---|---|---|---|---|---|---|---|---|---|---|---|---|---|---|---|---|---|---|\n",
       "| 1 |  0.45582598 | -1.465502 | 0 | 0 | 0 | 0 | 0 | 1 | 0 | 0 | 0 | 1 | 0 | 1 | 0 | 0 | 0 | 0 | 1 | No  |\n",
       "| 2 | -0.05347366 | -1.465502 | 1 | 0 | 1 | 0 | 0 | 1 | 0 | 0 | 0 | 1 | 0 | 0 | 0 | 0 | 0 | 0 | 1 | No  |\n",
       "| 3 |  1.09245054 | -1.465502 | 1 | 0 | 0 | 1 | 0 | 0 | 0 | 0 | 0 | 1 | 0 | 0 | 0 | 0 | 0 | 0 | 1 | No  |\n",
       "| 4 | -1.70869752 | -1.465502 | 1 | 0 | 0 | 0 | 0 | 0 | 0 | 0 | 0 | 0 | 0 | 0 | 0 | 0 | 0 | 0 | 1 | No  |\n",
       "| 5 | -1.45404770 | -1.465502 | 1 | 0 | 0 | 1 | 0 | 0 | 0 | 1 | 0 | 0 | 0 | 0 | 0 | 1 | 0 | 0 | 1 | Yes |\n",
       "| 6 | -0.56277331 | -1.465502 | 0 | 0 | 0 | 0 | 0 | 0 | 0 | 0 | 0 | 1 | 0 | 1 | 0 | 0 | 0 | 0 | 1 | No  |\n",
       "\n"
      ],
      "text/plain": [
       "  age         yronset   sex_m premi_nk premi_y smstat_n smstat_nk smstat_x\n",
       "1  0.45582598 -1.465502 0     0        0       0        0         1       \n",
       "2 -0.05347366 -1.465502 1     0        1       0        0         1       \n",
       "3  1.09245054 -1.465502 1     0        0       1        0         0       \n",
       "4 -1.70869752 -1.465502 1     0        0       0        0         0       \n",
       "5 -1.45404770 -1.465502 1     0        0       1        0         0       \n",
       "6 -0.56277331 -1.465502 0     0        0       0        0         0       \n",
       "  diabetes_nk diabetes_y highbp_nk highbp_y hichol_nk hichol_y angina_nk\n",
       "1 0           0          0         1        0         1        0        \n",
       "2 0           0          0         1        0         0        0        \n",
       "3 0           0          0         1        0         0        0        \n",
       "4 0           0          0         0        0         0        0        \n",
       "5 0           1          0         0        0         0        0        \n",
       "6 0           0          0         1        0         1        0        \n",
       "  angina_y stroke_nk stroke_y hosp_y outcome\n",
       "1 0        0         0        1      No     \n",
       "2 0        0         0        1      No     \n",
       "3 0        0         0        1      No     \n",
       "4 0        0         0        1      No     \n",
       "5 1        0         0        1      Yes    \n",
       "6 0        0         0        1      No     "
      ]
     },
     "metadata": {},
     "output_type": "display_data"
    }
   ],
   "source": [
    "\n",
    "load(\"data.Rda\")\n",
    "head(data)"
   ]
  },
  {
   "cell_type": "markdown",
   "id": "b2e8b337",
   "metadata": {},
   "source": [
    "### Primer set de variables, set básico"
   ]
  },
  {
   "cell_type": "markdown",
   "id": "d3f30da4",
   "metadata": {
    "ExecuteTime": {
     "end_time": "2021-10-15T14:54:29.828783Z",
     "start_time": "2021-10-15T14:54:18.438Z"
    }
   },
   "source": [
    "El primer set de variables o set básico es el que se ha estado usando desde el inicio, son 9 variables:\n",
    "\n",
    "hosp_y+highbp_nk+age+angina_nk+angina_y+smstat_nk+yronset+stroke_y+stroke_nk,"
   ]
  },
  {
   "cell_type": "markdown",
   "id": "92e346a9",
   "metadata": {},
   "source": [
    "#### Tuneado ntree"
   ]
  },
  {
   "cell_type": "markdown",
   "id": "1e61fece",
   "metadata": {},
   "source": [
    "El tuneado ntree ya ha sido realizado en el archivo bagging con el resultado de ntree=3000 "
   ]
  },
  {
   "cell_type": "markdown",
   "id": "1a107338",
   "metadata": {},
   "source": [
    "#### Tuneado RandomForest con caret"
   ]
  },
  {
   "cell_type": "code",
   "execution_count": 22,
   "id": "3a502424",
   "metadata": {
    "ExecuteTime": {
     "end_time": "2021-10-19T09:09:07.777036Z",
     "start_time": "2021-10-19T08:43:05.376Z"
    }
   },
   "outputs": [],
   "source": [
    "set.seed(40)\n",
    "rfgrid<-expand.grid(mtry=c(3,4,5,6,7,8,9))\n",
    "\n",
    "control<-trainControl(method = \"cv\",number=10,savePredictions = \"all\",\n",
    " classProbs=TRUE) \n",
    "\n",
    "rf12<- train(factor(outcome)~\n",
    "           hosp_y+highbp_nk+age+angina_nk+angina_y+smstat_nk+yronset+stroke_y+stroke_nk,\n",
    "           data=data,\n",
    "           method=\"rf\",\n",
    "           trControl=control,\n",
    "           tuneGrid=rfgrid,\n",
    "           linout = FALSE,\n",
    "           ntree=3000,\n",
    "           nodesize=10,\n",
    "           replace=TRUE,\n",
    "           importance=TRUE)\n"
   ]
  },
  {
   "cell_type": "code",
   "execution_count": 23,
   "id": "7cec2a82",
   "metadata": {
    "ExecuteTime": {
     "end_time": "2021-10-19T09:13:34.480962Z",
     "start_time": "2021-10-19T08:43:12.307Z"
    }
   },
   "outputs": [
    {
     "data": {
      "text/plain": [
       "Random Forest \n",
       "\n",
       "6367 samples\n",
       "   9 predictor\n",
       "   2 classes: 'No', 'Yes' \n",
       "\n",
       "No pre-processing\n",
       "Resampling: Cross-Validated (10 fold) \n",
       "Summary of sample sizes: 5731, 5731, 5730, 5730, 5730, 5730, ... \n",
       "Resampling results across tuning parameters:\n",
       "\n",
       "  mtry  Accuracy   Kappa    \n",
       "  3     0.8774915  0.7463748\n",
       "  4     0.8757644  0.7430502\n",
       "  5     0.8740370  0.7398571\n",
       "  6     0.8741945  0.7403730\n",
       "  7     0.8716800  0.7353829\n",
       "  8     0.8696390  0.7314464\n",
       "  9     0.8685376  0.7293576\n",
       "\n",
       "Accuracy was used to select the optimal model using the largest value.\n",
       "The final value used for the model was mtry = 3."
      ]
     },
     "metadata": {},
     "output_type": "display_data"
    }
   ],
   "source": [
    "rf12"
   ]
  },
  {
   "cell_type": "markdown",
   "id": "66331829",
   "metadata": {},
   "source": [
    "Usaremos el parámetro mtry = 3 identificado como el que mejor Accuracy presenta."
   ]
  },
  {
   "cell_type": "markdown",
   "id": "a8b70912",
   "metadata": {},
   "source": [
    "#### Tuneado sampsize "
   ]
  },
  {
   "cell_type": "markdown",
   "id": "cb7e18a5",
   "metadata": {},
   "source": [
    "Ahora se va a tunear sampsize con Caret, mediante validación cruzada en diferentes tamaños muestrales, de la misma forma que se a realizado en el caso de Baggin."
   ]
  },
  {
   "cell_type": "code",
   "execution_count": 26,
   "id": "a4d6d54a",
   "metadata": {
    "ExecuteTime": {
     "end_time": "2021-10-19T09:35:27.325892Z",
     "start_time": "2021-10-19T09:33:28.575Z"
    }
   },
   "outputs": [],
   "source": [
    "source (\"cruzada rf binaria.R\")"
   ]
  },
  {
   "cell_type": "code",
   "execution_count": 27,
   "id": "e9937ca7",
   "metadata": {
    "ExecuteTime": {
     "end_time": "2021-10-19T09:47:53.785984Z",
     "start_time": "2021-10-19T09:33:32.029Z"
    },
    "run_control": {
     "marked": false
    }
   },
   "outputs": [
    {
     "name": "stdout",
     "output_type": "stream",
     "text": [
      "  mtry  Accuracy     Kappa AccuracySD   KappaSD\n",
      "1    3 0.8791579 0.7497474 0.01102854 0.0233607\n"
     ]
    }
   ],
   "source": [
    "#Tuneado con validación cruzada repetida el tamaño de muestra sampsize en bagging\n",
    "\n",
    "medias11<-cruzadarfbin(data=data,\n",
    "                       vardep=\"outcome\",\n",
    "                       listconti=c(\"hosp_y\", \"highbp_nk\", \"age\", \"angina_nk\", \"angina_y\", \n",
    "\"smstat_nk\", \"yronset\", \"stroke_y\", \"stroke_nk\"),\n",
    "                       listclass=c(\"\"),\n",
    "                       grupos=10,\n",
    "                       sinicio=1234,\n",
    "                       repe=20,\n",
    "                       nodesize=10,\n",
    "                       mtry=3,\n",
    "                       ntree=3000,\n",
    "                       replace=TRUE,\n",
    "                       sampsize=50)\n",
    "\n",
    "  medias11$modelo=\"rforest50\"\n",
    "\n"
   ]
  },
  {
   "cell_type": "code",
   "execution_count": 28,
   "id": "d1e54fa1",
   "metadata": {
    "ExecuteTime": {
     "end_time": "2021-10-19T10:00:47.487349Z",
     "start_time": "2021-10-19T09:49:10.721Z"
    },
    "run_control": {
     "marked": false
    }
   },
   "outputs": [
    {
     "name": "stdout",
     "output_type": "stream",
     "text": [
      "  mtry  Accuracy     Kappa AccuracySD    KappaSD\n",
      "1    3 0.8793466 0.7502229  0.0112232 0.02376532\n"
     ]
    }
   ],
   "source": [
    "\n",
    "medias12<-cruzadarfbin(data=data,\n",
    "                       vardep=\"outcome\",\n",
    "                       listconti=c(\"hosp_y\", \"highbp_nk\", \"age\", \"angina_nk\", \"angina_y\", \n",
    "\"smstat_nk\", \"yronset\", \"stroke_y\", \"stroke_nk\"),\n",
    "                       listclass=c(\"\"),\n",
    "                       grupos=10,\n",
    "                       sinicio=1234,\n",
    "                       repe=20,\n",
    "                       nodesize=10,\n",
    "                       mtry=3,\n",
    "                       ntree=3000,\n",
    "                       replace=TRUE,\n",
    "                       sampsize=100)\n",
    "\n",
    "  medias12$modelo=\"rforest100\"\n",
    "\n"
   ]
  },
  {
   "cell_type": "code",
   "execution_count": 29,
   "id": "2c1637cd",
   "metadata": {
    "ExecuteTime": {
     "end_time": "2021-10-19T10:14:03.115772Z",
     "start_time": "2021-10-19T09:49:12.648Z"
    },
    "run_control": {
     "marked": false
    }
   },
   "outputs": [
    {
     "name": "stdout",
     "output_type": "stream",
     "text": [
      "  mtry  Accuracy     Kappa AccuracySD    KappaSD\n",
      "1    3 0.8794644 0.7504908 0.01110852 0.02352968\n"
     ]
    }
   ],
   "source": [
    "\n",
    "medias13<-cruzadarfbin(data=data,\n",
    "                       vardep=\"outcome\",\n",
    "                       listconti=c(\"hosp_y\", \"highbp_nk\", \"age\", \"angina_nk\", \"angina_y\", \n",
    "\"smstat_nk\", \"yronset\", \"stroke_y\", \"stroke_nk\"),\n",
    "                       listclass=c(\"\"),\n",
    "                       grupos=10,\n",
    "                       sinicio=1234,\n",
    "                       repe=20,\n",
    "                       nodesize=10,\n",
    "                       mtry=3,\n",
    "                       ntree=3000,\n",
    "                       replace=TRUE,\n",
    "                       sampsize=150)\n",
    "\n",
    "  medias13$modelo=\"rforest150\"\n"
   ]
  },
  {
   "cell_type": "code",
   "execution_count": 30,
   "id": "ed970d05",
   "metadata": {
    "ExecuteTime": {
     "end_time": "2021-10-19T10:30:03.838608Z",
     "start_time": "2021-10-19T09:49:14.286Z"
    },
    "run_control": {
     "marked": false
    }
   },
   "outputs": [
    {
     "name": "stdout",
     "output_type": "stream",
     "text": [
      "  mtry  Accuracy     Kappa AccuracySD    KappaSD\n",
      "1    3 0.8790636 0.7496477 0.01117231 0.02363073\n"
     ]
    }
   ],
   "source": [
    "\n",
    "medias14<-cruzadarfbin(data=data,\n",
    "                       vardep=\"outcome\",\n",
    "                       listconti=c(\"hosp_y\", \"highbp_nk\", \"age\", \"angina_nk\", \"angina_y\", \n",
    "\"smstat_nk\", \"yronset\", \"stroke_y\", \"stroke_nk\"),\n",
    "                       listclass=c(\"\"),\n",
    "                       grupos=10,\n",
    "                       sinicio=1234,\n",
    "                       repe=20,\n",
    "                       nodesize=10,\n",
    "                       mtry=3,\n",
    "                       ntree=3000,\n",
    "                       replace=TRUE,\n",
    "                       sampsize=500)\n",
    "\n",
    "  medias14$modelo=\"rforest500\""
   ]
  },
  {
   "cell_type": "code",
   "execution_count": 31,
   "id": "bf7461f0",
   "metadata": {
    "ExecuteTime": {
     "end_time": "2021-10-19T10:49:42.073241Z",
     "start_time": "2021-10-19T09:49:15.817Z"
    },
    "run_control": {
     "marked": false
    }
   },
   "outputs": [
    {
     "name": "stdout",
     "output_type": "stream",
     "text": [
      "  mtry  Accuracy     Kappa AccuracySD    KappaSD\n",
      "1    3 0.8790633 0.7496239 0.01119241 0.02365906\n"
     ]
    }
   ],
   "source": [
    "\n",
    "medias15<-cruzadarfbin(data=data,\n",
    "                       vardep=\"outcome\",\n",
    "                       listconti=c(\"hosp_y\", \"highbp_nk\", \"age\", \"angina_nk\", \"angina_y\", \n",
    "\"smstat_nk\", \"yronset\", \"stroke_y\", \"stroke_nk\"),\n",
    "                       listclass=c(\"\"),\n",
    "                       grupos=10,\n",
    "                       sinicio=1234,\n",
    "                       repe=20,\n",
    "                       nodesize=10,\n",
    "                       mtry=3,\n",
    "                       ntree=3000,\n",
    "                       replace=TRUE,\n",
    "                       sampsize=1000)\n",
    "\n",
    "  medias15$modelo=\"rforest1000\""
   ]
  },
  {
   "cell_type": "code",
   "execution_count": 32,
   "id": "616c910b",
   "metadata": {
    "ExecuteTime": {
     "end_time": "2021-10-19T11:12:56.840732Z",
     "start_time": "2021-10-19T09:49:17.338Z"
    },
    "run_control": {
     "marked": false
    }
   },
   "outputs": [
    {
     "name": "stdout",
     "output_type": "stream",
     "text": [
      "  mtry  Accuracy     Kappa AccuracySD    KappaSD\n",
      "1    3 0.8787729 0.7489815  0.0111231 0.02352937\n"
     ]
    }
   ],
   "source": [
    "\n",
    "medias16<-cruzadarfbin(data=data,\n",
    "                       vardep=\"outcome\",\n",
    "                       listconti=c(\"hosp_y\", \"highbp_nk\", \"age\", \"angina_nk\", \"angina_y\", \n",
    "\"smstat_nk\", \"yronset\", \"stroke_y\", \"stroke_nk\"),\n",
    "                       listclass=c(\"\"),\n",
    "                       grupos=10,\n",
    "                       sinicio=1234,\n",
    "                       repe=20,\n",
    "                       nodesize=10,\n",
    "                       mtry=3,\n",
    "                       ntree=3000,\n",
    "                       replace=TRUE,\n",
    "                       sampsize=1500)\n",
    "\n",
    "  medias16$modelo=\"rforest1500\""
   ]
  },
  {
   "cell_type": "code",
   "execution_count": 33,
   "id": "8d01a71c",
   "metadata": {
    "ExecuteTime": {
     "end_time": "2021-10-19T11:38:42.208503Z",
     "start_time": "2021-10-19T09:49:18.812Z"
    },
    "run_control": {
     "marked": false
    }
   },
   "outputs": [
    {
     "name": "stdout",
     "output_type": "stream",
     "text": [
      "  mtry  Accuracy     Kappa AccuracySD    KappaSD\n",
      "1    3 0.8784274 0.7482596  0.0112422 0.02377908\n"
     ]
    }
   ],
   "source": [
    "\n",
    "medias17<-cruzadarfbin(data=data,\n",
    "                       vardep=\"outcome\",\n",
    "                       listconti=c(\"hosp_y\", \"highbp_nk\", \"age\", \"angina_nk\", \"angina_y\", \n",
    "\"smstat_nk\", \"yronset\", \"stroke_y\", \"stroke_nk\"),\n",
    "                       listclass=c(\"\"),\n",
    "                       grupos=10,\n",
    "                       sinicio=1234,\n",
    "                       repe=20,\n",
    "                       nodesize=10,\n",
    "                       mtry=3,\n",
    "                       ntree=3000,\n",
    "                       replace=TRUE,\n",
    "                       sampsize=2000)\n",
    "\n",
    "  medias17$modelo=\"rforest2000\""
   ]
  },
  {
   "cell_type": "code",
   "execution_count": 34,
   "id": "3ed1cc3d",
   "metadata": {
    "ExecuteTime": {
     "end_time": "2021-10-19T12:20:18.627291Z",
     "start_time": "2021-10-19T09:49:20.464Z"
    },
    "run_control": {
     "marked": false
    }
   },
   "outputs": [
    {
     "name": "stdout",
     "output_type": "stream",
     "text": [
      "  mtry  Accuracy     Kappa AccuracySD    KappaSD\n",
      "1    3 0.8779487 0.7472754 0.01145617 0.02423233\n"
     ]
    }
   ],
   "source": [
    "set.seed(40)\n",
    "medias18<-cruzadarfbin(data=data,\n",
    "                       vardep=\"outcome\",\n",
    "                       listconti=c(\"hosp_y\", \"highbp_nk\", \"age\", \"angina_nk\", \"angina_y\", \n",
    "\"smstat_nk\", \"yronset\", \"stroke_y\", \"stroke_nk\"),\n",
    "                       listclass=c(\"\"),\n",
    "                       grupos=10,\n",
    "                       sinicio=1234,\n",
    "                       repe=20,\n",
    "                       nodesize=10,\n",
    "                       mtry=3,\n",
    "                       ntree=3000,\n",
    "                       replace=TRUE)\n",
    "\n",
    "  medias18$modelo=\"rforest_base\""
   ]
  },
  {
   "cell_type": "code",
   "execution_count": 35,
   "id": "069c007e",
   "metadata": {
    "ExecuteTime": {
     "end_time": "2021-10-19T12:28:56.358378Z",
     "start_time": "2021-10-19T09:49:25.742Z"
    },
    "run_control": {
     "marked": false
    }
   },
   "outputs": [],
   "source": [
    "union1<-rbind(medias11,medias12,medias13,medias14,medias15,medias16,medias17,medias18)\n"
   ]
  },
  {
   "cell_type": "code",
   "execution_count": 37,
   "id": "75a62b60",
   "metadata": {
    "ExecuteTime": {
     "end_time": "2021-10-19T12:46:05.402786Z",
     "start_time": "2021-10-19T09:49:40.742Z"
    },
    "run_control": {
     "marked": false
    }
   },
   "outputs": [
    {
     "data": {
      "image/png": "[encoded data removed]",
      "text/plain": [
       "Plot with title \"TASA FALLOS\""
      ]
     },
     "metadata": {
      "image/png": {
       "height": 420,
       "width": 420
      }
     },
     "output_type": "display_data"
    },
    {
     "data": {
      "image/png": "[encoded data removed]",
      "text/plain": [
       "Plot with title \"AUC\""
      ]
     },
     "metadata": {
      "image/png": {
       "height": 420,
       "width": 420
      }
     },
     "output_type": "display_data"
    }
   ],
   "source": [
    "par(cex.axis=1.0)\n",
    "boxplot(data=union1,tasa~modelo,main=\"TASA FALLOS\",col=\"pink\")\n",
    "boxplot(data=union1,auc~modelo,main=\"AUC\",col=\"pink\")"
   ]
  },
  {
   "cell_type": "code",
   "execution_count": 38,
   "id": "2660f1ff",
   "metadata": {
    "ExecuteTime": {
     "end_time": "2021-10-19T12:54:49.032561Z",
     "start_time": "2021-10-19T09:49:43.699Z"
    },
    "run_control": {
     "marked": false
    }
   },
   "outputs": [
    {
     "data": {
      "image/png": "[encoded data removed]",
      "text/plain": [
       "plot without title"
      ]
     },
     "metadata": {
      "image/png": {
       "height": 420,
       "width": 420
      }
     },
     "output_type": "display_data"
    }
   ],
   "source": [
    "uni<-union1\n",
    "uni$modelo<- with(uni, reorder(modelo,tasa,mean))\n",
    "par(cex.axis=1, las=2)\n",
    "boxplot(data=uni,tasa~modelo,col=\"pink\")"
   ]
  },
  {
   "cell_type": "code",
   "execution_count": 39,
   "id": "8eb9e2bd",
   "metadata": {
    "ExecuteTime": {
     "end_time": "2021-10-19T13:03:30.701307Z",
     "start_time": "2021-10-19T12:56:43.493Z"
    }
   },
   "outputs": [
    {
     "data": {
      "image/png": "[encoded data removed]",
      "text/plain": [
       "plot without title"
      ]
     },
     "metadata": {
      "image/png": {
       "height": 420,
       "width": 420
      }
     },
     "output_type": "display_data"
    }
   ],
   "source": [
    "uni<-union1\n",
    "uni$modelo<- with(uni, reorder(modelo,auc,mean))\n",
    "par(cex.axis=1, las=2)\n",
    "boxplot(data=uni,auc~modelo,col=\"pink\")"
   ]
  },
  {
   "cell_type": "markdown",
   "id": "409668fd",
   "metadata": {},
   "source": [
    "Se entiende que el valor de sampsize de 150 es más correcto, dada la divergencia entre AUC y tasa de fallos, que no es demasiada pues tenemos una buena tasa de fallos y un área bajo la curva con menos variabilidad en el caso de 150 y por eso se escoge este valor."
   ]
  },
  {
   "cell_type": "markdown",
   "id": "f00ec3c7",
   "metadata": {},
   "source": [
    "### Importancia de las variables"
   ]
  },
  {
   "cell_type": "code",
   "execution_count": 24,
   "id": "cec8cff1",
   "metadata": {
    "ExecuteTime": {
     "end_time": "2021-10-19T09:17:58.929666Z",
     "start_time": "2021-10-19T08:43:20.193Z"
    }
   },
   "outputs": [
    {
     "data": {
      "text/html": [
       "<table class=\"dataframe\">\n",
       "<caption>A data.frame: 9 × 4</caption>\n",
       "<thead>\n",
       "\t<tr><th></th><th scope=col>No</th><th scope=col>Yes</th><th scope=col>MeanDecreaseAccuracy</th><th scope=col>MeanDecreaseGini</th></tr>\n",
       "\t<tr><th></th><th scope=col>&lt;dbl&gt;</th><th scope=col>&lt;dbl&gt;</th><th scope=col>&lt;dbl&gt;</th><th scope=col>&lt;dbl&gt;</th></tr>\n",
       "</thead>\n",
       "<tbody>\n",
       "\t<tr><th scope=row>hosp_y</th><td>528.14214188</td><td>475.606377</td><td>528.41894</td><td>1395.17480</td></tr>\n",
       "\t<tr><th scope=row>highbp_nk</th><td> 87.48443940</td><td> -8.442841</td><td> 86.64072</td><td> 159.75396</td></tr>\n",
       "\t<tr><th scope=row>smstat_nk</th><td> 81.96504480</td><td> -5.961438</td><td> 85.02637</td><td>  61.42748</td></tr>\n",
       "\t<tr><th scope=row>stroke_nk</th><td> 54.10897532</td><td> 26.307999</td><td> 64.35342</td><td> 153.81570</td></tr>\n",
       "\t<tr><th scope=row>angina_nk</th><td> 57.40451498</td><td> 22.376824</td><td> 53.46116</td><td>  95.81550</td></tr>\n",
       "\t<tr><th scope=row>stroke_y</th><td> 14.00289005</td><td> 39.168382</td><td> 37.90197</td><td>  20.58485</td></tr>\n",
       "\t<tr><th scope=row>angina_y</th><td> 12.64580501</td><td> 15.869654</td><td> 21.37268</td><td>  18.74907</td></tr>\n",
       "\t<tr><th scope=row>yronset</th><td> 18.71036490</td><td> -3.001812</td><td> 11.76591</td><td>  34.04508</td></tr>\n",
       "\t<tr><th scope=row>age</th><td>  0.07091296</td><td> 14.663893</td><td> 11.15951</td><td>  71.83834</td></tr>\n",
       "</tbody>\n",
       "</table>\n"
      ],
      "text/latex": [
       "A data.frame: 9 × 4\n",
       "\\begin{tabular}{r|llll}\n",
       "  & No & Yes & MeanDecreaseAccuracy & MeanDecreaseGini\\\\\n",
       "  & <dbl> & <dbl> & <dbl> & <dbl>\\\\\n",
       "\\hline\n",
       "\thosp\\_y & 528.14214188 & 475.606377 & 528.41894 & 1395.17480\\\\\n",
       "\thighbp\\_nk &  87.48443940 &  -8.442841 &  86.64072 &  159.75396\\\\\n",
       "\tsmstat\\_nk &  81.96504480 &  -5.961438 &  85.02637 &   61.42748\\\\\n",
       "\tstroke\\_nk &  54.10897532 &  26.307999 &  64.35342 &  153.81570\\\\\n",
       "\tangina\\_nk &  57.40451498 &  22.376824 &  53.46116 &   95.81550\\\\\n",
       "\tstroke\\_y &  14.00289005 &  39.168382 &  37.90197 &   20.58485\\\\\n",
       "\tangina\\_y &  12.64580501 &  15.869654 &  21.37268 &   18.74907\\\\\n",
       "\tyronset &  18.71036490 &  -3.001812 &  11.76591 &   34.04508\\\\\n",
       "\tage &   0.07091296 &  14.663893 &  11.15951 &   71.83834\\\\\n",
       "\\end{tabular}\n"
      ],
      "text/markdown": [
       "\n",
       "A data.frame: 9 × 4\n",
       "\n",
       "| <!--/--> | No &lt;dbl&gt; | Yes &lt;dbl&gt; | MeanDecreaseAccuracy &lt;dbl&gt; | MeanDecreaseGini &lt;dbl&gt; |\n",
       "|---|---|---|---|---|\n",
       "| hosp_y | 528.14214188 | 475.606377 | 528.41894 | 1395.17480 |\n",
       "| highbp_nk |  87.48443940 |  -8.442841 |  86.64072 |  159.75396 |\n",
       "| smstat_nk |  81.96504480 |  -5.961438 |  85.02637 |   61.42748 |\n",
       "| stroke_nk |  54.10897532 |  26.307999 |  64.35342 |  153.81570 |\n",
       "| angina_nk |  57.40451498 |  22.376824 |  53.46116 |   95.81550 |\n",
       "| stroke_y |  14.00289005 |  39.168382 |  37.90197 |   20.58485 |\n",
       "| angina_y |  12.64580501 |  15.869654 |  21.37268 |   18.74907 |\n",
       "| yronset |  18.71036490 |  -3.001812 |  11.76591 |   34.04508 |\n",
       "| age |   0.07091296 |  14.663893 |  11.15951 |   71.83834 |\n",
       "\n"
      ],
      "text/plain": [
       "          No           Yes        MeanDecreaseAccuracy MeanDecreaseGini\n",
       "hosp_y    528.14214188 475.606377 528.41894            1395.17480      \n",
       "highbp_nk  87.48443940  -8.442841  86.64072             159.75396      \n",
       "smstat_nk  81.96504480  -5.961438  85.02637              61.42748      \n",
       "stroke_nk  54.10897532  26.307999  64.35342             153.81570      \n",
       "angina_nk  57.40451498  22.376824  53.46116              95.81550      \n",
       "stroke_y   14.00289005  39.168382  37.90197              20.58485      \n",
       "angina_y   12.64580501  15.869654  21.37268              18.74907      \n",
       "yronset    18.71036490  -3.001812  11.76591              34.04508      \n",
       "age         0.07091296  14.663893  11.15951              71.83834      "
      ]
     },
     "metadata": {},
     "output_type": "display_data"
    }
   ],
   "source": [
    "# IMPORTANCIA DE VARIABLES\n",
    "\n",
    "final<-rf12$finalModel\n",
    "\n",
    "tabla<-as.data.frame(importance(final))\n",
    "tabla<-tabla[order(-tabla$MeanDecreaseAccuracy),]\n",
    "tabla\n",
    "\n"
   ]
  },
  {
   "cell_type": "code",
   "execution_count": 25,
   "id": "2b3291a0",
   "metadata": {
    "ExecuteTime": {
     "end_time": "2021-10-19T09:26:39.080108Z",
     "start_time": "2021-10-19T09:18:22.111Z"
    }
   },
   "outputs": [
    {
     "data": {
      "image/png": "[encoded data removed]",
      "text/plain": [
       "plot without title"
      ]
     },
     "metadata": {
      "image/png": {
       "height": 420,
       "width": 420
      }
     },
     "output_type": "display_data"
    }
   ],
   "source": [
    "barplot(tabla$MeanDecreaseAccuracy,names.arg=rownames(tabla))\n"
   ]
  },
  {
   "cell_type": "markdown",
   "id": "7c54b16b",
   "metadata": {},
   "source": [
    "Se puede observar que el dataset está desbalanceado, pues la variable hosp_y tiene demasiada influencia y acaba por dominar los resultados, parece no ofrecer demasiada dispersión. \n",
    "Vamos a tantear otras ocpiones planteando otro set de variables, nos quedamos con las 6 mejores variables para un posterior estudio de los valores de tuneado de los parámetros.\n",
    "\n",
    "hosp_y+highbp_nk+angina_nk+smstat_nk+stroke_y+stroke_nk"
   ]
  },
  {
   "cell_type": "markdown",
   "id": "c588623b",
   "metadata": {},
   "source": [
    "### Segundo set de variables"
   ]
  },
  {
   "cell_type": "markdown",
   "id": "60c170ac",
   "metadata": {},
   "source": [
    "#### Tuneado RandomForest con caret"
   ]
  },
  {
   "cell_type": "code",
   "execution_count": 40,
   "id": "714ac8c0",
   "metadata": {
    "ExecuteTime": {
     "end_time": "2021-10-19T13:18:58.229248Z",
     "start_time": "2021-10-19T13:05:22.071Z"
    }
   },
   "outputs": [],
   "source": [
    "set.seed(40)\n",
    "rfgrid<-expand.grid(mtry=c(3,4,5,6))\n",
    "\n",
    "control<-trainControl(method = \"cv\",number=10,savePredictions = \"all\",\n",
    " classProbs=TRUE) \n",
    "\n",
    "rf22<- train(factor(outcome)~\n",
    "           hosp_y+highbp_nk+angina_nk+smstat_nk+stroke_y+stroke_nk,\n",
    "           data=data,\n",
    "           method=\"rf\",\n",
    "           trControl=control,\n",
    "           tuneGrid=rfgrid,\n",
    "           linout = FALSE,\n",
    "           ntree=3000,\n",
    "           nodesize=10,\n",
    "           replace=TRUE,\n",
    "           importance=TRUE)\n"
   ]
  },
  {
   "cell_type": "code",
   "execution_count": 41,
   "id": "1f426680",
   "metadata": {
    "ExecuteTime": {
     "end_time": "2021-10-19T13:27:40.021038Z",
     "start_time": "2021-10-19T13:05:24.457Z"
    }
   },
   "outputs": [
    {
     "data": {
      "text/plain": [
       "Random Forest \n",
       "\n",
       "6367 samples\n",
       "   6 predictor\n",
       "   2 classes: 'No', 'Yes' \n",
       "\n",
       "No pre-processing\n",
       "Resampling: Cross-Validated (10 fold) \n",
       "Summary of sample sizes: 5731, 5731, 5730, 5730, 5730, 5730, ... \n",
       "Resampling results across tuning parameters:\n",
       "\n",
       "  mtry  Accuracy   Kappa    \n",
       "  3     0.8792193  0.7498063\n",
       "  4     0.8792191  0.7498226\n",
       "  5     0.8785906  0.7485576\n",
       "  6     0.8789044  0.7492043\n",
       "\n",
       "Accuracy was used to select the optimal model using the largest value.\n",
       "The final value used for the model was mtry = 3."
      ]
     },
     "metadata": {},
     "output_type": "display_data"
    }
   ],
   "source": [
    "rf22"
   ]
  },
  {
   "cell_type": "markdown",
   "id": "9daac4c9",
   "metadata": {},
   "source": [
    "#### Tuneado sampsize "
   ]
  },
  {
   "cell_type": "code",
   "execution_count": 42,
   "id": "e07460c8",
   "metadata": {
    "ExecuteTime": {
     "end_time": "2021-10-19T13:39:17.378433Z",
     "start_time": "2021-10-19T13:05:27.696Z"
    }
   },
   "outputs": [
    {
     "name": "stdout",
     "output_type": "stream",
     "text": [
      "  mtry  Accuracy     Kappa AccuracySD    KappaSD\n",
      "1    3 0.8792052 0.7497846 0.01100947 0.02335058\n"
     ]
    }
   ],
   "source": [
    "#Tuneado con validación cruzada repetida el tamaño de muestra sampsize \n",
    "\n",
    "medias21<-cruzadarfbin(data=data,\n",
    "                       vardep=\"outcome\",\n",
    "                       listconti=c(\"hosp_y\",\"highbp_nk\",\"angina_nk\",\"smstat_nk\",\"stroke_y\",\"stroke_nk\"),\n",
    "                       listclass=c(\"\"),\n",
    "                       grupos=10,\n",
    "                       sinicio=1234,\n",
    "                       repe=20,\n",
    "                       nodesize=10,\n",
    "                       mtry=3,\n",
    "                       ntree=3000,\n",
    "                       replace=TRUE,\n",
    "                       sampsize=50)\n",
    "\n",
    "  medias21$modelo=\"rforest50\"\n",
    "\n"
   ]
  },
  {
   "cell_type": "code",
   "execution_count": 43,
   "id": "56e1be09",
   "metadata": {
    "ExecuteTime": {
     "end_time": "2021-10-19T13:51:08.661204Z",
     "start_time": "2021-10-19T13:05:28.456Z"
    }
   },
   "outputs": [
    {
     "name": "stdout",
     "output_type": "stream",
     "text": [
      "  mtry  Accuracy     Kappa AccuracySD    KappaSD\n",
      "1    3 0.8793782 0.7502329 0.01092894 0.02317323\n"
     ]
    }
   ],
   "source": [
    "\n",
    "medias22<-cruzadarfbin(data=data,\n",
    "                       vardep=\"outcome\",\n",
    "                       listconti=c(\"hosp_y\",\"highbp_nk\",\"angina_nk\",\"smstat_nk\",\"stroke_y\",\"stroke_nk\"),\n",
    "                       listclass=c(\"\"),\n",
    "                       grupos=10,\n",
    "                       sinicio=1234,\n",
    "                       repe=20,\n",
    "                       nodesize=10,\n",
    "                       mtry=3,\n",
    "                       ntree=3000,\n",
    "                       replace=TRUE,\n",
    "                       sampsize=100)\n",
    "\n",
    "  medias22$modelo=\"rforest100\"\n",
    "\n"
   ]
  },
  {
   "cell_type": "code",
   "execution_count": 44,
   "id": "3f62e1c6",
   "metadata": {
    "ExecuteTime": {
     "end_time": "2021-10-19T14:03:17.061077Z",
     "start_time": "2021-10-19T13:05:29.412Z"
    }
   },
   "outputs": [
    {
     "name": "stdout",
     "output_type": "stream",
     "text": [
      "  mtry  Accuracy     Kappa AccuracySD    KappaSD\n",
      "1    3 0.8793153 0.7501085 0.01095831 0.02323612\n"
     ]
    }
   ],
   "source": [
    "\n",
    "medias23<-cruzadarfbin(data=data,\n",
    "                       vardep=\"outcome\",\n",
    "                       listconti=c(\"hosp_y\",\"highbp_nk\",\"angina_nk\",\"smstat_nk\",\"stroke_y\",\"stroke_nk\"),\n",
    "                       listclass=c(\"\"),\n",
    "                       grupos=10,\n",
    "                       sinicio=1234,\n",
    "                       repe=20,\n",
    "                       nodesize=10,\n",
    "                       mtry=3,\n",
    "                       ntree=3000,\n",
    "                       replace=TRUE,\n",
    "                       sampsize=150)\n",
    "\n",
    "  medias23$modelo=\"rforest150\"\n"
   ]
  },
  {
   "cell_type": "code",
   "execution_count": 45,
   "id": "e4d0dce2",
   "metadata": {
    "ExecuteTime": {
     "end_time": "2021-10-19T14:16:40.891566Z",
     "start_time": "2021-10-19T13:05:30.216Z"
    }
   },
   "outputs": [
    {
     "name": "stdout",
     "output_type": "stream",
     "text": [
      "  mtry  Accuracy     Kappa AccuracySD    KappaSD\n",
      "1    3 0.8782553 0.7479498 0.01122507 0.02376287\n"
     ]
    }
   ],
   "source": [
    "medias24<-cruzadarfbin(data=data,\n",
    "                       vardep=\"outcome\",\n",
    "                       listconti=c(\"hosp_y\",\"highbp_nk\",\"angina_nk\",\"smstat_nk\",\"stroke_y\",\"stroke_nk\"),\n",
    "                       listclass=c(\"\"),\n",
    "                       grupos=10,\n",
    "                       sinicio=1234,\n",
    "                       repe=20,\n",
    "                       nodesize=10,\n",
    "                       mtry=3,\n",
    "                       ntree=3000,\n",
    "                       replace=TRUE,\n",
    "                       sampsize=500)\n",
    "\n",
    "  medias24$modelo=\"rforest500\""
   ]
  },
  {
   "cell_type": "code",
   "execution_count": 46,
   "id": "54b571e2",
   "metadata": {
    "ExecuteTime": {
     "end_time": "2021-10-19T14:32:13.456985Z",
     "start_time": "2021-10-19T13:05:30.949Z"
    }
   },
   "outputs": [
    {
     "name": "stdout",
     "output_type": "stream",
     "text": [
      "  mtry  Accuracy     Kappa AccuracySD    KappaSD\n",
      "1    3 0.8782705 0.7479114 0.01117698 0.02365636\n"
     ]
    }
   ],
   "source": [
    "\n",
    "medias25<-cruzadarfbin(data=data,\n",
    "                       vardep=\"outcome\",\n",
    "                       listconti=c(\"hosp_y\",\"highbp_nk\",\"angina_nk\",\"smstat_nk\",\"stroke_y\",\"stroke_nk\"),\n",
    "                       listclass=c(\"\"),\n",
    "                       grupos=10,\n",
    "                       sinicio=1234,\n",
    "                       repe=20,\n",
    "                       nodesize=10,\n",
    "                       mtry=3,\n",
    "                       ntree=3000,\n",
    "                       replace=TRUE,\n",
    "                       sampsize=1000)\n",
    "\n",
    "  medias25$modelo=\"rforest1000\""
   ]
  },
  {
   "cell_type": "code",
   "execution_count": 47,
   "id": "33895538",
   "metadata": {
    "ExecuteTime": {
     "end_time": "2021-10-19T14:49:54.772840Z",
     "start_time": "2021-10-19T13:05:31.749Z"
    }
   },
   "outputs": [
    {
     "name": "stdout",
     "output_type": "stream",
     "text": [
      "  mtry  Accuracy     Kappa AccuracySD   KappaSD\n",
      "1    3 0.8785528 0.7484227 0.01125933 0.0238285\n"
     ]
    }
   ],
   "source": [
    "\n",
    "medias26<-cruzadarfbin(data=data,\n",
    "                       vardep=\"outcome\",\n",
    "                       listconti=c(\"hosp_y\",\"highbp_nk\",\"angina_nk\",\"smstat_nk\",\"stroke_y\",\"stroke_nk\"),\n",
    "                       listclass=c(\"\"),\n",
    "                       grupos=10,\n",
    "                       sinicio=1234,\n",
    "                       repe=20,\n",
    "                       nodesize=10,\n",
    "                       mtry=3,\n",
    "                       ntree=3000,\n",
    "                       replace=TRUE,\n",
    "                       sampsize=1500)\n",
    "\n",
    "  medias26$modelo=\"rforest1500\""
   ]
  },
  {
   "cell_type": "code",
   "execution_count": 48,
   "id": "b66177d4",
   "metadata": {
    "ExecuteTime": {
     "end_time": "2021-10-19T15:09:10.750711Z",
     "start_time": "2021-10-19T13:05:32.477Z"
    }
   },
   "outputs": [
    {
     "name": "stdout",
     "output_type": "stream",
     "text": [
      "  mtry  Accuracy     Kappa AccuracySD    KappaSD\n",
      "1    3 0.8786786 0.7486477 0.01119799 0.02371958\n"
     ]
    }
   ],
   "source": [
    "medias27<-cruzadarfbin(data=data,\n",
    "                       vardep=\"outcome\",\n",
    "                       listconti=c(\"hosp_y\",\"highbp_nk\",\"angina_nk\",\"smstat_nk\",\"stroke_y\",\"stroke_nk\"),\n",
    "                       listclass=c(\"\"),\n",
    "                       grupos=10,\n",
    "                       sinicio=1234,\n",
    "                       repe=20,\n",
    "                       nodesize=10,\n",
    "                       mtry=3,\n",
    "                       ntree=3000,\n",
    "                       replace=TRUE,\n",
    "                       sampsize=2000)\n",
    "\n",
    "  medias27$modelo=\"rforest2000\""
   ]
  },
  {
   "cell_type": "code",
   "execution_count": 49,
   "id": "25caba8f",
   "metadata": {
    "ExecuteTime": {
     "end_time": "2021-10-19T15:37:25.633908Z",
     "start_time": "2021-10-19T13:05:33.238Z"
    }
   },
   "outputs": [
    {
     "name": "stdout",
     "output_type": "stream",
     "text": [
      "  mtry  Accuracy     Kappa AccuracySD    KappaSD\n",
      "1    3 0.8790949 0.7494765 0.01128961 0.02390558\n"
     ]
    }
   ],
   "source": [
    "set.seed(40)\n",
    "medias28<-cruzadarfbin(data=data,\n",
    "                       vardep=\"outcome\",\n",
    "                       listconti=c(\"hosp_y\",\"highbp_nk\",\"angina_nk\",\"smstat_nk\",\"stroke_y\",\"stroke_nk\"),\n",
    "                       listclass=c(\"\"),\n",
    "                       grupos=10,\n",
    "                       sinicio=1234,\n",
    "                       repe=20,\n",
    "                       nodesize=10,\n",
    "                       mtry=3,\n",
    "                       ntree=3000,\n",
    "                       replace=TRUE)\n",
    "\n",
    "  medias28$modelo=\"rforest_base\""
   ]
  },
  {
   "cell_type": "code",
   "execution_count": 52,
   "id": "236243fe",
   "metadata": {
    "ExecuteTime": {
     "end_time": "2021-10-19T16:08:49.778990Z",
     "start_time": "2021-10-19T16:08:49.756Z"
    }
   },
   "outputs": [],
   "source": [
    "union21<-rbind(medias21,medias22,medias23,medias24,medias25,medias26,medias27,medias28)"
   ]
  },
  {
   "cell_type": "code",
   "execution_count": 53,
   "id": "a5c9b0fe",
   "metadata": {
    "ExecuteTime": {
     "end_time": "2021-10-19T16:17:37.659775Z",
     "start_time": "2021-10-19T16:08:52.469Z"
    }
   },
   "outputs": [
    {
     "data": {
      "image/png": "[encoded data removed]",
      "text/plain": [
       "Plot with title \"TASA FALLOS\""
      ]
     },
     "metadata": {
      "image/png": {
       "height": 420,
       "width": 420
      }
     },
     "output_type": "display_data"
    },
    {
     "data": {
      "image/png": "[encoded data removed]",
      "text/plain": [
       "Plot with title \"AUC\""
      ]
     },
     "metadata": {
      "image/png": {
       "height": 420,
       "width": 420
      }
     },
     "output_type": "display_data"
    }
   ],
   "source": [
    "par(cex.axis=1.0)\n",
    "boxplot(data=union21,tasa~modelo,main=\"TASA FALLOS\",col=\"pink\")\n",
    "boxplot(data=union21,auc~modelo,main=\"AUC\",col=\"pink\")"
   ]
  },
  {
   "cell_type": "code",
   "execution_count": 54,
   "id": "c32d76e2",
   "metadata": {
    "ExecuteTime": {
     "end_time": "2021-10-19T16:26:19.940948Z",
     "start_time": "2021-10-19T16:08:56.411Z"
    }
   },
   "outputs": [
    {
     "data": {
      "image/png": "[encoded data removed]",
      "text/plain": [
       "plot without title"
      ]
     },
     "metadata": {
      "image/png": {
       "height": 420,
       "width": 420
      }
     },
     "output_type": "display_data"
    }
   ],
   "source": [
    "uni<-union21\n",
    "uni$modelo<- with(uni, reorder(modelo,tasa,mean))\n",
    "par(cex.axis=1, las=2)\n",
    "boxplot(data=uni,tasa~modelo,col=\"pink\")"
   ]
  },
  {
   "cell_type": "code",
   "execution_count": 55,
   "id": "1773c0b9",
   "metadata": {
    "ExecuteTime": {
     "end_time": "2021-10-19T16:35:01.384569Z",
     "start_time": "2021-10-19T16:08:57.099Z"
    }
   },
   "outputs": [
    {
     "data": {
      "image/png": "[encoded data removed]",
      "text/plain": [
       "plot without title"
      ]
     },
     "metadata": {
      "image/png": {
       "height": 420,
       "width": 420
      }
     },
     "output_type": "display_data"
    }
   ],
   "source": [
    "uni<-union21\n",
    "uni$modelo<- with(uni, reorder(modelo,auc,mean))\n",
    "par(cex.axis=1, las=2)\n",
    "boxplot(data=uni,auc~modelo,col=\"pink\")"
   ]
  },
  {
   "cell_type": "markdown",
   "id": "b3a9a864",
   "metadata": {},
   "source": [
    "A la vista de los resultados, se defiende que el valor de sampsize que mejor se ajusta a una variablidad contenida a la vez que un buen valor de AUC y bajo de tasa de fallos es el de 150. Ese es el parámetro que se va a usar. En el caso de bagging se a usado 100 pues a la vista de los resltados es el que más se ajustaba, pero en este caso se estima que el valor de 150 es más correcto."
   ]
  },
  {
   "cell_type": "markdown",
   "id": "93ab5a3c",
   "metadata": {},
   "source": [
    "### Comparación de modelos de los dos set de variables"
   ]
  },
  {
   "cell_type": "code",
   "execution_count": 6,
   "id": "7ecc485f",
   "metadata": {
    "ExecuteTime": {
     "end_time": "2021-10-20T20:45:19.881237Z",
     "start_time": "2021-10-20T20:40:22.511Z"
    }
   },
   "outputs": [
    {
     "name": "stdout",
     "output_type": "stream",
     "text": [
      "  mtry  Accuracy     Kappa AccuracySD    KappaSD\n",
      "1    3 0.8794644 0.7504908 0.01110852 0.02352968\n"
     ]
    }
   ],
   "source": [
    "medias1<-cruzadarfbin(data=data,\n",
    "                       vardep=\"outcome\",\n",
    "                       listconti=c(\"hosp_y\", \"highbp_nk\", \"age\", \"angina_nk\", \"angina_y\", \n",
    "\"smstat_nk\", \"yronset\", \"stroke_y\", \"stroke_nk\"),\n",
    "                       listclass=c(\"\"),\n",
    "                       grupos=10,\n",
    "                       sinicio=1234,\n",
    "                       repe=20,\n",
    "                       nodesize=10,\n",
    "                       mtry=3,\n",
    "                       ntree=3000,\n",
    "                       replace=TRUE,\n",
    "                       sampsize=150)\n",
    "\n",
    "  medias1$modelo=\"rforestsetbasico\"\n"
   ]
  },
  {
   "cell_type": "code",
   "execution_count": 7,
   "id": "a5dd1c19",
   "metadata": {
    "ExecuteTime": {
     "end_time": "2021-10-20T20:49:05.276549Z",
     "start_time": "2021-10-20T20:40:24.840Z"
    }
   },
   "outputs": [
    {
     "name": "stdout",
     "output_type": "stream",
     "text": [
      "  mtry  Accuracy     Kappa AccuracySD    KappaSD\n",
      "1    3 0.8793153 0.7501085 0.01095831 0.02323612\n"
     ]
    }
   ],
   "source": [
    "medias2<-cruzadarfbin(data=data,\n",
    "                       vardep=\"outcome\",\n",
    "                       listconti=c(\"hosp_y\",\"highbp_nk\",\"angina_nk\",\"smstat_nk\",\"stroke_y\",\"stroke_nk\"),\n",
    "                       listclass=c(\"\"),\n",
    "                       grupos=10,\n",
    "                       sinicio=1234,\n",
    "                       repe=20,\n",
    "                       nodesize=10,\n",
    "                       mtry=3,\n",
    "                       ntree=3000,\n",
    "                       replace=TRUE,\n",
    "                       sampsize=150)\n",
    "\n",
    "  medias2$modelo=\"rforestsetnuevo\"\n"
   ]
  },
  {
   "cell_type": "code",
   "execution_count": 8,
   "id": "1a149e51",
   "metadata": {
    "ExecuteTime": {
     "end_time": "2021-10-20T20:49:05.659332Z",
     "start_time": "2021-10-20T20:40:32.408Z"
    }
   },
   "outputs": [],
   "source": [
    "union4<-rbind(medias1,medias2)"
   ]
  },
  {
   "cell_type": "code",
   "execution_count": 13,
   "id": "eafec6fb",
   "metadata": {
    "ExecuteTime": {
     "end_time": "2021-10-20T20:51:57.569458Z",
     "start_time": "2021-10-20T20:51:57.455Z"
    }
   },
   "outputs": [
    {
     "data": {
      "image/png": "[encoded data removed]",
      "text/plain": [
       "Plot with title \"TASA FALLOS\""
      ]
     },
     "metadata": {
      "image/png": {
       "height": 420,
       "width": 420
      }
     },
     "output_type": "display_data"
    },
    {
     "data": {
      "image/png": "[encoded data removed]",
      "text/plain": [
       "Plot with title \"AUC\""
      ]
     },
     "metadata": {
      "image/png": {
       "height": 420,
       "width": 420
      }
     },
     "output_type": "display_data"
    }
   ],
   "source": [
    "uni<-union4\n",
    "\n",
    "uni$modelo <- with(uni,\n",
    " reorder(modelo,tasa, median))\n",
    "par(cex.axis=1.0,las=2)\n",
    "boxplot(data=uni,tasa~modelo,col=\"blue\",main=\"TASA FALLOS\")\n",
    "\n",
    "uni<-union4\n",
    "uni$modelo <- with(uni,\n",
    " reorder(modelo,auc, median))\n",
    "par(cex.axis=1.0,las=2)\n",
    "boxplot(data=uni,auc~modelo,col=\"blue\",main=\"AUC\")\n"
   ]
  },
  {
   "cell_type": "markdown",
   "id": "e9c308ad",
   "metadata": {},
   "source": [
    "El modelo de random forest que mejor resultado ha dado que queda comprobado que es el modelo correspondiente al set básico o clásico de 9 variables, con un mayor valor de AUC y menor tasa de fallos, aunque presente mayor variabilidad.Por lo que ese será el modelo seleccionado de random forest. Es el modelo correspondiente a medias 1, con los parámetros:\n",
    " \n",
    "                       nodesize=10,\n",
    "                       mtry=3,\n",
    "                       ntree=3000,\n",
    "                       replace=TRUE,\n",
    "                       sampsize=150"
   ]
  },
  {
   "cell_type": "markdown",
   "id": "9cc64c20",
   "metadata": {},
   "source": [
    "### Comparación de modelos"
   ]
  },
  {
   "cell_type": "code",
   "execution_count": 7,
   "id": "56673490",
   "metadata": {
    "ExecuteTime": {
     "end_time": "2021-10-19T07:51:09.816612Z",
     "start_time": "2021-10-19T07:50:05.710Z"
    }
   },
   "outputs": [],
   "source": [
    "#Mejor modelo de regresión logística (medias3 de EDA_NNET)\n",
    "medias_1<-cruzadalogistica(data=data,\n",
    "                    vardep=c(\"outcome\"),\n",
    "                    listconti=\n",
    "c(\"hosp_y\", \"highbp_nk\", \"age\", \"angina_nk\", \"angina_y\", \n",
    "\"smstat_nk\", \"yronset\", \"stroke_y\", \"stroke_nk\"),\n",
    "                    listclass=c(\"\"),\n",
    "                    grupos=10,\n",
    "                    sinicio=1234,\n",
    "                    repe=100)\n",
    "\n",
    "\n",
    " medias_1$modelo=\"Logística\"\n"
   ]
  },
  {
   "cell_type": "code",
   "execution_count": null,
   "id": "3b75ada3",
   "metadata": {},
   "outputs": [],
   "source": [
    "#mejor modelo de red neuronal(medias9 de EDA_NNET)\n",
    "medias_2<-cruzadaavnnetbin(data=data,\n",
    "                       vardep=\"outcome\",\n",
    "                       listconti=c(\"hosp_y\", \"highbp_nk\", \"age\", \"angina_nk\", \"angina_y\", \n",
    "\"smstat_nk\", \"yronset\", \"stroke_y\", \"stroke_nk\"),\n",
    "                       listclass=c(\"\"),\n",
    "                       grupos=10,\n",
    "                       sinicio=1234,\n",
    "                       repe=25,\n",
    "                       repeticiones=5,\n",
    "                       itera=500,\n",
    "                       size=c(5),\n",
    "                       decay=c(0.001))\n",
    "\n",
    "  medias_2$modelo=\"avnnet\""
   ]
  },
  {
   "cell_type": "code",
   "execution_count": null,
   "id": "d0661725",
   "metadata": {},
   "outputs": [],
   "source": [
    "  size decay   bag  Accuracy     Kappa AccuracySD    KappaSD\n",
    "1    5 0.001 FALSE 0.8767774 0.7450545 0.01110455 0.02346587"
   ]
  },
  {
   "cell_type": "code",
   "execution_count": 9,
   "id": "9f6119dc",
   "metadata": {
    "ExecuteTime": {
     "end_time": "2021-10-19T08:28:03.429697Z",
     "start_time": "2021-10-19T07:50:16.261Z"
    }
   },
   "outputs": [
    {
     "name": "stdout",
     "output_type": "stream",
     "text": [
      "  cp  Accuracy     Kappa AccuracySD    KappaSD\n",
      "1  0 0.8720909 0.7362186 0.01168732 0.02436023\n"
     ]
    }
   ],
   "source": [
    "#mejor modelo de árbol\n",
    "medias_3<-cruzadaarbolbin(data=data,\n",
    "                     vardep=\"outcome\",\n",
    "                     listconti=c(\"hosp_y\", \"highbp_nk\", \"age\", \"angina_nk\", \"angina_y\", \n",
    "\"smstat_nk\", \"yronset\", \"stroke_y\", \"stroke_nk\"),\n",
    "                     listclass=c(\"\"),\n",
    "                     grupos=10,\n",
    "                     sinicio=1234,\n",
    "                     repe=5,\n",
    "                     cp=c(0),\n",
    "                     minbucket =40)\n",
    "\n",
    "medias_3$modelo=\"arbol\""
   ]
  },
  {
   "cell_type": "code",
   "execution_count": 14,
   "id": "d089da24",
   "metadata": {
    "ExecuteTime": {
     "end_time": "2021-10-19T08:30:46.925754Z",
     "start_time": "2021-10-19T08:28:19.544Z"
    }
   },
   "outputs": [
    {
     "name": "stdout",
     "output_type": "stream",
     "text": [
      "  mtry  Accuracy    Kappa  AccuracySD   KappaSD\n",
      "1    9 0.8790632 0.749648 0.007291974 0.0154251\n"
     ]
    }
   ],
   "source": [
    "#mejor modelo de bagging\n",
    "  medias_4<-cruzadarfbin(data=data,\n",
    "                       vardep=\"outcome\",\n",
    "                       listconti=c(\"hosp_y\", \"highbp_nk\", \"age\", \"angina_nk\", \"angina_y\", \n",
    "\"smstat_nk\", \"yronset\", \"stroke_y\", \"stroke_nk\"),\n",
    "                       listclass=c(\"\"),\n",
    "                       grupos=4,\n",
    "                       sinicio=1234,\n",
    "                       repe=10,\n",
    "                       nodesize=10,\n",
    "                       mtry=9,\n",
    "                       ntree=3000,\n",
    "                       replace=TRUE,\n",
    "                       sampsize=100)\n",
    "\n",
    "  medias_4$modelo=\"bagging\"\n"
   ]
  },
  {
   "cell_type": "code",
   "execution_count": 11,
   "id": "0af93677",
   "metadata": {
    "ExecuteTime": {
     "end_time": "2021-10-19T08:29:53.613172Z",
     "start_time": "2021-10-19T07:50:19.864Z"
    }
   },
   "outputs": [
    {
     "name": "stdout",
     "output_type": "stream",
     "text": [
      "  mtry  Accuracy     Kappa  AccuracySD   KappaSD\n",
      "1    3 0.8794873 0.7504862 0.007499957 0.0158603\n"
     ]
    }
   ],
   "source": [
    "#mejor modelo Random Forest\n",
    "medias_5<-cruzadarfbin(data=data,\n",
    "                       vardep=\"outcome\",\n",
    "                       listconti=c(\"hosp_y\", \"highbp_nk\", \"age\", \"angina_nk\", \"angina_y\", \n",
    "\"smstat_nk\", \"yronset\", \"stroke_y\", \"stroke_nk\"),\n",
    "                       listclass=c(\"\"),\n",
    "                       grupos=4,\n",
    "                       sinicio=1234,\n",
    "                       repe=10,\n",
    "                       nodesize=10,\n",
    "                       mtry=3,\n",
    "                       ntree=3000,\n",
    "                       replace=TRUE,\n",
    "                       sampsize=150)\n",
    "\n",
    "  medias_5$modelo=\"rf\"\n"
   ]
  },
  {
   "cell_type": "code",
   "execution_count": 12,
   "id": "53301248",
   "metadata": {
    "ExecuteTime": {
     "end_time": "2021-10-19T08:29:53.995946Z",
     "start_time": "2021-10-19T07:50:21.078Z"
    }
   },
   "outputs": [],
   "source": [
    "union3<-rbind(medias_1,medias_2,medias_3,medias_4,medias_5)"
   ]
  },
  {
   "cell_type": "code",
   "execution_count": 16,
   "id": "b45649fb",
   "metadata": {
    "ExecuteTime": {
     "end_time": "2021-10-19T08:32:13.981539Z",
     "start_time": "2021-10-19T08:32:13.846Z"
    }
   },
   "outputs": [
    {
     "data": {
      "image/png": "[encoded data removed]",
      "text/plain": [
       "Plot with title \"TASA FALLOS\""
      ]
     },
     "metadata": {
      "image/png": {
       "height": 420,
       "width": 420
      }
     },
     "output_type": "display_data"
    },
    {
     "data": {
      "image/png": "[encoded data removed]",
      "text/plain": [
       "Plot with title \"AUC\""
      ]
     },
     "metadata": {
      "image/png": {
       "height": 420,
       "width": 420
      }
     },
     "output_type": "display_data"
    }
   ],
   "source": [
    "uni<-union3\n",
    "uni$modelo <- with(uni,\n",
    " reorder(modelo,tasa, median))\n",
    "par(cex.axis=0.7,las=2)\n",
    "boxplot(data=uni,tasa~modelo,col=\"yellow\",main=\"TASA FALLOS\")\n",
    "\n",
    "uni<-union3\n",
    "uni$modelo <- with(uni,\n",
    " reorder(modelo,auc, median))\n",
    "par(cex.axis=0.7,las=2)\n",
    "boxplot(data=uni,auc~modelo,col=\"orange\",main=\"AUC\")\n"
   ]
  },
  {
   "cell_type": "markdown",
   "id": "b06c4e40",
   "metadata": {
    "ExecuteTime": {
     "end_time": "2021-10-12T21:02:32.135034Z",
     "start_time": "2021-10-12T21:02:32.100Z"
    }
   },
   "source": [
    "### Elección mejor modelo Random Forest"
   ]
  },
  {
   "cell_type": "markdown",
   "id": "0f6b9055",
   "metadata": {},
   "source": [
    "Tras la validación cruzada y boxplot de los diferentes algoritmos estudiados hasta la fecha, se aprecia que, aunque el algoritmo random forest es muy competitivo pues presenta una tsa de fallos mejor que ninguno, se queda con valores inferiores en AUC a la red neuronal, al bagging y sobretodo a la logística que vuelve a ser el modelo que mejor se comporta. es por ello que la Logística se mantiene como el mejor algoritmo de los estudiados hasta la fecha."
   ]
  }
 ],
 "metadata": {
  "kernelspec": {
   "display_name": "R",
   "language": "R",
   "name": "ir"
  },
  "language_info": {
   "codemirror_mode": "r",
   "file_extension": ".r",
   "mimetype": "text/x-r-source",
   "name": "R",
   "pygments_lexer": "r",
   "version": "4.1.1"
  },
  "latex_envs": {
   "LaTeX_envs_menu_present": true,
   "autoclose": false,
   "autocomplete": true,
   "bibliofile": "biblio.bib",
   "cite_by": "apalike",
   "current_citInitial": 1,
   "eqLabelWithNumbers": true,
   "eqNumInitial": 1,
   "hotkeys": {
    "equation": "Ctrl-E",
    "itemize": "Ctrl-I"
   },
   "labels_anchors": false,
   "latex_user_defs": false,
   "report_style_numbering": false,
   "user_envs_cfg": false
  },
  "toc": {
   "base_numbering": 1,
   "nav_menu": {},
   "number_sections": true,
   "sideBar": true,
   "skip_h1_title": false,
   "title_cell": "Table of Contents",
   "title_sidebar": "Contents",
   "toc_cell": false,
   "toc_position": {
    "height": "calc(100% - 180px)",
    "left": "10px",
    "top": "150px",
    "width": "277.778px"
   },
   "toc_section_display": true,
   "toc_window_display": true
  },
  "varInspector": {
   "cols": {
    "lenName": 16,
    "lenType": 16,
    "lenVar": 40
   },
   "kernels_config": {
    "python": {
     "delete_cmd_postfix": "",
     "delete_cmd_prefix": "del ",
     "library": "var_list.py",
     "varRefreshCmd": "print(var_dic_list())"
    },
    "r": {
     "delete_cmd_postfix": ") ",
     "delete_cmd_prefix": "rm(",
     "library": "var_list.r",
     "varRefreshCmd": "cat(var_dic_list()) "
    }
   },
   "position": {
    "height": "850.191px",
    "left": "1621.17px",
    "right": "20px",
    "top": "275.99px",
    "width": "350px"
   },
   "types_to_exclude": [
    "module",
    "function",
    "builtin_function_or_method",
    "instance",
    "_Feature"
   ],
   "window_display": true
  }
 },
 "nbformat": 4,
 "nbformat_minor": 5
}
