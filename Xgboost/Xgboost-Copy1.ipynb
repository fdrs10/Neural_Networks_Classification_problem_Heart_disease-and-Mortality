{
 "cells": [
  {
   "cell_type": "markdown",
   "id": "7d903520",
   "metadata": {},
   "source": [
    "## Xgboost"
   ]
  },
  {
   "cell_type": "code",
   "execution_count": null,
   "id": "6cfbb6f6",
   "metadata": {},
   "outputs": [],
   "source": [
    "library(caret)\n",
    "install.packages(\"e1071\")\n",
    "install.packages(\"gbm\")\n",
    "install.packages(\"xgboost\")\n",
    "library(gbm)\n",
    "options(warn=-1)\n"
   ]
  },
  {
   "cell_type": "code",
   "execution_count": null,
   "id": "cea5b4aa",
   "metadata": {},
   "outputs": [],
   "source": [
    "source (\"cruzadas avnnet y log binaria.R\")\n",
    "source (\"cruzada arbolbin.R\")\n",
    "source (\"cruzada rf binaria.R\")\n",
    "source (\"cruzada gbm binaria.R\")\n",
    "source (\"cruzada xgboost binaria.R\")"
   ]
  },
  {
   "cell_type": "code",
   "execution_count": 2,
   "id": "29b9295a",
   "metadata": {
    "ExecuteTime": {
     "end_time": "2021-10-19T18:11:42.043220Z",
     "start_time": "2021-10-19T18:11:41.987Z"
    },
    "scrolled": true
   },
   "outputs": [
    {
     "data": {
      "text/html": [
       "<table class=\"dataframe\">\n",
       "<caption>A data.frame: 6 × 20</caption>\n",
       "<thead>\n",
       "\t<tr><th></th><th scope=col>age</th><th scope=col>yronset</th><th scope=col>sex_m</th><th scope=col>premi_nk</th><th scope=col>premi_y</th><th scope=col>smstat_n</th><th scope=col>smstat_nk</th><th scope=col>smstat_x</th><th scope=col>diabetes_nk</th><th scope=col>diabetes_y</th><th scope=col>highbp_nk</th><th scope=col>highbp_y</th><th scope=col>hichol_nk</th><th scope=col>hichol_y</th><th scope=col>angina_nk</th><th scope=col>angina_y</th><th scope=col>stroke_nk</th><th scope=col>stroke_y</th><th scope=col>hosp_y</th><th scope=col>outcome</th></tr>\n",
       "\t<tr><th></th><th scope=col>&lt;dbl&gt;</th><th scope=col>&lt;dbl&gt;</th><th scope=col>&lt;int&gt;</th><th scope=col>&lt;int&gt;</th><th scope=col>&lt;int&gt;</th><th scope=col>&lt;int&gt;</th><th scope=col>&lt;int&gt;</th><th scope=col>&lt;int&gt;</th><th scope=col>&lt;int&gt;</th><th scope=col>&lt;int&gt;</th><th scope=col>&lt;int&gt;</th><th scope=col>&lt;int&gt;</th><th scope=col>&lt;int&gt;</th><th scope=col>&lt;int&gt;</th><th scope=col>&lt;int&gt;</th><th scope=col>&lt;int&gt;</th><th scope=col>&lt;int&gt;</th><th scope=col>&lt;int&gt;</th><th scope=col>&lt;int&gt;</th><th scope=col>&lt;chr&gt;</th></tr>\n",
       "</thead>\n",
       "<tbody>\n",
       "\t<tr><th scope=row>1</th><td> 0.45582598</td><td>-1.465502</td><td>0</td><td>0</td><td>0</td><td>0</td><td>0</td><td>1</td><td>0</td><td>0</td><td>0</td><td>1</td><td>0</td><td>1</td><td>0</td><td>0</td><td>0</td><td>0</td><td>1</td><td>No </td></tr>\n",
       "\t<tr><th scope=row>2</th><td>-0.05347366</td><td>-1.465502</td><td>1</td><td>0</td><td>1</td><td>0</td><td>0</td><td>1</td><td>0</td><td>0</td><td>0</td><td>1</td><td>0</td><td>0</td><td>0</td><td>0</td><td>0</td><td>0</td><td>1</td><td>No </td></tr>\n",
       "\t<tr><th scope=row>3</th><td> 1.09245054</td><td>-1.465502</td><td>1</td><td>0</td><td>0</td><td>1</td><td>0</td><td>0</td><td>0</td><td>0</td><td>0</td><td>1</td><td>0</td><td>0</td><td>0</td><td>0</td><td>0</td><td>0</td><td>1</td><td>No </td></tr>\n",
       "\t<tr><th scope=row>4</th><td>-1.70869752</td><td>-1.465502</td><td>1</td><td>0</td><td>0</td><td>0</td><td>0</td><td>0</td><td>0</td><td>0</td><td>0</td><td>0</td><td>0</td><td>0</td><td>0</td><td>0</td><td>0</td><td>0</td><td>1</td><td>No </td></tr>\n",
       "\t<tr><th scope=row>5</th><td>-1.45404770</td><td>-1.465502</td><td>1</td><td>0</td><td>0</td><td>1</td><td>0</td><td>0</td><td>0</td><td>1</td><td>0</td><td>0</td><td>0</td><td>0</td><td>0</td><td>1</td><td>0</td><td>0</td><td>1</td><td>Yes</td></tr>\n",
       "\t<tr><th scope=row>6</th><td>-0.56277331</td><td>-1.465502</td><td>0</td><td>0</td><td>0</td><td>0</td><td>0</td><td>0</td><td>0</td><td>0</td><td>0</td><td>1</td><td>0</td><td>1</td><td>0</td><td>0</td><td>0</td><td>0</td><td>1</td><td>No </td></tr>\n",
       "</tbody>\n",
       "</table>\n"
      ],
      "text/latex": [
       "A data.frame: 6 × 20\n",
       "\\begin{tabular}{r|llllllllllllllllllll}\n",
       "  & age & yronset & sex\\_m & premi\\_nk & premi\\_y & smstat\\_n & smstat\\_nk & smstat\\_x & diabetes\\_nk & diabetes\\_y & highbp\\_nk & highbp\\_y & hichol\\_nk & hichol\\_y & angina\\_nk & angina\\_y & stroke\\_nk & stroke\\_y & hosp\\_y & outcome\\\\\n",
       "  & <dbl> & <dbl> & <int> & <int> & <int> & <int> & <int> & <int> & <int> & <int> & <int> & <int> & <int> & <int> & <int> & <int> & <int> & <int> & <int> & <chr>\\\\\n",
       "\\hline\n",
       "\t1 &  0.45582598 & -1.465502 & 0 & 0 & 0 & 0 & 0 & 1 & 0 & 0 & 0 & 1 & 0 & 1 & 0 & 0 & 0 & 0 & 1 & No \\\\\n",
       "\t2 & -0.05347366 & -1.465502 & 1 & 0 & 1 & 0 & 0 & 1 & 0 & 0 & 0 & 1 & 0 & 0 & 0 & 0 & 0 & 0 & 1 & No \\\\\n",
       "\t3 &  1.09245054 & -1.465502 & 1 & 0 & 0 & 1 & 0 & 0 & 0 & 0 & 0 & 1 & 0 & 0 & 0 & 0 & 0 & 0 & 1 & No \\\\\n",
       "\t4 & -1.70869752 & -1.465502 & 1 & 0 & 0 & 0 & 0 & 0 & 0 & 0 & 0 & 0 & 0 & 0 & 0 & 0 & 0 & 0 & 1 & No \\\\\n",
       "\t5 & -1.45404770 & -1.465502 & 1 & 0 & 0 & 1 & 0 & 0 & 0 & 1 & 0 & 0 & 0 & 0 & 0 & 1 & 0 & 0 & 1 & Yes\\\\\n",
       "\t6 & -0.56277331 & -1.465502 & 0 & 0 & 0 & 0 & 0 & 0 & 0 & 0 & 0 & 1 & 0 & 1 & 0 & 0 & 0 & 0 & 1 & No \\\\\n",
       "\\end{tabular}\n"
      ],
      "text/markdown": [
       "\n",
       "A data.frame: 6 × 20\n",
       "\n",
       "| <!--/--> | age &lt;dbl&gt; | yronset &lt;dbl&gt; | sex_m &lt;int&gt; | premi_nk &lt;int&gt; | premi_y &lt;int&gt; | smstat_n &lt;int&gt; | smstat_nk &lt;int&gt; | smstat_x &lt;int&gt; | diabetes_nk &lt;int&gt; | diabetes_y &lt;int&gt; | highbp_nk &lt;int&gt; | highbp_y &lt;int&gt; | hichol_nk &lt;int&gt; | hichol_y &lt;int&gt; | angina_nk &lt;int&gt; | angina_y &lt;int&gt; | stroke_nk &lt;int&gt; | stroke_y &lt;int&gt; | hosp_y &lt;int&gt; | outcome &lt;chr&gt; |\n",
       "|---|---|---|---|---|---|---|---|---|---|---|---|---|---|---|---|---|---|---|---|---|\n",
       "| 1 |  0.45582598 | -1.465502 | 0 | 0 | 0 | 0 | 0 | 1 | 0 | 0 | 0 | 1 | 0 | 1 | 0 | 0 | 0 | 0 | 1 | No  |\n",
       "| 2 | -0.05347366 | -1.465502 | 1 | 0 | 1 | 0 | 0 | 1 | 0 | 0 | 0 | 1 | 0 | 0 | 0 | 0 | 0 | 0 | 1 | No  |\n",
       "| 3 |  1.09245054 | -1.465502 | 1 | 0 | 0 | 1 | 0 | 0 | 0 | 0 | 0 | 1 | 0 | 0 | 0 | 0 | 0 | 0 | 1 | No  |\n",
       "| 4 | -1.70869752 | -1.465502 | 1 | 0 | 0 | 0 | 0 | 0 | 0 | 0 | 0 | 0 | 0 | 0 | 0 | 0 | 0 | 0 | 1 | No  |\n",
       "| 5 | -1.45404770 | -1.465502 | 1 | 0 | 0 | 1 | 0 | 0 | 0 | 1 | 0 | 0 | 0 | 0 | 0 | 1 | 0 | 0 | 1 | Yes |\n",
       "| 6 | -0.56277331 | -1.465502 | 0 | 0 | 0 | 0 | 0 | 0 | 0 | 0 | 0 | 1 | 0 | 1 | 0 | 0 | 0 | 0 | 1 | No  |\n",
       "\n"
      ],
      "text/plain": [
       "  age         yronset   sex_m premi_nk premi_y smstat_n smstat_nk smstat_x\n",
       "1  0.45582598 -1.465502 0     0        0       0        0         1       \n",
       "2 -0.05347366 -1.465502 1     0        1       0        0         1       \n",
       "3  1.09245054 -1.465502 1     0        0       1        0         0       \n",
       "4 -1.70869752 -1.465502 1     0        0       0        0         0       \n",
       "5 -1.45404770 -1.465502 1     0        0       1        0         0       \n",
       "6 -0.56277331 -1.465502 0     0        0       0        0         0       \n",
       "  diabetes_nk diabetes_y highbp_nk highbp_y hichol_nk hichol_y angina_nk\n",
       "1 0           0          0         1        0         1        0        \n",
       "2 0           0          0         1        0         0        0        \n",
       "3 0           0          0         1        0         0        0        \n",
       "4 0           0          0         0        0         0        0        \n",
       "5 0           1          0         0        0         0        0        \n",
       "6 0           0          0         1        0         1        0        \n",
       "  angina_y stroke_nk stroke_y hosp_y outcome\n",
       "1 0        0         0        1      No     \n",
       "2 0        0         0        1      No     \n",
       "3 0        0         0        1      No     \n",
       "4 0        0         0        1      No     \n",
       "5 1        0         0        1      Yes    \n",
       "6 0        0         0        1      No     "
      ]
     },
     "metadata": {},
     "output_type": "display_data"
    }
   ],
   "source": [
    "load(\"data.Rda\")\n",
    "head(data)"
   ]
  },
  {
   "cell_type": "markdown",
   "id": "a61c732e",
   "metadata": {},
   "source": [
    "## Set de variables clásico"
   ]
  },
  {
   "cell_type": "markdown",
   "id": "bb1bbef6",
   "metadata": {},
   "source": [
    "### Tuneado de Xgboost con Caret"
   ]
  },
  {
   "cell_type": "markdown",
   "id": "975c14ab",
   "metadata": {
    "ExecuteTime": {
     "end_time": "2021-10-15T16:08:42.523300Z",
     "start_time": "2021-10-15T16:08:42.497Z"
    }
   },
   "source": [
    "\n",
    "\n",
    "Caret permite tunear estos parámetros básicos:\n",
    " \n",
    " \n",
    "- nrounds (# Boosting Iterations)=número de iteraciones\n",
    "- max_depth (Max Tree Depth)=profundida máxima de los árboles\n",
    "- eta (Shrinkage)=parámetro v gradient boosting\n",
    "- gamma (Minimum Loss Reduction)=gamma\n",
    "- cte regularización. Dejar a 0 por defecto\n",
    "- colsample_bytree (Subsample Ratio of Columns) \n",
    "- % Sorteo variables antes de cada árbol ,    \n",
    "- min_child_weight (Minimum Sum of Instance Weight).\n",
    "- observaciones mínimas en el nodo final. Similar al minobsinnode del gbm.\n",
    "- subsample (Subsample Percentage) \n",
    "- % Sorteo de observaciones antes de cada árbol , al estilo de random forest.\n",
    "- Dejar a 1 por defecto.\n"
   ]
  },
  {
   "cell_type": "code",
   "execution_count": 7,
   "id": "16993d0a",
   "metadata": {
    "ExecuteTime": {
     "end_time": "2021-10-15T16:23:41.763895Z",
     "start_time": "2021-10-15T16:09:17.720Z"
    }
   },
   "outputs": [],
   "source": [
    "set.seed(40)\n",
    "\n",
    "xgbmgrid<-expand.grid(\n",
    " min_child_weight=c(5,10,20),\n",
    " eta=c(0.1,0.05,0.03,0.01,0.001),\n",
    " nrounds=c(100,500,1000,5000),\n",
    " max_depth=6,gamma=0,colsample_bytree=1,subsample=1)\n",
    "\n",
    "control<-trainControl(method = \"cv\",number=4,savePredictions = \"all\",classProbs=TRUE) \n",
    "\n",
    "xgbm_1<- train(factor(outcome)~\n",
    "            hosp_y+highbp_nk+age+angina_nk+angina_y+smstat_nk+yronset+stroke_y+stroke_nk,,data=data,\n",
    "            method=\"xgbTree\",\n",
    "            trControl=control,\n",
    "            tuneGrid=xgbmgrid,\n",
    "            verbose=FALSE)\n"
   ]
  },
  {
   "cell_type": "code",
   "execution_count": 10,
   "id": "7296dea3",
   "metadata": {
    "ExecuteTime": {
     "end_time": "2021-10-15T16:51:58.737514Z",
     "start_time": "2021-10-15T16:51:58.690Z"
    },
    "scrolled": false
   },
   "outputs": [
    {
     "data": {
      "text/plain": [
       "eXtreme Gradient Boosting \n",
       "\n",
       "6367 samples\n",
       "   9 predictor\n",
       "   2 classes: 'No', 'Yes' \n",
       "\n",
       "No pre-processing\n",
       "Resampling: Cross-Validated (4 fold) \n",
       "Summary of sample sizes: 4776, 4774, 4775, 4776 \n",
       "Resampling results across tuning parameters:\n",
       "\n",
       "  eta    min_child_weight  nrounds  Accuracy   Kappa    \n",
       "  0.001   5                 100     0.8787494  0.7487584\n",
       "  0.001   5                 500     0.8796915  0.7506845\n",
       "  0.001   5                1000     0.8800053  0.7513832\n",
       "  0.001   5                5000     0.8785917  0.7487765\n",
       "  0.001  10                 100     0.8773354  0.7460938\n",
       "  0.001  10                 500     0.8787487  0.7487071\n",
       "  0.001  10                1000     0.8790628  0.7493069\n",
       "  0.001  10                5000     0.8801619  0.7519516\n",
       "  0.001  20                 100     0.8781210  0.7476049\n",
       "  0.001  20                 500     0.8792199  0.7497451\n",
       "  0.001  20                1000     0.8803192  0.7519964\n",
       "  0.001  20                5000     0.8793763  0.7503495\n",
       "  0.010   5                 100     0.8800053  0.7513832\n",
       "  0.010   5                 500     0.8784348  0.7484424\n",
       "  0.010   5                1000     0.8785919  0.7489192\n",
       "  0.010   5                5000     0.8752926  0.7424976\n",
       "  0.010  10                 100     0.8790628  0.7493069\n",
       "  0.010  10                 500     0.8800049  0.7516197\n",
       "  0.010  10                1000     0.8781198  0.7478929\n",
       "  0.010  10                5000     0.8767064  0.7454803\n",
       "  0.010  20                 100     0.8803192  0.7519964\n",
       "  0.010  20                 500     0.8793763  0.7503495\n",
       "  0.010  20                1000     0.8782764  0.7481895\n",
       "  0.010  20                5000     0.8768627  0.7456653\n",
       "  0.030   5                 100     0.8801625  0.7518563\n",
       "  0.030   5                 500     0.8782777  0.7483174\n",
       "  0.030   5                1000     0.8770210  0.7459261\n",
       "  0.030   5                5000     0.8710530  0.7344393\n",
       "  0.030  10                 100     0.8793766  0.7501606\n",
       "  0.030  10                 500     0.8778052  0.7472838\n",
       "  0.030  10                1000     0.8774910  0.7469555\n",
       "  0.030  10                5000     0.8749787  0.7423179\n",
       "  0.030  20                 100     0.8807906  0.7531299\n",
       "  0.030  20                 500     0.8779622  0.7475751\n",
       "  0.030  20                1000     0.8778052  0.7472951\n",
       "  0.030  20                5000     0.8743511  0.7408559\n",
       "  0.050   5                 100     0.8792204  0.7500260\n",
       "  0.050   5                 500     0.8768638  0.7455647\n",
       "  0.050   5                1000     0.8746650  0.7413748\n",
       "  0.050   5                5000     0.8677549  0.7278916\n",
       "  0.050  10                 100     0.8796908  0.7509503\n",
       "  0.050  10                 500     0.8768631  0.7455274\n",
       "  0.050  10                1000     0.8776483  0.7474237\n",
       "  0.050  10                5000     0.8719957  0.7363318\n",
       "  0.050  20                 100     0.8789050  0.7494006\n",
       "  0.050  20                 500     0.8779626  0.7476358\n",
       "  0.050  20                1000     0.8762347  0.7442984\n",
       "  0.050  20                5000     0.8734087  0.7390630\n",
       "  0.100   5                 100     0.8787487  0.7492726\n",
       "  0.100   5                 500     0.8743501  0.7407985\n",
       "  0.100   5                1000     0.8719950  0.7362613\n",
       "  0.100   5                5000     0.8668121  0.7261111\n",
       "  0.100  10                 100     0.8785907  0.7488738\n",
       "  0.100  10                 500     0.8771768  0.7465838\n",
       "  0.100  10                1000     0.8771783  0.7467422\n",
       "  0.100  10                5000     0.8696399  0.7317726\n",
       "  0.100  20                 100     0.8781195  0.7478930\n",
       "  0.100  20                 500     0.8768631  0.7455975\n",
       "  0.100  20                1000     0.8745078  0.7410871\n",
       "  0.100  20                5000     0.8719952  0.7364046\n",
       "\n",
       "Tuning parameter 'max_depth' was held constant at a value of 6\n",
       "Tuning\n",
       " parameter 'colsample_bytree' was held constant at a value of 1\n",
       "\n",
       "Tuning parameter 'subsample' was held constant at a value of 1\n",
       "Accuracy was used to select the optimal model using the largest value.\n",
       "The final values used for the model were nrounds = 100, max_depth = 6, eta\n",
       " = 0.03, gamma = 0, colsample_bytree = 1, min_child_weight = 20 and subsample\n",
       " = 1."
      ]
     },
     "metadata": {},
     "output_type": "display_data"
    }
   ],
   "source": [
    "xgbm_1\n"
   ]
  },
  {
   "cell_type": "code",
   "execution_count": 11,
   "id": "e4161191",
   "metadata": {
    "ExecuteTime": {
     "end_time": "2021-10-15T17:02:24.731333Z",
     "start_time": "2021-10-15T16:54:36.653Z"
    },
    "scrolled": false
   },
   "outputs": [
    {
     "data": {
      "image/png": "[encoded data removed]",
      "text/plain": [
       "plot without title"
      ]
     },
     "metadata": {
      "image/png": {
       "height": 420,
       "width": 420
      }
     },
     "output_type": "display_data"
    }
   ],
   "source": [
    "plot(xgbm_1)"
   ]
  },
  {
   "cell_type": "markdown",
   "id": "e1d82fa5",
   "metadata": {},
   "source": [
    "\n",
    "\n",
    "Como se ve en los gráficos, nrounds, las iteraciones, proporcionan un máximo de accuracy en 100 y con un Shrinkage de 0,03,(línea azúl) cuando estamos con 20 observaciones mínmas en el nodo final, con lo que parametrizaremos con estos datos obtenidos.\n",
    " - max_depth constante en 6\n",
    " - colsample_bytree constante en 1\n",
    " - subsample was held constante en 1\n",
    " - nrounds = 100,\n",
    " - max_depth = 6,\n",
    " - eta = 0.03,\n",
    " - colsample_bytree = 1,\n",
    " - min_child_weight = 20,\n",
    " - subsample= 1,"
   ]
  },
  {
   "cell_type": "markdown",
   "id": "5c67cb05",
   "metadata": {},
   "source": [
    "### Estudio de early stopping"
   ]
  },
  {
   "cell_type": "markdown",
   "id": "5c081770",
   "metadata": {},
   "source": [
    "Probamos a fijar algunos parámetros para ver como evoluciona con diferentes iteraciones ya parametrizado, y observamos cuántas seria bueno utilizar."
   ]
  },
  {
   "cell_type": "code",
   "execution_count": null,
   "id": "25344895",
   "metadata": {},
   "outputs": [],
   "source": [
    "set.seed(12345)\n",
    "\n",
    "xgbmgrid<-expand.grid(eta=c(0.03),\n",
    " min_child_weight=c(20),\n",
    " nrounds=c(50,100,150,200,250,300),\n",
    "  max_depth=6,gamma=0,colsample_bytree=1,subsample=1)\n",
    "\n",
    "control<-trainControl(method = \"cv\",number=10,savePredictions = \"all\", classProbs=TRUE) \n",
    "\n",
    "xgbm_11<- train(factor(outcome)~\n",
    "            hosp_y+highbp_nk+age+angina_nk+angina_y+smstat_nk+yronset+stroke_y+stroke_nk,\n",
    "            data=data,\n",
    "            method=\"xgbTree\",\n",
    "            trControl=control,\n",
    "            tuneGrid=xgbmgrid,\n",
    "            verbose=FALSE)\n"
   ]
  },
  {
   "cell_type": "code",
   "execution_count": 13,
   "id": "f902f7cd",
   "metadata": {
    "ExecuteTime": {
     "end_time": "2021-10-15T17:27:48.663001Z",
     "start_time": "2021-10-15T17:17:23.189Z"
    },
    "run_control": {
     "marked": false
    }
   },
   "outputs": [
    {
     "data": {
      "text/plain": [
       "eXtreme Gradient Boosting \n",
       "\n",
       "6367 samples\n",
       "   9 predictor\n",
       "   2 classes: 'No', 'Yes' \n",
       "\n",
       "No pre-processing\n",
       "Resampling: Cross-Validated (10 fold) \n",
       "Summary of sample sizes: 5730, 5730, 5730, 5731, 5730, 5730, ... \n",
       "Resampling results across tuning parameters:\n",
       "\n",
       "  nrounds  Accuracy   Kappa    \n",
       "   50      0.8795373  0.7502909\n",
       "  100      0.8793805  0.7500956\n",
       "  150      0.8798520  0.7512332\n",
       "  200      0.8798520  0.7512836\n",
       "  250      0.8798518  0.7513669\n",
       "  300      0.8798518  0.7513825\n",
       "\n",
       "Tuning parameter 'max_depth' was held constant at a value of 6\n",
       "Tuning\n",
       " parameter 'min_child_weight' was held constant at a value of 20\n",
       "\n",
       "Tuning parameter 'subsample' was held constant at a value of 1\n",
       "Accuracy was used to select the optimal model using the largest value.\n",
       "The final values used for the model were nrounds = 150, max_depth = 6, eta\n",
       " = 0.03, gamma = 0, colsample_bytree = 1, min_child_weight = 20 and subsample\n",
       " = 1."
      ]
     },
     "metadata": {},
     "output_type": "display_data"
    }
   ],
   "source": [
    "xgbm_11\n"
   ]
  },
  {
   "cell_type": "code",
   "execution_count": 14,
   "id": "b874d430",
   "metadata": {
    "ExecuteTime": {
     "end_time": "2021-10-15T17:38:26.358088Z",
     "start_time": "2021-10-15T17:17:23.894Z"
    }
   },
   "outputs": [
    {
     "data": {
      "image/png": "[encoded data removed]",
      "text/plain": [
       "plot without title"
      ]
     },
     "metadata": {
      "image/png": {
       "height": 420,
       "width": 420
      }
     },
     "output_type": "display_data"
    }
   ],
   "source": [
    "plot(xgbm_11)"
   ]
  },
  {
   "cell_type": "markdown",
   "id": "1d3a442a",
   "metadata": {
    "ExecuteTime": {
     "end_time": "2021-10-15T14:14:36.262851Z",
     "start_time": "2021-10-15T13:58:37.208Z"
    }
   },
   "source": [
    "Por lo que vemos, con el nrounds = 150 en se optimiza el Accuracy y se mantinene a valores mayores, luego dejaremos ese valor.\n"
   ]
  },
  {
   "cell_type": "markdown",
   "id": "dfa4aef9",
   "metadata": {},
   "source": [
    "### Mejor modelo con el set de variables variables básico.\n"
   ]
  },
  {
   "cell_type": "code",
   "execution_count": null,
   "id": "830416ba",
   "metadata": {},
   "outputs": [],
   "source": [
    "medias1<-cruzadaxgbmbin(data=data,\n",
    "                       vardep=\"outcome\",\n",
    "                       listconti=c(\"hosp_y\", \"highbp_nk\", \"age\", \"angina_nk\", \"angina_y\", \n",
    "\"smstat_nk\", \"yronset\", \"stroke_y\", \"stroke_nk\"),\n",
    "                       listclass=c(\"\"),\n",
    "                       grupos=4,\n",
    "                       sinicio=1234,\n",
    "                       repe=10,\n",
    "                       min_child_weight=20,\n",
    "                       eta=0.03,\n",
    "                       nrounds=150,\n",
    "                       max_depth=6,\n",
    "                       gamma=0,\n",
    "                       colsample_bytree=1,\n",
    "                       subsample=1,\n",
    "                       alpha=0,\n",
    "                       lambda=0,\n",
    "                       lambda_bias=0)\n",
    "\n",
    "\n",
    "\n",
    "medias1$modelo=\"xgbm1\""
   ]
  },
  {
   "cell_type": "code",
   "execution_count": null,
   "id": "edb9643f",
   "metadata": {},
   "outputs": [],
   "source": [
    "#resultado medias1\n",
    "  min_child_weight  eta nrounds max_depth gamma colsample_bytree subsample\n",
    "1               20 0.03     150         6     0                1         1\n",
    "   Accuracy   Kappa  AccuracySD    KappaSD\n",
    "1 0.8797541 0.75109 0.007738764 0.01633674\n",
    "​"
   ]
  },
  {
   "cell_type": "markdown",
   "id": "7ba21914",
   "metadata": {},
   "source": [
    "## Importancia variables"
   ]
  },
  {
   "cell_type": "code",
   "execution_count": 16,
   "id": "90cc00b5",
   "metadata": {
    "ExecuteTime": {
     "end_time": "2021-10-15T17:59:23.634187Z",
     "start_time": "2021-10-15T17:43:13.936Z"
    }
   },
   "outputs": [
    {
     "data": {
      "text/plain": [
       "xgbTree variable importance\n",
       "\n",
       "           Overall\n",
       "hosp_y    100.0000\n",
       "highbp_nk   3.7961\n",
       "age         2.7037\n",
       "angina_nk   2.4591\n",
       "stroke_nk   2.0608\n",
       "smstat_nk   0.6384\n",
       "yronset     0.2110\n",
       "angina_y    0.2048\n",
       "stroke_y    0.0000"
      ]
     },
     "metadata": {},
     "output_type": "display_data"
    },
    {
     "data": {
      "image/png": "[encoded data removed]",
      "text/plain": [
       "plot without title"
      ]
     },
     "metadata": {
      "image/png": {
       "height": 420,
       "width": 420
      }
     },
     "output_type": "display_data"
    }
   ],
   "source": [
    "# IMPORTANCIA DE VARIABLES\n",
    "\n",
    "varImp(xgbm_11)\n",
    "plot(varImp(xgbm_11))\n"
   ]
  },
  {
   "cell_type": "markdown",
   "id": "fef55d58",
   "metadata": {
    "ExecuteTime": {
     "end_time": "2021-10-14T16:27:23.601171Z",
     "start_time": "2021-10-14T16:10:27.386Z"
    }
   },
   "source": [
    "## Segundo set de variables"
   ]
  },
  {
   "cell_type": "markdown",
   "id": "a3bd1fd6",
   "metadata": {},
   "source": [
    "Tiene sentido este gráfico de importancia de variables, al destacar la variable hosp_y también en el gráfico de importancia de variables de Random Forest y Gbm.  Aparece no obstante hosp_y con valor de 100% en importancia y stroke_y con valor 0 % en importancia.En este caso vamos a eliminar de momento smstat_nk, stroke_y, angina_y, yronset. Nos vamos a quedar con un set de cinco variables:\n",
    "- hosp_y+highbp_nk+age+angina_nk+stroke_nk"
   ]
  },
  {
   "cell_type": "markdown",
   "id": "207f10c0",
   "metadata": {
    "ExecuteTime": {
     "end_time": "2021-10-14T17:13:34.164190Z",
     "start_time": "2021-10-14T17:13:34.142Z"
    }
   },
   "source": [
    "### Tuneado on el nuevo set de variables con Caret"
   ]
  },
  {
   "cell_type": "code",
   "execution_count": 21,
   "id": "a4ff0373",
   "metadata": {
    "ExecuteTime": {
     "end_time": "2021-10-15T19:58:39.510394Z",
     "start_time": "2021-10-15T18:46:22.236Z"
    }
   },
   "outputs": [],
   "source": [
    "set.seed(40)\n",
    "\n",
    "xgbmgrid<-expand.grid(\n",
    " min_child_weight=c(5,10,20),\n",
    " eta=c(0.1,0.05,0.03,0.01,0.001),\n",
    " nrounds=c(100,500,1000,5000),\n",
    " max_depth=6,gamma=0,colsample_bytree=1,subsample=1)\n",
    "\n",
    "control<-trainControl(method = \"cv\",number=4,savePredictions = \"all\",classProbs=TRUE) \n",
    "\n",
    "xgbm_2<- train(factor(outcome)~\n",
    "            hosp_y+highbp_nk+age+angina_nk+stroke_nk,\n",
    "            data=data,\n",
    "            method=\"xgbTree\",\n",
    "            trControl=control,\n",
    "            tuneGrid=xgbmgrid,\n",
    "            verbose=FALSE)\n"
   ]
  },
  {
   "cell_type": "code",
   "execution_count": 22,
   "id": "81704a08",
   "metadata": {
    "ExecuteTime": {
     "end_time": "2021-10-15T20:14:59.910293Z",
     "start_time": "2021-10-15T18:59:44.254Z"
    },
    "scrolled": false
   },
   "outputs": [
    {
     "data": {
      "text/plain": [
       "eXtreme Gradient Boosting \n",
       "\n",
       "6367 samples\n",
       "   5 predictor\n",
       "   2 classes: 'No', 'Yes' \n",
       "\n",
       "No pre-processing\n",
       "Resampling: Cross-Validated (4 fold) \n",
       "Summary of sample sizes: 4776, 4774, 4775, 4776 \n",
       "Resampling results across tuning parameters:\n",
       "\n",
       "  eta    min_child_weight  nrounds  Accuracy   Kappa    \n",
       "  0.001   5                 100     0.8796915  0.7508971\n",
       "  0.001   5                 500     0.8798483  0.7512055\n",
       "  0.001   5                1000     0.8801625  0.7517836\n",
       "  0.001   5                5000     0.8800057  0.7514702\n",
       "  0.001  10                 100     0.8773354  0.7458889\n",
       "  0.001  10                 500     0.8787491  0.7486517\n",
       "  0.001  10                1000     0.8787490  0.7485846\n",
       "  0.001  10                5000     0.8795342  0.7504879\n",
       "  0.001  20                 100     0.8781210  0.7475862\n",
       "  0.001  20                 500     0.8796912  0.7506969\n",
       "  0.001  20                1000     0.8798482  0.7510142\n",
       "  0.001  20                5000     0.8792197  0.7499030\n",
       "  0.010   5                 100     0.8795340  0.7505179\n",
       "  0.010   5                 500     0.8800057  0.7514702\n",
       "  0.010   5                1000     0.8796916  0.7508532\n",
       "  0.010   5                5000     0.8785923  0.7486417\n",
       "  0.010  10                 100     0.8785918  0.7482675\n",
       "  0.010  10                 500     0.8795342  0.7504879\n",
       "  0.010  10                1000     0.8801625  0.7517517\n",
       "  0.010  10                5000     0.8804771  0.7524718\n",
       "  0.010  20                 100     0.8798482  0.7510142\n",
       "  0.010  20                 500     0.8792197  0.7499030\n",
       "  0.010  20                1000     0.8790624  0.7496566\n",
       "  0.010  20                5000     0.8795339  0.7506926\n",
       "  0.030   5                 100     0.8804769  0.7523837\n",
       "  0.030   5                 500     0.8795347  0.7505382\n",
       "  0.030   5                1000     0.8792204  0.7499208\n",
       "  0.030   5                5000     0.8787496  0.7489716\n",
       "  0.030  10                 100     0.8795342  0.7504347\n",
       "  0.030  10                 500     0.8801627  0.7517689\n",
       "  0.030  10                1000     0.8804771  0.7524354\n",
       "  0.030  10                5000     0.8789066  0.7492932\n",
       "  0.030  20                 100     0.8792200  0.7497820\n",
       "  0.030  20                 500     0.8790623  0.7496742\n",
       "  0.030  20                1000     0.8790625  0.7497106\n",
       "  0.030  20                5000     0.8792199  0.7499954\n",
       "  0.050   5                 100     0.8800057  0.7514702\n",
       "  0.050   5                 500     0.8801627  0.7518724\n",
       "  0.050   5                1000     0.8784352  0.7482704\n",
       "  0.050   5                5000     0.8793778  0.7502751\n",
       "  0.050  10                 100     0.8795342  0.7504879\n",
       "  0.050  10                 500     0.8806340  0.7527359\n",
       "  0.050  10                1000     0.8801632  0.7518035\n",
       "  0.050  10                5000     0.8789066  0.7493255\n",
       "  0.050  20                 100     0.8790626  0.7495866\n",
       "  0.050  20                 500     0.8792194  0.7500095\n",
       "  0.050  20                1000     0.8796909  0.7510090\n",
       "  0.050  20                5000     0.8792198  0.7499956\n",
       "  0.100   5                 100     0.8800058  0.7514864\n",
       "  0.100   5                 500     0.8785921  0.7486223\n",
       "  0.100   5                1000     0.8787496  0.7489726\n",
       "  0.100   5                5000     0.8789066  0.7493260\n",
       "  0.100  10                 100     0.8800053  0.7514350\n",
       "  0.100  10                 500     0.8801632  0.7517856\n",
       "  0.100  10                1000     0.8795346  0.7505595\n",
       "  0.100  10                5000     0.8792211  0.7499947\n",
       "  0.100  20                 100     0.8789055  0.7493404\n",
       "  0.100  20                 500     0.8798479  0.7513256\n",
       "  0.100  20                1000     0.8796909  0.7510090\n",
       "  0.100  20                5000     0.8792201  0.7499591\n",
       "\n",
       "Tuning parameter 'max_depth' was held constant at a value of 6\n",
       "Tuning\n",
       " parameter 'colsample_bytree' was held constant at a value of 1\n",
       "\n",
       "Tuning parameter 'subsample' was held constant at a value of 1\n",
       "Accuracy was used to select the optimal model using the largest value.\n",
       "The final values used for the model were nrounds = 500, max_depth = 6, eta\n",
       " = 0.05, gamma = 0, colsample_bytree = 1, min_child_weight = 10 and subsample\n",
       " = 1."
      ]
     },
     "metadata": {},
     "output_type": "display_data"
    }
   ],
   "source": [
    "xgbm_2"
   ]
  },
  {
   "cell_type": "code",
   "execution_count": 23,
   "id": "852d2673",
   "metadata": {
    "ExecuteTime": {
     "end_time": "2021-10-15T20:31:32.923928Z",
     "start_time": "2021-10-15T18:59:46.086Z"
    }
   },
   "outputs": [
    {
     "data": {
      "image/png": "[encoded data removed]",
      "text/plain": [
       "plot without title"
      ]
     },
     "metadata": {
      "image/png": {
       "height": 420,
       "width": 420
      }
     },
     "output_type": "display_data"
    }
   ],
   "source": [
    "plot(xgbm_2)"
   ]
  },
  {
   "cell_type": "markdown",
   "id": "bae1bc4e",
   "metadata": {},
   "source": [
    "Cómo se puede apreciar en los gráficos, los valores han cambiado, y ahora sí se diferencia más la evolución de la Accuracy y queda asintóticamente definida. Tenemos que el máximo se nos da en la línea de 500 iteraciones, para un shrinkage de 0,05 y con un mínimo de 10 en min_child_weight. El esto de parámetros siguen permaneciendo constantes.\n",
    "\n",
    "- max_depth = 6,\n",
    "- colsample_bytree = 1,\n",
    "- subsample constant = 1,\n",
    "- nrounds = 500, \n",
    "- max_depth = 6,\n",
    "- eta = 0.05, \n",
    "- gamma = 0, \n",
    "- colsample_bytree = 1,\n",
    "- min_child_weight = 10,\n",
    "- subsample = 1."
   ]
  },
  {
   "cell_type": "markdown",
   "id": "6e37d377",
   "metadata": {
    "ExecuteTime": {
     "end_time": "2021-10-15T20:47:59.226152Z",
     "start_time": "2021-10-15T19:08:31.474Z"
    }
   },
   "source": [
    "### Estudio de early stopping"
   ]
  },
  {
   "cell_type": "code",
   "execution_count": 25,
   "id": "e63cc73d",
   "metadata": {
    "ExecuteTime": {
     "end_time": "2021-10-16T07:21:22.627808Z",
     "start_time": "2021-10-16T07:13:13.881Z"
    }
   },
   "outputs": [],
   "source": [
    "set.seed(12345)\n",
    "\n",
    "xgbmgrid<-expand.grid(eta=c(0.05),\n",
    " min_child_weight=c(10),\n",
    " nrounds=c(50,100,150,200,250,300),\n",
    "  max_depth=6,gamma=0,colsample_bytree=1,subsample=1)\n",
    "\n",
    "control<-trainControl(method = \"cv\",number=10,savePredictions = \"all\", classProbs=TRUE) \n",
    "\n",
    "xgbm_21<- train(factor(outcome)~\n",
    "            hosp_y+highbp_nk+age+angina_nk+stroke_nk,\n",
    "            data=data,\n",
    "            method=\"xgbTree\",\n",
    "            trControl=control,\n",
    "            tuneGrid=xgbmgrid,\n",
    "            verbose=FALSE)\n",
    "\n"
   ]
  },
  {
   "cell_type": "code",
   "execution_count": 26,
   "id": "7df09757",
   "metadata": {
    "ExecuteTime": {
     "end_time": "2021-10-16T07:46:45.809397Z",
     "start_time": "2021-10-16T07:13:16.429Z"
    }
   },
   "outputs": [
    {
     "data": {
      "text/plain": [
       "eXtreme Gradient Boosting \n",
       "\n",
       "6367 samples\n",
       "   5 predictor\n",
       "   2 classes: 'No', 'Yes' \n",
       "\n",
       "No pre-processing\n",
       "Resampling: Cross-Validated (10 fold) \n",
       "Summary of sample sizes: 5730, 5730, 5730, 5731, 5730, 5730, ... \n",
       "Resampling results across tuning parameters:\n",
       "\n",
       "  nrounds  Accuracy   Kappa    \n",
       "   50      0.8800082  0.7513916\n",
       "  100      0.8800078  0.7514625\n",
       "  150      0.8798505  0.7511457\n",
       "  200      0.8798505  0.7511290\n",
       "  250      0.8798505  0.7511614\n",
       "  300      0.8798505  0.7511614\n",
       "\n",
       "Tuning parameter 'max_depth' was held constant at a value of 6\n",
       "Tuning\n",
       " parameter 'min_child_weight' was held constant at a value of 10\n",
       "\n",
       "Tuning parameter 'subsample' was held constant at a value of 1\n",
       "Accuracy was used to select the optimal model using the largest value.\n",
       "The final values used for the model were nrounds = 50, max_depth = 6, eta\n",
       " = 0.05, gamma = 0, colsample_bytree = 1, min_child_weight = 10 and subsample\n",
       " = 1."
      ]
     },
     "metadata": {},
     "output_type": "display_data"
    }
   ],
   "source": [
    "xgbm_21"
   ]
  },
  {
   "cell_type": "code",
   "execution_count": 27,
   "id": "595b244c",
   "metadata": {
    "ExecuteTime": {
     "end_time": "2021-10-16T08:11:56.807996Z",
     "start_time": "2021-10-16T07:13:23.966Z"
    }
   },
   "outputs": [
    {
     "data": {
      "image/png": "[encoded data removed]",
      "text/plain": [
       "plot without title"
      ]
     },
     "metadata": {
      "image/png": {
       "height": 420,
       "width": 420
      }
     },
     "output_type": "display_data"
    }
   ],
   "source": [
    "plot(xgbm_21)"
   ]
  },
  {
   "cell_type": "markdown",
   "id": "945c2046",
   "metadata": {},
   "source": [
    "Parece lógico mantener un nround en 50, pues ya aunque hasta 100 casi se mantiene, luego siemrpe es menor."
   ]
  },
  {
   "cell_type": "markdown",
   "id": "49b4c062",
   "metadata": {},
   "source": [
    "### Mejor modelo con el nuevo set de variables."
   ]
  },
  {
   "cell_type": "code",
   "execution_count": null,
   "id": "a45931f0",
   "metadata": {},
   "outputs": [],
   "source": [
    "medias2<-cruzadaxgbmbin(data=data,\n",
    "                       vardep=\"outcome\",\n",
    "                       listconti=c(\"hosp_y\", \"highbp_nk\", \"age\", \"angina_nk\", \"angina_y\", \"stroke_nk\"),\n",
    "                       listclass=c(\"\"),\n",
    "                       grupos=4,\n",
    "                       sinicio=1234,\n",
    "                       repe=10,\n",
    "                       min_child_weight=10,\n",
    "                       eta=0.05,\n",
    "                       nrounds=50,\n",
    "                       max_depth=6,\n",
    "                       gamma=0,\n",
    "                       colsample_bytree=1,\n",
    "                       subsample=1,\n",
    "                       alpha=0,\n",
    "                       lambda=0,\n",
    "                       lambda_bias=0)\n",
    "\n",
    "\n",
    "\n",
    "medias2$modelo=\"xgbm2\""
   ]
  },
  {
   "cell_type": "code",
   "execution_count": null,
   "id": "2777e2b8",
   "metadata": {},
   "outputs": [],
   "source": [
    "#Resultado medias2\n",
    "\n",
    "min_child_weight  eta nrounds max_depth gamma colsample_bytree subsample\n",
    "1               10 0.05      50         6     0                1         1\n",
    "   Accuracy     Kappa  AccuracySD    KappaSD\n",
    "1 0.8792205 0.7497185 0.007301174 0.01549721"
   ]
  },
  {
   "cell_type": "markdown",
   "id": "1b6f2066",
   "metadata": {},
   "source": [
    "## Elección mejor modelo entre diferentes set de variables"
   ]
  },
  {
   "cell_type": "code",
   "execution_count": 31,
   "id": "c96d5c10",
   "metadata": {
    "ExecuteTime": {
     "end_time": "2021-10-16T09:51:47.765469Z",
     "start_time": "2021-10-16T09:25:55.282Z"
    }
   },
   "outputs": [],
   "source": [
    "union1<-rbind(medias1,medias2)"
   ]
  },
  {
   "cell_type": "code",
   "execution_count": 32,
   "id": "1b0ec28d",
   "metadata": {
    "ExecuteTime": {
     "end_time": "2021-10-16T10:16:37.120553Z",
     "start_time": "2021-10-16T09:25:58.270Z"
    }
   },
   "outputs": [
    {
     "data": {
      "image/png": "[encoded data removed]",
      "text/plain": [
       "Plot with title \"TASA FALLOS\""
      ]
     },
     "metadata": {
      "image/png": {
       "height": 420,
       "width": 420
      }
     },
     "output_type": "display_data"
    },
    {
     "data": {
      "image/png": "[encoded data removed]",
      "text/plain": [
       "Plot with title \"AUC\""
      ]
     },
     "metadata": {
      "image/png": {
       "height": 420,
       "width": 420
      }
     },
     "output_type": "display_data"
    }
   ],
   "source": [
    "par(cex.axis=1.0)\n",
    "#boxplot(data=union1, tasa~modelo, modelo,main=\"TASA FALLOS\", col=\"pink\")\n",
    "#par(cex.axis=1.0)\n",
    "boxplot(data=union1,tasa~modelo,main=\"TASA FALLOS\",col=\"blue\")\n",
    "boxplot(data=union1,auc~modelo,main=\"AUC\",col=\"blue\")\n"
   ]
  },
  {
   "cell_type": "markdown",
   "id": "68a13669",
   "metadata": {},
   "source": [
    "Entre estos dos modelos, el correspondiente al set clásico de variables es que el que mejor tasa de fallos presenta y el que mayor área bajo la curva, con lo que el modeloselo Xgbm1 es el escogido como mejoror modelo. \n",
    "Ahora vamos a realizar el tuneado para reducir la varianza [sorteo observaciones, alpha y variables] sobre este a ver si se consigue mejorar un poco.."
   ]
  },
  {
   "cell_type": "markdown",
   "id": "7d72c9ac",
   "metadata": {},
   "source": [
    "## Tunning para reducir la varianza [sorteo observaciones, alpha y variables]"
   ]
  },
  {
   "cell_type": "code",
   "execution_count": null,
   "id": "de470fbb",
   "metadata": {},
   "outputs": [],
   "source": [
    "# Tanteando colsample_bytree=0.7,\n",
    "\n",
    "medias11<-cruzadaxgbmbin(data=data,\n",
    "                       vardep=\"outcome\",\n",
    "                       listconti=c(\"hosp_y\", \"highbp_nk\", \"age\", \"angina_nk\", \"angina_y\", \n",
    "\"smstat_nk\", \"yronset\", \"stroke_y\", \"stroke_nk\"),\n",
    "                       listclass=c(\"\"),\n",
    "                       grupos=4,\n",
    "                       sinicio=1234,\n",
    "                       repe=10,\n",
    "                       min_child_weight=20,\n",
    "                       eta=0.03,\n",
    "                       nrounds=150,\n",
    "                       max_depth=6,\n",
    "                       gamma=0,\n",
    "                       colsample_bytree=0.7,\n",
    "                       subsample=1,\n",
    "                       alpha=0,\n",
    "                       lambda=0,\n",
    "                       lambda_bias=0)\n",
    "\n",
    "\n",
    "\n",
    "medias11$modelo=\"xgbm11\""
   ]
  },
  {
   "cell_type": "code",
   "execution_count": null,
   "id": "7155d6c5",
   "metadata": {},
   "outputs": [],
   "source": [
    "#Resultados medias 11\n",
    "\n",
    "min_child_weight  eta nrounds max_depth gamma colsample_bytree subsample\n",
    "1               20 0.03     150         6     0              0.7         1\n",
    "   Accuracy     Kappa  AccuracySD    KappaSD\n",
    "1 0.8795186 0.7505705 0.007498223 0.01584875"
   ]
  },
  {
   "cell_type": "code",
   "execution_count": null,
   "id": "e8b2fbf5",
   "metadata": {},
   "outputs": [],
   "source": [
    "# colsample_bytree=0.8\n",
    "medias12<-cruzadaxgbmbin(data=data,\n",
    "                       vardep=\"outcome\",\n",
    "                       listconti=c(\"hosp_y\", \"highbp_nk\", \"age\", \"angina_nk\", \"angina_y\", \n",
    "\"smstat_nk\", \"yronset\", \"stroke_y\", \"stroke_nk\"),\n",
    "                       listclass=c(\"\"),\n",
    "                       grupos=4,\n",
    "                       sinicio=1234,\n",
    "                       repe=10,\n",
    "                       min_child_weight=20,\n",
    "                       eta=0.03,\n",
    "                       nrounds=150,\n",
    "                       max_depth=6,\n",
    "                       gamma=0,\n",
    "                       colsample_bytree=0.8,\n",
    "                       subsample=1,\n",
    "                       alpha=0,\n",
    "                       lambda=0,\n",
    "                       lambda_bias=0)\n",
    "\n",
    "\n",
    "\n",
    "medias12$modelo=\"xgbm12\""
   ]
  },
  {
   "cell_type": "code",
   "execution_count": null,
   "id": "c96fd42d",
   "metadata": {},
   "outputs": [],
   "source": [
    "#resultados medias 12\n",
    "  min_child_weight  eta nrounds max_depth gamma colsample_bytree subsample\n",
    "1               20 0.03     150         6     0              0.8         1\n",
    "   Accuracy     Kappa  AccuracySD    KappaSD\n",
    "1 0.8795028 0.7505451 0.007627614 0.01611858"
   ]
  },
  {
   "cell_type": "code",
   "execution_count": null,
   "id": "8ca532e4",
   "metadata": {},
   "outputs": [],
   "source": [
    "# colsample_bytree=0.9\n",
    "\n",
    "medias13<-cruzadaxgbmbin(data=data,\n",
    "                       vardep=\"outcome\",\n",
    "                       listconti=c(\"hosp_y\", \"highbp_nk\", \"age\", \"angina_nk\", \"angina_y\", \n",
    "\"smstat_nk\", \"yronset\", \"stroke_y\", \"stroke_nk\"),\n",
    "                       listclass=c(\"\"),\n",
    "                       grupos=4,\n",
    "                       sinicio=1234,\n",
    "                       repe=10,\n",
    "                       min_child_weight=20,\n",
    "                       eta=0.03,\n",
    "                       nrounds=150,\n",
    "                       max_depth=6,\n",
    "                       gamma=0,\n",
    "                       colsample_bytree=0.9,\n",
    "                       subsample=1,\n",
    "                       alpha=0,\n",
    "                       lambda=0,\n",
    "                       lambda_bias=0)\n",
    "\n",
    "\n",
    "\n",
    "medias13$modelo=\"xgbm13\""
   ]
  },
  {
   "cell_type": "code",
   "execution_count": null,
   "id": "b5bd7d7e",
   "metadata": {},
   "outputs": [],
   "source": [
    "#resultados medias13\n",
    "\n",
    "min_child_weight  eta nrounds max_depth gamma colsample_bytree subsample\n",
    "1               20 0.03     150         6     0              0.9         1\n",
    "   Accuracy     Kappa  AccuracySD    KappaSD\n",
    "1 0.8796441 0.7508469 0.007774343 0.01642156"
   ]
  },
  {
   "cell_type": "code",
   "execution_count": null,
   "id": "f4cd23bd",
   "metadata": {},
   "outputs": [],
   "source": [
    "#subsample 0.8\n",
    "medias14<-cruzadaxgbmbin(data=data,\n",
    "                       vardep=\"outcome\",\n",
    "                       listconti=c(\"hosp_y\", \"highbp_nk\", \"age\", \"angina_nk\", \"angina_y\", \n",
    "\"smstat_nk\", \"yronset\", \"stroke_y\", \"stroke_nk\"),\n",
    "                       listclass=c(\"\"),\n",
    "                       grupos=4,\n",
    "                       sinicio=1234,\n",
    "                       repe=10,\n",
    "                       min_child_weight=20,\n",
    "                       eta=0.03,\n",
    "                       nrounds=150,\n",
    "                       max_depth=6,\n",
    "                       gamma=0,\n",
    "                       colsample_bytree=1,\n",
    "                       subsample=0.8,\n",
    "                       alpha=0,\n",
    "                       lambda=0,\n",
    "                       lambda_bias=0)\n",
    "\n",
    "\n",
    "\n",
    "medias14$modelo=\"xgbm14\""
   ]
  },
  {
   "cell_type": "code",
   "execution_count": null,
   "id": "803ea424",
   "metadata": {
    "run_control": {
     "marked": false
    }
   },
   "outputs": [],
   "source": [
    "#resultados medias 14\n",
    "  min_child_weight  eta nrounds max_depth gamma colsample_bytree subsample\n",
    "1               20 0.03     150         6     0                1       0.8\n",
    "   Accuracy     Kappa  AccuracySD    KappaSD\n",
    "1 0.8795814 0.7507953 0.007298194 0.01542141"
   ]
  },
  {
   "cell_type": "code",
   "execution_count": null,
   "id": "2aea3831",
   "metadata": {},
   "outputs": [],
   "source": [
    "# subsample 0.9\n",
    "medias15<-cruzadaxgbmbin(data=data,\n",
    "                       vardep=\"outcome\",\n",
    "                       listconti=c(\"hosp_y\", \"highbp_nk\", \"age\", \"angina_nk\", \"angina_y\", \n",
    "\"smstat_nk\", \"yronset\", \"stroke_y\", \"stroke_nk\"),\n",
    "                       listclass=c(\"\"),\n",
    "                       grupos=4,\n",
    "                       sinicio=1234,\n",
    "                       repe=10,\n",
    "                       min_child_weight=20,\n",
    "                       eta=0.03,\n",
    "                       nrounds=150,\n",
    "                       max_depth=6,\n",
    "                       gamma=0,\n",
    "                       colsample_bytree=1,\n",
    "                       subsample=0.9,\n",
    "                       alpha=0,\n",
    "                       lambda=0,\n",
    "                       lambda_bias=0)\n",
    "\n",
    "\n",
    "\n",
    "medias15$modelo=\"xgbm15\""
   ]
  },
  {
   "cell_type": "code",
   "execution_count": null,
   "id": "32055d9e",
   "metadata": {},
   "outputs": [],
   "source": [
    "# resultados medias 15\n",
    "  min_child_weight  eta nrounds max_depth gamma colsample_bytree subsample\n",
    "1               20 0.03     150         6     0                1       0.9\n",
    "   Accuracy     Kappa  AccuracySD    KappaSD\n",
    "1 0.8796913 0.7509957 0.007497128 0.01582856"
   ]
  },
  {
   "cell_type": "code",
   "execution_count": null,
   "id": "aea2667d",
   "metadata": {},
   "outputs": [],
   "source": [
    "Alpha 0.5\n",
    "\n",
    "medias16<-cruzadaxgbmbin(data=data,\n",
    "                       vardep=\"outcome\",\n",
    "                       listconti=c(\"hosp_y\", \"highbp_nk\", \"age\", \"angina_nk\", \"angina_y\", \n",
    "\"smstat_nk\", \"yronset\", \"stroke_y\", \"stroke_nk\"),\n",
    "                       listclass=c(\"\"),\n",
    "                       grupos=4,\n",
    "                       sinicio=1234,\n",
    "                       repe=10,\n",
    "                       min_child_weight=20,\n",
    "                       eta=0.03,\n",
    "                       nrounds=150,\n",
    "                       max_depth=6,\n",
    "                       gamma=0,\n",
    "                       colsample_bytree=1,\n",
    "                       subsample=1,\n",
    "                       alpha=0.5,\n",
    "                       lambda=0,\n",
    "                       lambda_bias=0)\n",
    "\n",
    "\n",
    "\n",
    "medias16$modelo=\"xgbm16\""
   ]
  },
  {
   "cell_type": "code",
   "execution_count": null,
   "id": "bc30091f",
   "metadata": {},
   "outputs": [],
   "source": [
    "# resultados medias 16\n",
    "  min_child_weight  eta nrounds max_depth gamma colsample_bytree subsample\n",
    "1               20 0.03     150         6     0                1         1\n",
    "   Accuracy     Kappa  AccuracySD    KappaSD\n",
    "1 0.8798169 0.7512206 0.007607035 0.01606215\n",
    "Alpha 0.5\n",
    "Alpha 0.5"
   ]
  },
  {
   "cell_type": "code",
   "execution_count": 39,
   "id": "c82ff8df",
   "metadata": {
    "ExecuteTime": {
     "end_time": "2021-10-16T15:06:09.138134Z",
     "start_time": "2021-10-16T12:34:41.461Z"
    }
   },
   "outputs": [],
   "source": [
    "union11<-rbind(medias1,medias11,medias12,medias13,medias14,medias15,medias16)"
   ]
  },
  {
   "cell_type": "code",
   "execution_count": 40,
   "id": "2947bf11",
   "metadata": {
    "ExecuteTime": {
     "end_time": "2021-10-16T15:31:22.419418Z",
     "start_time": "2021-10-16T12:34:43.002Z"
    }
   },
   "outputs": [
    {
     "data": {
      "image/png": "[encoded data removed]",
      "text/plain": [
       "Plot with title \"TASA FALLOS\""
      ]
     },
     "metadata": {
      "image/png": {
       "height": 420,
       "width": 420
      }
     },
     "output_type": "display_data"
    },
    {
     "data": {
      "image/png": "[encoded data removed]",
      "text/plain": [
       "Plot with title \"AUC\""
      ]
     },
     "metadata": {
      "image/png": {
       "height": 420,
       "width": 420
      }
     },
     "output_type": "display_data"
    }
   ],
   "source": [
    "par(cex.axis=1.0)\n",
    "\n",
    "boxplot(data=union11,tasa~modelo,main=\"TASA FALLOS\",col=\"blue\")\n",
    "boxplot(data=union11,auc~modelo,main=\"AUC\",col=\"blue\")"
   ]
  },
  {
   "cell_type": "markdown",
   "id": "a27b38c2",
   "metadata": {},
   "source": [
    "### Elección mejor modelo GBM"
   ]
  },
  {
   "cell_type": "markdown",
   "id": "7a3266b6",
   "metadata": {},
   "source": [
    "El mejor modelo GBM es por tanto el Xgbm11,por presentar una tasa de fallos parecida , pero menos variabilidad y sobretodo por presentar un área bajo la curva mayor.\n",
    "Los parámetros del modelo son:\n",
    "\n",
    "- Variables: \"hosp_y\", \"highbp_nk\", \"age\", \"angina_nk\", \"angina_y\", \"smstat_nk\", \"yronset\", \"stroke_y\", \"stroke_nk\"),\n",
    "- min_child_weight=20,\n",
    "- eta=0.03,\n",
    "- nrounds=150,\n",
    "- max_depth=6,\n",
    "- gamma=0,\n",
    "- colsample_bytree=0.7,\n",
    "- subsample=1,\n",
    "- alpha=0,\n",
    "- lambda=0,\n",
    "- lambda_bias=0)\n",
    "\n",
    "\n"
   ]
  },
  {
   "cell_type": "markdown",
   "id": "0a3efb1c",
   "metadata": {},
   "source": [
    "## Comparación con otros modelos del resto de algoritmos"
   ]
  },
  {
   "cell_type": "code",
   "execution_count": 3,
   "id": "2cf44703",
   "metadata": {
    "ExecuteTime": {
     "end_time": "2021-10-19T18:12:58.943454Z",
     "start_time": "2021-10-19T18:11:56.516Z"
    }
   },
   "outputs": [],
   "source": [
    "#Mejor modelo de regresión logística (medias3 de EDA_NNET)\n",
    "medias_1<-cruzadalogistica(data=data,\n",
    "                    vardep=c(\"outcome\"),\n",
    "                    listconti=\n",
    "c(\"hosp_y\", \"highbp_nk\", \"age\", \"angina_nk\", \"angina_y\", \n",
    "\"smstat_nk\", \"yronset\", \"stroke_y\", \"stroke_nk\"),\n",
    "                    listclass=c(\"\"),\n",
    "                    grupos=10,\n",
    "                    sinicio=1234,\n",
    "                    repe=100)\n",
    "\n",
    "\n",
    " medias_1$modelo=\"Logística\"\n"
   ]
  },
  {
   "cell_type": "code",
   "execution_count": null,
   "id": "5be8227a",
   "metadata": {},
   "outputs": [],
   "source": [
    "#mejor modelo de red neuronal(medias9 de EDA_NNET)\n",
    "medias_2<-cruzadaavnnetbin(data=data,\n",
    "                       vardep=\"outcome\",\n",
    "                       listconti=c(\"hosp_y\", \"highbp_nk\", \"age\", \"angina_nk\", \"angina_y\", \n",
    "\"smstat_nk\", \"yronset\", \"stroke_y\", \"stroke_nk\"),\n",
    "                       listclass=c(\"\"),\n",
    "                       grupos=10,\n",
    "                       sinicio=1234,\n",
    "                       repe=25,\n",
    "                       repeticiones=5,\n",
    "                       itera=500,\n",
    "                       size=c(5),\n",
    "                       decay=c(0.001))\n",
    "\n",
    "  medias_2$modelo=\"avnnet\""
   ]
  },
  {
   "cell_type": "code",
   "execution_count": null,
   "id": "612783be",
   "metadata": {},
   "outputs": [],
   "source": [
    "#Resultados medias_2\n",
    "\n",
    "stopped after 500 iterations\n",
    "  size decay   bag  Accuracy     Kappa AccuracySD    KappaSD\n",
    "1    5 0.001 FALSE 0.8767774 0.7450545 0.01110455 0.02346587"
   ]
  },
  {
   "cell_type": "code",
   "execution_count": 5,
   "id": "0c056bc0",
   "metadata": {
    "ExecuteTime": {
     "end_time": "2021-10-19T18:49:12.972876Z",
     "start_time": "2021-10-19T18:12:01.707Z"
    }
   },
   "outputs": [
    {
     "name": "stdout",
     "output_type": "stream",
     "text": [
      "  cp  Accuracy     Kappa AccuracySD    KappaSD\n",
      "1  0 0.8720909 0.7362186 0.01168732 0.02436023\n"
     ]
    }
   ],
   "source": [
    "#mejor modelo de árbol\n",
    "medias_3<-cruzadaarbolbin(data=data,\n",
    "                     vardep=\"outcome\",\n",
    "                     listconti=c(\"hosp_y\", \"highbp_nk\", \"age\", \"angina_nk\", \"angina_y\", \n",
    "\"smstat_nk\", \"yronset\", \"stroke_y\", \"stroke_nk\"),\n",
    "                     listclass=c(\"\"),\n",
    "                     grupos=10,\n",
    "                     sinicio=1234,\n",
    "                     repe=5,\n",
    "                     cp=c(0),\n",
    "                     minbucket =40)\n",
    "\n",
    "medias_3$modelo=\"arbol\""
   ]
  },
  {
   "cell_type": "code",
   "execution_count": 6,
   "id": "c190773d",
   "metadata": {
    "ExecuteTime": {
     "end_time": "2021-10-19T18:50:05.295769Z",
     "start_time": "2021-10-19T18:12:02.502Z"
    }
   },
   "outputs": [
    {
     "name": "stdout",
     "output_type": "stream",
     "text": [
      "  mtry  Accuracy    Kappa  AccuracySD   KappaSD\n",
      "1    9 0.8790632 0.749648 0.007291974 0.0154251\n"
     ]
    }
   ],
   "source": [
    "#mejor modelo de bagging\n",
    "  medias_4<-cruzadarfbin(data=data,\n",
    "                       vardep=\"outcome\",\n",
    "                       listconti=c(\"hosp_y\", \"highbp_nk\", \"age\", \"angina_nk\", \"angina_y\", \n",
    "\"smstat_nk\", \"yronset\", \"stroke_y\", \"stroke_nk\"),\n",
    "                       listclass=c(\"\"),\n",
    "                       grupos=4,\n",
    "                       sinicio=1234,\n",
    "                       repe=10,\n",
    "                       nodesize=10,\n",
    "                       mtry=9,\n",
    "                       ntree=3000,\n",
    "                       replace=TRUE,\n",
    "                       sampsize=100)\n",
    "\n",
    "  medias_4$modelo=\"bagging\"\n"
   ]
  },
  {
   "cell_type": "code",
   "execution_count": 7,
   "id": "cfd77097",
   "metadata": {
    "ExecuteTime": {
     "end_time": "2021-10-19T18:51:03.341372Z",
     "start_time": "2021-10-19T18:12:03.627Z"
    }
   },
   "outputs": [
    {
     "name": "stdout",
     "output_type": "stream",
     "text": [
      "  mtry  Accuracy     Kappa  AccuracySD   KappaSD\n",
      "1    3 0.8794873 0.7504862 0.007499957 0.0158603\n"
     ]
    }
   ],
   "source": [
    "#mejor modelo Random Forest\n",
    "medias_5<-cruzadarfbin(data=data,\n",
    "                       vardep=\"outcome\",\n",
    "                       listconti=c(\"hosp_y\", \"highbp_nk\", \"age\", \"angina_nk\", \"angina_y\", \n",
    "\"smstat_nk\", \"yronset\", \"stroke_y\", \"stroke_nk\"),\n",
    "                       listclass=c(\"\"),\n",
    "                       grupos=4,\n",
    "                       sinicio=1234,\n",
    "                       repe=10,\n",
    "                       nodesize=10,\n",
    "                       mtry=3,\n",
    "                       ntree=3000,\n",
    "                       replace=TRUE,\n",
    "                       sampsize=150)\n",
    "\n",
    "  medias_5$modelo=\"rf\"\n"
   ]
  },
  {
   "cell_type": "code",
   "execution_count": 8,
   "id": "c7148be8",
   "metadata": {
    "ExecuteTime": {
     "end_time": "2021-10-19T18:51:44.356771Z",
     "start_time": "2021-10-19T18:12:04.451Z"
    }
   },
   "outputs": [
    {
     "name": "stdout",
     "output_type": "stream",
     "text": [
      "  n.minobsinnode shrinkage n.trees interaction.depth  Accuracy     Kappa\n",
      "1              5      0.03     500                 2 0.8790319 0.7496926\n",
      "   AccuracySD    KappaSD\n",
      "1 0.007446465 0.01571441\n"
     ]
    }
   ],
   "source": [
    "#mejor modelo GBM\n",
    "medias_6<-cruzadagbmbin(data=data,\n",
    "                       vardep=\"outcome\",\n",
    "                       listconti=c(\"hosp_y\", \"highbp_nk\", \"age\", \"angina_nk\", \"angina_y\", \n",
    "\"smstat_nk\", \"yronset\", \"stroke_y\", \"stroke_nk\"),\n",
    "                       listclass=c(\"\"),\n",
    "                       grupos=4,\n",
    "                       sinicio=1234,\n",
    "                       repe=10,\n",
    "                       n.minobsinnode=5,\n",
    "                       shrinkage=0.03,\n",
    "                       n.trees=500,\n",
    "                       interaction.depth=2)\n",
    "\n",
    "medias_6$modelo=\"gbm\""
   ]
  },
  {
   "cell_type": "code",
   "execution_count": null,
   "id": "7d7f0d44",
   "metadata": {},
   "outputs": [],
   "source": [
    "#mejor modelo Xgboost (medias 11)\n",
    "medias_7<-cruzadaxgbmbin(data=data,\n",
    "                       vardep=\"outcome\",\n",
    "                       listconti=c(\"hosp_y\", \"highbp_nk\", \"age\", \"angina_nk\", \"angina_y\", \n",
    "\"smstat_nk\", \"yronset\", \"stroke_y\", \"stroke_nk\"),\n",
    "                       listclass=c(\"\"),\n",
    "                       grupos=4,\n",
    "                       sinicio=1234,\n",
    "                       repe=10,\n",
    "                       min_child_weight=20,\n",
    "                       eta=0.03,\n",
    "                       nrounds=150,\n",
    "                       max_depth=6,\n",
    "                       gamma=0,\n",
    "                       colsample_bytree=0.7,\n",
    "                       subsample=1,\n",
    "                       alpha=0,\n",
    "                       lambda=0,\n",
    "                       lambda_bias=0)\n",
    "\n",
    "\n",
    "\n",
    "medias_7$modelo=\"xgbm11\""
   ]
  },
  {
   "cell_type": "code",
   "execution_count": null,
   "id": "6ec9a003",
   "metadata": {},
   "outputs": [],
   "source": [
    "#Resultados de medias _7\n",
    "  min_child_weight  eta nrounds max_depth gamma colsample_bytree subsample\n",
    "1               20 0.03     150         6     0              0.7         1\n",
    "   Accuracy     Kappa  AccuracySD    KappaSD\n",
    "1 0.8795186 0.7505705 0.007498223 0.01584875"
   ]
  },
  {
   "cell_type": "code",
   "execution_count": 10,
   "id": "8f97fc25",
   "metadata": {
    "ExecuteTime": {
     "end_time": "2021-10-19T18:51:59.684150Z",
     "start_time": "2021-10-19T18:12:06.904Z"
    }
   },
   "outputs": [],
   "source": [
    "union3<-rbind(medias_1,medias_2,medias_3,medias_4,medias_5,medias_6,medias_7)"
   ]
  },
  {
   "cell_type": "code",
   "execution_count": 11,
   "id": "a1faeba0",
   "metadata": {
    "ExecuteTime": {
     "end_time": "2021-10-19T18:52:00.009588Z",
     "start_time": "2021-10-19T18:12:07.717Z"
    }
   },
   "outputs": [
    {
     "data": {
      "image/png": "[encoded data removed]",
      "text/plain": [
       "Plot with title \"TASA FALLOS\""
      ]
     },
     "metadata": {
      "image/png": {
       "height": 420,
       "width": 420
      }
     },
     "output_type": "display_data"
    },
    {
     "data": {
      "image/png": "[encoded data removed]",
      "text/plain": [
       "Plot with title \"AUC\""
      ]
     },
     "metadata": {
      "image/png": {
       "height": 420,
       "width": 420
      }
     },
     "output_type": "display_data"
    }
   ],
   "source": [
    "par(cex.axis=1.5)\n",
    "boxplot(data=union3,tasa~modelo,main=\"TASA FALLOS\",col=\"yellow\")\n",
    "boxplot(data=union3,auc~modelo,main=\"AUC\",col=\"orange\")"
   ]
  },
  {
   "cell_type": "code",
   "execution_count": 12,
   "id": "16759104",
   "metadata": {
    "ExecuteTime": {
     "end_time": "2021-10-19T18:52:00.354391Z",
     "start_time": "2021-10-19T18:12:08.557Z"
    }
   },
   "outputs": [
    {
     "data": {
      "image/png": "[encoded data removed]",
      "text/plain": [
       "Plot with title \"TASA FALLOS\""
      ]
     },
     "metadata": {
      "image/png": {
       "height": 420,
       "width": 420
      }
     },
     "output_type": "display_data"
    },
    {
     "data": {
      "image/png": "[encoded data removed]",
      "text/plain": [
       "Plot with title \"AUC\""
      ]
     },
     "metadata": {
      "image/png": {
       "height": 420,
       "width": 420
      }
     },
     "output_type": "display_data"
    }
   ],
   "source": [
    "uni<-union3\n",
    "uni$modelo <- with(uni,\n",
    " reorder(modelo,tasa, median))\n",
    "par(cex.axis=0.7,las=2)\n",
    "boxplot(data=uni,tasa~modelo,col=\"yellow\",main=\"TASA FALLOS\")\n",
    "\n",
    "uni<-union3\n",
    "uni$modelo <- with(uni,\n",
    " reorder(modelo,auc, median))\n",
    "par(cex.axis=0.7,las=2)\n",
    "boxplot(data=uni,auc~modelo,col=\"orange\",main=\"AUC\")\n"
   ]
  },
  {
   "cell_type": "markdown",
   "id": "1cfee9ee",
   "metadata": {},
   "source": [
    "### Modelo ganador"
   ]
  },
  {
   "cell_type": "markdown",
   "id": "571f74e0",
   "metadata": {},
   "source": [
    "Como se ha venido apreciando en el resto de modelos, en cuanto al AUC, el modelo más competitivo es la regresión logística, aunque en este caso , respecto a la tasa de fallos, es mejor el Xgboost, pero aun así el modelo ganador es la regresión logística."
   ]
  }
 ],
 "metadata": {
  "kernelspec": {
   "display_name": "R",
   "language": "R",
   "name": "ir"
  },
  "language_info": {
   "codemirror_mode": "r",
   "file_extension": ".r",
   "mimetype": "text/x-r-source",
   "name": "R",
   "pygments_lexer": "r",
   "version": "4.1.1"
  },
  "latex_envs": {
   "LaTeX_envs_menu_present": true,
   "autoclose": false,
   "autocomplete": true,
   "bibliofile": "biblio.bib",
   "cite_by": "apalike",
   "current_citInitial": 1,
   "eqLabelWithNumbers": true,
   "eqNumInitial": 1,
   "hotkeys": {
    "equation": "Ctrl-E",
    "itemize": "Ctrl-I"
   },
   "labels_anchors": false,
   "latex_user_defs": false,
   "report_style_numbering": false,
   "user_envs_cfg": false
  },
  "toc": {
   "base_numbering": 1,
   "nav_menu": {},
   "number_sections": true,
   "sideBar": true,
   "skip_h1_title": false,
   "title_cell": "Table of Contents",
   "title_sidebar": "Contents",
   "toc_cell": false,
   "toc_position": {
    "height": "calc(100% - 180px)",
    "left": "10px",
    "top": "150px",
    "width": "165px"
   },
   "toc_section_display": true,
   "toc_window_display": true
  },
  "varInspector": {
   "cols": {
    "lenName": 16,
    "lenType": 16,
    "lenVar": 40
   },
   "kernels_config": {
    "python": {
     "delete_cmd_postfix": "",
     "delete_cmd_prefix": "del ",
     "library": "var_list.py",
     "varRefreshCmd": "print(var_dic_list())"
    },
    "r": {
     "delete_cmd_postfix": ") ",
     "delete_cmd_prefix": "rm(",
     "library": "var_list.r",
     "varRefreshCmd": "cat(var_dic_list()) "
    }
   },
   "oldHeight": 257.98578000000003,
   "position": {
    "height": "528.941px",
    "left": "1622.18px",
    "right": "20px",
    "top": "336.99px",
    "width": "337.778px"
   },
   "types_to_exclude": [
    "module",
    "function",
    "builtin_function_or_method",
    "instance",
    "_Feature"
   ],
   "varInspector_section_display": "block",
   "window_display": true
  }
 },
 "nbformat": 4,
 "nbformat_minor": 5
}
