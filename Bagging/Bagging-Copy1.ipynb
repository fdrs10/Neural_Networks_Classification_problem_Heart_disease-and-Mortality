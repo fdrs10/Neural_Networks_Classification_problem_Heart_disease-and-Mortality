{
 "cells": [
  {
   "cell_type": "markdown",
   "id": "5e95ce8d",
   "metadata": {},
   "source": [
    "## Bagging"
   ]
  },
  {
   "cell_type": "markdown",
   "id": "50d4e020",
   "metadata": {},
   "source": [
    "### Load data and libraries"
   ]
  },
  {
   "cell_type": "code",
   "execution_count": null,
   "id": "fec6af7f",
   "metadata": {},
   "outputs": [],
   "source": [
    "library(caret)\n",
    "install.packages(\"e1071\")\n",
    "install.packages(\"randomForest\")\n",
    "library(randomForest)\n",
    "options(warn=-1)"
   ]
  },
  {
   "cell_type": "code",
   "execution_count": null,
   "id": "01a759b6",
   "metadata": {},
   "outputs": [],
   "source": [
    "source (\"cruzadas avnnet y log binaria.R\")\n",
    "source (\"cruzada arbolbin.R\")\n",
    "source (\"cruzada rf binaria.R\")"
   ]
  },
  {
   "cell_type": "code",
   "execution_count": 6,
   "id": "83f58480",
   "metadata": {
    "ExecuteTime": {
     "end_time": "2021-10-18T17:38:47.236500Z",
     "start_time": "2021-10-18T17:38:47.162Z"
    }
   },
   "outputs": [
    {
     "data": {
      "text/html": [
       "<table class=\"dataframe\">\n",
       "<caption>A data.frame: 6 × 20</caption>\n",
       "<thead>\n",
       "\t<tr><th></th><th scope=col>age</th><th scope=col>yronset</th><th scope=col>sex_m</th><th scope=col>premi_nk</th><th scope=col>premi_y</th><th scope=col>smstat_n</th><th scope=col>smstat_nk</th><th scope=col>smstat_x</th><th scope=col>diabetes_nk</th><th scope=col>diabetes_y</th><th scope=col>highbp_nk</th><th scope=col>highbp_y</th><th scope=col>hichol_nk</th><th scope=col>hichol_y</th><th scope=col>angina_nk</th><th scope=col>angina_y</th><th scope=col>stroke_nk</th><th scope=col>stroke_y</th><th scope=col>hosp_y</th><th scope=col>outcome</th></tr>\n",
       "\t<tr><th></th><th scope=col>&lt;dbl&gt;</th><th scope=col>&lt;dbl&gt;</th><th scope=col>&lt;int&gt;</th><th scope=col>&lt;int&gt;</th><th scope=col>&lt;int&gt;</th><th scope=col>&lt;int&gt;</th><th scope=col>&lt;int&gt;</th><th scope=col>&lt;int&gt;</th><th scope=col>&lt;int&gt;</th><th scope=col>&lt;int&gt;</th><th scope=col>&lt;int&gt;</th><th scope=col>&lt;int&gt;</th><th scope=col>&lt;int&gt;</th><th scope=col>&lt;int&gt;</th><th scope=col>&lt;int&gt;</th><th scope=col>&lt;int&gt;</th><th scope=col>&lt;int&gt;</th><th scope=col>&lt;int&gt;</th><th scope=col>&lt;int&gt;</th><th scope=col>&lt;chr&gt;</th></tr>\n",
       "</thead>\n",
       "<tbody>\n",
       "\t<tr><th scope=row>1</th><td> 0.45582598</td><td>-1.465502</td><td>0</td><td>0</td><td>0</td><td>0</td><td>0</td><td>1</td><td>0</td><td>0</td><td>0</td><td>1</td><td>0</td><td>1</td><td>0</td><td>0</td><td>0</td><td>0</td><td>1</td><td>No </td></tr>\n",
       "\t<tr><th scope=row>2</th><td>-0.05347366</td><td>-1.465502</td><td>1</td><td>0</td><td>1</td><td>0</td><td>0</td><td>1</td><td>0</td><td>0</td><td>0</td><td>1</td><td>0</td><td>0</td><td>0</td><td>0</td><td>0</td><td>0</td><td>1</td><td>No </td></tr>\n",
       "\t<tr><th scope=row>3</th><td> 1.09245054</td><td>-1.465502</td><td>1</td><td>0</td><td>0</td><td>1</td><td>0</td><td>0</td><td>0</td><td>0</td><td>0</td><td>1</td><td>0</td><td>0</td><td>0</td><td>0</td><td>0</td><td>0</td><td>1</td><td>No </td></tr>\n",
       "\t<tr><th scope=row>4</th><td>-1.70869752</td><td>-1.465502</td><td>1</td><td>0</td><td>0</td><td>0</td><td>0</td><td>0</td><td>0</td><td>0</td><td>0</td><td>0</td><td>0</td><td>0</td><td>0</td><td>0</td><td>0</td><td>0</td><td>1</td><td>No </td></tr>\n",
       "\t<tr><th scope=row>5</th><td>-1.45404770</td><td>-1.465502</td><td>1</td><td>0</td><td>0</td><td>1</td><td>0</td><td>0</td><td>0</td><td>1</td><td>0</td><td>0</td><td>0</td><td>0</td><td>0</td><td>1</td><td>0</td><td>0</td><td>1</td><td>Yes</td></tr>\n",
       "\t<tr><th scope=row>6</th><td>-0.56277331</td><td>-1.465502</td><td>0</td><td>0</td><td>0</td><td>0</td><td>0</td><td>0</td><td>0</td><td>0</td><td>0</td><td>1</td><td>0</td><td>1</td><td>0</td><td>0</td><td>0</td><td>0</td><td>1</td><td>No </td></tr>\n",
       "</tbody>\n",
       "</table>\n"
      ],
      "text/latex": [
       "A data.frame: 6 × 20\n",
       "\\begin{tabular}{r|llllllllllllllllllll}\n",
       "  & age & yronset & sex\\_m & premi\\_nk & premi\\_y & smstat\\_n & smstat\\_nk & smstat\\_x & diabetes\\_nk & diabetes\\_y & highbp\\_nk & highbp\\_y & hichol\\_nk & hichol\\_y & angina\\_nk & angina\\_y & stroke\\_nk & stroke\\_y & hosp\\_y & outcome\\\\\n",
       "  & <dbl> & <dbl> & <int> & <int> & <int> & <int> & <int> & <int> & <int> & <int> & <int> & <int> & <int> & <int> & <int> & <int> & <int> & <int> & <int> & <chr>\\\\\n",
       "\\hline\n",
       "\t1 &  0.45582598 & -1.465502 & 0 & 0 & 0 & 0 & 0 & 1 & 0 & 0 & 0 & 1 & 0 & 1 & 0 & 0 & 0 & 0 & 1 & No \\\\\n",
       "\t2 & -0.05347366 & -1.465502 & 1 & 0 & 1 & 0 & 0 & 1 & 0 & 0 & 0 & 1 & 0 & 0 & 0 & 0 & 0 & 0 & 1 & No \\\\\n",
       "\t3 &  1.09245054 & -1.465502 & 1 & 0 & 0 & 1 & 0 & 0 & 0 & 0 & 0 & 1 & 0 & 0 & 0 & 0 & 0 & 0 & 1 & No \\\\\n",
       "\t4 & -1.70869752 & -1.465502 & 1 & 0 & 0 & 0 & 0 & 0 & 0 & 0 & 0 & 0 & 0 & 0 & 0 & 0 & 0 & 0 & 1 & No \\\\\n",
       "\t5 & -1.45404770 & -1.465502 & 1 & 0 & 0 & 1 & 0 & 0 & 0 & 1 & 0 & 0 & 0 & 0 & 0 & 1 & 0 & 0 & 1 & Yes\\\\\n",
       "\t6 & -0.56277331 & -1.465502 & 0 & 0 & 0 & 0 & 0 & 0 & 0 & 0 & 0 & 1 & 0 & 1 & 0 & 0 & 0 & 0 & 1 & No \\\\\n",
       "\\end{tabular}\n"
      ],
      "text/markdown": [
       "\n",
       "A data.frame: 6 × 20\n",
       "\n",
       "| <!--/--> | age &lt;dbl&gt; | yronset &lt;dbl&gt; | sex_m &lt;int&gt; | premi_nk &lt;int&gt; | premi_y &lt;int&gt; | smstat_n &lt;int&gt; | smstat_nk &lt;int&gt; | smstat_x &lt;int&gt; | diabetes_nk &lt;int&gt; | diabetes_y &lt;int&gt; | highbp_nk &lt;int&gt; | highbp_y &lt;int&gt; | hichol_nk &lt;int&gt; | hichol_y &lt;int&gt; | angina_nk &lt;int&gt; | angina_y &lt;int&gt; | stroke_nk &lt;int&gt; | stroke_y &lt;int&gt; | hosp_y &lt;int&gt; | outcome &lt;chr&gt; |\n",
       "|---|---|---|---|---|---|---|---|---|---|---|---|---|---|---|---|---|---|---|---|---|\n",
       "| 1 |  0.45582598 | -1.465502 | 0 | 0 | 0 | 0 | 0 | 1 | 0 | 0 | 0 | 1 | 0 | 1 | 0 | 0 | 0 | 0 | 1 | No  |\n",
       "| 2 | -0.05347366 | -1.465502 | 1 | 0 | 1 | 0 | 0 | 1 | 0 | 0 | 0 | 1 | 0 | 0 | 0 | 0 | 0 | 0 | 1 | No  |\n",
       "| 3 |  1.09245054 | -1.465502 | 1 | 0 | 0 | 1 | 0 | 0 | 0 | 0 | 0 | 1 | 0 | 0 | 0 | 0 | 0 | 0 | 1 | No  |\n",
       "| 4 | -1.70869752 | -1.465502 | 1 | 0 | 0 | 0 | 0 | 0 | 0 | 0 | 0 | 0 | 0 | 0 | 0 | 0 | 0 | 0 | 1 | No  |\n",
       "| 5 | -1.45404770 | -1.465502 | 1 | 0 | 0 | 1 | 0 | 0 | 0 | 1 | 0 | 0 | 0 | 0 | 0 | 1 | 0 | 0 | 1 | Yes |\n",
       "| 6 | -0.56277331 | -1.465502 | 0 | 0 | 0 | 0 | 0 | 0 | 0 | 0 | 0 | 1 | 0 | 1 | 0 | 0 | 0 | 0 | 1 | No  |\n",
       "\n"
      ],
      "text/plain": [
       "  age         yronset   sex_m premi_nk premi_y smstat_n smstat_nk smstat_x\n",
       "1  0.45582598 -1.465502 0     0        0       0        0         1       \n",
       "2 -0.05347366 -1.465502 1     0        1       0        0         1       \n",
       "3  1.09245054 -1.465502 1     0        0       1        0         0       \n",
       "4 -1.70869752 -1.465502 1     0        0       0        0         0       \n",
       "5 -1.45404770 -1.465502 1     0        0       1        0         0       \n",
       "6 -0.56277331 -1.465502 0     0        0       0        0         0       \n",
       "  diabetes_nk diabetes_y highbp_nk highbp_y hichol_nk hichol_y angina_nk\n",
       "1 0           0          0         1        0         1        0        \n",
       "2 0           0          0         1        0         0        0        \n",
       "3 0           0          0         1        0         0        0        \n",
       "4 0           0          0         0        0         0        0        \n",
       "5 0           1          0         0        0         0        0        \n",
       "6 0           0          0         1        0         1        0        \n",
       "  angina_y stroke_nk stroke_y hosp_y outcome\n",
       "1 0        0         0        1      No     \n",
       "2 0        0         0        1      No     \n",
       "3 0        0         0        1      No     \n",
       "4 0        0         0        1      No     \n",
       "5 1        0         0        1      Yes    \n",
       "6 0        0         0        1      No     "
      ]
     },
     "metadata": {},
     "output_type": "display_data"
    }
   ],
   "source": [
    "load(\"data.Rda\")\n",
    "head(data)\n"
   ]
  },
  {
   "cell_type": "markdown",
   "id": "f2a8f85c",
   "metadata": {},
   "source": [
    "### Tuneado ntree"
   ]
  },
  {
   "cell_type": "code",
   "execution_count": 7,
   "id": "e04c5c0b",
   "metadata": {
    "ExecuteTime": {
     "end_time": "2021-10-18T17:39:02.852516Z",
     "start_time": "2021-10-18T17:38:50.462Z"
    }
   },
   "outputs": [
    {
     "data": {
      "text/plain": [
       "\n",
       "Call:\n",
       " randomForest(formula = factor(outcome) ~ hosp_y + highbp_nk +      age + angina_nk + angina_y + smstat_nk + yronset + stroke_y +      stroke_nk, data = data, mtry = 9, ntree = 20000, sampsize = 200,      nodesize = 10, replace = TRUE) \n",
       "               Type of random forest: classification\n",
       "                     Number of trees: 20000\n",
       "No. of variables tried at each split: 9\n",
       "\n",
       "        OOB estimate of  error rate: 12.06%\n",
       "Confusion matrix:\n",
       "      No  Yes class.error\n",
       "No  3463   62  0.01758865\n",
       "Yes  706 2136  0.24841661"
      ]
     },
     "metadata": {},
     "output_type": "display_data"
    }
   ],
   "source": [
    "#Bagging\n",
    "#Decidir mínimo número de trees\n",
    "\n",
    "set.seed(40)\n",
    "\n",
    "rf1<-randomForest(factor(outcome)~\n",
    "           hosp_y+highbp_nk+age+angina_nk+angina_y+smstat_nk+yronset+stroke_y+stroke_nk,\n",
    "           data=data,\n",
    "           mtry=9,\n",
    "           ntree=20000,\n",
    "           sampsize=200,       \n",
    "           nodesize=10,\n",
    "           replace=TRUE)\n",
    "rf1\n",
    "\n"
   ]
  },
  {
   "cell_type": "code",
   "execution_count": 8,
   "id": "bf0b1f81",
   "metadata": {
    "ExecuteTime": {
     "end_time": "2021-10-18T17:49:52.062480Z",
     "start_time": "2021-10-18T17:38:54.194Z"
    }
   },
   "outputs": [
    {
     "data": {
      "image/png": "[encoded data removed]",
      "text/plain": [
       "plot without title"
      ]
     },
     "metadata": {
      "image/png": {
       "height": 420,
       "width": 420
      }
     },
     "output_type": "display_data"
    }
   ],
   "source": [
    "plot(rf1$err.rate[,1])"
   ]
  },
  {
   "cell_type": "markdown",
   "id": "b92d631f",
   "metadata": {},
   "source": [
    "El error se estabiliza a menos de 3000 submuestras, con lo que podemos colocar 3000 como valor base de ntree. Aunque es un valor ciertamente alto, se aprecian variaciones en la curva que creo quedan estabilizadas a partir de ese valor."
   ]
  },
  {
   "cell_type": "markdown",
   "id": "31413508",
   "metadata": {},
   "source": [
    "### Tuneado sampsize"
   ]
  },
  {
   "cell_type": "markdown",
   "id": "9219a562",
   "metadata": {},
   "source": [
    "Tenemos 6367 observaciones, con 10 grupos de CV , tendremos que el mayor número de observacionesnes será 0,9*6367=5730 es el tamaño máximo que podemos probar"
   ]
  },
  {
   "cell_type": "code",
   "execution_count": null,
   "id": "0abc1d05",
   "metadata": {},
   "outputs": [],
   "source": [
    "source (\"cruzada rf binaria.R\")"
   ]
  },
  {
   "cell_type": "code",
   "execution_count": 12,
   "id": "cb787387",
   "metadata": {
    "ExecuteTime": {
     "end_time": "2021-10-12T13:15:04.674592Z",
     "start_time": "2021-10-12T13:00:40.139Z"
    }
   },
   "outputs": [
    {
     "name": "stdout",
     "output_type": "stream",
     "text": [
      "  mtry  Accuracy     Kappa AccuracySD    KappaSD\n",
      "1    9 0.8783012 0.7482824 0.01133885 0.02388527\n"
     ]
    }
   ],
   "source": [
    "#Tuneado con validación cruzada repetida el tamaño de muestra sampsize en bagging\n",
    "\n",
    "medias1<-cruzadarfbin(data=data,\n",
    "                       vardep=\"outcome\",\n",
    "                       listconti=c(\"hosp_y\", \"highbp_nk\", \"age\", \"angina_nk\", \"angina_y\", \n",
    "\"smstat_nk\", \"yronset\", \"stroke_y\", \"stroke_nk\"),\n",
    "                       listclass=c(\"\"),\n",
    "                       grupos=10,\n",
    "                       sinicio=1234,\n",
    "                       repe=20,\n",
    "                       nodesize=10,\n",
    "                       mtry=9,\n",
    "                       ntree=3000,\n",
    "                       replace=TRUE,\n",
    "                       sampsize=500)\n",
    "\n",
    "  medias1$modelo=\"bagging500\"\n",
    "\n"
   ]
  },
  {
   "cell_type": "code",
   "execution_count": 27,
   "id": "a7019ee5",
   "metadata": {
    "ExecuteTime": {
     "end_time": "2021-10-12T18:37:04.799531Z",
     "start_time": "2021-10-12T18:36:05.561Z"
    }
   },
   "outputs": [
    {
     "data": {
      "text/html": [
       "<table class=\"dataframe\">\n",
       "<caption>A data.frame: 6 × 3</caption>\n",
       "<thead>\n",
       "\t<tr><th></th><th scope=col>tasa</th><th scope=col>auc</th><th scope=col>modelo</th></tr>\n",
       "\t<tr><th></th><th scope=col>&lt;dbl&gt;</th><th scope=col>&lt;dbl&gt;</th><th scope=col>&lt;chr&gt;</th></tr>\n",
       "</thead>\n",
       "<tbody>\n",
       "\t<tr><th scope=row>1</th><td>0.1228208</td><td>0.9144526</td><td>bagging500</td></tr>\n",
       "\t<tr><th scope=row>2</th><td>0.1217214</td><td>0.9161955</td><td>bagging500</td></tr>\n",
       "\t<tr><th scope=row>3</th><td>0.1226637</td><td>0.9155778</td><td>bagging500</td></tr>\n",
       "\t<tr><th scope=row>4</th><td>0.1217214</td><td>0.9145295</td><td>bagging500</td></tr>\n",
       "\t<tr><th scope=row>5</th><td>0.1220355</td><td>0.9149492</td><td>bagging500</td></tr>\n",
       "\t<tr><th scope=row>6</th><td>0.1207790</td><td>0.9151378</td><td>bagging500</td></tr>\n",
       "</tbody>\n",
       "</table>\n"
      ],
      "text/latex": [
       "A data.frame: 6 × 3\n",
       "\\begin{tabular}{r|lll}\n",
       "  & tasa & auc & modelo\\\\\n",
       "  & <dbl> & <dbl> & <chr>\\\\\n",
       "\\hline\n",
       "\t1 & 0.1228208 & 0.9144526 & bagging500\\\\\n",
       "\t2 & 0.1217214 & 0.9161955 & bagging500\\\\\n",
       "\t3 & 0.1226637 & 0.9155778 & bagging500\\\\\n",
       "\t4 & 0.1217214 & 0.9145295 & bagging500\\\\\n",
       "\t5 & 0.1220355 & 0.9149492 & bagging500\\\\\n",
       "\t6 & 0.1207790 & 0.9151378 & bagging500\\\\\n",
       "\\end{tabular}\n"
      ],
      "text/markdown": [
       "\n",
       "A data.frame: 6 × 3\n",
       "\n",
       "| <!--/--> | tasa &lt;dbl&gt; | auc &lt;dbl&gt; | modelo &lt;chr&gt; |\n",
       "|---|---|---|---|\n",
       "| 1 | 0.1228208 | 0.9144526 | bagging500 |\n",
       "| 2 | 0.1217214 | 0.9161955 | bagging500 |\n",
       "| 3 | 0.1226637 | 0.9155778 | bagging500 |\n",
       "| 4 | 0.1217214 | 0.9145295 | bagging500 |\n",
       "| 5 | 0.1220355 | 0.9149492 | bagging500 |\n",
       "| 6 | 0.1207790 | 0.9151378 | bagging500 |\n",
       "\n"
      ],
      "text/plain": [
       "  tasa      auc       modelo    \n",
       "1 0.1228208 0.9144526 bagging500\n",
       "2 0.1217214 0.9161955 bagging500\n",
       "3 0.1226637 0.9155778 bagging500\n",
       "4 0.1217214 0.9145295 bagging500\n",
       "5 0.1220355 0.9149492 bagging500\n",
       "6 0.1207790 0.9151378 bagging500"
      ]
     },
     "metadata": {},
     "output_type": "display_data"
    }
   ],
   "source": [
    "head(medias1)"
   ]
  },
  {
   "cell_type": "code",
   "execution_count": 13,
   "id": "6fdffa89",
   "metadata": {
    "ExecuteTime": {
     "end_time": "2021-10-12T13:35:59.449584Z",
     "start_time": "2021-10-12T13:21:16.431Z"
    }
   },
   "outputs": [
    {
     "name": "stdout",
     "output_type": "stream",
     "text": [
      "  mtry  Accuracy     Kappa AccuracySD    KappaSD\n",
      "1    9 0.8767704 0.7453389 0.01112363 0.02343747\n"
     ]
    }
   ],
   "source": [
    "\n",
    "medias2<-cruzadarfbin(data=data,\n",
    "                       vardep=\"outcome\",\n",
    "                       listconti=c(\"hosp_y\", \"highbp_nk\", \"age\", \"angina_nk\", \"angina_y\", \n",
    "\"smstat_nk\", \"yronset\", \"stroke_y\", \"stroke_nk\"),\n",
    "                       listclass=c(\"\"),\n",
    "                       grupos=10,\n",
    "                       sinicio=1234,\n",
    "                       repe=20,\n",
    "                       nodesize=10,\n",
    "                       mtry=9,\n",
    "                       ntree=3000,\n",
    "                       replace=TRUE,\n",
    "                       sampsize=1000)\n",
    "\n",
    "  medias2$modelo=\"bagging1000\"\n",
    "\n"
   ]
  },
  {
   "cell_type": "code",
   "execution_count": 28,
   "id": "f8898d30",
   "metadata": {
    "ExecuteTime": {
     "end_time": "2021-10-12T18:42:06.578072Z",
     "start_time": "2021-10-12T18:37:48.672Z"
    }
   },
   "outputs": [
    {
     "data": {
      "text/html": [
       "<table class=\"dataframe\">\n",
       "<caption>A data.frame: 6 × 3</caption>\n",
       "<thead>\n",
       "\t<tr><th></th><th scope=col>tasa</th><th scope=col>auc</th><th scope=col>modelo</th></tr>\n",
       "\t<tr><th></th><th scope=col>&lt;dbl&gt;</th><th scope=col>&lt;dbl&gt;</th><th scope=col>&lt;chr&gt;</th></tr>\n",
       "</thead>\n",
       "<tbody>\n",
       "\t<tr><th scope=row>1</th><td>0.1236061</td><td>0.9121190</td><td>bagging1000</td></tr>\n",
       "\t<tr><th scope=row>2</th><td>0.1240773</td><td>0.9135906</td><td>bagging1000</td></tr>\n",
       "\t<tr><th scope=row>3</th><td>0.1229779</td><td>0.9137922</td><td>bagging1000</td></tr>\n",
       "\t<tr><th scope=row>4</th><td>0.1245485</td><td>0.9125843</td><td>bagging1000</td></tr>\n",
       "\t<tr><th scope=row>5</th><td>0.1237632</td><td>0.9134998</td><td>bagging1000</td></tr>\n",
       "\t<tr><th scope=row>6</th><td>0.1223496</td><td>0.9123811</td><td>bagging1000</td></tr>\n",
       "</tbody>\n",
       "</table>\n"
      ],
      "text/latex": [
       "A data.frame: 6 × 3\n",
       "\\begin{tabular}{r|lll}\n",
       "  & tasa & auc & modelo\\\\\n",
       "  & <dbl> & <dbl> & <chr>\\\\\n",
       "\\hline\n",
       "\t1 & 0.1236061 & 0.9121190 & bagging1000\\\\\n",
       "\t2 & 0.1240773 & 0.9135906 & bagging1000\\\\\n",
       "\t3 & 0.1229779 & 0.9137922 & bagging1000\\\\\n",
       "\t4 & 0.1245485 & 0.9125843 & bagging1000\\\\\n",
       "\t5 & 0.1237632 & 0.9134998 & bagging1000\\\\\n",
       "\t6 & 0.1223496 & 0.9123811 & bagging1000\\\\\n",
       "\\end{tabular}\n"
      ],
      "text/markdown": [
       "\n",
       "A data.frame: 6 × 3\n",
       "\n",
       "| <!--/--> | tasa &lt;dbl&gt; | auc &lt;dbl&gt; | modelo &lt;chr&gt; |\n",
       "|---|---|---|---|\n",
       "| 1 | 0.1236061 | 0.9121190 | bagging1000 |\n",
       "| 2 | 0.1240773 | 0.9135906 | bagging1000 |\n",
       "| 3 | 0.1229779 | 0.9137922 | bagging1000 |\n",
       "| 4 | 0.1245485 | 0.9125843 | bagging1000 |\n",
       "| 5 | 0.1237632 | 0.9134998 | bagging1000 |\n",
       "| 6 | 0.1223496 | 0.9123811 | bagging1000 |\n",
       "\n"
      ],
      "text/plain": [
       "  tasa      auc       modelo     \n",
       "1 0.1236061 0.9121190 bagging1000\n",
       "2 0.1240773 0.9135906 bagging1000\n",
       "3 0.1229779 0.9137922 bagging1000\n",
       "4 0.1245485 0.9125843 bagging1000\n",
       "5 0.1237632 0.9134998 bagging1000\n",
       "6 0.1223496 0.9123811 bagging1000"
      ]
     },
     "metadata": {},
     "output_type": "display_data"
    }
   ],
   "source": [
    "head(medias2)"
   ]
  },
  {
   "cell_type": "code",
   "execution_count": 14,
   "id": "a456c369",
   "metadata": {
    "ExecuteTime": {
     "end_time": "2021-10-12T14:10:42.277719Z",
     "start_time": "2021-10-12T13:50:38.682Z"
    }
   },
   "outputs": [
    {
     "name": "stdout",
     "output_type": "stream",
     "text": [
      "  mtry  Accuracy     Kappa AccuracySD    KappaSD\n",
      "1    9 0.8760246 0.7439781 0.01109856 0.02337216\n"
     ]
    }
   ],
   "source": [
    "\n",
    "medias3<-cruzadarfbin(data=data,\n",
    "                       vardep=\"outcome\",\n",
    "                       listconti=c(\"hosp_y\", \"highbp_nk\", \"age\", \"angina_nk\", \"angina_y\", \n",
    "\"smstat_nk\", \"yronset\", \"stroke_y\", \"stroke_nk\"),\n",
    "                       listclass=c(\"\"),\n",
    "                       grupos=10,\n",
    "                       sinicio=1234,\n",
    "                       repe=20,\n",
    "                       nodesize=10,\n",
    "                       mtry=9,\n",
    "                       ntree=3000,\n",
    "                       replace=TRUE,\n",
    "                       sampsize=1500)\n",
    "\n",
    "  medias3$modelo=\"bagging1500\"\n"
   ]
  },
  {
   "cell_type": "code",
   "execution_count": 29,
   "id": "8f023ca4",
   "metadata": {
    "ExecuteTime": {
     "end_time": "2021-10-12T18:47:12.045525Z",
     "start_time": "2021-10-12T18:37:51.631Z"
    }
   },
   "outputs": [
    {
     "data": {
      "text/html": [
       "<table class=\"dataframe\">\n",
       "<caption>A data.frame: 6 × 3</caption>\n",
       "<thead>\n",
       "\t<tr><th></th><th scope=col>tasa</th><th scope=col>auc</th><th scope=col>modelo</th></tr>\n",
       "\t<tr><th></th><th scope=col>&lt;dbl&gt;</th><th scope=col>&lt;dbl&gt;</th><th scope=col>&lt;chr&gt;</th></tr>\n",
       "</thead>\n",
       "<tbody>\n",
       "\t<tr><th scope=row>1</th><td>0.1231349</td><td>0.9104070</td><td>bagging1500</td></tr>\n",
       "\t<tr><th scope=row>2</th><td>0.1248626</td><td>0.9118638</td><td>bagging1500</td></tr>\n",
       "\t<tr><th scope=row>3</th><td>0.1247055</td><td>0.9123075</td><td>bagging1500</td></tr>\n",
       "\t<tr><th scope=row>4</th><td>0.1245485</td><td>0.9107591</td><td>bagging1500</td></tr>\n",
       "\t<tr><th scope=row>5</th><td>0.1251767</td><td>0.9118476</td><td>bagging1500</td></tr>\n",
       "\t<tr><th scope=row>6</th><td>0.1237632</td><td>0.9107080</td><td>bagging1500</td></tr>\n",
       "</tbody>\n",
       "</table>\n"
      ],
      "text/latex": [
       "A data.frame: 6 × 3\n",
       "\\begin{tabular}{r|lll}\n",
       "  & tasa & auc & modelo\\\\\n",
       "  & <dbl> & <dbl> & <chr>\\\\\n",
       "\\hline\n",
       "\t1 & 0.1231349 & 0.9104070 & bagging1500\\\\\n",
       "\t2 & 0.1248626 & 0.9118638 & bagging1500\\\\\n",
       "\t3 & 0.1247055 & 0.9123075 & bagging1500\\\\\n",
       "\t4 & 0.1245485 & 0.9107591 & bagging1500\\\\\n",
       "\t5 & 0.1251767 & 0.9118476 & bagging1500\\\\\n",
       "\t6 & 0.1237632 & 0.9107080 & bagging1500\\\\\n",
       "\\end{tabular}\n"
      ],
      "text/markdown": [
       "\n",
       "A data.frame: 6 × 3\n",
       "\n",
       "| <!--/--> | tasa &lt;dbl&gt; | auc &lt;dbl&gt; | modelo &lt;chr&gt; |\n",
       "|---|---|---|---|\n",
       "| 1 | 0.1231349 | 0.9104070 | bagging1500 |\n",
       "| 2 | 0.1248626 | 0.9118638 | bagging1500 |\n",
       "| 3 | 0.1247055 | 0.9123075 | bagging1500 |\n",
       "| 4 | 0.1245485 | 0.9107591 | bagging1500 |\n",
       "| 5 | 0.1251767 | 0.9118476 | bagging1500 |\n",
       "| 6 | 0.1237632 | 0.9107080 | bagging1500 |\n",
       "\n"
      ],
      "text/plain": [
       "  tasa      auc       modelo     \n",
       "1 0.1231349 0.9104070 bagging1500\n",
       "2 0.1248626 0.9118638 bagging1500\n",
       "3 0.1247055 0.9123075 bagging1500\n",
       "4 0.1245485 0.9107591 bagging1500\n",
       "5 0.1251767 0.9118476 bagging1500\n",
       "6 0.1237632 0.9107080 bagging1500"
      ]
     },
     "metadata": {},
     "output_type": "display_data"
    }
   ],
   "source": [
    "head(medias3)"
   ]
  },
  {
   "cell_type": "code",
   "execution_count": 15,
   "id": "114790b9",
   "metadata": {
    "ExecuteTime": {
     "end_time": "2021-10-12T14:44:39.439770Z",
     "start_time": "2021-10-12T13:50:43.414Z"
    }
   },
   "outputs": [
    {
     "name": "stdout",
     "output_type": "stream",
     "text": [
      "  mtry  Accuracy     Kappa AccuracySD    KappaSD\n",
      "1    9 0.8745561 0.7411811  0.0115064 0.02411259\n"
     ]
    }
   ],
   "source": [
    "\n",
    "medias4<-cruzadarfbin(data=data,\n",
    "                       vardep=\"outcome\",\n",
    "                       listconti=c(\"hosp_y\", \"highbp_nk\", \"age\", \"angina_nk\", \"angina_y\", \n",
    "\"smstat_nk\", \"yronset\", \"stroke_y\", \"stroke_nk\"),\n",
    "                       listclass=c(\"\"),\n",
    "                       grupos=10,\n",
    "                       sinicio=1234,\n",
    "                       repe=20,\n",
    "                       nodesize=10,\n",
    "                       mtry=9,\n",
    "                       ntree=3000,\n",
    "                       replace=TRUE,\n",
    "                       sampsize=2500)\n",
    "\n",
    "  medias4$modelo=\"bagging2500\""
   ]
  },
  {
   "cell_type": "code",
   "execution_count": 30,
   "id": "011dd5b8",
   "metadata": {
    "ExecuteTime": {
     "end_time": "2021-10-12T18:52:18.161576Z",
     "start_time": "2021-10-12T18:37:54.584Z"
    }
   },
   "outputs": [
    {
     "data": {
      "text/html": [
       "<table class=\"dataframe\">\n",
       "<caption>A data.frame: 6 × 3</caption>\n",
       "<thead>\n",
       "\t<tr><th></th><th scope=col>tasa</th><th scope=col>auc</th><th scope=col>modelo</th></tr>\n",
       "\t<tr><th></th><th scope=col>&lt;dbl&gt;</th><th scope=col>&lt;dbl&gt;</th><th scope=col>&lt;chr&gt;</th></tr>\n",
       "</thead>\n",
       "<tbody>\n",
       "\t<tr><th scope=row>1</th><td>0.1240773</td><td>0.9087716</td><td>bagging2500</td></tr>\n",
       "\t<tr><th scope=row>2</th><td>0.1248626</td><td>0.9094112</td><td>bagging2500</td></tr>\n",
       "\t<tr><th scope=row>3</th><td>0.1264332</td><td>0.9100631</td><td>bagging2500</td></tr>\n",
       "\t<tr><th scope=row>4</th><td>0.1245485</td><td>0.9084079</td><td>bagging2500</td></tr>\n",
       "\t<tr><th scope=row>5</th><td>0.1262761</td><td>0.9094881</td><td>bagging2500</td></tr>\n",
       "\t<tr><th scope=row>6</th><td>0.1258049</td><td>0.9077840</td><td>bagging2500</td></tr>\n",
       "</tbody>\n",
       "</table>\n"
      ],
      "text/latex": [
       "A data.frame: 6 × 3\n",
       "\\begin{tabular}{r|lll}\n",
       "  & tasa & auc & modelo\\\\\n",
       "  & <dbl> & <dbl> & <chr>\\\\\n",
       "\\hline\n",
       "\t1 & 0.1240773 & 0.9087716 & bagging2500\\\\\n",
       "\t2 & 0.1248626 & 0.9094112 & bagging2500\\\\\n",
       "\t3 & 0.1264332 & 0.9100631 & bagging2500\\\\\n",
       "\t4 & 0.1245485 & 0.9084079 & bagging2500\\\\\n",
       "\t5 & 0.1262761 & 0.9094881 & bagging2500\\\\\n",
       "\t6 & 0.1258049 & 0.9077840 & bagging2500\\\\\n",
       "\\end{tabular}\n"
      ],
      "text/markdown": [
       "\n",
       "A data.frame: 6 × 3\n",
       "\n",
       "| <!--/--> | tasa &lt;dbl&gt; | auc &lt;dbl&gt; | modelo &lt;chr&gt; |\n",
       "|---|---|---|---|\n",
       "| 1 | 0.1240773 | 0.9087716 | bagging2500 |\n",
       "| 2 | 0.1248626 | 0.9094112 | bagging2500 |\n",
       "| 3 | 0.1264332 | 0.9100631 | bagging2500 |\n",
       "| 4 | 0.1245485 | 0.9084079 | bagging2500 |\n",
       "| 5 | 0.1262761 | 0.9094881 | bagging2500 |\n",
       "| 6 | 0.1258049 | 0.9077840 | bagging2500 |\n",
       "\n"
      ],
      "text/plain": [
       "  tasa      auc       modelo     \n",
       "1 0.1240773 0.9087716 bagging2500\n",
       "2 0.1248626 0.9094112 bagging2500\n",
       "3 0.1264332 0.9100631 bagging2500\n",
       "4 0.1245485 0.9084079 bagging2500\n",
       "5 0.1262761 0.9094881 bagging2500\n",
       "6 0.1258049 0.9077840 bagging2500"
      ]
     },
     "metadata": {},
     "output_type": "display_data"
    }
   ],
   "source": [
    "head(medias4)"
   ]
  },
  {
   "cell_type": "code",
   "execution_count": 16,
   "id": "6ed4bbf5",
   "metadata": {
    "ExecuteTime": {
     "end_time": "2021-10-12T15:23:09.334580Z",
     "start_time": "2021-10-12T13:50:45.587Z"
    }
   },
   "outputs": [
    {
     "name": "stdout",
     "output_type": "stream",
     "text": [
      "  mtry  Accuracy     Kappa AccuracySD    KappaSD\n",
      "1    9 0.8738256 0.7397483 0.01170324 0.02452295\n"
     ]
    }
   ],
   "source": [
    "\n",
    "medias5<-cruzadarfbin(data=data,\n",
    "                       vardep=\"outcome\",\n",
    "                       listconti=c(\"hosp_y\", \"highbp_nk\", \"age\", \"angina_nk\", \"angina_y\", \n",
    "\"smstat_nk\", \"yronset\", \"stroke_y\", \"stroke_nk\"),\n",
    "                       listclass=c(\"\"),\n",
    "                       grupos=10,\n",
    "                       sinicio=1234,\n",
    "                       repe=20,\n",
    "                       nodesize=10,\n",
    "                       mtry=9,\n",
    "                       ntree=3000,\n",
    "                       replace=TRUE,\n",
    "                       sampsize=3000)\n",
    "\n",
    "  medias5$modelo=\"bagging3000\""
   ]
  },
  {
   "cell_type": "code",
   "execution_count": 31,
   "id": "fdc68efe",
   "metadata": {
    "ExecuteTime": {
     "end_time": "2021-10-12T18:57:17.373586Z",
     "start_time": "2021-10-12T18:37:57.213Z"
    }
   },
   "outputs": [
    {
     "data": {
      "text/html": [
       "<table class=\"dataframe\">\n",
       "<caption>A data.frame: 6 × 3</caption>\n",
       "<thead>\n",
       "\t<tr><th></th><th scope=col>tasa</th><th scope=col>auc</th><th scope=col>modelo</th></tr>\n",
       "\t<tr><th></th><th scope=col>&lt;dbl&gt;</th><th scope=col>&lt;dbl&gt;</th><th scope=col>&lt;chr&gt;</th></tr>\n",
       "</thead>\n",
       "<tbody>\n",
       "\t<tr><th scope=row>1</th><td>0.1243914</td><td>0.9076371</td><td>bagging3000</td></tr>\n",
       "\t<tr><th scope=row>2</th><td>0.1265902</td><td>0.9086100</td><td>bagging3000</td></tr>\n",
       "\t<tr><th scope=row>3</th><td>0.1265902</td><td>0.9092012</td><td>bagging3000</td></tr>\n",
       "\t<tr><th scope=row>4</th><td>0.1258049</td><td>0.9073806</td><td>bagging3000</td></tr>\n",
       "\t<tr><th scope=row>5</th><td>0.1281608</td><td>0.9089860</td><td>bagging3000</td></tr>\n",
       "\t<tr><th scope=row>6</th><td>0.1261191</td><td>0.9069364</td><td>bagging3000</td></tr>\n",
       "</tbody>\n",
       "</table>\n"
      ],
      "text/latex": [
       "A data.frame: 6 × 3\n",
       "\\begin{tabular}{r|lll}\n",
       "  & tasa & auc & modelo\\\\\n",
       "  & <dbl> & <dbl> & <chr>\\\\\n",
       "\\hline\n",
       "\t1 & 0.1243914 & 0.9076371 & bagging3000\\\\\n",
       "\t2 & 0.1265902 & 0.9086100 & bagging3000\\\\\n",
       "\t3 & 0.1265902 & 0.9092012 & bagging3000\\\\\n",
       "\t4 & 0.1258049 & 0.9073806 & bagging3000\\\\\n",
       "\t5 & 0.1281608 & 0.9089860 & bagging3000\\\\\n",
       "\t6 & 0.1261191 & 0.9069364 & bagging3000\\\\\n",
       "\\end{tabular}\n"
      ],
      "text/markdown": [
       "\n",
       "A data.frame: 6 × 3\n",
       "\n",
       "| <!--/--> | tasa &lt;dbl&gt; | auc &lt;dbl&gt; | modelo &lt;chr&gt; |\n",
       "|---|---|---|---|\n",
       "| 1 | 0.1243914 | 0.9076371 | bagging3000 |\n",
       "| 2 | 0.1265902 | 0.9086100 | bagging3000 |\n",
       "| 3 | 0.1265902 | 0.9092012 | bagging3000 |\n",
       "| 4 | 0.1258049 | 0.9073806 | bagging3000 |\n",
       "| 5 | 0.1281608 | 0.9089860 | bagging3000 |\n",
       "| 6 | 0.1261191 | 0.9069364 | bagging3000 |\n",
       "\n"
      ],
      "text/plain": [
       "  tasa      auc       modelo     \n",
       "1 0.1243914 0.9076371 bagging3000\n",
       "2 0.1265902 0.9086100 bagging3000\n",
       "3 0.1265902 0.9092012 bagging3000\n",
       "4 0.1258049 0.9073806 bagging3000\n",
       "5 0.1281608 0.9089860 bagging3000\n",
       "6 0.1261191 0.9069364 bagging3000"
      ]
     },
     "metadata": {},
     "output_type": "display_data"
    }
   ],
   "source": [
    "head(medias5)"
   ]
  },
  {
   "cell_type": "code",
   "execution_count": 17,
   "id": "10c5d7d6",
   "metadata": {
    "ExecuteTime": {
     "end_time": "2021-10-12T16:09:08.845110Z",
     "start_time": "2021-10-12T13:50:47.741Z"
    }
   },
   "outputs": [
    {
     "name": "stdout",
     "output_type": "stream",
     "text": [
      "  mtry  Accuracy    Kappa AccuracySD    KappaSD\n",
      "1    9 0.8725846 0.737327 0.01178552 0.02465361\n"
     ]
    }
   ],
   "source": [
    "\n",
    "medias6<-cruzadarfbin(data=data,\n",
    "                       vardep=\"outcome\",\n",
    "                       listconti=c(\"hosp_y\", \"highbp_nk\", \"age\", \"angina_nk\", \"angina_y\", \n",
    "\"smstat_nk\", \"yronset\", \"stroke_y\", \"stroke_nk\"),\n",
    "                       listclass=c(\"\"),\n",
    "                       grupos=10,\n",
    "                       sinicio=1234,\n",
    "                       repe=20,\n",
    "                       nodesize=10,\n",
    "                       mtry=9,\n",
    "                       ntree=3000,\n",
    "                       replace=TRUE,\n",
    "                       sampsize=4000)\n",
    "\n",
    "  medias6$modelo=\"bagging4000\""
   ]
  },
  {
   "cell_type": "code",
   "execution_count": 32,
   "id": "39ae0da3",
   "metadata": {
    "ExecuteTime": {
     "end_time": "2021-10-12T19:02:16.233355Z",
     "start_time": "2021-10-12T18:38:00.464Z"
    }
   },
   "outputs": [
    {
     "data": {
      "text/html": [
       "<table class=\"dataframe\">\n",
       "<caption>A data.frame: 6 × 3</caption>\n",
       "<thead>\n",
       "\t<tr><th></th><th scope=col>tasa</th><th scope=col>auc</th><th scope=col>modelo</th></tr>\n",
       "\t<tr><th></th><th scope=col>&lt;dbl&gt;</th><th scope=col>&lt;dbl&gt;</th><th scope=col>&lt;chr&gt;</th></tr>\n",
       "</thead>\n",
       "<tbody>\n",
       "\t<tr><th scope=row>1</th><td>0.1262761</td><td>0.9064615</td><td>bagging4000</td></tr>\n",
       "\t<tr><th scope=row>2</th><td>0.1265902</td><td>0.9072286</td><td>bagging4000</td></tr>\n",
       "\t<tr><th scope=row>3</th><td>0.1270614</td><td>0.9078513</td><td>bagging4000</td></tr>\n",
       "\t<tr><th scope=row>4</th><td>0.1258049</td><td>0.9058207</td><td>bagging4000</td></tr>\n",
       "\t<tr><th scope=row>5</th><td>0.1306738</td><td>0.9076150</td><td>bagging4000</td></tr>\n",
       "\t<tr><th scope=row>6</th><td>0.1280038</td><td>0.9057153</td><td>bagging4000</td></tr>\n",
       "</tbody>\n",
       "</table>\n"
      ],
      "text/latex": [
       "A data.frame: 6 × 3\n",
       "\\begin{tabular}{r|lll}\n",
       "  & tasa & auc & modelo\\\\\n",
       "  & <dbl> & <dbl> & <chr>\\\\\n",
       "\\hline\n",
       "\t1 & 0.1262761 & 0.9064615 & bagging4000\\\\\n",
       "\t2 & 0.1265902 & 0.9072286 & bagging4000\\\\\n",
       "\t3 & 0.1270614 & 0.9078513 & bagging4000\\\\\n",
       "\t4 & 0.1258049 & 0.9058207 & bagging4000\\\\\n",
       "\t5 & 0.1306738 & 0.9076150 & bagging4000\\\\\n",
       "\t6 & 0.1280038 & 0.9057153 & bagging4000\\\\\n",
       "\\end{tabular}\n"
      ],
      "text/markdown": [
       "\n",
       "A data.frame: 6 × 3\n",
       "\n",
       "| <!--/--> | tasa &lt;dbl&gt; | auc &lt;dbl&gt; | modelo &lt;chr&gt; |\n",
       "|---|---|---|---|\n",
       "| 1 | 0.1262761 | 0.9064615 | bagging4000 |\n",
       "| 2 | 0.1265902 | 0.9072286 | bagging4000 |\n",
       "| 3 | 0.1270614 | 0.9078513 | bagging4000 |\n",
       "| 4 | 0.1258049 | 0.9058207 | bagging4000 |\n",
       "| 5 | 0.1306738 | 0.9076150 | bagging4000 |\n",
       "| 6 | 0.1280038 | 0.9057153 | bagging4000 |\n",
       "\n"
      ],
      "text/plain": [
       "  tasa      auc       modelo     \n",
       "1 0.1262761 0.9064615 bagging4000\n",
       "2 0.1265902 0.9072286 bagging4000\n",
       "3 0.1270614 0.9078513 bagging4000\n",
       "4 0.1258049 0.9058207 bagging4000\n",
       "5 0.1306738 0.9076150 bagging4000\n",
       "6 0.1280038 0.9057153 bagging4000"
      ]
     },
     "metadata": {},
     "output_type": "display_data"
    }
   ],
   "source": [
    "head(medias6)"
   ]
  },
  {
   "cell_type": "code",
   "execution_count": 18,
   "id": "f87811e0",
   "metadata": {
    "ExecuteTime": {
     "end_time": "2021-10-12T17:01:29.418826Z",
     "start_time": "2021-10-12T13:50:50.818Z"
    }
   },
   "outputs": [
    {
     "name": "stdout",
     "output_type": "stream",
     "text": [
      "  mtry  Accuracy     Kappa AccuracySD    KappaSD\n",
      "1    9 0.8716342 0.7354724 0.01199224 0.02506131\n"
     ]
    }
   ],
   "source": [
    "\n",
    "medias7<-cruzadarfbin(data=data,\n",
    "                       vardep=\"outcome\",\n",
    "                       listconti=c(\"hosp_y\", \"highbp_nk\", \"age\", \"angina_nk\", \"angina_y\", \n",
    "\"smstat_nk\", \"yronset\", \"stroke_y\", \"stroke_nk\"),\n",
    "                       listclass=c(\"\"),\n",
    "                       grupos=10,\n",
    "                       sinicio=1234,\n",
    "                       repe=20,\n",
    "                       nodesize=10,\n",
    "                       mtry=9,\n",
    "                       ntree=3000,\n",
    "                       replace=TRUE,\n",
    "                       sampsize=5000)\n",
    "\n",
    "  medias7$modelo=\"bagging5000\""
   ]
  },
  {
   "cell_type": "code",
   "execution_count": 33,
   "id": "a37eb728",
   "metadata": {
    "ExecuteTime": {
     "end_time": "2021-10-12T19:07:13.434161Z",
     "start_time": "2021-10-12T18:38:03.625Z"
    }
   },
   "outputs": [
    {
     "data": {
      "text/html": [
       "<table class=\"dataframe\">\n",
       "<caption>A data.frame: 6 × 3</caption>\n",
       "<thead>\n",
       "\t<tr><th></th><th scope=col>tasa</th><th scope=col>auc</th><th scope=col>modelo</th></tr>\n",
       "\t<tr><th></th><th scope=col>&lt;dbl&gt;</th><th scope=col>&lt;dbl&gt;</th><th scope=col>&lt;chr&gt;</th></tr>\n",
       "</thead>\n",
       "<tbody>\n",
       "\t<tr><th scope=row>1</th><td>0.1273755</td><td>0.9055083</td><td>bagging5000</td></tr>\n",
       "\t<tr><th scope=row>2</th><td>0.1269044</td><td>0.9058439</td><td>bagging5000</td></tr>\n",
       "\t<tr><th scope=row>3</th><td>0.1284749</td><td>0.9065219</td><td>bagging5000</td></tr>\n",
       "\t<tr><th scope=row>4</th><td>0.1254908</td><td>0.9051176</td><td>bagging5000</td></tr>\n",
       "\t<tr><th scope=row>5</th><td>0.1314591</td><td>0.9065119</td><td>bagging5000</td></tr>\n",
       "\t<tr><th scope=row>6</th><td>0.1286320</td><td>0.9051923</td><td>bagging5000</td></tr>\n",
       "</tbody>\n",
       "</table>\n"
      ],
      "text/latex": [
       "A data.frame: 6 × 3\n",
       "\\begin{tabular}{r|lll}\n",
       "  & tasa & auc & modelo\\\\\n",
       "  & <dbl> & <dbl> & <chr>\\\\\n",
       "\\hline\n",
       "\t1 & 0.1273755 & 0.9055083 & bagging5000\\\\\n",
       "\t2 & 0.1269044 & 0.9058439 & bagging5000\\\\\n",
       "\t3 & 0.1284749 & 0.9065219 & bagging5000\\\\\n",
       "\t4 & 0.1254908 & 0.9051176 & bagging5000\\\\\n",
       "\t5 & 0.1314591 & 0.9065119 & bagging5000\\\\\n",
       "\t6 & 0.1286320 & 0.9051923 & bagging5000\\\\\n",
       "\\end{tabular}\n"
      ],
      "text/markdown": [
       "\n",
       "A data.frame: 6 × 3\n",
       "\n",
       "| <!--/--> | tasa &lt;dbl&gt; | auc &lt;dbl&gt; | modelo &lt;chr&gt; |\n",
       "|---|---|---|---|\n",
       "| 1 | 0.1273755 | 0.9055083 | bagging5000 |\n",
       "| 2 | 0.1269044 | 0.9058439 | bagging5000 |\n",
       "| 3 | 0.1284749 | 0.9065219 | bagging5000 |\n",
       "| 4 | 0.1254908 | 0.9051176 | bagging5000 |\n",
       "| 5 | 0.1314591 | 0.9065119 | bagging5000 |\n",
       "| 6 | 0.1286320 | 0.9051923 | bagging5000 |\n",
       "\n"
      ],
      "text/plain": [
       "  tasa      auc       modelo     \n",
       "1 0.1273755 0.9055083 bagging5000\n",
       "2 0.1269044 0.9058439 bagging5000\n",
       "3 0.1284749 0.9065219 bagging5000\n",
       "4 0.1254908 0.9051176 bagging5000\n",
       "5 0.1314591 0.9065119 bagging5000\n",
       "6 0.1286320 0.9051923 bagging5000"
      ]
     },
     "metadata": {},
     "output_type": "display_data"
    }
   ],
   "source": [
    "head(medias7)"
   ]
  },
  {
   "cell_type": "code",
   "execution_count": 19,
   "id": "d1c4ad45",
   "metadata": {
    "ExecuteTime": {
     "end_time": "2021-10-12T17:58:04.540832Z",
     "start_time": "2021-10-12T13:50:52.999Z"
    }
   },
   "outputs": [
    {
     "name": "stdout",
     "output_type": "stream",
     "text": [
      "  mtry  Accuracy     Kappa AccuracySD    KappaSD\n",
      "1    9 0.8709037 0.7340391 0.01198496 0.02502476\n"
     ]
    }
   ],
   "source": [
    "\n",
    "medias8<-cruzadarfbin(data=data,\n",
    "                       vardep=\"outcome\",\n",
    "                       listconti=c(\"hosp_y\", \"highbp_nk\", \"age\", \"angina_nk\", \"angina_y\", \n",
    "\"smstat_nk\", \"yronset\", \"stroke_y\", \"stroke_nk\"),\n",
    "                       listclass=c(\"\"),\n",
    "                       grupos=10,\n",
    "                       sinicio=1234,\n",
    "                       repe=20,\n",
    "                       nodesize=10,\n",
    "                       mtry=9,\n",
    "                       ntree=3000,\n",
    "                       replace=TRUE)\n",
    "\n",
    "  medias8$modelo=\"bagging_base\""
   ]
  },
  {
   "cell_type": "code",
   "execution_count": 34,
   "id": "90d2c144",
   "metadata": {
    "ExecuteTime": {
     "end_time": "2021-10-12T19:12:12.663168Z",
     "start_time": "2021-10-12T18:38:06.767Z"
    }
   },
   "outputs": [
    {
     "data": {
      "text/html": [
       "<table class=\"dataframe\">\n",
       "<caption>A data.frame: 6 × 3</caption>\n",
       "<thead>\n",
       "\t<tr><th></th><th scope=col>tasa</th><th scope=col>auc</th><th scope=col>modelo</th></tr>\n",
       "\t<tr><th></th><th scope=col>&lt;dbl&gt;</th><th scope=col>&lt;dbl&gt;</th><th scope=col>&lt;chr&gt;</th></tr>\n",
       "</thead>\n",
       "<tbody>\n",
       "\t<tr><th scope=row>1</th><td>0.1287891</td><td>0.9050493</td><td>bagging_base</td></tr>\n",
       "\t<tr><th scope=row>2</th><td>0.1280038</td><td>0.9053695</td><td>bagging_base</td></tr>\n",
       "\t<tr><th scope=row>3</th><td>0.1289461</td><td>0.9066634</td><td>bagging_base</td></tr>\n",
       "\t<tr><th scope=row>4</th><td>0.1264332</td><td>0.9043010</td><td>bagging_base</td></tr>\n",
       "\t<tr><th scope=row>5</th><td>0.1325585</td><td>0.9063322</td><td>bagging_base</td></tr>\n",
       "\t<tr><th scope=row>6</th><td>0.1284749</td><td>0.9043221</td><td>bagging_base</td></tr>\n",
       "</tbody>\n",
       "</table>\n"
      ],
      "text/latex": [
       "A data.frame: 6 × 3\n",
       "\\begin{tabular}{r|lll}\n",
       "  & tasa & auc & modelo\\\\\n",
       "  & <dbl> & <dbl> & <chr>\\\\\n",
       "\\hline\n",
       "\t1 & 0.1287891 & 0.9050493 & bagging\\_base\\\\\n",
       "\t2 & 0.1280038 & 0.9053695 & bagging\\_base\\\\\n",
       "\t3 & 0.1289461 & 0.9066634 & bagging\\_base\\\\\n",
       "\t4 & 0.1264332 & 0.9043010 & bagging\\_base\\\\\n",
       "\t5 & 0.1325585 & 0.9063322 & bagging\\_base\\\\\n",
       "\t6 & 0.1284749 & 0.9043221 & bagging\\_base\\\\\n",
       "\\end{tabular}\n"
      ],
      "text/markdown": [
       "\n",
       "A data.frame: 6 × 3\n",
       "\n",
       "| <!--/--> | tasa &lt;dbl&gt; | auc &lt;dbl&gt; | modelo &lt;chr&gt; |\n",
       "|---|---|---|---|\n",
       "| 1 | 0.1287891 | 0.9050493 | bagging_base |\n",
       "| 2 | 0.1280038 | 0.9053695 | bagging_base |\n",
       "| 3 | 0.1289461 | 0.9066634 | bagging_base |\n",
       "| 4 | 0.1264332 | 0.9043010 | bagging_base |\n",
       "| 5 | 0.1325585 | 0.9063322 | bagging_base |\n",
       "| 6 | 0.1284749 | 0.9043221 | bagging_base |\n",
       "\n"
      ],
      "text/plain": [
       "  tasa      auc       modelo      \n",
       "1 0.1287891 0.9050493 bagging_base\n",
       "2 0.1280038 0.9053695 bagging_base\n",
       "3 0.1289461 0.9066634 bagging_base\n",
       "4 0.1264332 0.9043010 bagging_base\n",
       "5 0.1325585 0.9063322 bagging_base\n",
       "6 0.1284749 0.9043221 bagging_base"
      ]
     },
     "metadata": {},
     "output_type": "display_data"
    }
   ],
   "source": [
    "head(medias8)"
   ]
  },
  {
   "cell_type": "code",
   "execution_count": 38,
   "id": "5841dc89",
   "metadata": {
    "ExecuteTime": {
     "end_time": "2021-10-12T20:12:30.933315Z",
     "start_time": "2021-10-12T20:08:12.895Z"
    }
   },
   "outputs": [
    {
     "name": "stdout",
     "output_type": "stream",
     "text": [
      "  mtry  Accuracy     Kappa AccuracySD    KappaSD\n",
      "1    9 0.8789381 0.7494889 0.01103148 0.02333901\n"
     ]
    }
   ],
   "source": [
    "\n",
    "medias9<-cruzadarfbin(data=data,\n",
    "                       vardep=\"outcome\",\n",
    "                       listconti=c(\"hosp_y\", \"highbp_nk\", \"age\", \"angina_nk\", \"angina_y\", \n",
    "\"smstat_nk\", \"yronset\", \"stroke_y\", \"stroke_nk\"),\n",
    "                       listclass=c(\"\"),\n",
    "                       grupos=10,\n",
    "                       sinicio=1234,\n",
    "                       repe=20,\n",
    "                       nodesize=10,\n",
    "                       mtry=9,\n",
    "                       ntree=3000,\n",
    "                       replace=TRUE,\n",
    "                       sampsize=100)\n",
    "\n",
    "  medias9$modelo=\"bagging100\""
   ]
  },
  {
   "cell_type": "code",
   "execution_count": 39,
   "id": "7461303f",
   "metadata": {
    "ExecuteTime": {
     "end_time": "2021-10-12T20:17:34.461378Z",
     "start_time": "2021-10-12T20:08:15.586Z"
    }
   },
   "outputs": [
    {
     "data": {
      "text/html": [
       "<table class=\"dataframe\">\n",
       "<caption>A data.frame: 6 × 3</caption>\n",
       "<thead>\n",
       "\t<tr><th></th><th scope=col>tasa</th><th scope=col>auc</th><th scope=col>modelo</th></tr>\n",
       "\t<tr><th></th><th scope=col>&lt;dbl&gt;</th><th scope=col>&lt;dbl&gt;</th><th scope=col>&lt;chr&gt;</th></tr>\n",
       "</thead>\n",
       "<tbody>\n",
       "\t<tr><th scope=row>1</th><td>0.1212502</td><td>0.9171042</td><td>bagging100</td></tr>\n",
       "\t<tr><th scope=row>2</th><td>0.1201508</td><td>0.9171696</td><td>bagging100</td></tr>\n",
       "\t<tr><th scope=row>3</th><td>0.1206220</td><td>0.9171732</td><td>bagging100</td></tr>\n",
       "\t<tr><th scope=row>4</th><td>0.1214073</td><td>0.9170989</td><td>bagging100</td></tr>\n",
       "\t<tr><th scope=row>5</th><td>0.1206220</td><td>0.9167513</td><td>bagging100</td></tr>\n",
       "\t<tr><th scope=row>6</th><td>0.1207790</td><td>0.9171067</td><td>bagging100</td></tr>\n",
       "</tbody>\n",
       "</table>\n"
      ],
      "text/latex": [
       "A data.frame: 6 × 3\n",
       "\\begin{tabular}{r|lll}\n",
       "  & tasa & auc & modelo\\\\\n",
       "  & <dbl> & <dbl> & <chr>\\\\\n",
       "\\hline\n",
       "\t1 & 0.1212502 & 0.9171042 & bagging100\\\\\n",
       "\t2 & 0.1201508 & 0.9171696 & bagging100\\\\\n",
       "\t3 & 0.1206220 & 0.9171732 & bagging100\\\\\n",
       "\t4 & 0.1214073 & 0.9170989 & bagging100\\\\\n",
       "\t5 & 0.1206220 & 0.9167513 & bagging100\\\\\n",
       "\t6 & 0.1207790 & 0.9171067 & bagging100\\\\\n",
       "\\end{tabular}\n"
      ],
      "text/markdown": [
       "\n",
       "A data.frame: 6 × 3\n",
       "\n",
       "| <!--/--> | tasa &lt;dbl&gt; | auc &lt;dbl&gt; | modelo &lt;chr&gt; |\n",
       "|---|---|---|---|\n",
       "| 1 | 0.1212502 | 0.9171042 | bagging100 |\n",
       "| 2 | 0.1201508 | 0.9171696 | bagging100 |\n",
       "| 3 | 0.1206220 | 0.9171732 | bagging100 |\n",
       "| 4 | 0.1214073 | 0.9170989 | bagging100 |\n",
       "| 5 | 0.1206220 | 0.9167513 | bagging100 |\n",
       "| 6 | 0.1207790 | 0.9171067 | bagging100 |\n",
       "\n"
      ],
      "text/plain": [
       "  tasa      auc       modelo    \n",
       "1 0.1212502 0.9171042 bagging100\n",
       "2 0.1201508 0.9171696 bagging100\n",
       "3 0.1206220 0.9171732 bagging100\n",
       "4 0.1214073 0.9170989 bagging100\n",
       "5 0.1206220 0.9167513 bagging100\n",
       "6 0.1207790 0.9171067 bagging100"
      ]
     },
     "metadata": {},
     "output_type": "display_data"
    }
   ],
   "source": [
    "head(medias9)"
   ]
  },
  {
   "cell_type": "code",
   "execution_count": 40,
   "id": "7799225f",
   "metadata": {
    "ExecuteTime": {
     "end_time": "2021-10-12T20:22:40.272594Z",
     "start_time": "2021-10-12T20:08:20.069Z"
    }
   },
   "outputs": [],
   "source": [
    "union1<-rbind(medias1,medias2,medias3,medias4,medias5,medias6,medias7,medias8,medias9)"
   ]
  },
  {
   "cell_type": "code",
   "execution_count": 41,
   "id": "ab5bddd3",
   "metadata": {
    "ExecuteTime": {
     "end_time": "2021-10-12T20:27:39.925559Z",
     "start_time": "2021-10-12T20:08:25.971Z"
    }
   },
   "outputs": [
    {
     "data": {
      "image/png": "[encoded data removed]",
      "text/plain": [
       "Plot with title \"TASA FALLOS\""
      ]
     },
     "metadata": {
      "image/png": {
       "height": 420,
       "width": 420
      }
     },
     "output_type": "display_data"
    },
    {
     "data": {
      "image/png": "[encoded data removed]",
      "text/plain": [
       "Plot with title \"AUC\""
      ]
     },
     "metadata": {
      "image/png": {
       "height": 420,
       "width": 420
      }
     },
     "output_type": "display_data"
    }
   ],
   "source": [
    "par(cex.axis=1.0)\n",
    "#boxplot(data=union1, tasa~modelo, modelo,main=\"TASA FALLOS\", col=\"pink\")\n",
    "#par(cex.axis=1.0)\n",
    "boxplot(data=union1,tasa~modelo,main=\"TASA FALLOS\",col=\"pink\")\n",
    "boxplot(data=union1,auc~modelo,main=\"AUC\",col=\"pink\")\n"
   ]
  },
  {
   "cell_type": "code",
   "execution_count": 42,
   "id": "c07ae481",
   "metadata": {
    "ExecuteTime": {
     "end_time": "2021-10-12T20:32:38.219959Z",
     "start_time": "2021-10-12T20:25:50.653Z"
    }
   },
   "outputs": [
    {
     "data": {
      "image/png": "[encoded data removed]",
      "text/plain": [
       "plot without title"
      ]
     },
     "metadata": {
      "image/png": {
       "height": 420,
       "width": 420
      }
     },
     "output_type": "display_data"
    }
   ],
   "source": [
    "uni<-union1\n",
    "uni$modelo<- with(uni, reorder(modelo,tasa,mean))\n",
    "par(cex.axis=1, las=2)\n",
    "boxplot(data=uni,tasa~modelo,col=\"pink\")"
   ]
  },
  {
   "cell_type": "markdown",
   "id": "25ed75c4",
   "metadata": {},
   "source": [
    "El valor de sampsize que se ha optimizado es 100. Con este valor se procede a seleccionar el modelo de bagging que mejor resultado ha dado."
   ]
  },
  {
   "cell_type": "markdown",
   "id": "6b92e4ce",
   "metadata": {},
   "source": [
    "Se valida el modelo con los parámetros resultantes del tuneado mediante validación cruzada."
   ]
  },
  {
   "cell_type": "code",
   "execution_count": 45,
   "id": "f1480e89",
   "metadata": {
    "ExecuteTime": {
     "end_time": "2021-10-12T21:06:22.627293Z",
     "start_time": "2021-10-12T21:05:30.404Z"
    }
   },
   "outputs": [],
   "source": [
    "\n",
    "set.seed(40)\n",
    "rfgrid<-expand.grid(mtry=c(9))#nº total variables del modelo por ser bagging\n",
    "\n",
    "control<-trainControl(method = \"cv\",number=10,savePredictions = \"all\",\n",
    " classProbs=TRUE) \n",
    "\n",
    "rf1<- train(factor(outcome)~\n",
    "           hosp_y+highbp_nk+age+angina_nk+angina_y+smstat_nk+yronset+stroke_y+stroke_nk,\n",
    "           data=data,\n",
    "           method=\"rf\",\n",
    "           trControl=control,\n",
    "           tuneGrid=rfgrid,\n",
    "           linout = FALSE,\n",
    "           #mtry = 9, \n",
    "           ntree=3000,# valor iteraciones que el error queda estabilizado \n",
    "           nodesize=10,\n",
    "           replace=TRUE,\n",
    "           importance=TRUE,\n",
    "           sampsize=100)\n"
   ]
  },
  {
   "cell_type": "code",
   "execution_count": 46,
   "id": "339e320f",
   "metadata": {
    "ExecuteTime": {
     "end_time": "2021-10-12T21:08:50.475785Z",
     "start_time": "2021-10-12T21:08:50.451Z"
    }
   },
   "outputs": [
    {
     "data": {
      "text/plain": [
       "Random Forest \n",
       "\n",
       "6367 samples\n",
       "   9 predictor\n",
       "   2 classes: 'No', 'Yes' \n",
       "\n",
       "No pre-processing\n",
       "Resampling: Cross-Validated (10 fold) \n",
       "Summary of sample sizes: 5731, 5731, 5730, 5730, 5730, 5730, ... \n",
       "Resampling results:\n",
       "\n",
       "  Accuracy   Kappa    \n",
       "  0.8785911  0.7488652\n",
       "\n",
       "Tuning parameter 'mtry' was held constant at a value of 9"
      ]
     },
     "metadata": {},
     "output_type": "display_data"
    }
   ],
   "source": [
    "rf1"
   ]
  },
  {
   "cell_type": "markdown",
   "id": "5f9be4c7",
   "metadata": {
    "ExecuteTime": {
     "end_time": "2021-10-12T19:27:05.194873Z",
     "start_time": "2021-10-12T18:47:04.708Z"
    }
   },
   "source": [
    "### Comparación de modelos"
   ]
  },
  {
   "cell_type": "code",
   "execution_count": 13,
   "id": "bd635d48",
   "metadata": {
    "ExecuteTime": {
     "end_time": "2021-10-18T19:44:33.673892Z",
     "start_time": "2021-10-18T19:43:37.291Z"
    }
   },
   "outputs": [],
   "source": [
    "#Mejor modelo de regresión logística (medias3 de EDA_NNET)\n",
    "medias_1<-cruzadalogistica(data=data,\n",
    "                    vardep=c(\"outcome\"),\n",
    "                    listconti=\n",
    "c(\"hosp_y\", \"highbp_nk\", \"age\", \"angina_nk\", \"angina_y\", \n",
    "\"smstat_nk\", \"yronset\", \"stroke_y\", \"stroke_nk\"),\n",
    "                    listclass=c(\"\"),\n",
    "                    grupos=10,\n",
    "                    sinicio=1234,\n",
    "                    repe=100)\n",
    "\n",
    "\n",
    " medias_1$modelo=\"Logística\"\n"
   ]
  },
  {
   "cell_type": "code",
   "execution_count": null,
   "id": "8f2d7179",
   "metadata": {},
   "outputs": [],
   "source": [
    "#mejor modelo de red neuronal(medias9 de EDA_NNET)\n",
    "medias_2<-cruzadaavnnetbin(data=data,\n",
    "                       vardep=\"outcome\",\n",
    "                       listconti=c(\"hosp_y\", \"highbp_nk\", \"age\", \"angina_nk\", \"angina_y\", \n",
    "\"smstat_nk\", \"yronset\", \"stroke_y\", \"stroke_nk\"),\n",
    "                       listclass=c(\"\"),\n",
    "                       grupos=10,\n",
    "                       sinicio=1234,\n",
    "                       repe=25,\n",
    "                       repeticiones=5,\n",
    "                       itera=500,\n",
    "                       size=c(5),\n",
    "                       decay=c(0.001))\n",
    "\n",
    "  medias_2$modelo=\"avnnet\""
   ]
  },
  {
   "cell_type": "code",
   "execution_count": null,
   "id": "4a32a6d6",
   "metadata": {},
   "outputs": [],
   "source": [
    "#Dando medias_2$modelo=\"avnnet\" el siguiente resultado:\n",
    "#size decay   bag  Accuracy     Kappa AccuracySD    KappaSD\n",
    "#1    5 0.001 FALSE 0.8767774 0.7450545 0.01110455 0.02346587"
   ]
  },
  {
   "cell_type": "code",
   "execution_count": 15,
   "id": "8d8b47f9",
   "metadata": {
    "ExecuteTime": {
     "end_time": "2021-10-18T20:40:48.752458Z",
     "start_time": "2021-10-18T19:43:44.142Z"
    }
   },
   "outputs": [
    {
     "name": "stdout",
     "output_type": "stream",
     "text": [
      "  cp  Accuracy     Kappa AccuracySD    KappaSD\n",
      "1  0 0.8720909 0.7362186 0.01168732 0.02436023\n"
     ]
    }
   ],
   "source": [
    "#mejor modelo de árbol\n",
    "medias_3<-cruzadaarbolbin(data=data,\n",
    "                     vardep=\"outcome\",\n",
    "                     listconti=c(\"hosp_y\", \"highbp_nk\", \"age\", \"angina_nk\", \"angina_y\", \n",
    "\"smstat_nk\", \"yronset\", \"stroke_y\", \"stroke_nk\"),\n",
    "                     listclass=c(\"\"),\n",
    "                     grupos=10,\n",
    "                     sinicio=1234,\n",
    "                     repe=5,\n",
    "                     cp=c(0),\n",
    "                     minbucket =40)\n",
    "\n",
    "medias_3$modelo=\"arbol\""
   ]
  },
  {
   "cell_type": "code",
   "execution_count": 11,
   "id": "a1f1b3d6",
   "metadata": {
    "ExecuteTime": {
     "end_time": "2021-10-18T18:22:16.491714Z",
     "start_time": "2021-10-18T18:10:05.960Z"
    },
    "run_control": {
     "marked": false
    }
   },
   "outputs": [
    {
     "name": "stdout",
     "output_type": "stream",
     "text": [
      "  mtry  Accuracy    Kappa  AccuracySD   KappaSD\n",
      "1    9 0.8790632 0.749648 0.007291974 0.0154251\n"
     ]
    }
   ],
   "source": [
    "#mejor modelo de bagging\n",
    "  medias_4<-cruzadarfbin(data=data,\n",
    "                       vardep=\"outcome\",\n",
    "                       listconti=c(\"hosp_y\", \"highbp_nk\", \"age\", \"angina_nk\", \"angina_y\", \n",
    "\"smstat_nk\", \"yronset\", \"stroke_y\", \"stroke_nk\"),\n",
    "                       listclass=c(\"\"),\n",
    "                       grupos=4,\n",
    "                       sinicio=1234,\n",
    "                       repe=10,\n",
    "                       nodesize=10,\n",
    "                       mtry=9,\n",
    "                       ntree=3000,\n",
    "                       replace=TRUE,\n",
    "                       sampsize=100)\n",
    "\n",
    "  medias_4$modelo=\"bagging\"\n"
   ]
  },
  {
   "cell_type": "code",
   "execution_count": 16,
   "id": "c72bd7a8",
   "metadata": {
    "ExecuteTime": {
     "end_time": "2021-10-18T20:50:57.543678Z",
     "start_time": "2021-10-18T20:46:42.791Z"
    }
   },
   "outputs": [],
   "source": [
    "union3<-rbind(medias_1,medias_2,medias_3,medias_4)"
   ]
  },
  {
   "cell_type": "code",
   "execution_count": 17,
   "id": "013940a0",
   "metadata": {
    "ExecuteTime": {
     "end_time": "2021-10-18T21:01:06.711462Z",
     "start_time": "2021-10-18T20:53:45.752Z"
    }
   },
   "outputs": [
    {
     "data": {
      "image/png": "[encoded data removed]",
      "text/plain": [
       "Plot with title \"TASA FALLOS\""
      ]
     },
     "metadata": {
      "image/png": {
       "height": 420,
       "width": 420
      }
     },
     "output_type": "display_data"
    },
    {
     "data": {
      "image/png": "[encoded data removed]",
      "text/plain": [
       "Plot with title \"AUC\""
      ]
     },
     "metadata": {
      "image/png": {
       "height": 420,
       "width": 420
      }
     },
     "output_type": "display_data"
    }
   ],
   "source": [
    "par(cex.axis=1.5)\n",
    "boxplot(data=union3,tasa~modelo,main=\"TASA FALLOS\",col=\"yellow\")\n",
    "boxplot(data=union3,auc~modelo,main=\"AUC\",col=\"orange\")"
   ]
  },
  {
   "cell_type": "markdown",
   "id": "0038695f",
   "metadata": {},
   "source": [
    "### Modelo ganador"
   ]
  },
  {
   "cell_type": "markdown",
   "id": "7f0e77ec",
   "metadata": {},
   "source": [
    "Se aprecia como el bagging es un modelo modelo muy competitivo, que ha superado a la red neuronal en tasa de fallos y se mantiene en AUC con la red neuronal aunque con menos variabilidad que ésta lo que hace del bagging un mejor modelo. No obstante no supera la capacidad predictiva de la regresión logistica, que presenta mejores resultados y se consolida como el mejor modelo hasta el momento."
   ]
  }
 ],
 "metadata": {
  "kernelspec": {
   "display_name": "R",
   "language": "R",
   "name": "ir"
  },
  "language_info": {
   "codemirror_mode": "r",
   "file_extension": ".r",
   "mimetype": "text/x-r-source",
   "name": "R",
   "pygments_lexer": "r",
   "version": "4.1.1"
  },
  "latex_envs": {
   "LaTeX_envs_menu_present": true,
   "autoclose": false,
   "autocomplete": true,
   "bibliofile": "biblio.bib",
   "cite_by": "apalike",
   "current_citInitial": 1,
   "eqLabelWithNumbers": true,
   "eqNumInitial": 1,
   "hotkeys": {
    "equation": "Ctrl-E",
    "itemize": "Ctrl-I"
   },
   "labels_anchors": false,
   "latex_user_defs": false,
   "report_style_numbering": false,
   "user_envs_cfg": false
  },
  "notify_time": "5",
  "toc": {
   "base_numbering": 1,
   "nav_menu": {},
   "number_sections": true,
   "sideBar": true,
   "skip_h1_title": false,
   "title_cell": "Table of Contents",
   "title_sidebar": "Contents",
   "toc_cell": false,
   "toc_position": {
    "height": "calc(100% - 180px)",
    "left": "10px",
    "top": "150px",
    "width": "165px"
   },
   "toc_section_display": true,
   "toc_window_display": true
  },
  "varInspector": {
   "cols": {
    "lenName": 16,
    "lenType": 16,
    "lenVar": 40
   },
   "kernels_config": {
    "python": {
     "delete_cmd_postfix": "",
     "delete_cmd_prefix": "del ",
     "library": "var_list.py",
     "varRefreshCmd": "print(var_dic_list())"
    },
    "r": {
     "delete_cmd_postfix": ") ",
     "delete_cmd_prefix": "rm(",
     "library": "var_list.r",
     "varRefreshCmd": "cat(var_dic_list()) "
    }
   },
   "position": {
    "height": "668.212px",
    "left": "1608.77px",
    "right": "20px",
    "top": "130.986px",
    "width": "354.757px"
   },
   "types_to_exclude": [
    "module",
    "function",
    "builtin_function_or_method",
    "instance",
    "_Feature"
   ],
   "window_display": true
  }
 },
 "nbformat": 4,
 "nbformat_minor": 5
}
